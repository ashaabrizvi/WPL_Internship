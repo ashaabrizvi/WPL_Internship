{
  "nbformat": 4,
  "nbformat_minor": 0,
  "metadata": {
    "colab": {
      "name": "WPL_Day20.ipynb",
      "provenance": []
    },
    "kernelspec": {
      "name": "python3",
      "display_name": "Python 3"
    }
  },
  "cells": [
    {
      "cell_type": "code",
      "metadata": {
        "id": "atP2KdI4X2Bh",
        "outputId": "b6ad33ac-9a8d-4a46-95e9-dd75388724ca",
        "colab": {
          "base_uri": "https://localhost:8080/"
        }
      },
      "source": [
        "from google.colab import drive\n",
        "drive.mount('/content/gdrive')"
      ],
      "execution_count": 1,
      "outputs": [
        {
          "output_type": "stream",
          "text": [
            "Mounted at /content/gdrive\n"
          ],
          "name": "stdout"
        }
      ]
    },
    {
      "cell_type": "code",
      "metadata": {
        "id": "-dV6pKFqX73s"
      },
      "source": [
        "import os\n",
        "os.environ['KAGGLE_CONFIG_DIR'] = \"/content/gdrive/My Drive/Kaggle\""
      ],
      "execution_count": 2,
      "outputs": []
    },
    {
      "cell_type": "code",
      "metadata": {
        "id": "SAmfc_O-YIeD",
        "outputId": "4c933b41-dfaa-4b7f-bbc1-4a7d944a94de",
        "colab": {
          "base_uri": "https://localhost:8080/"
        }
      },
      "source": [
        "%cd /content/gdrive/My Drive/Kaggle"
      ],
      "execution_count": 3,
      "outputs": [
        {
          "output_type": "stream",
          "text": [
            "/content/gdrive/My Drive/Kaggle\n"
          ],
          "name": "stdout"
        }
      ]
    },
    {
      "cell_type": "code",
      "metadata": {
        "id": "qmc0lzmpYLFO",
        "outputId": "6cabcff9-72c8-4a87-d42c-860165419e6d",
        "colab": {
          "base_uri": "https://localhost:8080/"
        }
      },
      "source": [
        "!kaggle datasets download -d nowke9/ipldata"
      ],
      "execution_count": 4,
      "outputs": [
        {
          "output_type": "stream",
          "text": [
            "Downloading ipldata.zip to /content/gdrive/My Drive/Kaggle\n",
            "\r  0% 0.00/1.20M [00:00<?, ?B/s]\n",
            "\r100% 1.20M/1.20M [00:00<00:00, 39.8MB/s]\n"
          ],
          "name": "stdout"
        }
      ]
    },
    {
      "cell_type": "code",
      "metadata": {
        "id": "zRWPQny7YfCm",
        "outputId": "5e3fc97b-1dd8-411f-a6be-8e1eaedd3c33",
        "colab": {
          "base_uri": "https://localhost:8080/"
        }
      },
      "source": [
        "!ls"
      ],
      "execution_count": 5,
      "outputs": [
        {
          "output_type": "stream",
          "text": [
            "deliveries.csv\tipldata.zip  kaggle.json  matches.csv\n"
          ],
          "name": "stdout"
        }
      ]
    },
    {
      "cell_type": "code",
      "metadata": {
        "id": "cFT6X2SVYp-g",
        "outputId": "9ce25dd5-5006-47a7-c5b0-3d58d6416456",
        "colab": {
          "base_uri": "https://localhost:8080/"
        }
      },
      "source": [
        "!unzip \\*.zip  && rm *.zip"
      ],
      "execution_count": 6,
      "outputs": [
        {
          "output_type": "stream",
          "text": [
            "Archive:  ipldata.zip\n",
            "replace deliveries.csv? [y]es, [n]o, [A]ll, [N]one, [r]ename: n\n",
            "replace matches.csv? [y]es, [n]o, [A]ll, [N]one, [r]ename: n\n"
          ],
          "name": "stdout"
        }
      ]
    },
    {
      "cell_type": "code",
      "metadata": {
        "id": "WPXS8VygY5qv"
      },
      "source": [
        "import pandas as pd\n",
        "import numpy as np\n",
        "import matplotlib.pyplot as plt\n",
        "import seaborn as sns\n",
        "sns.set_style(style='darkgrid')"
      ],
      "execution_count": 8,
      "outputs": []
    },
    {
      "cell_type": "code",
      "metadata": {
        "id": "eYoL_cUeZCkQ",
        "outputId": "0dc26e53-af14-46f2-e77b-30b52138d44e",
        "colab": {
          "base_uri": "https://localhost:8080/",
          "height": 395
        }
      },
      "source": [
        "data=pd.read_csv('deliveries.csv')\n",
        "data.head()"
      ],
      "execution_count": 9,
      "outputs": [
        {
          "output_type": "execute_result",
          "data": {
            "text/html": [
              "<div>\n",
              "<style scoped>\n",
              "    .dataframe tbody tr th:only-of-type {\n",
              "        vertical-align: middle;\n",
              "    }\n",
              "\n",
              "    .dataframe tbody tr th {\n",
              "        vertical-align: top;\n",
              "    }\n",
              "\n",
              "    .dataframe thead th {\n",
              "        text-align: right;\n",
              "    }\n",
              "</style>\n",
              "<table border=\"1\" class=\"dataframe\">\n",
              "  <thead>\n",
              "    <tr style=\"text-align: right;\">\n",
              "      <th></th>\n",
              "      <th>match_id</th>\n",
              "      <th>inning</th>\n",
              "      <th>batting_team</th>\n",
              "      <th>bowling_team</th>\n",
              "      <th>over</th>\n",
              "      <th>ball</th>\n",
              "      <th>batsman</th>\n",
              "      <th>non_striker</th>\n",
              "      <th>bowler</th>\n",
              "      <th>is_super_over</th>\n",
              "      <th>wide_runs</th>\n",
              "      <th>bye_runs</th>\n",
              "      <th>legbye_runs</th>\n",
              "      <th>noball_runs</th>\n",
              "      <th>penalty_runs</th>\n",
              "      <th>batsman_runs</th>\n",
              "      <th>extra_runs</th>\n",
              "      <th>total_runs</th>\n",
              "      <th>player_dismissed</th>\n",
              "      <th>dismissal_kind</th>\n",
              "      <th>fielder</th>\n",
              "    </tr>\n",
              "  </thead>\n",
              "  <tbody>\n",
              "    <tr>\n",
              "      <th>0</th>\n",
              "      <td>1</td>\n",
              "      <td>1</td>\n",
              "      <td>Sunrisers Hyderabad</td>\n",
              "      <td>Royal Challengers Bangalore</td>\n",
              "      <td>1</td>\n",
              "      <td>1</td>\n",
              "      <td>DA Warner</td>\n",
              "      <td>S Dhawan</td>\n",
              "      <td>TS Mills</td>\n",
              "      <td>0</td>\n",
              "      <td>0</td>\n",
              "      <td>0</td>\n",
              "      <td>0</td>\n",
              "      <td>0</td>\n",
              "      <td>0</td>\n",
              "      <td>0</td>\n",
              "      <td>0</td>\n",
              "      <td>0</td>\n",
              "      <td>NaN</td>\n",
              "      <td>NaN</td>\n",
              "      <td>NaN</td>\n",
              "    </tr>\n",
              "    <tr>\n",
              "      <th>1</th>\n",
              "      <td>1</td>\n",
              "      <td>1</td>\n",
              "      <td>Sunrisers Hyderabad</td>\n",
              "      <td>Royal Challengers Bangalore</td>\n",
              "      <td>1</td>\n",
              "      <td>2</td>\n",
              "      <td>DA Warner</td>\n",
              "      <td>S Dhawan</td>\n",
              "      <td>TS Mills</td>\n",
              "      <td>0</td>\n",
              "      <td>0</td>\n",
              "      <td>0</td>\n",
              "      <td>0</td>\n",
              "      <td>0</td>\n",
              "      <td>0</td>\n",
              "      <td>0</td>\n",
              "      <td>0</td>\n",
              "      <td>0</td>\n",
              "      <td>NaN</td>\n",
              "      <td>NaN</td>\n",
              "      <td>NaN</td>\n",
              "    </tr>\n",
              "    <tr>\n",
              "      <th>2</th>\n",
              "      <td>1</td>\n",
              "      <td>1</td>\n",
              "      <td>Sunrisers Hyderabad</td>\n",
              "      <td>Royal Challengers Bangalore</td>\n",
              "      <td>1</td>\n",
              "      <td>3</td>\n",
              "      <td>DA Warner</td>\n",
              "      <td>S Dhawan</td>\n",
              "      <td>TS Mills</td>\n",
              "      <td>0</td>\n",
              "      <td>0</td>\n",
              "      <td>0</td>\n",
              "      <td>0</td>\n",
              "      <td>0</td>\n",
              "      <td>0</td>\n",
              "      <td>4</td>\n",
              "      <td>0</td>\n",
              "      <td>4</td>\n",
              "      <td>NaN</td>\n",
              "      <td>NaN</td>\n",
              "      <td>NaN</td>\n",
              "    </tr>\n",
              "    <tr>\n",
              "      <th>3</th>\n",
              "      <td>1</td>\n",
              "      <td>1</td>\n",
              "      <td>Sunrisers Hyderabad</td>\n",
              "      <td>Royal Challengers Bangalore</td>\n",
              "      <td>1</td>\n",
              "      <td>4</td>\n",
              "      <td>DA Warner</td>\n",
              "      <td>S Dhawan</td>\n",
              "      <td>TS Mills</td>\n",
              "      <td>0</td>\n",
              "      <td>0</td>\n",
              "      <td>0</td>\n",
              "      <td>0</td>\n",
              "      <td>0</td>\n",
              "      <td>0</td>\n",
              "      <td>0</td>\n",
              "      <td>0</td>\n",
              "      <td>0</td>\n",
              "      <td>NaN</td>\n",
              "      <td>NaN</td>\n",
              "      <td>NaN</td>\n",
              "    </tr>\n",
              "    <tr>\n",
              "      <th>4</th>\n",
              "      <td>1</td>\n",
              "      <td>1</td>\n",
              "      <td>Sunrisers Hyderabad</td>\n",
              "      <td>Royal Challengers Bangalore</td>\n",
              "      <td>1</td>\n",
              "      <td>5</td>\n",
              "      <td>DA Warner</td>\n",
              "      <td>S Dhawan</td>\n",
              "      <td>TS Mills</td>\n",
              "      <td>0</td>\n",
              "      <td>2</td>\n",
              "      <td>0</td>\n",
              "      <td>0</td>\n",
              "      <td>0</td>\n",
              "      <td>0</td>\n",
              "      <td>0</td>\n",
              "      <td>2</td>\n",
              "      <td>2</td>\n",
              "      <td>NaN</td>\n",
              "      <td>NaN</td>\n",
              "      <td>NaN</td>\n",
              "    </tr>\n",
              "  </tbody>\n",
              "</table>\n",
              "</div>"
            ],
            "text/plain": [
              "   match_id  inning  ... dismissal_kind fielder\n",
              "0         1       1  ...            NaN     NaN\n",
              "1         1       1  ...            NaN     NaN\n",
              "2         1       1  ...            NaN     NaN\n",
              "3         1       1  ...            NaN     NaN\n",
              "4         1       1  ...            NaN     NaN\n",
              "\n",
              "[5 rows x 21 columns]"
            ]
          },
          "metadata": {
            "tags": []
          },
          "execution_count": 9
        }
      ]
    },
    {
      "cell_type": "code",
      "metadata": {
        "id": "j-EEPN7pZVj5",
        "outputId": "a5661ea8-95e7-4917-f261-957f04b3d09e",
        "colab": {
          "base_uri": "https://localhost:8080/",
          "height": 447
        }
      },
      "source": [
        "data2= pd.read_csv('matches.csv')\n",
        "data2.head()"
      ],
      "execution_count": 10,
      "outputs": [
        {
          "output_type": "execute_result",
          "data": {
            "text/html": [
              "<div>\n",
              "<style scoped>\n",
              "    .dataframe tbody tr th:only-of-type {\n",
              "        vertical-align: middle;\n",
              "    }\n",
              "\n",
              "    .dataframe tbody tr th {\n",
              "        vertical-align: top;\n",
              "    }\n",
              "\n",
              "    .dataframe thead th {\n",
              "        text-align: right;\n",
              "    }\n",
              "</style>\n",
              "<table border=\"1\" class=\"dataframe\">\n",
              "  <thead>\n",
              "    <tr style=\"text-align: right;\">\n",
              "      <th></th>\n",
              "      <th>id</th>\n",
              "      <th>season</th>\n",
              "      <th>city</th>\n",
              "      <th>date</th>\n",
              "      <th>team1</th>\n",
              "      <th>team2</th>\n",
              "      <th>toss_winner</th>\n",
              "      <th>toss_decision</th>\n",
              "      <th>result</th>\n",
              "      <th>dl_applied</th>\n",
              "      <th>winner</th>\n",
              "      <th>win_by_runs</th>\n",
              "      <th>win_by_wickets</th>\n",
              "      <th>player_of_match</th>\n",
              "      <th>venue</th>\n",
              "      <th>umpire1</th>\n",
              "      <th>umpire2</th>\n",
              "      <th>umpire3</th>\n",
              "    </tr>\n",
              "  </thead>\n",
              "  <tbody>\n",
              "    <tr>\n",
              "      <th>0</th>\n",
              "      <td>1</td>\n",
              "      <td>2017</td>\n",
              "      <td>Hyderabad</td>\n",
              "      <td>2017-04-05</td>\n",
              "      <td>Sunrisers Hyderabad</td>\n",
              "      <td>Royal Challengers Bangalore</td>\n",
              "      <td>Royal Challengers Bangalore</td>\n",
              "      <td>field</td>\n",
              "      <td>normal</td>\n",
              "      <td>0</td>\n",
              "      <td>Sunrisers Hyderabad</td>\n",
              "      <td>35</td>\n",
              "      <td>0</td>\n",
              "      <td>Yuvraj Singh</td>\n",
              "      <td>Rajiv Gandhi International Stadium, Uppal</td>\n",
              "      <td>AY Dandekar</td>\n",
              "      <td>NJ Llong</td>\n",
              "      <td>NaN</td>\n",
              "    </tr>\n",
              "    <tr>\n",
              "      <th>1</th>\n",
              "      <td>2</td>\n",
              "      <td>2017</td>\n",
              "      <td>Pune</td>\n",
              "      <td>2017-04-06</td>\n",
              "      <td>Mumbai Indians</td>\n",
              "      <td>Rising Pune Supergiant</td>\n",
              "      <td>Rising Pune Supergiant</td>\n",
              "      <td>field</td>\n",
              "      <td>normal</td>\n",
              "      <td>0</td>\n",
              "      <td>Rising Pune Supergiant</td>\n",
              "      <td>0</td>\n",
              "      <td>7</td>\n",
              "      <td>SPD Smith</td>\n",
              "      <td>Maharashtra Cricket Association Stadium</td>\n",
              "      <td>A Nand Kishore</td>\n",
              "      <td>S Ravi</td>\n",
              "      <td>NaN</td>\n",
              "    </tr>\n",
              "    <tr>\n",
              "      <th>2</th>\n",
              "      <td>3</td>\n",
              "      <td>2017</td>\n",
              "      <td>Rajkot</td>\n",
              "      <td>2017-04-07</td>\n",
              "      <td>Gujarat Lions</td>\n",
              "      <td>Kolkata Knight Riders</td>\n",
              "      <td>Kolkata Knight Riders</td>\n",
              "      <td>field</td>\n",
              "      <td>normal</td>\n",
              "      <td>0</td>\n",
              "      <td>Kolkata Knight Riders</td>\n",
              "      <td>0</td>\n",
              "      <td>10</td>\n",
              "      <td>CA Lynn</td>\n",
              "      <td>Saurashtra Cricket Association Stadium</td>\n",
              "      <td>Nitin Menon</td>\n",
              "      <td>CK Nandan</td>\n",
              "      <td>NaN</td>\n",
              "    </tr>\n",
              "    <tr>\n",
              "      <th>3</th>\n",
              "      <td>4</td>\n",
              "      <td>2017</td>\n",
              "      <td>Indore</td>\n",
              "      <td>2017-04-08</td>\n",
              "      <td>Rising Pune Supergiant</td>\n",
              "      <td>Kings XI Punjab</td>\n",
              "      <td>Kings XI Punjab</td>\n",
              "      <td>field</td>\n",
              "      <td>normal</td>\n",
              "      <td>0</td>\n",
              "      <td>Kings XI Punjab</td>\n",
              "      <td>0</td>\n",
              "      <td>6</td>\n",
              "      <td>GJ Maxwell</td>\n",
              "      <td>Holkar Cricket Stadium</td>\n",
              "      <td>AK Chaudhary</td>\n",
              "      <td>C Shamshuddin</td>\n",
              "      <td>NaN</td>\n",
              "    </tr>\n",
              "    <tr>\n",
              "      <th>4</th>\n",
              "      <td>5</td>\n",
              "      <td>2017</td>\n",
              "      <td>Bangalore</td>\n",
              "      <td>2017-04-08</td>\n",
              "      <td>Royal Challengers Bangalore</td>\n",
              "      <td>Delhi Daredevils</td>\n",
              "      <td>Royal Challengers Bangalore</td>\n",
              "      <td>bat</td>\n",
              "      <td>normal</td>\n",
              "      <td>0</td>\n",
              "      <td>Royal Challengers Bangalore</td>\n",
              "      <td>15</td>\n",
              "      <td>0</td>\n",
              "      <td>KM Jadhav</td>\n",
              "      <td>M Chinnaswamy Stadium</td>\n",
              "      <td>NaN</td>\n",
              "      <td>NaN</td>\n",
              "      <td>NaN</td>\n",
              "    </tr>\n",
              "  </tbody>\n",
              "</table>\n",
              "</div>"
            ],
            "text/plain": [
              "   id  season       city  ...         umpire1        umpire2 umpire3\n",
              "0   1    2017  Hyderabad  ...     AY Dandekar       NJ Llong     NaN\n",
              "1   2    2017       Pune  ...  A Nand Kishore         S Ravi     NaN\n",
              "2   3    2017     Rajkot  ...     Nitin Menon      CK Nandan     NaN\n",
              "3   4    2017     Indore  ...    AK Chaudhary  C Shamshuddin     NaN\n",
              "4   5    2017  Bangalore  ...             NaN            NaN     NaN\n",
              "\n",
              "[5 rows x 18 columns]"
            ]
          },
          "metadata": {
            "tags": []
          },
          "execution_count": 10
        }
      ]
    },
    {
      "cell_type": "code",
      "metadata": {
        "id": "J2C_uVclcSX4",
        "outputId": "625ce144-6706-454a-9099-6881de2956f3",
        "colab": {
          "base_uri": "https://localhost:8080/",
          "height": 1000
        }
      },
      "source": [
        "data_f = data2.loc[data2.team1.isin(['Rajasthan Royals','Kings XI Punjab'])] \n",
        "data_f = data_f.loc[data_f.team2.isin(['Rajasthan Royals','Kings XI Punjab'])] \n",
        "data_f"
      ],
      "execution_count": 11,
      "outputs": [
        {
          "output_type": "execute_result",
          "data": {
            "text/html": [
              "<div>\n",
              "<style scoped>\n",
              "    .dataframe tbody tr th:only-of-type {\n",
              "        vertical-align: middle;\n",
              "    }\n",
              "\n",
              "    .dataframe tbody tr th {\n",
              "        vertical-align: top;\n",
              "    }\n",
              "\n",
              "    .dataframe thead th {\n",
              "        text-align: right;\n",
              "    }\n",
              "</style>\n",
              "<table border=\"1\" class=\"dataframe\">\n",
              "  <thead>\n",
              "    <tr style=\"text-align: right;\">\n",
              "      <th></th>\n",
              "      <th>id</th>\n",
              "      <th>season</th>\n",
              "      <th>city</th>\n",
              "      <th>date</th>\n",
              "      <th>team1</th>\n",
              "      <th>team2</th>\n",
              "      <th>toss_winner</th>\n",
              "      <th>toss_decision</th>\n",
              "      <th>result</th>\n",
              "      <th>dl_applied</th>\n",
              "      <th>winner</th>\n",
              "      <th>win_by_runs</th>\n",
              "      <th>win_by_wickets</th>\n",
              "      <th>player_of_match</th>\n",
              "      <th>venue</th>\n",
              "      <th>umpire1</th>\n",
              "      <th>umpire2</th>\n",
              "      <th>umpire3</th>\n",
              "    </tr>\n",
              "  </thead>\n",
              "  <tbody>\n",
              "    <tr>\n",
              "      <th>64</th>\n",
              "      <td>65</td>\n",
              "      <td>2008</td>\n",
              "      <td>Jaipur</td>\n",
              "      <td>2008-04-21</td>\n",
              "      <td>Kings XI Punjab</td>\n",
              "      <td>Rajasthan Royals</td>\n",
              "      <td>Kings XI Punjab</td>\n",
              "      <td>bat</td>\n",
              "      <td>normal</td>\n",
              "      <td>0</td>\n",
              "      <td>Rajasthan Royals</td>\n",
              "      <td>0</td>\n",
              "      <td>6</td>\n",
              "      <td>SR Watson</td>\n",
              "      <td>Sawai Mansingh Stadium</td>\n",
              "      <td>Aleem Dar</td>\n",
              "      <td>RB Tiffin</td>\n",
              "      <td>NaN</td>\n",
              "    </tr>\n",
              "    <tr>\n",
              "      <th>96</th>\n",
              "      <td>97</td>\n",
              "      <td>2008</td>\n",
              "      <td>Chandigarh</td>\n",
              "      <td>2008-05-28</td>\n",
              "      <td>Kings XI Punjab</td>\n",
              "      <td>Rajasthan Royals</td>\n",
              "      <td>Rajasthan Royals</td>\n",
              "      <td>field</td>\n",
              "      <td>normal</td>\n",
              "      <td>0</td>\n",
              "      <td>Kings XI Punjab</td>\n",
              "      <td>41</td>\n",
              "      <td>0</td>\n",
              "      <td>SE Marsh</td>\n",
              "      <td>Punjab Cricket Association Stadium, Mohali</td>\n",
              "      <td>SJ Davis</td>\n",
              "      <td>K Hariharan</td>\n",
              "      <td>NaN</td>\n",
              "    </tr>\n",
              "    <tr>\n",
              "      <th>129</th>\n",
              "      <td>130</td>\n",
              "      <td>2009</td>\n",
              "      <td>Cape Town</td>\n",
              "      <td>2009-04-26</td>\n",
              "      <td>Kings XI Punjab</td>\n",
              "      <td>Rajasthan Royals</td>\n",
              "      <td>Kings XI Punjab</td>\n",
              "      <td>bat</td>\n",
              "      <td>normal</td>\n",
              "      <td>0</td>\n",
              "      <td>Kings XI Punjab</td>\n",
              "      <td>27</td>\n",
              "      <td>0</td>\n",
              "      <td>KC Sangakkara</td>\n",
              "      <td>Newlands</td>\n",
              "      <td>M Erasmus</td>\n",
              "      <td>K Hariharan</td>\n",
              "      <td>NaN</td>\n",
              "    </tr>\n",
              "    <tr>\n",
              "      <th>144</th>\n",
              "      <td>145</td>\n",
              "      <td>2009</td>\n",
              "      <td>Durban</td>\n",
              "      <td>2009-05-05</td>\n",
              "      <td>Rajasthan Royals</td>\n",
              "      <td>Kings XI Punjab</td>\n",
              "      <td>Kings XI Punjab</td>\n",
              "      <td>field</td>\n",
              "      <td>normal</td>\n",
              "      <td>0</td>\n",
              "      <td>Rajasthan Royals</td>\n",
              "      <td>78</td>\n",
              "      <td>0</td>\n",
              "      <td>GC Smith</td>\n",
              "      <td>Kingsmead</td>\n",
              "      <td>SS Hazare</td>\n",
              "      <td>IL Howell</td>\n",
              "      <td>NaN</td>\n",
              "    </tr>\n",
              "    <tr>\n",
              "      <th>192</th>\n",
              "      <td>193</td>\n",
              "      <td>2010</td>\n",
              "      <td>Chandigarh</td>\n",
              "      <td>2010-03-24</td>\n",
              "      <td>Rajasthan Royals</td>\n",
              "      <td>Kings XI Punjab</td>\n",
              "      <td>Kings XI Punjab</td>\n",
              "      <td>field</td>\n",
              "      <td>normal</td>\n",
              "      <td>0</td>\n",
              "      <td>Rajasthan Royals</td>\n",
              "      <td>31</td>\n",
              "      <td>0</td>\n",
              "      <td>AC Voges</td>\n",
              "      <td>Punjab Cricket Association Stadium, Mohali</td>\n",
              "      <td>BR Doctrove</td>\n",
              "      <td>SK Tarapore</td>\n",
              "      <td>NaN</td>\n",
              "    </tr>\n",
              "    <tr>\n",
              "      <th>211</th>\n",
              "      <td>212</td>\n",
              "      <td>2010</td>\n",
              "      <td>Jaipur</td>\n",
              "      <td>2010-04-07</td>\n",
              "      <td>Kings XI Punjab</td>\n",
              "      <td>Rajasthan Royals</td>\n",
              "      <td>Kings XI Punjab</td>\n",
              "      <td>bat</td>\n",
              "      <td>normal</td>\n",
              "      <td>0</td>\n",
              "      <td>Rajasthan Royals</td>\n",
              "      <td>0</td>\n",
              "      <td>9</td>\n",
              "      <td>MJ Lumb</td>\n",
              "      <td>Sawai Mansingh Stadium</td>\n",
              "      <td>S Ravi</td>\n",
              "      <td>SK Tarapore</td>\n",
              "      <td>NaN</td>\n",
              "    </tr>\n",
              "    <tr>\n",
              "      <th>255</th>\n",
              "      <td>256</td>\n",
              "      <td>2011</td>\n",
              "      <td>Chandigarh</td>\n",
              "      <td>2011-04-21</td>\n",
              "      <td>Kings XI Punjab</td>\n",
              "      <td>Rajasthan Royals</td>\n",
              "      <td>Rajasthan Royals</td>\n",
              "      <td>field</td>\n",
              "      <td>normal</td>\n",
              "      <td>0</td>\n",
              "      <td>Kings XI Punjab</td>\n",
              "      <td>48</td>\n",
              "      <td>0</td>\n",
              "      <td>SE Marsh</td>\n",
              "      <td>Punjab Cricket Association Stadium, Mohali</td>\n",
              "      <td>S Asnani</td>\n",
              "      <td>PR Reiffel</td>\n",
              "      <td>NaN</td>\n",
              "    </tr>\n",
              "    <tr>\n",
              "      <th>310</th>\n",
              "      <td>311</td>\n",
              "      <td>2012</td>\n",
              "      <td>Jaipur</td>\n",
              "      <td>2012-04-06</td>\n",
              "      <td>Rajasthan Royals</td>\n",
              "      <td>Kings XI Punjab</td>\n",
              "      <td>Kings XI Punjab</td>\n",
              "      <td>field</td>\n",
              "      <td>normal</td>\n",
              "      <td>0</td>\n",
              "      <td>Rajasthan Royals</td>\n",
              "      <td>31</td>\n",
              "      <td>0</td>\n",
              "      <td>AM Rahane</td>\n",
              "      <td>Sawai Mansingh Stadium</td>\n",
              "      <td>BF Bowden</td>\n",
              "      <td>SK Tarapore</td>\n",
              "      <td>NaN</td>\n",
              "    </tr>\n",
              "    <tr>\n",
              "      <th>353</th>\n",
              "      <td>354</td>\n",
              "      <td>2012</td>\n",
              "      <td>Chandigarh</td>\n",
              "      <td>2012-05-05</td>\n",
              "      <td>Rajasthan Royals</td>\n",
              "      <td>Kings XI Punjab</td>\n",
              "      <td>Rajasthan Royals</td>\n",
              "      <td>bat</td>\n",
              "      <td>normal</td>\n",
              "      <td>0</td>\n",
              "      <td>Rajasthan Royals</td>\n",
              "      <td>43</td>\n",
              "      <td>0</td>\n",
              "      <td>SR Watson</td>\n",
              "      <td>Punjab Cricket Association Stadium, Mohali</td>\n",
              "      <td>JD Cloete</td>\n",
              "      <td>SJA Taufel</td>\n",
              "      <td>NaN</td>\n",
              "    </tr>\n",
              "    <tr>\n",
              "      <th>397</th>\n",
              "      <td>398</td>\n",
              "      <td>2013</td>\n",
              "      <td>Jaipur</td>\n",
              "      <td>2013-04-14</td>\n",
              "      <td>Kings XI Punjab</td>\n",
              "      <td>Rajasthan Royals</td>\n",
              "      <td>Rajasthan Royals</td>\n",
              "      <td>field</td>\n",
              "      <td>normal</td>\n",
              "      <td>0</td>\n",
              "      <td>Rajasthan Royals</td>\n",
              "      <td>0</td>\n",
              "      <td>6</td>\n",
              "      <td>JP Faulkner</td>\n",
              "      <td>Sawai Mansingh Stadium</td>\n",
              "      <td>Aleem Dar</td>\n",
              "      <td>C Shamshuddin</td>\n",
              "      <td>NaN</td>\n",
              "    </tr>\n",
              "    <tr>\n",
              "      <th>435</th>\n",
              "      <td>436</td>\n",
              "      <td>2013</td>\n",
              "      <td>Chandigarh</td>\n",
              "      <td>2013-05-09</td>\n",
              "      <td>Kings XI Punjab</td>\n",
              "      <td>Rajasthan Royals</td>\n",
              "      <td>Rajasthan Royals</td>\n",
              "      <td>field</td>\n",
              "      <td>normal</td>\n",
              "      <td>0</td>\n",
              "      <td>Rajasthan Royals</td>\n",
              "      <td>0</td>\n",
              "      <td>8</td>\n",
              "      <td>KK Cooper</td>\n",
              "      <td>Punjab Cricket Association Stadium, Mohali</td>\n",
              "      <td>HDPK Dharmasena</td>\n",
              "      <td>S Ravi</td>\n",
              "      <td>NaN</td>\n",
              "    </tr>\n",
              "    <tr>\n",
              "      <th>463</th>\n",
              "      <td>464</td>\n",
              "      <td>2014</td>\n",
              "      <td>Sharjah</td>\n",
              "      <td>2014-04-20</td>\n",
              "      <td>Rajasthan Royals</td>\n",
              "      <td>Kings XI Punjab</td>\n",
              "      <td>Kings XI Punjab</td>\n",
              "      <td>field</td>\n",
              "      <td>normal</td>\n",
              "      <td>0</td>\n",
              "      <td>Kings XI Punjab</td>\n",
              "      <td>0</td>\n",
              "      <td>7</td>\n",
              "      <td>GJ Maxwell</td>\n",
              "      <td>Sharjah Cricket Stadium</td>\n",
              "      <td>BF Bowden</td>\n",
              "      <td>M Erasmus</td>\n",
              "      <td>NaN</td>\n",
              "    </tr>\n",
              "    <tr>\n",
              "      <th>508</th>\n",
              "      <td>509</td>\n",
              "      <td>2014</td>\n",
              "      <td>Chandigarh</td>\n",
              "      <td>2014-05-23</td>\n",
              "      <td>Kings XI Punjab</td>\n",
              "      <td>Rajasthan Royals</td>\n",
              "      <td>Rajasthan Royals</td>\n",
              "      <td>field</td>\n",
              "      <td>normal</td>\n",
              "      <td>0</td>\n",
              "      <td>Kings XI Punjab</td>\n",
              "      <td>16</td>\n",
              "      <td>0</td>\n",
              "      <td>SE Marsh</td>\n",
              "      <td>Punjab Cricket Association Stadium, Mohali</td>\n",
              "      <td>HDPK Dharmasena</td>\n",
              "      <td>PG Pathak</td>\n",
              "      <td>NaN</td>\n",
              "    </tr>\n",
              "    <tr>\n",
              "      <th>519</th>\n",
              "      <td>520</td>\n",
              "      <td>2015</td>\n",
              "      <td>Pune</td>\n",
              "      <td>2015-04-10</td>\n",
              "      <td>Rajasthan Royals</td>\n",
              "      <td>Kings XI Punjab</td>\n",
              "      <td>Kings XI Punjab</td>\n",
              "      <td>field</td>\n",
              "      <td>normal</td>\n",
              "      <td>0</td>\n",
              "      <td>Rajasthan Royals</td>\n",
              "      <td>26</td>\n",
              "      <td>0</td>\n",
              "      <td>JP Faulkner</td>\n",
              "      <td>Maharashtra Cricket Association Stadium</td>\n",
              "      <td>SD Fry</td>\n",
              "      <td>CB Gaffaney</td>\n",
              "      <td>NaN</td>\n",
              "    </tr>\n",
              "    <tr>\n",
              "      <th>535</th>\n",
              "      <td>536</td>\n",
              "      <td>2015</td>\n",
              "      <td>Ahmedabad</td>\n",
              "      <td>2015-04-21</td>\n",
              "      <td>Rajasthan Royals</td>\n",
              "      <td>Kings XI Punjab</td>\n",
              "      <td>Kings XI Punjab</td>\n",
              "      <td>field</td>\n",
              "      <td>tie</td>\n",
              "      <td>0</td>\n",
              "      <td>Kings XI Punjab</td>\n",
              "      <td>0</td>\n",
              "      <td>0</td>\n",
              "      <td>SE Marsh</td>\n",
              "      <td>Sardar Patel Stadium, Motera</td>\n",
              "      <td>M Erasmus</td>\n",
              "      <td>S Ravi</td>\n",
              "      <td>NaN</td>\n",
              "    </tr>\n",
              "    <tr>\n",
              "      <th>673</th>\n",
              "      <td>7931</td>\n",
              "      <td>2018</td>\n",
              "      <td>Indore</td>\n",
              "      <td>06/05/18</td>\n",
              "      <td>Rajasthan Royals</td>\n",
              "      <td>Kings XI Punjab</td>\n",
              "      <td>Kings XI Punjab</td>\n",
              "      <td>field</td>\n",
              "      <td>normal</td>\n",
              "      <td>0</td>\n",
              "      <td>Kings XI Punjab</td>\n",
              "      <td>0</td>\n",
              "      <td>6</td>\n",
              "      <td>M Ur Rahman</td>\n",
              "      <td>Holkar Cricket Stadium</td>\n",
              "      <td>C Shamshuddin</td>\n",
              "      <td>S Ravi</td>\n",
              "      <td>Anil Dandekar</td>\n",
              "    </tr>\n",
              "    <tr>\n",
              "      <th>675</th>\n",
              "      <td>7933</td>\n",
              "      <td>2018</td>\n",
              "      <td>Jaipur</td>\n",
              "      <td>08/05/18</td>\n",
              "      <td>Rajasthan Royals</td>\n",
              "      <td>Kings XI Punjab</td>\n",
              "      <td>Rajasthan Royals</td>\n",
              "      <td>bat</td>\n",
              "      <td>normal</td>\n",
              "      <td>0</td>\n",
              "      <td>Rajasthan Royals</td>\n",
              "      <td>15</td>\n",
              "      <td>0</td>\n",
              "      <td>JC Buttler</td>\n",
              "      <td>Sawai Mansingh Stadium</td>\n",
              "      <td>Marais Erasmus</td>\n",
              "      <td>Nitin Menon</td>\n",
              "      <td>Yeshwant Barde</td>\n",
              "    </tr>\n",
              "    <tr>\n",
              "      <th>699</th>\n",
              "      <td>11140</td>\n",
              "      <td>2019</td>\n",
              "      <td>Jaipur</td>\n",
              "      <td>25/03/19</td>\n",
              "      <td>Kings XI Punjab</td>\n",
              "      <td>Rajasthan Royals</td>\n",
              "      <td>Rajasthan Royals</td>\n",
              "      <td>field</td>\n",
              "      <td>normal</td>\n",
              "      <td>0</td>\n",
              "      <td>Kings XI Punjab</td>\n",
              "      <td>14</td>\n",
              "      <td>0</td>\n",
              "      <td>CH Gayle</td>\n",
              "      <td>Sawai Mansingh Stadium</td>\n",
              "      <td>C Shamshuddin</td>\n",
              "      <td>KN Anantapadmanabhan</td>\n",
              "      <td>Bruce Oxenford</td>\n",
              "    </tr>\n",
              "    <tr>\n",
              "      <th>727</th>\n",
              "      <td>11323</td>\n",
              "      <td>2019</td>\n",
              "      <td>Mohali</td>\n",
              "      <td>16/04/19</td>\n",
              "      <td>Kings XI Punjab</td>\n",
              "      <td>Rajasthan Royals</td>\n",
              "      <td>Rajasthan Royals</td>\n",
              "      <td>field</td>\n",
              "      <td>normal</td>\n",
              "      <td>0</td>\n",
              "      <td>Kings XI Punjab</td>\n",
              "      <td>12</td>\n",
              "      <td>0</td>\n",
              "      <td>R Ashwin</td>\n",
              "      <td>IS Bindra Stadium</td>\n",
              "      <td>Anil Chaudhary</td>\n",
              "      <td>Vineet Kulkarni</td>\n",
              "      <td>S Ravi</td>\n",
              "    </tr>\n",
              "  </tbody>\n",
              "</table>\n",
              "</div>"
            ],
            "text/plain": [
              "        id  season  ...               umpire2         umpire3\n",
              "64      65    2008  ...             RB Tiffin             NaN\n",
              "96      97    2008  ...           K Hariharan             NaN\n",
              "129    130    2009  ...           K Hariharan             NaN\n",
              "144    145    2009  ...             IL Howell             NaN\n",
              "192    193    2010  ...           SK Tarapore             NaN\n",
              "211    212    2010  ...           SK Tarapore             NaN\n",
              "255    256    2011  ...            PR Reiffel             NaN\n",
              "310    311    2012  ...           SK Tarapore             NaN\n",
              "353    354    2012  ...            SJA Taufel             NaN\n",
              "397    398    2013  ...         C Shamshuddin             NaN\n",
              "435    436    2013  ...                S Ravi             NaN\n",
              "463    464    2014  ...             M Erasmus             NaN\n",
              "508    509    2014  ...             PG Pathak             NaN\n",
              "519    520    2015  ...           CB Gaffaney             NaN\n",
              "535    536    2015  ...                S Ravi             NaN\n",
              "673   7931    2018  ...                S Ravi   Anil Dandekar\n",
              "675   7933    2018  ...           Nitin Menon  Yeshwant Barde\n",
              "699  11140    2019  ...  KN Anantapadmanabhan  Bruce Oxenford\n",
              "727  11323    2019  ...       Vineet Kulkarni          S Ravi\n",
              "\n",
              "[19 rows x 18 columns]"
            ]
          },
          "metadata": {
            "tags": []
          },
          "execution_count": 11
        }
      ]
    },
    {
      "cell_type": "markdown",
      "metadata": {
        "id": "135PC1OV0mR4"
      },
      "source": [
        "**Let's do Q1 now**"
      ]
    },
    {
      "cell_type": "code",
      "metadata": {
        "id": "QIn7GSQznk4q",
        "outputId": "b912b072-0631-4790-eab5-788c54962f41",
        "colab": {
          "base_uri": "https://localhost:8080/",
          "height": 439
        }
      },
      "source": [
        "plt.figure(dpi=100)\n",
        "sns.countplot(x='winner',data = data_f)\n",
        "plt.ylabel('Wins Count')\n",
        "plt.xlabel('Team Name')\n",
        "plt.title('KXIP vs RR')\n",
        "A,B =data_f.winner.value_counts()\n",
        "\n",
        "print('RR Wins -',A)\n",
        "print('KXIP Wins -',B)\n",
        "\n",
        "plt.show()\n"
      ],
      "execution_count": 13,
      "outputs": [
        {
          "output_type": "stream",
          "text": [
            "RR Wins - 10\n",
            "KXIP Wins - 9\n"
          ],
          "name": "stdout"
        },
        {
          "output_type": "display_data",
          "data": {
            "image/png": "[encoded data removed]",
            "text/plain": [
              "<Figure size 600x400 with 1 Axes>"
            ]
          },
          "metadata": {
            "tags": []
          }
        }
      ]
    },
    {
      "cell_type": "markdown",
      "metadata": {
        "id": "oNUwKRg-4dbw"
      },
      "source": [
        "Overall it's a bit close , let's analyse past 2 seasons"
      ]
    },
    {
      "cell_type": "code",
      "metadata": {
        "id": "FHx0XPlRcTRN"
      },
      "source": [
        "data_f = data_f.loc[data_f.season.isin(['2017','2018','2019'])] "
      ],
      "execution_count": 14,
      "outputs": []
    },
    {
      "cell_type": "code",
      "metadata": {
        "id": "NYW0u69bccA5",
        "outputId": "4e4f386e-f507-49c6-b9ae-a44185a28d66",
        "colab": {
          "base_uri": "https://localhost:8080/",
          "height": 439
        }
      },
      "source": [
        "plt.figure(dpi=100)\n",
        "sns.countplot(x='winner',data = data_f)\n",
        "plt.ylabel('Wins Count')\n",
        "plt.xlabel('Team Name')\n",
        "plt.title('KXIP vs RR')\n",
        "A,B =data_f.winner.value_counts()\n",
        "\n",
        "print('RR Wins -',A)\n",
        "print('KXIP Wins -',B)\n",
        "\n",
        "plt.show()"
      ],
      "execution_count": 15,
      "outputs": [
        {
          "output_type": "stream",
          "text": [
            "RR Wins - 3\n",
            "KXIP Wins - 1\n"
          ],
          "name": "stdout"
        },
        {
          "output_type": "display_data",
          "data": {
            "image/png": "[encoded data removed]",
            "text/plain": [
              "<Figure size 600x400 with 1 Axes>"
            ]
          },
          "metadata": {
            "tags": []
          }
        }
      ]
    },
    {
      "cell_type": "markdown",
      "metadata": {
        "id": "eVBS0Mcfcerp"
      },
      "source": [
        "Let's go with recent form with KXIP"
      ]
    },
    {
      "cell_type": "markdown",
      "metadata": {
        "id": "SixIaI0eqy-o"
      },
      "source": [
        "**Let's do Q2 now**\n",
        "\n",
        "**Let's find boundaryruns/totalruns ratio**"
      ]
    },
    {
      "cell_type": "code",
      "metadata": {
        "id": "lTFe7lWKHyv2"
      },
      "source": [
        "data_n = data.loc[data.bowling_team.isin(['Kings XI Punjab','Rajasthan Royals'])]\n",
        "data_n = data_n.loc[data.batting_team.isin(['Kings XI Punjab','Rajasthan Royals'])]\n",
        "data_n = data_n.loc[data.batsman.isin(['SPD Smith','JC Buttler','KL Rahul','CH Gayle','SV Samson'])]"
      ],
      "execution_count": 77,
      "outputs": []
    },
    {
      "cell_type": "code",
      "metadata": {
        "id": "Sz7UbHkjo6ag",
        "outputId": "d1201f58-77dc-4f0b-9c13-1db0e2241737",
        "colab": {
          "base_uri": "https://localhost:8080/"
        }
      },
      "source": [
        "data_n.batsman.unique()"
      ],
      "execution_count": 59,
      "outputs": [
        {
          "output_type": "execute_result",
          "data": {
            "text/plain": [
              "array(['K Goel', 'JR Hopes', 'KC Sangakkara', 'DPMD Jayawardene',\n",
              "       'Yuvraj Singh', 'IK Pathan', 'S Sohal', 'B Lee', 'PP Chawla',\n",
              "       'WA Mota', 'M Kaif', 'YK Pathan', 'Kamran Akmal', 'SR Watson',\n",
              "       'DS Lehmann', 'RA Jadeja', 'SE Marsh', 'LA Pomersbach',\n",
              "       'Niraj Patel', 'Younis Khan', 'M Rawat', 'D Salunkhe',\n",
              "       'Pankaj Singh', 'RS Bopara', 'SA Asnodkar', 'GC Smith',\n",
              "       'RJ Quiney', 'AD Mascarenhas', 'AS Raut', 'SK Warne', 'NV Ojha',\n",
              "       'LA Carseldine', 'SM Katich', 'RR Powar', 'S Sreesanth', 'MJ Lumb',\n",
              "       'FY Fazal', 'AC Voges', 'P Dogra', 'MS Bisla', 'J Theron',\n",
              "       'SJ Srivastava', 'Bipul Sharma', 'AC Gilchrist', 'PC Valthaty',\n",
              "       'KD Karthik', 'AM Nayar', 'R McLaren', 'Sunny Singh', 'R Dravid',\n",
              "       'STR Binny', 'LRPL Taylor', 'AL Menaria', 'DH Yagnik', 'AM Rahane',\n",
              "       'BJ Hodge', 'OA Shah', 'KK Cooper', 'Mandeep Singh', 'DJ Hussey',\n",
              "       'JP Faulkner', 'P Kumar', 'Harmeet Singh', 'J Botha', 'N Saini',\n",
              "       'Azhar Mahmood', 'Gurkeerat Singh', 'RJ Harris', 'M Vohra',\n",
              "       'R Sathish', 'P Awana', 'SV Samson', 'DA Miller', 'MS Gony',\n",
              "       'SPD Smith', 'CA Pujara', 'V Sehwag', 'WP Saha', 'GJ Maxwell',\n",
              "       'GJ Bailey', 'KK Nair', 'R Tewatia', 'VS Malik', 'DJ Hooda',\n",
              "       'CH Morris', 'M Vijay', 'AR Patel', 'MG Johnson', 'Anureet Singh',\n",
              "       'Karanveer Singh', 'JC Buttler', 'D Short', 'BA Stokes',\n",
              "       'RA Tripathi', 'J Archer', 'K Gowtham', 'S Gopal', 'JD Unadkat',\n",
              "       'KL Rahul', 'CH Gayle', 'MA Agarwal', 'MP Stoinis', 'M Lomror',\n",
              "       'R Ashwin', 'AD Nath', 'MK Tiwary', 'AJ Tye', 'SN Khan',\n",
              "       'N Pooran', 'DS Kulkarni', 'M Ur Rahman', 'A Turner'], dtype=object)"
            ]
          },
          "metadata": {
            "tags": []
          },
          "execution_count": 59
        }
      ]
    },
    {
      "cell_type": "code",
      "metadata": {
        "id": "hFZLnjUAiFjQ",
        "outputId": "7cbc4e01-52f0-4b8b-eaec-f82ec97b652f",
        "colab": {
          "base_uri": "https://localhost:8080/",
          "height": 907
        }
      },
      "source": [
        "data_kr = data_n.groupby(['batsman']).apply(lambda data_n:(data_n.batsman_runs.value_counts())).reset_index(name='Runs')\n",
        "data_kr"
      ],
      "execution_count": 78,
      "outputs": [
        {
          "output_type": "execute_result",
          "data": {
            "text/html": [
              "<div>\n",
              "<style scoped>\n",
              "    .dataframe tbody tr th:only-of-type {\n",
              "        vertical-align: middle;\n",
              "    }\n",
              "\n",
              "    .dataframe tbody tr th {\n",
              "        vertical-align: top;\n",
              "    }\n",
              "\n",
              "    .dataframe thead th {\n",
              "        text-align: right;\n",
              "    }\n",
              "</style>\n",
              "<table border=\"1\" class=\"dataframe\">\n",
              "  <thead>\n",
              "    <tr style=\"text-align: right;\">\n",
              "      <th></th>\n",
              "      <th>batsman</th>\n",
              "      <th>level_1</th>\n",
              "      <th>Runs</th>\n",
              "    </tr>\n",
              "  </thead>\n",
              "  <tbody>\n",
              "    <tr>\n",
              "      <th>0</th>\n",
              "      <td>CH Gayle</td>\n",
              "      <td>0</td>\n",
              "      <td>33</td>\n",
              "    </tr>\n",
              "    <tr>\n",
              "      <th>1</th>\n",
              "      <td>CH Gayle</td>\n",
              "      <td>1</td>\n",
              "      <td>29</td>\n",
              "    </tr>\n",
              "    <tr>\n",
              "      <th>2</th>\n",
              "      <td>CH Gayle</td>\n",
              "      <td>4</td>\n",
              "      <td>14</td>\n",
              "    </tr>\n",
              "    <tr>\n",
              "      <th>3</th>\n",
              "      <td>CH Gayle</td>\n",
              "      <td>6</td>\n",
              "      <td>7</td>\n",
              "    </tr>\n",
              "    <tr>\n",
              "      <th>4</th>\n",
              "      <td>CH Gayle</td>\n",
              "      <td>2</td>\n",
              "      <td>4</td>\n",
              "    </tr>\n",
              "    <tr>\n",
              "      <th>5</th>\n",
              "      <td>JC Buttler</td>\n",
              "      <td>1</td>\n",
              "      <td>66</td>\n",
              "    </tr>\n",
              "    <tr>\n",
              "      <th>6</th>\n",
              "      <td>JC Buttler</td>\n",
              "      <td>0</td>\n",
              "      <td>48</td>\n",
              "    </tr>\n",
              "    <tr>\n",
              "      <th>7</th>\n",
              "      <td>JC Buttler</td>\n",
              "      <td>4</td>\n",
              "      <td>28</td>\n",
              "    </tr>\n",
              "    <tr>\n",
              "      <th>8</th>\n",
              "      <td>JC Buttler</td>\n",
              "      <td>2</td>\n",
              "      <td>12</td>\n",
              "    </tr>\n",
              "    <tr>\n",
              "      <th>9</th>\n",
              "      <td>JC Buttler</td>\n",
              "      <td>6</td>\n",
              "      <td>5</td>\n",
              "    </tr>\n",
              "    <tr>\n",
              "      <th>10</th>\n",
              "      <td>JC Buttler</td>\n",
              "      <td>3</td>\n",
              "      <td>2</td>\n",
              "    </tr>\n",
              "    <tr>\n",
              "      <th>11</th>\n",
              "      <td>KL Rahul</td>\n",
              "      <td>1</td>\n",
              "      <td>72</td>\n",
              "    </tr>\n",
              "    <tr>\n",
              "      <th>12</th>\n",
              "      <td>KL Rahul</td>\n",
              "      <td>0</td>\n",
              "      <td>56</td>\n",
              "    </tr>\n",
              "    <tr>\n",
              "      <th>13</th>\n",
              "      <td>KL Rahul</td>\n",
              "      <td>4</td>\n",
              "      <td>23</td>\n",
              "    </tr>\n",
              "    <tr>\n",
              "      <th>14</th>\n",
              "      <td>KL Rahul</td>\n",
              "      <td>2</td>\n",
              "      <td>19</td>\n",
              "    </tr>\n",
              "    <tr>\n",
              "      <th>15</th>\n",
              "      <td>KL Rahul</td>\n",
              "      <td>6</td>\n",
              "      <td>7</td>\n",
              "    </tr>\n",
              "    <tr>\n",
              "      <th>16</th>\n",
              "      <td>SPD Smith</td>\n",
              "      <td>1</td>\n",
              "      <td>26</td>\n",
              "    </tr>\n",
              "    <tr>\n",
              "      <th>17</th>\n",
              "      <td>SPD Smith</td>\n",
              "      <td>0</td>\n",
              "      <td>16</td>\n",
              "    </tr>\n",
              "    <tr>\n",
              "      <th>18</th>\n",
              "      <td>SPD Smith</td>\n",
              "      <td>4</td>\n",
              "      <td>12</td>\n",
              "    </tr>\n",
              "    <tr>\n",
              "      <th>19</th>\n",
              "      <td>SPD Smith</td>\n",
              "      <td>2</td>\n",
              "      <td>3</td>\n",
              "    </tr>\n",
              "    <tr>\n",
              "      <th>20</th>\n",
              "      <td>SPD Smith</td>\n",
              "      <td>6</td>\n",
              "      <td>1</td>\n",
              "    </tr>\n",
              "    <tr>\n",
              "      <th>21</th>\n",
              "      <td>SPD Smith</td>\n",
              "      <td>3</td>\n",
              "      <td>1</td>\n",
              "    </tr>\n",
              "    <tr>\n",
              "      <th>22</th>\n",
              "      <td>SV Samson</td>\n",
              "      <td>1</td>\n",
              "      <td>114</td>\n",
              "    </tr>\n",
              "    <tr>\n",
              "      <th>23</th>\n",
              "      <td>SV Samson</td>\n",
              "      <td>0</td>\n",
              "      <td>58</td>\n",
              "    </tr>\n",
              "    <tr>\n",
              "      <th>24</th>\n",
              "      <td>SV Samson</td>\n",
              "      <td>4</td>\n",
              "      <td>19</td>\n",
              "    </tr>\n",
              "    <tr>\n",
              "      <th>25</th>\n",
              "      <td>SV Samson</td>\n",
              "      <td>2</td>\n",
              "      <td>13</td>\n",
              "    </tr>\n",
              "    <tr>\n",
              "      <th>26</th>\n",
              "      <td>SV Samson</td>\n",
              "      <td>6</td>\n",
              "      <td>9</td>\n",
              "    </tr>\n",
              "    <tr>\n",
              "      <th>27</th>\n",
              "      <td>SV Samson</td>\n",
              "      <td>3</td>\n",
              "      <td>2</td>\n",
              "    </tr>\n",
              "  </tbody>\n",
              "</table>\n",
              "</div>"
            ],
            "text/plain": [
              "       batsman  level_1  Runs\n",
              "0     CH Gayle        0    33\n",
              "1     CH Gayle        1    29\n",
              "2     CH Gayle        4    14\n",
              "3     CH Gayle        6     7\n",
              "4     CH Gayle        2     4\n",
              "5   JC Buttler        1    66\n",
              "6   JC Buttler        0    48\n",
              "7   JC Buttler        4    28\n",
              "8   JC Buttler        2    12\n",
              "9   JC Buttler        6     5\n",
              "10  JC Buttler        3     2\n",
              "11    KL Rahul        1    72\n",
              "12    KL Rahul        0    56\n",
              "13    KL Rahul        4    23\n",
              "14    KL Rahul        2    19\n",
              "15    KL Rahul        6     7\n",
              "16   SPD Smith        1    26\n",
              "17   SPD Smith        0    16\n",
              "18   SPD Smith        4    12\n",
              "19   SPD Smith        2     3\n",
              "20   SPD Smith        6     1\n",
              "21   SPD Smith        3     1\n",
              "22   SV Samson        1   114\n",
              "23   SV Samson        0    58\n",
              "24   SV Samson        4    19\n",
              "25   SV Samson        2    13\n",
              "26   SV Samson        6     9\n",
              "27   SV Samson        3     2"
            ]
          },
          "metadata": {
            "tags": []
          },
          "execution_count": 78
        }
      ]
    },
    {
      "cell_type": "code",
      "metadata": {
        "id": "UYwIiHr4j7C2"
      },
      "source": [
        "data_kr.rename(columns = {'level_1':'Type_Run'}, inplace = True) "
      ],
      "execution_count": 80,
      "outputs": []
    },
    {
      "cell_type": "code",
      "metadata": {
        "id": "Uut1hCloOiSO",
        "outputId": "6cc9bd7e-6232-4177-acb2-dfd4e7a2cd00",
        "colab": {
          "base_uri": "https://localhost:8080/",
          "height": 355
        }
      },
      "source": [
        "data_kr =  data_kr.loc[data_kr.Type_Run.isin(['4','6'])]\n",
        "data_kr"
      ],
      "execution_count": 81,
      "outputs": [
        {
          "output_type": "execute_result",
          "data": {
            "text/html": [
              "<div>\n",
              "<style scoped>\n",
              "    .dataframe tbody tr th:only-of-type {\n",
              "        vertical-align: middle;\n",
              "    }\n",
              "\n",
              "    .dataframe tbody tr th {\n",
              "        vertical-align: top;\n",
              "    }\n",
              "\n",
              "    .dataframe thead th {\n",
              "        text-align: right;\n",
              "    }\n",
              "</style>\n",
              "<table border=\"1\" class=\"dataframe\">\n",
              "  <thead>\n",
              "    <tr style=\"text-align: right;\">\n",
              "      <th></th>\n",
              "      <th>batsman</th>\n",
              "      <th>Type_Run</th>\n",
              "      <th>Runs</th>\n",
              "    </tr>\n",
              "  </thead>\n",
              "  <tbody>\n",
              "    <tr>\n",
              "      <th>2</th>\n",
              "      <td>CH Gayle</td>\n",
              "      <td>4</td>\n",
              "      <td>14</td>\n",
              "    </tr>\n",
              "    <tr>\n",
              "      <th>3</th>\n",
              "      <td>CH Gayle</td>\n",
              "      <td>6</td>\n",
              "      <td>7</td>\n",
              "    </tr>\n",
              "    <tr>\n",
              "      <th>7</th>\n",
              "      <td>JC Buttler</td>\n",
              "      <td>4</td>\n",
              "      <td>28</td>\n",
              "    </tr>\n",
              "    <tr>\n",
              "      <th>9</th>\n",
              "      <td>JC Buttler</td>\n",
              "      <td>6</td>\n",
              "      <td>5</td>\n",
              "    </tr>\n",
              "    <tr>\n",
              "      <th>13</th>\n",
              "      <td>KL Rahul</td>\n",
              "      <td>4</td>\n",
              "      <td>23</td>\n",
              "    </tr>\n",
              "    <tr>\n",
              "      <th>15</th>\n",
              "      <td>KL Rahul</td>\n",
              "      <td>6</td>\n",
              "      <td>7</td>\n",
              "    </tr>\n",
              "    <tr>\n",
              "      <th>18</th>\n",
              "      <td>SPD Smith</td>\n",
              "      <td>4</td>\n",
              "      <td>12</td>\n",
              "    </tr>\n",
              "    <tr>\n",
              "      <th>20</th>\n",
              "      <td>SPD Smith</td>\n",
              "      <td>6</td>\n",
              "      <td>1</td>\n",
              "    </tr>\n",
              "    <tr>\n",
              "      <th>24</th>\n",
              "      <td>SV Samson</td>\n",
              "      <td>4</td>\n",
              "      <td>19</td>\n",
              "    </tr>\n",
              "    <tr>\n",
              "      <th>26</th>\n",
              "      <td>SV Samson</td>\n",
              "      <td>6</td>\n",
              "      <td>9</td>\n",
              "    </tr>\n",
              "  </tbody>\n",
              "</table>\n",
              "</div>"
            ],
            "text/plain": [
              "       batsman  Type_Run  Runs\n",
              "2     CH Gayle         4    14\n",
              "3     CH Gayle         6     7\n",
              "7   JC Buttler         4    28\n",
              "9   JC Buttler         6     5\n",
              "13    KL Rahul         4    23\n",
              "15    KL Rahul         6     7\n",
              "18   SPD Smith         4    12\n",
              "20   SPD Smith         6     1\n",
              "24   SV Samson         4    19\n",
              "26   SV Samson         6     9"
            ]
          },
          "metadata": {
            "tags": []
          },
          "execution_count": 81
        }
      ]
    },
    {
      "cell_type": "code",
      "metadata": {
        "id": "wMkVDnk0lcNr",
        "outputId": "8641cda2-b23c-46b3-d72f-1396404c65d2",
        "colab": {
          "base_uri": "https://localhost:8080/",
          "height": 442
        }
      },
      "source": [
        "data_kr.rename(columns = {'Type_Run':'Boundaries'}, inplace = True) \n",
        "data_kr.rename(columns = {'Runs':'Boundaries_Count'}, inplace = True) \n",
        "data_kr"
      ],
      "execution_count": 83,
      "outputs": [
        {
          "output_type": "stream",
          "text": [
            "/usr/local/lib/python3.6/dist-packages/pandas/core/frame.py:4304: SettingWithCopyWarning: \n",
            "A value is trying to be set on a copy of a slice from a DataFrame\n",
            "\n",
            "See the caveats in the documentation: https://pandas.pydata.org/pandas-docs/stable/user_guide/indexing.html#returning-a-view-versus-a-copy\n",
            "  errors=errors,\n"
          ],
          "name": "stderr"
        },
        {
          "output_type": "execute_result",
          "data": {
            "text/html": [
              "<div>\n",
              "<style scoped>\n",
              "    .dataframe tbody tr th:only-of-type {\n",
              "        vertical-align: middle;\n",
              "    }\n",
              "\n",
              "    .dataframe tbody tr th {\n",
              "        vertical-align: top;\n",
              "    }\n",
              "\n",
              "    .dataframe thead th {\n",
              "        text-align: right;\n",
              "    }\n",
              "</style>\n",
              "<table border=\"1\" class=\"dataframe\">\n",
              "  <thead>\n",
              "    <tr style=\"text-align: right;\">\n",
              "      <th></th>\n",
              "      <th>batsman</th>\n",
              "      <th>Boundaries</th>\n",
              "      <th>Boundaries_Count</th>\n",
              "    </tr>\n",
              "  </thead>\n",
              "  <tbody>\n",
              "    <tr>\n",
              "      <th>2</th>\n",
              "      <td>CH Gayle</td>\n",
              "      <td>4</td>\n",
              "      <td>14</td>\n",
              "    </tr>\n",
              "    <tr>\n",
              "      <th>3</th>\n",
              "      <td>CH Gayle</td>\n",
              "      <td>6</td>\n",
              "      <td>7</td>\n",
              "    </tr>\n",
              "    <tr>\n",
              "      <th>7</th>\n",
              "      <td>JC Buttler</td>\n",
              "      <td>4</td>\n",
              "      <td>28</td>\n",
              "    </tr>\n",
              "    <tr>\n",
              "      <th>9</th>\n",
              "      <td>JC Buttler</td>\n",
              "      <td>6</td>\n",
              "      <td>5</td>\n",
              "    </tr>\n",
              "    <tr>\n",
              "      <th>13</th>\n",
              "      <td>KL Rahul</td>\n",
              "      <td>4</td>\n",
              "      <td>23</td>\n",
              "    </tr>\n",
              "    <tr>\n",
              "      <th>15</th>\n",
              "      <td>KL Rahul</td>\n",
              "      <td>6</td>\n",
              "      <td>7</td>\n",
              "    </tr>\n",
              "    <tr>\n",
              "      <th>18</th>\n",
              "      <td>SPD Smith</td>\n",
              "      <td>4</td>\n",
              "      <td>12</td>\n",
              "    </tr>\n",
              "    <tr>\n",
              "      <th>20</th>\n",
              "      <td>SPD Smith</td>\n",
              "      <td>6</td>\n",
              "      <td>1</td>\n",
              "    </tr>\n",
              "    <tr>\n",
              "      <th>24</th>\n",
              "      <td>SV Samson</td>\n",
              "      <td>4</td>\n",
              "      <td>19</td>\n",
              "    </tr>\n",
              "    <tr>\n",
              "      <th>26</th>\n",
              "      <td>SV Samson</td>\n",
              "      <td>6</td>\n",
              "      <td>9</td>\n",
              "    </tr>\n",
              "  </tbody>\n",
              "</table>\n",
              "</div>"
            ],
            "text/plain": [
              "       batsman  Boundaries  Boundaries_Count\n",
              "2     CH Gayle           4                14\n",
              "3     CH Gayle           6                 7\n",
              "7   JC Buttler           4                28\n",
              "9   JC Buttler           6                 5\n",
              "13    KL Rahul           4                23\n",
              "15    KL Rahul           6                 7\n",
              "18   SPD Smith           4                12\n",
              "20   SPD Smith           6                 1\n",
              "24   SV Samson           4                19\n",
              "26   SV Samson           6                 9"
            ]
          },
          "metadata": {
            "tags": []
          },
          "execution_count": 83
        }
      ]
    },
    {
      "cell_type": "code",
      "metadata": {
        "id": "o3L7eKunrdvN",
        "outputId": "f5c5c1d0-8997-485c-ee9a-88fb992f8b50",
        "colab": {
          "base_uri": "https://localhost:8080/",
          "height": 459
        }
      },
      "source": [
        "data_kr['Boundary_Runs'] = data_kr['Boundaries'] * data_kr['Boundaries_Count']\n",
        "data_kr"
      ],
      "execution_count": 86,
      "outputs": [
        {
          "output_type": "stream",
          "text": [
            "/usr/local/lib/python3.6/dist-packages/ipykernel_launcher.py:1: SettingWithCopyWarning: \n",
            "A value is trying to be set on a copy of a slice from a DataFrame.\n",
            "Try using .loc[row_indexer,col_indexer] = value instead\n",
            "\n",
            "See the caveats in the documentation: https://pandas.pydata.org/pandas-docs/stable/user_guide/indexing.html#returning-a-view-versus-a-copy\n",
            "  \"\"\"Entry point for launching an IPython kernel.\n"
          ],
          "name": "stderr"
        },
        {
          "output_type": "execute_result",
          "data": {
            "text/html": [
              "<div>\n",
              "<style scoped>\n",
              "    .dataframe tbody tr th:only-of-type {\n",
              "        vertical-align: middle;\n",
              "    }\n",
              "\n",
              "    .dataframe tbody tr th {\n",
              "        vertical-align: top;\n",
              "    }\n",
              "\n",
              "    .dataframe thead th {\n",
              "        text-align: right;\n",
              "    }\n",
              "</style>\n",
              "<table border=\"1\" class=\"dataframe\">\n",
              "  <thead>\n",
              "    <tr style=\"text-align: right;\">\n",
              "      <th></th>\n",
              "      <th>batsman</th>\n",
              "      <th>Boundaries</th>\n",
              "      <th>Boundaries_Count</th>\n",
              "      <th>Boundary_Runs</th>\n",
              "    </tr>\n",
              "  </thead>\n",
              "  <tbody>\n",
              "    <tr>\n",
              "      <th>2</th>\n",
              "      <td>CH Gayle</td>\n",
              "      <td>4</td>\n",
              "      <td>14</td>\n",
              "      <td>56</td>\n",
              "    </tr>\n",
              "    <tr>\n",
              "      <th>3</th>\n",
              "      <td>CH Gayle</td>\n",
              "      <td>6</td>\n",
              "      <td>7</td>\n",
              "      <td>42</td>\n",
              "    </tr>\n",
              "    <tr>\n",
              "      <th>7</th>\n",
              "      <td>JC Buttler</td>\n",
              "      <td>4</td>\n",
              "      <td>28</td>\n",
              "      <td>112</td>\n",
              "    </tr>\n",
              "    <tr>\n",
              "      <th>9</th>\n",
              "      <td>JC Buttler</td>\n",
              "      <td>6</td>\n",
              "      <td>5</td>\n",
              "      <td>30</td>\n",
              "    </tr>\n",
              "    <tr>\n",
              "      <th>13</th>\n",
              "      <td>KL Rahul</td>\n",
              "      <td>4</td>\n",
              "      <td>23</td>\n",
              "      <td>92</td>\n",
              "    </tr>\n",
              "    <tr>\n",
              "      <th>15</th>\n",
              "      <td>KL Rahul</td>\n",
              "      <td>6</td>\n",
              "      <td>7</td>\n",
              "      <td>42</td>\n",
              "    </tr>\n",
              "    <tr>\n",
              "      <th>18</th>\n",
              "      <td>SPD Smith</td>\n",
              "      <td>4</td>\n",
              "      <td>12</td>\n",
              "      <td>48</td>\n",
              "    </tr>\n",
              "    <tr>\n",
              "      <th>20</th>\n",
              "      <td>SPD Smith</td>\n",
              "      <td>6</td>\n",
              "      <td>1</td>\n",
              "      <td>6</td>\n",
              "    </tr>\n",
              "    <tr>\n",
              "      <th>24</th>\n",
              "      <td>SV Samson</td>\n",
              "      <td>4</td>\n",
              "      <td>19</td>\n",
              "      <td>76</td>\n",
              "    </tr>\n",
              "    <tr>\n",
              "      <th>26</th>\n",
              "      <td>SV Samson</td>\n",
              "      <td>6</td>\n",
              "      <td>9</td>\n",
              "      <td>54</td>\n",
              "    </tr>\n",
              "  </tbody>\n",
              "</table>\n",
              "</div>"
            ],
            "text/plain": [
              "       batsman  Boundaries  Boundaries_Count  Boundary_Runs\n",
              "2     CH Gayle           4                14             56\n",
              "3     CH Gayle           6                 7             42\n",
              "7   JC Buttler           4                28            112\n",
              "9   JC Buttler           6                 5             30\n",
              "13    KL Rahul           4                23             92\n",
              "15    KL Rahul           6                 7             42\n",
              "18   SPD Smith           4                12             48\n",
              "20   SPD Smith           6                 1              6\n",
              "24   SV Samson           4                19             76\n",
              "26   SV Samson           6                 9             54"
            ]
          },
          "metadata": {
            "tags": []
          },
          "execution_count": 86
        }
      ]
    },
    {
      "cell_type": "code",
      "metadata": {
        "id": "WYqe0KKApxjc",
        "outputId": "6d12cafb-0a7f-42a3-906c-ddbd53db4635",
        "colab": {
          "base_uri": "https://localhost:8080/",
          "height": 355
        }
      },
      "source": [
        "data_kr.drop(['Boundaries','Boundaries_Count'], axis = 1) "
      ],
      "execution_count": 88,
      "outputs": [
        {
          "output_type": "execute_result",
          "data": {
            "text/html": [
              "<div>\n",
              "<style scoped>\n",
              "    .dataframe tbody tr th:only-of-type {\n",
              "        vertical-align: middle;\n",
              "    }\n",
              "\n",
              "    .dataframe tbody tr th {\n",
              "        vertical-align: top;\n",
              "    }\n",
              "\n",
              "    .dataframe thead th {\n",
              "        text-align: right;\n",
              "    }\n",
              "</style>\n",
              "<table border=\"1\" class=\"dataframe\">\n",
              "  <thead>\n",
              "    <tr style=\"text-align: right;\">\n",
              "      <th></th>\n",
              "      <th>batsman</th>\n",
              "      <th>Boundary_Runs</th>\n",
              "    </tr>\n",
              "  </thead>\n",
              "  <tbody>\n",
              "    <tr>\n",
              "      <th>2</th>\n",
              "      <td>CH Gayle</td>\n",
              "      <td>56</td>\n",
              "    </tr>\n",
              "    <tr>\n",
              "      <th>3</th>\n",
              "      <td>CH Gayle</td>\n",
              "      <td>42</td>\n",
              "    </tr>\n",
              "    <tr>\n",
              "      <th>7</th>\n",
              "      <td>JC Buttler</td>\n",
              "      <td>112</td>\n",
              "    </tr>\n",
              "    <tr>\n",
              "      <th>9</th>\n",
              "      <td>JC Buttler</td>\n",
              "      <td>30</td>\n",
              "    </tr>\n",
              "    <tr>\n",
              "      <th>13</th>\n",
              "      <td>KL Rahul</td>\n",
              "      <td>92</td>\n",
              "    </tr>\n",
              "    <tr>\n",
              "      <th>15</th>\n",
              "      <td>KL Rahul</td>\n",
              "      <td>42</td>\n",
              "    </tr>\n",
              "    <tr>\n",
              "      <th>18</th>\n",
              "      <td>SPD Smith</td>\n",
              "      <td>48</td>\n",
              "    </tr>\n",
              "    <tr>\n",
              "      <th>20</th>\n",
              "      <td>SPD Smith</td>\n",
              "      <td>6</td>\n",
              "    </tr>\n",
              "    <tr>\n",
              "      <th>24</th>\n",
              "      <td>SV Samson</td>\n",
              "      <td>76</td>\n",
              "    </tr>\n",
              "    <tr>\n",
              "      <th>26</th>\n",
              "      <td>SV Samson</td>\n",
              "      <td>54</td>\n",
              "    </tr>\n",
              "  </tbody>\n",
              "</table>\n",
              "</div>"
            ],
            "text/plain": [
              "       batsman  Boundary_Runs\n",
              "2     CH Gayle             56\n",
              "3     CH Gayle             42\n",
              "7   JC Buttler            112\n",
              "9   JC Buttler             30\n",
              "13    KL Rahul             92\n",
              "15    KL Rahul             42\n",
              "18   SPD Smith             48\n",
              "20   SPD Smith              6\n",
              "24   SV Samson             76\n",
              "26   SV Samson             54"
            ]
          },
          "metadata": {
            "tags": []
          },
          "execution_count": 88
        }
      ]
    },
    {
      "cell_type": "code",
      "metadata": {
        "id": "vaFnK2xIqMO-",
        "outputId": "6dc07f26-d306-4af3-97ed-3422a3f4d272",
        "colab": {
          "base_uri": "https://localhost:8080/",
          "height": 202
        }
      },
      "source": [
        "data_rk = data_kr.groupby(['batsman']).apply(lambda data_n:(data_n.Boundary_Runs.sum())).reset_index(name='Boundary_Runs')\n",
        "data_rk"
      ],
      "execution_count": 94,
      "outputs": [
        {
          "output_type": "execute_result",
          "data": {
            "text/html": [
              "<div>\n",
              "<style scoped>\n",
              "    .dataframe tbody tr th:only-of-type {\n",
              "        vertical-align: middle;\n",
              "    }\n",
              "\n",
              "    .dataframe tbody tr th {\n",
              "        vertical-align: top;\n",
              "    }\n",
              "\n",
              "    .dataframe thead th {\n",
              "        text-align: right;\n",
              "    }\n",
              "</style>\n",
              "<table border=\"1\" class=\"dataframe\">\n",
              "  <thead>\n",
              "    <tr style=\"text-align: right;\">\n",
              "      <th></th>\n",
              "      <th>batsman</th>\n",
              "      <th>Boundary_Runs</th>\n",
              "    </tr>\n",
              "  </thead>\n",
              "  <tbody>\n",
              "    <tr>\n",
              "      <th>0</th>\n",
              "      <td>CH Gayle</td>\n",
              "      <td>98</td>\n",
              "    </tr>\n",
              "    <tr>\n",
              "      <th>1</th>\n",
              "      <td>JC Buttler</td>\n",
              "      <td>142</td>\n",
              "    </tr>\n",
              "    <tr>\n",
              "      <th>2</th>\n",
              "      <td>KL Rahul</td>\n",
              "      <td>134</td>\n",
              "    </tr>\n",
              "    <tr>\n",
              "      <th>3</th>\n",
              "      <td>SPD Smith</td>\n",
              "      <td>54</td>\n",
              "    </tr>\n",
              "    <tr>\n",
              "      <th>4</th>\n",
              "      <td>SV Samson</td>\n",
              "      <td>130</td>\n",
              "    </tr>\n",
              "  </tbody>\n",
              "</table>\n",
              "</div>"
            ],
            "text/plain": [
              "      batsman  Boundary_Runs\n",
              "0    CH Gayle             98\n",
              "1  JC Buttler            142\n",
              "2    KL Rahul            134\n",
              "3   SPD Smith             54\n",
              "4   SV Samson            130"
            ]
          },
          "metadata": {
            "tags": []
          },
          "execution_count": 94
        }
      ]
    },
    {
      "cell_type": "code",
      "metadata": {
        "id": "LFbpCpUllNxt",
        "outputId": "ff29b454-da23-4b75-bca5-b6a4b68f7648",
        "colab": {
          "base_uri": "https://localhost:8080/",
          "height": 202
        }
      },
      "source": [
        "data_kr2 = data_n.groupby(['batsman']).apply(lambda data_n:(data_n.batsman_runs.sum())).reset_index(name='Total_Runs')\n",
        "data_kr2"
      ],
      "execution_count": 95,
      "outputs": [
        {
          "output_type": "execute_result",
          "data": {
            "text/html": [
              "<div>\n",
              "<style scoped>\n",
              "    .dataframe tbody tr th:only-of-type {\n",
              "        vertical-align: middle;\n",
              "    }\n",
              "\n",
              "    .dataframe tbody tr th {\n",
              "        vertical-align: top;\n",
              "    }\n",
              "\n",
              "    .dataframe thead th {\n",
              "        text-align: right;\n",
              "    }\n",
              "</style>\n",
              "<table border=\"1\" class=\"dataframe\">\n",
              "  <thead>\n",
              "    <tr style=\"text-align: right;\">\n",
              "      <th></th>\n",
              "      <th>batsman</th>\n",
              "      <th>Total_Runs</th>\n",
              "    </tr>\n",
              "  </thead>\n",
              "  <tbody>\n",
              "    <tr>\n",
              "      <th>0</th>\n",
              "      <td>CH Gayle</td>\n",
              "      <td>135</td>\n",
              "    </tr>\n",
              "    <tr>\n",
              "      <th>1</th>\n",
              "      <td>JC Buttler</td>\n",
              "      <td>238</td>\n",
              "    </tr>\n",
              "    <tr>\n",
              "      <th>2</th>\n",
              "      <td>KL Rahul</td>\n",
              "      <td>244</td>\n",
              "    </tr>\n",
              "    <tr>\n",
              "      <th>3</th>\n",
              "      <td>SPD Smith</td>\n",
              "      <td>89</td>\n",
              "    </tr>\n",
              "    <tr>\n",
              "      <th>4</th>\n",
              "      <td>SV Samson</td>\n",
              "      <td>276</td>\n",
              "    </tr>\n",
              "  </tbody>\n",
              "</table>\n",
              "</div>"
            ],
            "text/plain": [
              "      batsman  Total_Runs\n",
              "0    CH Gayle         135\n",
              "1  JC Buttler         238\n",
              "2    KL Rahul         244\n",
              "3   SPD Smith          89\n",
              "4   SV Samson         276"
            ]
          },
          "metadata": {
            "tags": []
          },
          "execution_count": 95
        }
      ]
    },
    {
      "cell_type": "code",
      "metadata": {
        "id": "hIBrtyNymjXk",
        "outputId": "c7b45a6c-8c8f-42df-eeb5-9bf0ae68b8ea",
        "colab": {
          "base_uri": "https://localhost:8080/",
          "height": 202
        }
      },
      "source": [
        "data_kxrr = data_rk.join(data_kr2['Total_Runs'])\n",
        "data_kxrr"
      ],
      "execution_count": 102,
      "outputs": [
        {
          "output_type": "execute_result",
          "data": {
            "text/html": [
              "<div>\n",
              "<style scoped>\n",
              "    .dataframe tbody tr th:only-of-type {\n",
              "        vertical-align: middle;\n",
              "    }\n",
              "\n",
              "    .dataframe tbody tr th {\n",
              "        vertical-align: top;\n",
              "    }\n",
              "\n",
              "    .dataframe thead th {\n",
              "        text-align: right;\n",
              "    }\n",
              "</style>\n",
              "<table border=\"1\" class=\"dataframe\">\n",
              "  <thead>\n",
              "    <tr style=\"text-align: right;\">\n",
              "      <th></th>\n",
              "      <th>batsman</th>\n",
              "      <th>Boundary_Runs</th>\n",
              "      <th>Total_Runs</th>\n",
              "    </tr>\n",
              "  </thead>\n",
              "  <tbody>\n",
              "    <tr>\n",
              "      <th>0</th>\n",
              "      <td>CH Gayle</td>\n",
              "      <td>98</td>\n",
              "      <td>135</td>\n",
              "    </tr>\n",
              "    <tr>\n",
              "      <th>1</th>\n",
              "      <td>JC Buttler</td>\n",
              "      <td>142</td>\n",
              "      <td>238</td>\n",
              "    </tr>\n",
              "    <tr>\n",
              "      <th>2</th>\n",
              "      <td>KL Rahul</td>\n",
              "      <td>134</td>\n",
              "      <td>244</td>\n",
              "    </tr>\n",
              "    <tr>\n",
              "      <th>3</th>\n",
              "      <td>SPD Smith</td>\n",
              "      <td>54</td>\n",
              "      <td>89</td>\n",
              "    </tr>\n",
              "    <tr>\n",
              "      <th>4</th>\n",
              "      <td>SV Samson</td>\n",
              "      <td>130</td>\n",
              "      <td>276</td>\n",
              "    </tr>\n",
              "  </tbody>\n",
              "</table>\n",
              "</div>"
            ],
            "text/plain": [
              "      batsman  Boundary_Runs  Total_Runs\n",
              "0    CH Gayle             98         135\n",
              "1  JC Buttler            142         238\n",
              "2    KL Rahul            134         244\n",
              "3   SPD Smith             54          89\n",
              "4   SV Samson            130         276"
            ]
          },
          "metadata": {
            "tags": []
          },
          "execution_count": 102
        }
      ]
    },
    {
      "cell_type": "markdown",
      "metadata": {
        "id": "pYOtqt9_rND2"
      },
      "source": [
        "Finally we have got our desired results.\n",
        "\n",
        "Let's find boundary runs ratio to total ratio now"
      ]
    },
    {
      "cell_type": "code",
      "metadata": {
        "id": "NAFO7ppssXdN",
        "outputId": "e32a1c8b-1197-4192-8433-0891f855d7ef",
        "colab": {
          "base_uri": "https://localhost:8080/",
          "height": 202
        }
      },
      "source": [
        "data_kxrr['Boundary_Runs_Percentage'] = (data_kxrr['Boundary_Runs'] / data_kxrr['Total_Runs']) * 100\n",
        "data_kxrr"
      ],
      "execution_count": 103,
      "outputs": [
        {
          "output_type": "execute_result",
          "data": {
            "text/html": [
              "<div>\n",
              "<style scoped>\n",
              "    .dataframe tbody tr th:only-of-type {\n",
              "        vertical-align: middle;\n",
              "    }\n",
              "\n",
              "    .dataframe tbody tr th {\n",
              "        vertical-align: top;\n",
              "    }\n",
              "\n",
              "    .dataframe thead th {\n",
              "        text-align: right;\n",
              "    }\n",
              "</style>\n",
              "<table border=\"1\" class=\"dataframe\">\n",
              "  <thead>\n",
              "    <tr style=\"text-align: right;\">\n",
              "      <th></th>\n",
              "      <th>batsman</th>\n",
              "      <th>Boundary_Runs</th>\n",
              "      <th>Total_Runs</th>\n",
              "      <th>Boundary_Runs_Percentage</th>\n",
              "    </tr>\n",
              "  </thead>\n",
              "  <tbody>\n",
              "    <tr>\n",
              "      <th>0</th>\n",
              "      <td>CH Gayle</td>\n",
              "      <td>98</td>\n",
              "      <td>135</td>\n",
              "      <td>72.592593</td>\n",
              "    </tr>\n",
              "    <tr>\n",
              "      <th>1</th>\n",
              "      <td>JC Buttler</td>\n",
              "      <td>142</td>\n",
              "      <td>238</td>\n",
              "      <td>59.663866</td>\n",
              "    </tr>\n",
              "    <tr>\n",
              "      <th>2</th>\n",
              "      <td>KL Rahul</td>\n",
              "      <td>134</td>\n",
              "      <td>244</td>\n",
              "      <td>54.918033</td>\n",
              "    </tr>\n",
              "    <tr>\n",
              "      <th>3</th>\n",
              "      <td>SPD Smith</td>\n",
              "      <td>54</td>\n",
              "      <td>89</td>\n",
              "      <td>60.674157</td>\n",
              "    </tr>\n",
              "    <tr>\n",
              "      <th>4</th>\n",
              "      <td>SV Samson</td>\n",
              "      <td>130</td>\n",
              "      <td>276</td>\n",
              "      <td>47.101449</td>\n",
              "    </tr>\n",
              "  </tbody>\n",
              "</table>\n",
              "</div>"
            ],
            "text/plain": [
              "      batsman  Boundary_Runs  Total_Runs  Boundary_Runs_Percentage\n",
              "0    CH Gayle             98         135                 72.592593\n",
              "1  JC Buttler            142         238                 59.663866\n",
              "2    KL Rahul            134         244                 54.918033\n",
              "3   SPD Smith             54          89                 60.674157\n",
              "4   SV Samson            130         276                 47.101449"
            ]
          },
          "metadata": {
            "tags": []
          },
          "execution_count": 103
        }
      ]
    },
    {
      "cell_type": "markdown",
      "metadata": {
        "id": "IgWYhfHYtP50"
      },
      "source": [
        "Clearly CH Gayle has highest Boundaries percentage out of all batsman. Let's mark it ."
      ]
    },
    {
      "cell_type": "markdown",
      "metadata": {
        "id": "Q0Xco_vdrYuW"
      },
      "source": [
        "**For Q3, Let's do Compute OPP**\n",
        "\n"
      ]
    },
    {
      "cell_type": "markdown",
      "metadata": {
        "id": "HGfAe5I7U23d"
      },
      "source": [
        "It will take time and I was busy throughout the day.\n",
        "\n",
        "Hence, marking with my domain knowledge OPP as 1 option CH Gayle (Also because above I found it) and Jofra Archer.\n"
      ]
    },
    {
      "cell_type": "markdown",
      "metadata": {
        "id": "MX2NNUNNVMCK"
      },
      "source": [
        "**Let's do Q4**\n",
        "\n",
        "\n",
        "**Let's find average dot balls in KXIP v RR contest**"
      ]
    },
    {
      "cell_type": "code",
      "metadata": {
        "id": "O1LbIuEnVuJf"
      },
      "source": [
        "data_c = data.loc[data.bowling_team.isin(['Kings XI Punjab','Rajasthan Royals'])]\n",
        "data_c = data_c.loc[data_c.batting_team.isin(['Kings XI Punjab','Rajasthan Royals'])]\n"
      ],
      "execution_count": 104,
      "outputs": []
    },
    {
      "cell_type": "code",
      "metadata": {
        "id": "EJWG7yvIciCS",
        "outputId": "3e037e8e-826b-4878-b0c0-832dcaa30e12",
        "colab": {
          "base_uri": "https://localhost:8080/"
        }
      },
      "source": [
        "data_c.total_runs.value_counts()"
      ],
      "execution_count": 105,
      "outputs": [
        {
          "output_type": "execute_result",
          "data": {
            "text/plain": [
              "1    1850\n",
              "0    1610\n",
              "4     573\n",
              "2     374\n",
              "6     207\n",
              "3      34\n",
              "5      11\n",
              "8       4\n",
              "Name: total_runs, dtype: int64"
            ]
          },
          "metadata": {
            "tags": []
          },
          "execution_count": 105
        }
      ]
    },
    {
      "cell_type": "code",
      "metadata": {
        "id": "j9xSUVIqek-k",
        "outputId": "24420099-90c8-4044-972b-e646dcae4095",
        "colab": {
          "base_uri": "https://localhost:8080/"
        }
      },
      "source": [
        "data_c.match_id.nunique()"
      ],
      "execution_count": 106,
      "outputs": [
        {
          "output_type": "execute_result",
          "data": {
            "text/plain": [
              "19"
            ]
          },
          "metadata": {
            "tags": []
          },
          "execution_count": 106
        }
      ]
    },
    {
      "cell_type": "code",
      "metadata": {
        "id": "3rEBqxDhckq_",
        "outputId": "f818d0bd-9299-4ea4-aecd-1368ff13a2af",
        "colab": {
          "base_uri": "https://localhost:8080/"
        }
      },
      "source": [
        "np.round(1610/19,2) # Average dotball in KXIP v RR contest"
      ],
      "execution_count": 107,
      "outputs": [
        {
          "output_type": "execute_result",
          "data": {
            "text/plain": [
              "84.74"
            ]
          },
          "metadata": {
            "tags": []
          },
          "execution_count": 107
        }
      ]
    },
    {
      "cell_type": "markdown",
      "metadata": {
        "id": "6URsSgx8er0u"
      },
      "source": [
        "Let's mark 60-90 considering our analysis"
      ]
    },
    {
      "cell_type": "markdown",
      "metadata": {
        "id": "uWo7_DlCXew3"
      },
      "source": [
        "**Let's do Q5 now**\n",
        "\n",
        "**Let's find Shami's stats v RR**"
      ]
    },
    {
      "cell_type": "code",
      "metadata": {
        "id": "Mn62akild7eL"
      },
      "source": [
        "\n",
        "data_s = data_s.loc[data.batting_team.isin(['Rajasthan Royals'])]"
      ],
      "execution_count": 110,
      "outputs": []
    },
    {
      "cell_type": "code",
      "metadata": {
        "id": "RJPO-g0Wv-8w"
      },
      "source": [
        "data_s = data_s.loc[data_s.bowler.isin(['Mohammed Shami'])]"
      ],
      "execution_count": 111,
      "outputs": []
    },
    {
      "cell_type": "code",
      "metadata": {
        "id": "doqW5RyWwmOI",
        "outputId": "9461809a-59db-4281-e281-563822944265",
        "colab": {
          "base_uri": "https://localhost:8080/"
        }
      },
      "source": [
        "data_s.match_id.nunique()"
      ],
      "execution_count": 114,
      "outputs": [
        {
          "output_type": "execute_result",
          "data": {
            "text/plain": [
              "2"
            ]
          },
          "metadata": {
            "tags": []
          },
          "execution_count": 114
        }
      ]
    },
    {
      "cell_type": "code",
      "metadata": {
        "id": "azfeihaqeA-Y",
        "outputId": "9759f27c-a75e-40ef-fb61-2a067fe58d66",
        "colab": {
          "base_uri": "https://localhost:8080/",
          "height": 294
        }
      },
      "source": [
        "data_ms = data_s.groupby(['match_id','over']).apply(lambda data_s:(data_s.player_dismissed.value_counts().sum())).reset_index(name='Wickets')\n",
        "data_ms"
      ],
      "execution_count": 113,
      "outputs": [
        {
          "output_type": "execute_result",
          "data": {
            "text/html": [
              "<div>\n",
              "<style scoped>\n",
              "    .dataframe tbody tr th:only-of-type {\n",
              "        vertical-align: middle;\n",
              "    }\n",
              "\n",
              "    .dataframe tbody tr th {\n",
              "        vertical-align: top;\n",
              "    }\n",
              "\n",
              "    .dataframe thead th {\n",
              "        text-align: right;\n",
              "    }\n",
              "</style>\n",
              "<table border=\"1\" class=\"dataframe\">\n",
              "  <thead>\n",
              "    <tr style=\"text-align: right;\">\n",
              "      <th></th>\n",
              "      <th>match_id</th>\n",
              "      <th>over</th>\n",
              "      <th>Wickets</th>\n",
              "    </tr>\n",
              "  </thead>\n",
              "  <tbody>\n",
              "    <tr>\n",
              "      <th>0</th>\n",
              "      <td>11140</td>\n",
              "      <td>3</td>\n",
              "      <td>0</td>\n",
              "    </tr>\n",
              "    <tr>\n",
              "      <th>1</th>\n",
              "      <td>11140</td>\n",
              "      <td>5</td>\n",
              "      <td>0</td>\n",
              "    </tr>\n",
              "    <tr>\n",
              "      <th>2</th>\n",
              "      <td>11140</td>\n",
              "      <td>16</td>\n",
              "      <td>0</td>\n",
              "    </tr>\n",
              "    <tr>\n",
              "      <th>3</th>\n",
              "      <td>11140</td>\n",
              "      <td>19</td>\n",
              "      <td>1</td>\n",
              "    </tr>\n",
              "    <tr>\n",
              "      <th>4</th>\n",
              "      <td>11323</td>\n",
              "      <td>9</td>\n",
              "      <td>0</td>\n",
              "    </tr>\n",
              "    <tr>\n",
              "      <th>5</th>\n",
              "      <td>11323</td>\n",
              "      <td>13</td>\n",
              "      <td>0</td>\n",
              "    </tr>\n",
              "    <tr>\n",
              "      <th>6</th>\n",
              "      <td>11323</td>\n",
              "      <td>18</td>\n",
              "      <td>1</td>\n",
              "    </tr>\n",
              "    <tr>\n",
              "      <th>7</th>\n",
              "      <td>11323</td>\n",
              "      <td>20</td>\n",
              "      <td>1</td>\n",
              "    </tr>\n",
              "  </tbody>\n",
              "</table>\n",
              "</div>"
            ],
            "text/plain": [
              "   match_id  over  Wickets\n",
              "0     11140     3        0\n",
              "1     11140     5        0\n",
              "2     11140    16        0\n",
              "3     11140    19        1\n",
              "4     11323     9        0\n",
              "5     11323    13        0\n",
              "6     11323    18        1\n",
              "7     11323    20        1"
            ]
          },
          "metadata": {
            "tags": []
          },
          "execution_count": 113
        }
      ]
    },
    {
      "cell_type": "markdown",
      "metadata": {
        "id": "RO04OBdk-pP6"
      },
      "source": [
        "Well Shami has played 2 matches and both time he took wicket in the death.\n",
        "So, let's mark last option"
      ]
    },
    {
      "cell_type": "markdown",
      "metadata": {
        "id": "U0qAE79f0tAQ"
      },
      "source": [
        "Thank You again for this amazing internship.\n",
        "\n",
        "Looking forward to it tomorrow.\n",
        "\n",
        "Regards,\n",
        "\n",
        "Ashaab Rizvi\n",
        "\n"
      ]
    }
  ]
}