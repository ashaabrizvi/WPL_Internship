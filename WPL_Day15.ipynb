{
  "nbformat": 4,
  "nbformat_minor": 0,
  "metadata": {
    "colab": {
      "name": "WPL_Day15.ipynb",
      "provenance": []
    },
    "kernelspec": {
      "name": "python3",
      "display_name": "Python 3"
    }
  },
  "cells": [
    {
      "cell_type": "code",
      "metadata": {
        "id": "atP2KdI4X2Bh",
        "outputId": "6b6e802b-cbe8-4ff3-ffc6-a80d6d953c3e",
        "colab": {
          "base_uri": "https://localhost:8080/",
          "height": 35
        }
      },
      "source": [
        "from google.colab import drive\n",
        "drive.mount('/content/gdrive')"
      ],
      "execution_count": 1,
      "outputs": [
        {
          "output_type": "stream",
          "text": [
            "Mounted at /content/gdrive\n"
          ],
          "name": "stdout"
        }
      ]
    },
    {
      "cell_type": "code",
      "metadata": {
        "id": "-dV6pKFqX73s"
      },
      "source": [
        "import os\n",
        "os.environ['KAGGLE_CONFIG_DIR'] = \"/content/gdrive/My Drive/Kaggle\""
      ],
      "execution_count": 2,
      "outputs": []
    },
    {
      "cell_type": "code",
      "metadata": {
        "id": "SAmfc_O-YIeD",
        "outputId": "784491df-ef83-42e5-c841-e2b27c0ce6b1",
        "colab": {
          "base_uri": "https://localhost:8080/",
          "height": 35
        }
      },
      "source": [
        "%cd /content/gdrive/My Drive/Kaggle"
      ],
      "execution_count": 3,
      "outputs": [
        {
          "output_type": "stream",
          "text": [
            "/content/gdrive/My Drive/Kaggle\n"
          ],
          "name": "stdout"
        }
      ]
    },
    {
      "cell_type": "code",
      "metadata": {
        "id": "qmc0lzmpYLFO",
        "outputId": "d3144161-1a9e-4dbd-e9a7-d0f688469fcc",
        "colab": {
          "base_uri": "https://localhost:8080/",
          "height": 69
        }
      },
      "source": [
        "!kaggle datasets download -d nowke9/ipldata"
      ],
      "execution_count": 4,
      "outputs": [
        {
          "output_type": "stream",
          "text": [
            "Downloading ipldata.zip to /content/gdrive/My Drive/Kaggle\n",
            "\r  0% 0.00/1.20M [00:00<?, ?B/s]\n",
            "\r100% 1.20M/1.20M [00:00<00:00, 39.1MB/s]\n"
          ],
          "name": "stdout"
        }
      ]
    },
    {
      "cell_type": "code",
      "metadata": {
        "id": "zRWPQny7YfCm",
        "outputId": "55c2d93d-c6e4-421a-9598-7ec43307c6e6",
        "colab": {
          "base_uri": "https://localhost:8080/",
          "height": 35
        }
      },
      "source": [
        "!ls"
      ],
      "execution_count": 5,
      "outputs": [
        {
          "output_type": "stream",
          "text": [
            "deliveries.csv\tipldata.zip  kaggle.json  matches.csv\n"
          ],
          "name": "stdout"
        }
      ]
    },
    {
      "cell_type": "code",
      "metadata": {
        "id": "cFT6X2SVYp-g",
        "outputId": "0dca03c4-669b-42de-e00f-ffc307638d88",
        "colab": {
          "base_uri": "https://localhost:8080/",
          "height": 69
        }
      },
      "source": [
        "!unzip \\*.zip  && rm *.zip"
      ],
      "execution_count": 6,
      "outputs": [
        {
          "output_type": "stream",
          "text": [
            "Archive:  ipldata.zip\n",
            "replace deliveries.csv? [y]es, [n]o, [A]ll, [N]one, [r]ename: n\n",
            "replace matches.csv? [y]es, [n]o, [A]ll, [N]one, [r]ename: n\n"
          ],
          "name": "stdout"
        }
      ]
    },
    {
      "cell_type": "code",
      "metadata": {
        "id": "WPXS8VygY5qv"
      },
      "source": [
        "import pandas as pd\n",
        "import numpy as np\n",
        "import matplotlib.pyplot as plt\n",
        "import seaborn as sns\n",
        "sns.set_style(style='darkgrid')"
      ],
      "execution_count": 7,
      "outputs": []
    },
    {
      "cell_type": "code",
      "metadata": {
        "id": "eYoL_cUeZCkQ",
        "outputId": "78331ae7-d05e-4f8d-b129-ce3229774a4e",
        "colab": {
          "base_uri": "https://localhost:8080/",
          "height": 395
        }
      },
      "source": [
        "data=pd.read_csv('deliveries.csv')\n",
        "data.head()"
      ],
      "execution_count": 8,
      "outputs": [
        {
          "output_type": "execute_result",
          "data": {
            "text/html": [
              "<div>\n",
              "<style scoped>\n",
              "    .dataframe tbody tr th:only-of-type {\n",
              "        vertical-align: middle;\n",
              "    }\n",
              "\n",
              "    .dataframe tbody tr th {\n",
              "        vertical-align: top;\n",
              "    }\n",
              "\n",
              "    .dataframe thead th {\n",
              "        text-align: right;\n",
              "    }\n",
              "</style>\n",
              "<table border=\"1\" class=\"dataframe\">\n",
              "  <thead>\n",
              "    <tr style=\"text-align: right;\">\n",
              "      <th></th>\n",
              "      <th>match_id</th>\n",
              "      <th>inning</th>\n",
              "      <th>batting_team</th>\n",
              "      <th>bowling_team</th>\n",
              "      <th>over</th>\n",
              "      <th>ball</th>\n",
              "      <th>batsman</th>\n",
              "      <th>non_striker</th>\n",
              "      <th>bowler</th>\n",
              "      <th>is_super_over</th>\n",
              "      <th>wide_runs</th>\n",
              "      <th>bye_runs</th>\n",
              "      <th>legbye_runs</th>\n",
              "      <th>noball_runs</th>\n",
              "      <th>penalty_runs</th>\n",
              "      <th>batsman_runs</th>\n",
              "      <th>extra_runs</th>\n",
              "      <th>total_runs</th>\n",
              "      <th>player_dismissed</th>\n",
              "      <th>dismissal_kind</th>\n",
              "      <th>fielder</th>\n",
              "    </tr>\n",
              "  </thead>\n",
              "  <tbody>\n",
              "    <tr>\n",
              "      <th>0</th>\n",
              "      <td>1</td>\n",
              "      <td>1</td>\n",
              "      <td>Sunrisers Hyderabad</td>\n",
              "      <td>Royal Challengers Bangalore</td>\n",
              "      <td>1</td>\n",
              "      <td>1</td>\n",
              "      <td>DA Warner</td>\n",
              "      <td>S Dhawan</td>\n",
              "      <td>TS Mills</td>\n",
              "      <td>0</td>\n",
              "      <td>0</td>\n",
              "      <td>0</td>\n",
              "      <td>0</td>\n",
              "      <td>0</td>\n",
              "      <td>0</td>\n",
              "      <td>0</td>\n",
              "      <td>0</td>\n",
              "      <td>0</td>\n",
              "      <td>NaN</td>\n",
              "      <td>NaN</td>\n",
              "      <td>NaN</td>\n",
              "    </tr>\n",
              "    <tr>\n",
              "      <th>1</th>\n",
              "      <td>1</td>\n",
              "      <td>1</td>\n",
              "      <td>Sunrisers Hyderabad</td>\n",
              "      <td>Royal Challengers Bangalore</td>\n",
              "      <td>1</td>\n",
              "      <td>2</td>\n",
              "      <td>DA Warner</td>\n",
              "      <td>S Dhawan</td>\n",
              "      <td>TS Mills</td>\n",
              "      <td>0</td>\n",
              "      <td>0</td>\n",
              "      <td>0</td>\n",
              "      <td>0</td>\n",
              "      <td>0</td>\n",
              "      <td>0</td>\n",
              "      <td>0</td>\n",
              "      <td>0</td>\n",
              "      <td>0</td>\n",
              "      <td>NaN</td>\n",
              "      <td>NaN</td>\n",
              "      <td>NaN</td>\n",
              "    </tr>\n",
              "    <tr>\n",
              "      <th>2</th>\n",
              "      <td>1</td>\n",
              "      <td>1</td>\n",
              "      <td>Sunrisers Hyderabad</td>\n",
              "      <td>Royal Challengers Bangalore</td>\n",
              "      <td>1</td>\n",
              "      <td>3</td>\n",
              "      <td>DA Warner</td>\n",
              "      <td>S Dhawan</td>\n",
              "      <td>TS Mills</td>\n",
              "      <td>0</td>\n",
              "      <td>0</td>\n",
              "      <td>0</td>\n",
              "      <td>0</td>\n",
              "      <td>0</td>\n",
              "      <td>0</td>\n",
              "      <td>4</td>\n",
              "      <td>0</td>\n",
              "      <td>4</td>\n",
              "      <td>NaN</td>\n",
              "      <td>NaN</td>\n",
              "      <td>NaN</td>\n",
              "    </tr>\n",
              "    <tr>\n",
              "      <th>3</th>\n",
              "      <td>1</td>\n",
              "      <td>1</td>\n",
              "      <td>Sunrisers Hyderabad</td>\n",
              "      <td>Royal Challengers Bangalore</td>\n",
              "      <td>1</td>\n",
              "      <td>4</td>\n",
              "      <td>DA Warner</td>\n",
              "      <td>S Dhawan</td>\n",
              "      <td>TS Mills</td>\n",
              "      <td>0</td>\n",
              "      <td>0</td>\n",
              "      <td>0</td>\n",
              "      <td>0</td>\n",
              "      <td>0</td>\n",
              "      <td>0</td>\n",
              "      <td>0</td>\n",
              "      <td>0</td>\n",
              "      <td>0</td>\n",
              "      <td>NaN</td>\n",
              "      <td>NaN</td>\n",
              "      <td>NaN</td>\n",
              "    </tr>\n",
              "    <tr>\n",
              "      <th>4</th>\n",
              "      <td>1</td>\n",
              "      <td>1</td>\n",
              "      <td>Sunrisers Hyderabad</td>\n",
              "      <td>Royal Challengers Bangalore</td>\n",
              "      <td>1</td>\n",
              "      <td>5</td>\n",
              "      <td>DA Warner</td>\n",
              "      <td>S Dhawan</td>\n",
              "      <td>TS Mills</td>\n",
              "      <td>0</td>\n",
              "      <td>2</td>\n",
              "      <td>0</td>\n",
              "      <td>0</td>\n",
              "      <td>0</td>\n",
              "      <td>0</td>\n",
              "      <td>0</td>\n",
              "      <td>2</td>\n",
              "      <td>2</td>\n",
              "      <td>NaN</td>\n",
              "      <td>NaN</td>\n",
              "      <td>NaN</td>\n",
              "    </tr>\n",
              "  </tbody>\n",
              "</table>\n",
              "</div>"
            ],
            "text/plain": [
              "   match_id  inning  ... dismissal_kind fielder\n",
              "0         1       1  ...            NaN     NaN\n",
              "1         1       1  ...            NaN     NaN\n",
              "2         1       1  ...            NaN     NaN\n",
              "3         1       1  ...            NaN     NaN\n",
              "4         1       1  ...            NaN     NaN\n",
              "\n",
              "[5 rows x 21 columns]"
            ]
          },
          "metadata": {
            "tags": []
          },
          "execution_count": 8
        }
      ]
    },
    {
      "cell_type": "code",
      "metadata": {
        "id": "j-EEPN7pZVj5",
        "outputId": "930c0835-fc0d-4edc-a6c8-258c75011f42",
        "colab": {
          "base_uri": "https://localhost:8080/",
          "height": 447
        }
      },
      "source": [
        "data2= pd.read_csv('matches.csv')\n",
        "data2.head()"
      ],
      "execution_count": 9,
      "outputs": [
        {
          "output_type": "execute_result",
          "data": {
            "text/html": [
              "<div>\n",
              "<style scoped>\n",
              "    .dataframe tbody tr th:only-of-type {\n",
              "        vertical-align: middle;\n",
              "    }\n",
              "\n",
              "    .dataframe tbody tr th {\n",
              "        vertical-align: top;\n",
              "    }\n",
              "\n",
              "    .dataframe thead th {\n",
              "        text-align: right;\n",
              "    }\n",
              "</style>\n",
              "<table border=\"1\" class=\"dataframe\">\n",
              "  <thead>\n",
              "    <tr style=\"text-align: right;\">\n",
              "      <th></th>\n",
              "      <th>id</th>\n",
              "      <th>season</th>\n",
              "      <th>city</th>\n",
              "      <th>date</th>\n",
              "      <th>team1</th>\n",
              "      <th>team2</th>\n",
              "      <th>toss_winner</th>\n",
              "      <th>toss_decision</th>\n",
              "      <th>result</th>\n",
              "      <th>dl_applied</th>\n",
              "      <th>winner</th>\n",
              "      <th>win_by_runs</th>\n",
              "      <th>win_by_wickets</th>\n",
              "      <th>player_of_match</th>\n",
              "      <th>venue</th>\n",
              "      <th>umpire1</th>\n",
              "      <th>umpire2</th>\n",
              "      <th>umpire3</th>\n",
              "    </tr>\n",
              "  </thead>\n",
              "  <tbody>\n",
              "    <tr>\n",
              "      <th>0</th>\n",
              "      <td>1</td>\n",
              "      <td>2017</td>\n",
              "      <td>Hyderabad</td>\n",
              "      <td>2017-04-05</td>\n",
              "      <td>Sunrisers Hyderabad</td>\n",
              "      <td>Royal Challengers Bangalore</td>\n",
              "      <td>Royal Challengers Bangalore</td>\n",
              "      <td>field</td>\n",
              "      <td>normal</td>\n",
              "      <td>0</td>\n",
              "      <td>Sunrisers Hyderabad</td>\n",
              "      <td>35</td>\n",
              "      <td>0</td>\n",
              "      <td>Yuvraj Singh</td>\n",
              "      <td>Rajiv Gandhi International Stadium, Uppal</td>\n",
              "      <td>AY Dandekar</td>\n",
              "      <td>NJ Llong</td>\n",
              "      <td>NaN</td>\n",
              "    </tr>\n",
              "    <tr>\n",
              "      <th>1</th>\n",
              "      <td>2</td>\n",
              "      <td>2017</td>\n",
              "      <td>Pune</td>\n",
              "      <td>2017-04-06</td>\n",
              "      <td>Mumbai Indians</td>\n",
              "      <td>Rising Pune Supergiant</td>\n",
              "      <td>Rising Pune Supergiant</td>\n",
              "      <td>field</td>\n",
              "      <td>normal</td>\n",
              "      <td>0</td>\n",
              "      <td>Rising Pune Supergiant</td>\n",
              "      <td>0</td>\n",
              "      <td>7</td>\n",
              "      <td>SPD Smith</td>\n",
              "      <td>Maharashtra Cricket Association Stadium</td>\n",
              "      <td>A Nand Kishore</td>\n",
              "      <td>S Ravi</td>\n",
              "      <td>NaN</td>\n",
              "    </tr>\n",
              "    <tr>\n",
              "      <th>2</th>\n",
              "      <td>3</td>\n",
              "      <td>2017</td>\n",
              "      <td>Rajkot</td>\n",
              "      <td>2017-04-07</td>\n",
              "      <td>Gujarat Lions</td>\n",
              "      <td>Kolkata Knight Riders</td>\n",
              "      <td>Kolkata Knight Riders</td>\n",
              "      <td>field</td>\n",
              "      <td>normal</td>\n",
              "      <td>0</td>\n",
              "      <td>Kolkata Knight Riders</td>\n",
              "      <td>0</td>\n",
              "      <td>10</td>\n",
              "      <td>CA Lynn</td>\n",
              "      <td>Saurashtra Cricket Association Stadium</td>\n",
              "      <td>Nitin Menon</td>\n",
              "      <td>CK Nandan</td>\n",
              "      <td>NaN</td>\n",
              "    </tr>\n",
              "    <tr>\n",
              "      <th>3</th>\n",
              "      <td>4</td>\n",
              "      <td>2017</td>\n",
              "      <td>Indore</td>\n",
              "      <td>2017-04-08</td>\n",
              "      <td>Rising Pune Supergiant</td>\n",
              "      <td>Kings XI Punjab</td>\n",
              "      <td>Kings XI Punjab</td>\n",
              "      <td>field</td>\n",
              "      <td>normal</td>\n",
              "      <td>0</td>\n",
              "      <td>Kings XI Punjab</td>\n",
              "      <td>0</td>\n",
              "      <td>6</td>\n",
              "      <td>GJ Maxwell</td>\n",
              "      <td>Holkar Cricket Stadium</td>\n",
              "      <td>AK Chaudhary</td>\n",
              "      <td>C Shamshuddin</td>\n",
              "      <td>NaN</td>\n",
              "    </tr>\n",
              "    <tr>\n",
              "      <th>4</th>\n",
              "      <td>5</td>\n",
              "      <td>2017</td>\n",
              "      <td>Bangalore</td>\n",
              "      <td>2017-04-08</td>\n",
              "      <td>Royal Challengers Bangalore</td>\n",
              "      <td>Delhi Daredevils</td>\n",
              "      <td>Royal Challengers Bangalore</td>\n",
              "      <td>bat</td>\n",
              "      <td>normal</td>\n",
              "      <td>0</td>\n",
              "      <td>Royal Challengers Bangalore</td>\n",
              "      <td>15</td>\n",
              "      <td>0</td>\n",
              "      <td>KM Jadhav</td>\n",
              "      <td>M Chinnaswamy Stadium</td>\n",
              "      <td>NaN</td>\n",
              "      <td>NaN</td>\n",
              "      <td>NaN</td>\n",
              "    </tr>\n",
              "  </tbody>\n",
              "</table>\n",
              "</div>"
            ],
            "text/plain": [
              "   id  season       city  ...         umpire1        umpire2 umpire3\n",
              "0   1    2017  Hyderabad  ...     AY Dandekar       NJ Llong     NaN\n",
              "1   2    2017       Pune  ...  A Nand Kishore         S Ravi     NaN\n",
              "2   3    2017     Rajkot  ...     Nitin Menon      CK Nandan     NaN\n",
              "3   4    2017     Indore  ...    AK Chaudhary  C Shamshuddin     NaN\n",
              "4   5    2017  Bangalore  ...             NaN            NaN     NaN\n",
              "\n",
              "[5 rows x 18 columns]"
            ]
          },
          "metadata": {
            "tags": []
          },
          "execution_count": 9
        }
      ]
    },
    {
      "cell_type": "code",
      "metadata": {
        "id": "J2C_uVclcSX4",
        "outputId": "81377a55-6fa3-44a2-a7eb-7bfb962eb56a",
        "colab": {
          "base_uri": "https://localhost:8080/",
          "height": 1000
        }
      },
      "source": [
        "data_f = data2.loc[data2.team1.isin(['Rajasthan Royals','Mumbai Indians'])] \n",
        "data_f = data_f.loc[data_f.team2.isin(['Rajasthan Royals','Mumbai Indians'])] \n",
        "data_f"
      ],
      "execution_count": 10,
      "outputs": [
        {
          "output_type": "execute_result",
          "data": {
            "text/html": [
              "<div>\n",
              "<style scoped>\n",
              "    .dataframe tbody tr th:only-of-type {\n",
              "        vertical-align: middle;\n",
              "    }\n",
              "\n",
              "    .dataframe tbody tr th {\n",
              "        vertical-align: top;\n",
              "    }\n",
              "\n",
              "    .dataframe thead th {\n",
              "        text-align: right;\n",
              "    }\n",
              "</style>\n",
              "<table border=\"1\" class=\"dataframe\">\n",
              "  <thead>\n",
              "    <tr style=\"text-align: right;\">\n",
              "      <th></th>\n",
              "      <th>id</th>\n",
              "      <th>season</th>\n",
              "      <th>city</th>\n",
              "      <th>date</th>\n",
              "      <th>team1</th>\n",
              "      <th>team2</th>\n",
              "      <th>toss_winner</th>\n",
              "      <th>toss_decision</th>\n",
              "      <th>result</th>\n",
              "      <th>dl_applied</th>\n",
              "      <th>winner</th>\n",
              "      <th>win_by_runs</th>\n",
              "      <th>win_by_wickets</th>\n",
              "      <th>player_of_match</th>\n",
              "      <th>venue</th>\n",
              "      <th>umpire1</th>\n",
              "      <th>umpire2</th>\n",
              "      <th>umpire3</th>\n",
              "    </tr>\n",
              "  </thead>\n",
              "  <tbody>\n",
              "    <tr>\n",
              "      <th>85</th>\n",
              "      <td>86</td>\n",
              "      <td>2008</td>\n",
              "      <td>Mumbai</td>\n",
              "      <td>2008-05-07</td>\n",
              "      <td>Rajasthan Royals</td>\n",
              "      <td>Mumbai Indians</td>\n",
              "      <td>Mumbai Indians</td>\n",
              "      <td>field</td>\n",
              "      <td>normal</td>\n",
              "      <td>0</td>\n",
              "      <td>Mumbai Indians</td>\n",
              "      <td>0</td>\n",
              "      <td>7</td>\n",
              "      <td>A Nehra</td>\n",
              "      <td>Dr DY Patil Sports Academy</td>\n",
              "      <td>DJ Harper</td>\n",
              "      <td>RE Koertzen</td>\n",
              "      <td>NaN</td>\n",
              "    </tr>\n",
              "    <tr>\n",
              "      <th>112</th>\n",
              "      <td>113</td>\n",
              "      <td>2008</td>\n",
              "      <td>Jaipur</td>\n",
              "      <td>2008-05-26</td>\n",
              "      <td>Mumbai Indians</td>\n",
              "      <td>Rajasthan Royals</td>\n",
              "      <td>Rajasthan Royals</td>\n",
              "      <td>field</td>\n",
              "      <td>normal</td>\n",
              "      <td>0</td>\n",
              "      <td>Rajasthan Royals</td>\n",
              "      <td>0</td>\n",
              "      <td>5</td>\n",
              "      <td>Sohail Tanvir</td>\n",
              "      <td>Sawai Mansingh Stadium</td>\n",
              "      <td>BF Bowden</td>\n",
              "      <td>K Hariharan</td>\n",
              "      <td>NaN</td>\n",
              "    </tr>\n",
              "    <tr>\n",
              "      <th>159</th>\n",
              "      <td>160</td>\n",
              "      <td>2009</td>\n",
              "      <td>Durban</td>\n",
              "      <td>2009-05-14</td>\n",
              "      <td>Rajasthan Royals</td>\n",
              "      <td>Mumbai Indians</td>\n",
              "      <td>Rajasthan Royals</td>\n",
              "      <td>bat</td>\n",
              "      <td>normal</td>\n",
              "      <td>0</td>\n",
              "      <td>Rajasthan Royals</td>\n",
              "      <td>2</td>\n",
              "      <td>0</td>\n",
              "      <td>SK Warne</td>\n",
              "      <td>Kingsmead</td>\n",
              "      <td>BR Doctrove</td>\n",
              "      <td>DJ Harper</td>\n",
              "      <td>NaN</td>\n",
              "    </tr>\n",
              "    <tr>\n",
              "      <th>175</th>\n",
              "      <td>176</td>\n",
              "      <td>2010</td>\n",
              "      <td>Mumbai</td>\n",
              "      <td>2010-03-13</td>\n",
              "      <td>Mumbai Indians</td>\n",
              "      <td>Rajasthan Royals</td>\n",
              "      <td>Mumbai Indians</td>\n",
              "      <td>bat</td>\n",
              "      <td>normal</td>\n",
              "      <td>0</td>\n",
              "      <td>Mumbai Indians</td>\n",
              "      <td>4</td>\n",
              "      <td>0</td>\n",
              "      <td>YK Pathan</td>\n",
              "      <td>Brabourne Stadium</td>\n",
              "      <td>RE Koertzen</td>\n",
              "      <td>RB Tiffin</td>\n",
              "      <td>NaN</td>\n",
              "    </tr>\n",
              "    <tr>\n",
              "      <th>218</th>\n",
              "      <td>219</td>\n",
              "      <td>2010</td>\n",
              "      <td>Jaipur</td>\n",
              "      <td>2010-04-11</td>\n",
              "      <td>Mumbai Indians</td>\n",
              "      <td>Rajasthan Royals</td>\n",
              "      <td>Rajasthan Royals</td>\n",
              "      <td>field</td>\n",
              "      <td>normal</td>\n",
              "      <td>0</td>\n",
              "      <td>Mumbai Indians</td>\n",
              "      <td>37</td>\n",
              "      <td>0</td>\n",
              "      <td>SR Tendulkar</td>\n",
              "      <td>Sawai Mansingh Stadium</td>\n",
              "      <td>BR Doctrove</td>\n",
              "      <td>SK Tarapore</td>\n",
              "      <td>NaN</td>\n",
              "    </tr>\n",
              "    <tr>\n",
              "      <th>266</th>\n",
              "      <td>267</td>\n",
              "      <td>2011</td>\n",
              "      <td>Jaipur</td>\n",
              "      <td>2011-04-29</td>\n",
              "      <td>Mumbai Indians</td>\n",
              "      <td>Rajasthan Royals</td>\n",
              "      <td>Rajasthan Royals</td>\n",
              "      <td>field</td>\n",
              "      <td>normal</td>\n",
              "      <td>0</td>\n",
              "      <td>Rajasthan Royals</td>\n",
              "      <td>0</td>\n",
              "      <td>7</td>\n",
              "      <td>J Botha</td>\n",
              "      <td>Sawai Mansingh Stadium</td>\n",
              "      <td>Asad Rauf</td>\n",
              "      <td>SK Tarapore</td>\n",
              "      <td>NaN</td>\n",
              "    </tr>\n",
              "    <tr>\n",
              "      <th>298</th>\n",
              "      <td>299</td>\n",
              "      <td>2011</td>\n",
              "      <td>Mumbai</td>\n",
              "      <td>2011-05-20</td>\n",
              "      <td>Mumbai Indians</td>\n",
              "      <td>Rajasthan Royals</td>\n",
              "      <td>Mumbai Indians</td>\n",
              "      <td>bat</td>\n",
              "      <td>normal</td>\n",
              "      <td>0</td>\n",
              "      <td>Rajasthan Royals</td>\n",
              "      <td>0</td>\n",
              "      <td>10</td>\n",
              "      <td>SR Watson</td>\n",
              "      <td>Wankhede Stadium</td>\n",
              "      <td>RE Koertzen</td>\n",
              "      <td>PR Reiffel</td>\n",
              "      <td>NaN</td>\n",
              "    </tr>\n",
              "    <tr>\n",
              "      <th>318</th>\n",
              "      <td>319</td>\n",
              "      <td>2012</td>\n",
              "      <td>Mumbai</td>\n",
              "      <td>2012-04-11</td>\n",
              "      <td>Mumbai Indians</td>\n",
              "      <td>Rajasthan Royals</td>\n",
              "      <td>Rajasthan Royals</td>\n",
              "      <td>field</td>\n",
              "      <td>normal</td>\n",
              "      <td>0</td>\n",
              "      <td>Mumbai Indians</td>\n",
              "      <td>27</td>\n",
              "      <td>0</td>\n",
              "      <td>KA Pollard</td>\n",
              "      <td>Wankhede Stadium</td>\n",
              "      <td>Aleem Dar</td>\n",
              "      <td>BNJ Oxenford</td>\n",
              "      <td>NaN</td>\n",
              "    </tr>\n",
              "    <tr>\n",
              "      <th>376</th>\n",
              "      <td>377</td>\n",
              "      <td>2012</td>\n",
              "      <td>Jaipur</td>\n",
              "      <td>2012-05-20</td>\n",
              "      <td>Rajasthan Royals</td>\n",
              "      <td>Mumbai Indians</td>\n",
              "      <td>Rajasthan Royals</td>\n",
              "      <td>bat</td>\n",
              "      <td>normal</td>\n",
              "      <td>0</td>\n",
              "      <td>Mumbai Indians</td>\n",
              "      <td>0</td>\n",
              "      <td>10</td>\n",
              "      <td>DR Smith</td>\n",
              "      <td>Sawai Mansingh Stadium</td>\n",
              "      <td>HDPK Dharmasena</td>\n",
              "      <td>C Shamshuddin</td>\n",
              "      <td>NaN</td>\n",
              "    </tr>\n",
              "    <tr>\n",
              "      <th>402</th>\n",
              "      <td>403</td>\n",
              "      <td>2013</td>\n",
              "      <td>Jaipur</td>\n",
              "      <td>2013-04-17</td>\n",
              "      <td>Rajasthan Royals</td>\n",
              "      <td>Mumbai Indians</td>\n",
              "      <td>Rajasthan Royals</td>\n",
              "      <td>bat</td>\n",
              "      <td>normal</td>\n",
              "      <td>0</td>\n",
              "      <td>Rajasthan Royals</td>\n",
              "      <td>87</td>\n",
              "      <td>0</td>\n",
              "      <td>AM Rahane</td>\n",
              "      <td>Sawai Mansingh Stadium</td>\n",
              "      <td>Aleem Dar</td>\n",
              "      <td>C Shamshuddin</td>\n",
              "      <td>NaN</td>\n",
              "    </tr>\n",
              "    <tr>\n",
              "      <th>446</th>\n",
              "      <td>447</td>\n",
              "      <td>2013</td>\n",
              "      <td>Mumbai</td>\n",
              "      <td>2013-05-15</td>\n",
              "      <td>Mumbai Indians</td>\n",
              "      <td>Rajasthan Royals</td>\n",
              "      <td>Rajasthan Royals</td>\n",
              "      <td>field</td>\n",
              "      <td>normal</td>\n",
              "      <td>0</td>\n",
              "      <td>Mumbai Indians</td>\n",
              "      <td>14</td>\n",
              "      <td>0</td>\n",
              "      <td>AP Tare</td>\n",
              "      <td>Wankhede Stadium</td>\n",
              "      <td>Asad Rauf</td>\n",
              "      <td>S Asnani</td>\n",
              "      <td>NaN</td>\n",
              "    </tr>\n",
              "    <tr>\n",
              "      <th>455</th>\n",
              "      <td>456</td>\n",
              "      <td>2013</td>\n",
              "      <td>Kolkata</td>\n",
              "      <td>2013-05-24</td>\n",
              "      <td>Rajasthan Royals</td>\n",
              "      <td>Mumbai Indians</td>\n",
              "      <td>Rajasthan Royals</td>\n",
              "      <td>bat</td>\n",
              "      <td>normal</td>\n",
              "      <td>0</td>\n",
              "      <td>Mumbai Indians</td>\n",
              "      <td>0</td>\n",
              "      <td>4</td>\n",
              "      <td>Harbhajan Singh</td>\n",
              "      <td>Eden Gardens</td>\n",
              "      <td>C Shamshuddin</td>\n",
              "      <td>SJA Taufel</td>\n",
              "      <td>NaN</td>\n",
              "    </tr>\n",
              "    <tr>\n",
              "      <th>500</th>\n",
              "      <td>501</td>\n",
              "      <td>2014</td>\n",
              "      <td>Ahmedabad</td>\n",
              "      <td>2014-05-19</td>\n",
              "      <td>Mumbai Indians</td>\n",
              "      <td>Rajasthan Royals</td>\n",
              "      <td>Mumbai Indians</td>\n",
              "      <td>bat</td>\n",
              "      <td>normal</td>\n",
              "      <td>0</td>\n",
              "      <td>Mumbai Indians</td>\n",
              "      <td>25</td>\n",
              "      <td>0</td>\n",
              "      <td>MEK Hussey</td>\n",
              "      <td>Sardar Patel Stadium, Motera</td>\n",
              "      <td>S Ravi</td>\n",
              "      <td>RJ Tucker</td>\n",
              "      <td>NaN</td>\n",
              "    </tr>\n",
              "    <tr>\n",
              "      <th>512</th>\n",
              "      <td>513</td>\n",
              "      <td>2014</td>\n",
              "      <td>Mumbai</td>\n",
              "      <td>2014-05-25</td>\n",
              "      <td>Rajasthan Royals</td>\n",
              "      <td>Mumbai Indians</td>\n",
              "      <td>Mumbai Indians</td>\n",
              "      <td>field</td>\n",
              "      <td>normal</td>\n",
              "      <td>0</td>\n",
              "      <td>Mumbai Indians</td>\n",
              "      <td>0</td>\n",
              "      <td>5</td>\n",
              "      <td>CJ Anderson</td>\n",
              "      <td>Wankhede Stadium</td>\n",
              "      <td>K Srinath</td>\n",
              "      <td>RJ Tucker</td>\n",
              "      <td>NaN</td>\n",
              "    </tr>\n",
              "    <tr>\n",
              "      <th>525</th>\n",
              "      <td>526</td>\n",
              "      <td>2015</td>\n",
              "      <td>Ahmedabad</td>\n",
              "      <td>2015-04-14</td>\n",
              "      <td>Mumbai Indians</td>\n",
              "      <td>Rajasthan Royals</td>\n",
              "      <td>Mumbai Indians</td>\n",
              "      <td>bat</td>\n",
              "      <td>normal</td>\n",
              "      <td>0</td>\n",
              "      <td>Rajasthan Royals</td>\n",
              "      <td>0</td>\n",
              "      <td>7</td>\n",
              "      <td>SPD Smith</td>\n",
              "      <td>Sardar Patel Stadium, Motera</td>\n",
              "      <td>AK Chaudhary</td>\n",
              "      <td>SD Fry</td>\n",
              "      <td>NaN</td>\n",
              "    </tr>\n",
              "    <tr>\n",
              "      <th>548</th>\n",
              "      <td>549</td>\n",
              "      <td>2015</td>\n",
              "      <td>Mumbai</td>\n",
              "      <td>2015-05-01</td>\n",
              "      <td>Mumbai Indians</td>\n",
              "      <td>Rajasthan Royals</td>\n",
              "      <td>Rajasthan Royals</td>\n",
              "      <td>field</td>\n",
              "      <td>normal</td>\n",
              "      <td>0</td>\n",
              "      <td>Mumbai Indians</td>\n",
              "      <td>8</td>\n",
              "      <td>0</td>\n",
              "      <td>AT Rayudu</td>\n",
              "      <td>Wankhede Stadium</td>\n",
              "      <td>HDPK Dharmasena</td>\n",
              "      <td>CK Nandan</td>\n",
              "      <td>NaN</td>\n",
              "    </tr>\n",
              "    <tr>\n",
              "      <th>656</th>\n",
              "      <td>7914</td>\n",
              "      <td>2018</td>\n",
              "      <td>Jaipur</td>\n",
              "      <td>22/04/18</td>\n",
              "      <td>Mumbai Indians</td>\n",
              "      <td>Rajasthan Royals</td>\n",
              "      <td>Mumbai Indians</td>\n",
              "      <td>bat</td>\n",
              "      <td>normal</td>\n",
              "      <td>0</td>\n",
              "      <td>Rajasthan Royals</td>\n",
              "      <td>0</td>\n",
              "      <td>3</td>\n",
              "      <td>J Archer</td>\n",
              "      <td>Sawai Mansingh Stadium</td>\n",
              "      <td>Rod Tucker</td>\n",
              "      <td>K Ananthapadmanabhan</td>\n",
              "      <td>Nitin Menon</td>\n",
              "    </tr>\n",
              "    <tr>\n",
              "      <th>682</th>\n",
              "      <td>7940</td>\n",
              "      <td>2018</td>\n",
              "      <td>Mumbai</td>\n",
              "      <td>13/05/18</td>\n",
              "      <td>Mumbai Indians</td>\n",
              "      <td>Rajasthan Royals</td>\n",
              "      <td>Rajasthan Royals</td>\n",
              "      <td>field</td>\n",
              "      <td>normal</td>\n",
              "      <td>0</td>\n",
              "      <td>Rajasthan Royals</td>\n",
              "      <td>0</td>\n",
              "      <td>7</td>\n",
              "      <td>JC Buttler</td>\n",
              "      <td>Wankhede Stadium</td>\n",
              "      <td>Nitin Menon</td>\n",
              "      <td>S Ravi</td>\n",
              "      <td>C Shamshuddin</td>\n",
              "    </tr>\n",
              "    <tr>\n",
              "      <th>722</th>\n",
              "      <td>11318</td>\n",
              "      <td>2019</td>\n",
              "      <td>Mumbai</td>\n",
              "      <td>13/04/19</td>\n",
              "      <td>Mumbai Indians</td>\n",
              "      <td>Rajasthan Royals</td>\n",
              "      <td>Rajasthan Royals</td>\n",
              "      <td>field</td>\n",
              "      <td>normal</td>\n",
              "      <td>0</td>\n",
              "      <td>Rajasthan Royals</td>\n",
              "      <td>0</td>\n",
              "      <td>4</td>\n",
              "      <td>JC Buttler</td>\n",
              "      <td>Wankhede Stadium</td>\n",
              "      <td>Nitin Menon</td>\n",
              "      <td>Nanda Kishore</td>\n",
              "      <td>Marais Erasmus</td>\n",
              "    </tr>\n",
              "    <tr>\n",
              "      <th>731</th>\n",
              "      <td>11327</td>\n",
              "      <td>2019</td>\n",
              "      <td>Jaipur</td>\n",
              "      <td>20/04/19</td>\n",
              "      <td>Mumbai Indians</td>\n",
              "      <td>Rajasthan Royals</td>\n",
              "      <td>Rajasthan Royals</td>\n",
              "      <td>field</td>\n",
              "      <td>normal</td>\n",
              "      <td>0</td>\n",
              "      <td>Rajasthan Royals</td>\n",
              "      <td>0</td>\n",
              "      <td>5</td>\n",
              "      <td>SPD Smith</td>\n",
              "      <td>Sawai Mansingh Stadium</td>\n",
              "      <td>S Ravi</td>\n",
              "      <td>Yeshwant Barde</td>\n",
              "      <td>O Nandan</td>\n",
              "    </tr>\n",
              "  </tbody>\n",
              "</table>\n",
              "</div>"
            ],
            "text/plain": [
              "        id  season  ...               umpire2         umpire3\n",
              "85      86    2008  ...           RE Koertzen             NaN\n",
              "112    113    2008  ...           K Hariharan             NaN\n",
              "159    160    2009  ...             DJ Harper             NaN\n",
              "175    176    2010  ...             RB Tiffin             NaN\n",
              "218    219    2010  ...           SK Tarapore             NaN\n",
              "266    267    2011  ...           SK Tarapore             NaN\n",
              "298    299    2011  ...            PR Reiffel             NaN\n",
              "318    319    2012  ...          BNJ Oxenford             NaN\n",
              "376    377    2012  ...         C Shamshuddin             NaN\n",
              "402    403    2013  ...         C Shamshuddin             NaN\n",
              "446    447    2013  ...              S Asnani             NaN\n",
              "455    456    2013  ...            SJA Taufel             NaN\n",
              "500    501    2014  ...             RJ Tucker             NaN\n",
              "512    513    2014  ...             RJ Tucker             NaN\n",
              "525    526    2015  ...                SD Fry             NaN\n",
              "548    549    2015  ...             CK Nandan             NaN\n",
              "656   7914    2018  ...  K Ananthapadmanabhan     Nitin Menon\n",
              "682   7940    2018  ...                S Ravi   C Shamshuddin\n",
              "722  11318    2019  ...         Nanda Kishore  Marais Erasmus\n",
              "731  11327    2019  ...        Yeshwant Barde        O Nandan\n",
              "\n",
              "[20 rows x 18 columns]"
            ]
          },
          "metadata": {
            "tags": []
          },
          "execution_count": 10
        }
      ]
    },
    {
      "cell_type": "markdown",
      "metadata": {
        "id": "oaZFdVHJoCx5"
      },
      "source": [
        "Finally , We have got a complete dataset for all the matches of MI VS RR"
      ]
    },
    {
      "cell_type": "markdown",
      "metadata": {
        "id": "135PC1OV0mR4"
      },
      "source": [
        "**Let's do Q1 now**"
      ]
    },
    {
      "cell_type": "code",
      "metadata": {
        "id": "QIn7GSQznk4q",
        "outputId": "bdc7ea55-1362-4250-f5e1-fed298848941",
        "colab": {
          "base_uri": "https://localhost:8080/",
          "height": 439
        }
      },
      "source": [
        "plt.figure(dpi=100)\n",
        "sns.countplot(x='winner',data = data_f)\n",
        "plt.ylabel('Wins Count')\n",
        "plt.xlabel('Team Name')\n",
        "plt.title('MI vs RR')\n",
        "A,B =data_f.winner.value_counts()\n",
        "\n",
        "print('MI Wins -',B)\n",
        "print('RR Wins -',A)\n",
        "\n",
        "plt.show()\n"
      ],
      "execution_count": 11,
      "outputs": [
        {
          "output_type": "stream",
          "text": [
            "MI Wins - 10\n",
            "RR Wins - 10\n"
          ],
          "name": "stdout"
        },
        {
          "output_type": "display_data",
          "data": {
            "image/png": "[encoded data removed]",
            "text/plain": [
              "<Figure size 600x400 with 1 Axes>"
            ]
          },
          "metadata": {
            "tags": []
          }
        }
      ]
    },
    {
      "cell_type": "code",
      "metadata": {
        "id": "tJCd6dO1gyQH",
        "outputId": "72360b5e-0fd5-4ea2-c466-8f41630a764c",
        "colab": {
          "base_uri": "https://localhost:8080/",
          "height": 295
        }
      },
      "source": [
        "data_f = data_f.loc[data_f.season.isin(['2017','2018','2019'])] \n",
        "data_f"
      ],
      "execution_count": 12,
      "outputs": [
        {
          "output_type": "execute_result",
          "data": {
            "text/html": [
              "<div>\n",
              "<style scoped>\n",
              "    .dataframe tbody tr th:only-of-type {\n",
              "        vertical-align: middle;\n",
              "    }\n",
              "\n",
              "    .dataframe tbody tr th {\n",
              "        vertical-align: top;\n",
              "    }\n",
              "\n",
              "    .dataframe thead th {\n",
              "        text-align: right;\n",
              "    }\n",
              "</style>\n",
              "<table border=\"1\" class=\"dataframe\">\n",
              "  <thead>\n",
              "    <tr style=\"text-align: right;\">\n",
              "      <th></th>\n",
              "      <th>id</th>\n",
              "      <th>season</th>\n",
              "      <th>city</th>\n",
              "      <th>date</th>\n",
              "      <th>team1</th>\n",
              "      <th>team2</th>\n",
              "      <th>toss_winner</th>\n",
              "      <th>toss_decision</th>\n",
              "      <th>result</th>\n",
              "      <th>dl_applied</th>\n",
              "      <th>winner</th>\n",
              "      <th>win_by_runs</th>\n",
              "      <th>win_by_wickets</th>\n",
              "      <th>player_of_match</th>\n",
              "      <th>venue</th>\n",
              "      <th>umpire1</th>\n",
              "      <th>umpire2</th>\n",
              "      <th>umpire3</th>\n",
              "    </tr>\n",
              "  </thead>\n",
              "  <tbody>\n",
              "    <tr>\n",
              "      <th>656</th>\n",
              "      <td>7914</td>\n",
              "      <td>2018</td>\n",
              "      <td>Jaipur</td>\n",
              "      <td>22/04/18</td>\n",
              "      <td>Mumbai Indians</td>\n",
              "      <td>Rajasthan Royals</td>\n",
              "      <td>Mumbai Indians</td>\n",
              "      <td>bat</td>\n",
              "      <td>normal</td>\n",
              "      <td>0</td>\n",
              "      <td>Rajasthan Royals</td>\n",
              "      <td>0</td>\n",
              "      <td>3</td>\n",
              "      <td>J Archer</td>\n",
              "      <td>Sawai Mansingh Stadium</td>\n",
              "      <td>Rod Tucker</td>\n",
              "      <td>K Ananthapadmanabhan</td>\n",
              "      <td>Nitin Menon</td>\n",
              "    </tr>\n",
              "    <tr>\n",
              "      <th>682</th>\n",
              "      <td>7940</td>\n",
              "      <td>2018</td>\n",
              "      <td>Mumbai</td>\n",
              "      <td>13/05/18</td>\n",
              "      <td>Mumbai Indians</td>\n",
              "      <td>Rajasthan Royals</td>\n",
              "      <td>Rajasthan Royals</td>\n",
              "      <td>field</td>\n",
              "      <td>normal</td>\n",
              "      <td>0</td>\n",
              "      <td>Rajasthan Royals</td>\n",
              "      <td>0</td>\n",
              "      <td>7</td>\n",
              "      <td>JC Buttler</td>\n",
              "      <td>Wankhede Stadium</td>\n",
              "      <td>Nitin Menon</td>\n",
              "      <td>S Ravi</td>\n",
              "      <td>C Shamshuddin</td>\n",
              "    </tr>\n",
              "    <tr>\n",
              "      <th>722</th>\n",
              "      <td>11318</td>\n",
              "      <td>2019</td>\n",
              "      <td>Mumbai</td>\n",
              "      <td>13/04/19</td>\n",
              "      <td>Mumbai Indians</td>\n",
              "      <td>Rajasthan Royals</td>\n",
              "      <td>Rajasthan Royals</td>\n",
              "      <td>field</td>\n",
              "      <td>normal</td>\n",
              "      <td>0</td>\n",
              "      <td>Rajasthan Royals</td>\n",
              "      <td>0</td>\n",
              "      <td>4</td>\n",
              "      <td>JC Buttler</td>\n",
              "      <td>Wankhede Stadium</td>\n",
              "      <td>Nitin Menon</td>\n",
              "      <td>Nanda Kishore</td>\n",
              "      <td>Marais Erasmus</td>\n",
              "    </tr>\n",
              "    <tr>\n",
              "      <th>731</th>\n",
              "      <td>11327</td>\n",
              "      <td>2019</td>\n",
              "      <td>Jaipur</td>\n",
              "      <td>20/04/19</td>\n",
              "      <td>Mumbai Indians</td>\n",
              "      <td>Rajasthan Royals</td>\n",
              "      <td>Rajasthan Royals</td>\n",
              "      <td>field</td>\n",
              "      <td>normal</td>\n",
              "      <td>0</td>\n",
              "      <td>Rajasthan Royals</td>\n",
              "      <td>0</td>\n",
              "      <td>5</td>\n",
              "      <td>SPD Smith</td>\n",
              "      <td>Sawai Mansingh Stadium</td>\n",
              "      <td>S Ravi</td>\n",
              "      <td>Yeshwant Barde</td>\n",
              "      <td>O Nandan</td>\n",
              "    </tr>\n",
              "  </tbody>\n",
              "</table>\n",
              "</div>"
            ],
            "text/plain": [
              "        id  season    city  ...      umpire1               umpire2         umpire3\n",
              "656   7914    2018  Jaipur  ...   Rod Tucker  K Ananthapadmanabhan     Nitin Menon\n",
              "682   7940    2018  Mumbai  ...  Nitin Menon                S Ravi   C Shamshuddin\n",
              "722  11318    2019  Mumbai  ...  Nitin Menon         Nanda Kishore  Marais Erasmus\n",
              "731  11327    2019  Jaipur  ...       S Ravi        Yeshwant Barde        O Nandan\n",
              "\n",
              "[4 rows x 18 columns]"
            ]
          },
          "metadata": {
            "tags": []
          },
          "execution_count": 12
        }
      ]
    },
    {
      "cell_type": "code",
      "metadata": {
        "id": "aTmmnp7ctNXX",
        "outputId": "fc07e8cf-f40a-4e18-db26-28bff14af355",
        "colab": {
          "base_uri": "https://localhost:8080/",
          "height": 404
        }
      },
      "source": [
        "plt.figure(dpi=100)\n",
        "sns.countplot(x='winner',data = data_f)\n",
        "plt.ylabel('Wins Count')\n",
        "plt.xlabel('Team Name')\n",
        "plt.title('MI vs RR')\n",
        "\n",
        "plt.show()\n"
      ],
      "execution_count": 14,
      "outputs": [
        {
          "output_type": "display_data",
          "data": {
            "image/png": "[encoded data removed]",
            "text/plain": [
              "<Figure size 600x400 with 1 Axes>"
            ]
          },
          "metadata": {
            "tags": []
          }
        }
      ]
    },
    {
      "cell_type": "markdown",
      "metadata": {
        "id": "19UKcUiyp-qM"
      },
      "source": [
        "Overall there was a fight but in last 4 matches RR has won all. Therefore mark RR considering out analysis."
      ]
    },
    {
      "cell_type": "markdown",
      "metadata": {
        "id": "SixIaI0eqy-o"
      },
      "source": [
        "**Let's do Q2 now**\n",
        "\n",
        "**Finding BIM score for Buttler , SPD Smith and De Kock and comparing them**"
      ]
    },
    {
      "cell_type": "code",
      "metadata": {
        "id": "lTFe7lWKHyv2",
        "outputId": "5124fb8d-d604-4aa9-9d4e-82f6a6797378",
        "colab": {
          "base_uri": "https://localhost:8080/",
          "height": 1000
        }
      },
      "source": [
        "data_n = data.loc[data.bowling_team.isin(['Mumbai Indians'])]\n",
        "data_n = data_n.loc[data.batting_team.isin(['Rajasthan Royals'])]\n",
        "data_n.batsman.value_counts(ascending=False)"
      ],
      "execution_count": 19,
      "outputs": [
        {
          "output_type": "execute_result",
          "data": {
            "text/plain": [
              "AM Rahane          274\n",
              "SR Watson          262\n",
              "SV Samson          223\n",
              "SPD Smith          139\n",
              "BJ Hodge           112\n",
              "JC Buttler         106\n",
              "R Dravid           102\n",
              "STR Binny           89\n",
              "OA Shah             69\n",
              "YK Pathan           69\n",
              "DH Yagnik           62\n",
              "KK Nair             59\n",
              "SA Asnodkar         58\n",
              "RA Jadeja           56\n",
              "JP Faulkner         55\n",
              "GC Smith            50\n",
              "J Botha             45\n",
              "AL Menaria          42\n",
              "RJ Quiney           40\n",
              "AA Jhunjhunwala     34\n",
              "BA Stokes           31\n",
              "Niraj Patel         30\n",
              "P Dogra             30\n",
              "R Parag             29\n",
              "AC Voges            27\n",
              "M Kaif              23\n",
              "KK Cooper           21\n",
              "NV Ojha             21\n",
              "LRPL Taylor         19\n",
              "AP Dole             19\n",
              "AS Raut             17\n",
              "Kamran Akmal        16\n",
              "FY Fazal            16\n",
              "K Gowtham           12\n",
              "RA Tripathi         11\n",
              "UBT Chand           10\n",
              "J Archer             9\n",
              "SK Trivedi           9\n",
              "SD Chitnis           9\n",
              "SK Warne             9\n",
              "AD Mascarenhas       8\n",
              "S Gopal              7\n",
              "MJ Lumb              6\n",
              "Sohail Tanvir        6\n",
              "D Short              6\n",
              "DJ Hooda             6\n",
              "GB Hogg              5\n",
              "M Rawat              5\n",
              "TG Southee           5\n",
              "R Bhatia             4\n",
              "Ankit Sharma         4\n",
              "A Singh              3\n",
              "AA Chavan            2\n",
              "L Livingstone        2\n",
              "MM Patel             1\n",
              "A Uniyal             1\n",
              "A Turner             1\n",
              "J Theron             1\n",
              "SP Goswami           1\n",
              "H Klaasen            1\n",
              "Name: batsman, dtype: int64"
            ]
          },
          "metadata": {
            "tags": []
          },
          "execution_count": 19
        }
      ]
    },
    {
      "cell_type": "code",
      "metadata": {
        "id": "h-nRomZK9iQQ"
      },
      "source": [
        "data_b =  data_n.loc[data.batsman.isin(['JC Buttler'])]"
      ],
      "execution_count": 22,
      "outputs": []
    },
    {
      "cell_type": "code",
      "metadata": {
        "id": "GRXvcOMei-Pc",
        "outputId": "7c63407f-1a8b-4ecd-a9fd-eae9b707c77a",
        "colab": {
          "base_uri": "https://localhost:8080/",
          "height": 35
        }
      },
      "source": [
        "data_b.batsman_runs.sum()"
      ],
      "execution_count": 24,
      "outputs": [
        {
          "output_type": "execute_result",
          "data": {
            "text/plain": [
              "192"
            ]
          },
          "metadata": {
            "tags": []
          },
          "execution_count": 24
        }
      ]
    },
    {
      "cell_type": "code",
      "metadata": {
        "id": "mSFp4U1nu8yU",
        "outputId": "aab4da13-6866-48f7-c5f1-5e12cc091f3a",
        "colab": {
          "base_uri": "https://localhost:8080/",
          "height": 35
        }
      },
      "source": [
        "data_b.match_id.nunique()"
      ],
      "execution_count": 25,
      "outputs": [
        {
          "output_type": "execute_result",
          "data": {
            "text/plain": [
              "3"
            ]
          },
          "metadata": {
            "tags": []
          },
          "execution_count": 25
        }
      ]
    },
    {
      "cell_type": "code",
      "metadata": {
        "id": "v6umfrTQvBjV",
        "outputId": "2d3290b4-afba-43f9-a5c3-aa669abd2916",
        "colab": {
          "base_uri": "https://localhost:8080/",
          "height": 121
        }
      },
      "source": [
        "data_b.batsman_runs.value_counts()"
      ],
      "execution_count": 26,
      "outputs": [
        {
          "output_type": "execute_result",
          "data": {
            "text/plain": [
              "1    40\n",
              "0    31\n",
              "4    17\n",
              "6    12\n",
              "2     6\n",
              "Name: batsman_runs, dtype: int64"
            ]
          },
          "metadata": {
            "tags": []
          },
          "execution_count": 26
        }
      ]
    },
    {
      "cell_type": "code",
      "metadata": {
        "id": "hQFgn8OyvIrs",
        "outputId": "779e717e-a60b-4ead-fd40-4c1cacc6360b",
        "colab": {
          "base_uri": "https://localhost:8080/",
          "height": 35
        }
      },
      "source": [
        "data_b.over.value_counts().sum()"
      ],
      "execution_count": 28,
      "outputs": [
        {
          "output_type": "execute_result",
          "data": {
            "text/plain": [
              "106"
            ]
          },
          "metadata": {
            "tags": []
          },
          "execution_count": 28
        }
      ]
    },
    {
      "cell_type": "code",
      "metadata": {
        "id": "WbPit6dVw8P6",
        "outputId": "bd1ff168-6931-4591-9ceb-1c1055fbb66b",
        "colab": {
          "base_uri": "https://localhost:8080/",
          "height": 35
        }
      },
      "source": [
        "boundary_runs = (17*4) + (12*6)\n",
        "print(boundary_runs)"
      ],
      "execution_count": 49,
      "outputs": [
        {
          "output_type": "stream",
          "text": [
            "140\n"
          ],
          "name": "stdout"
        }
      ]
    },
    {
      "cell_type": "code",
      "metadata": {
        "id": "EjhZWyjKwzw0",
        "outputId": "67503b6e-5f80-4f5b-ba7a-1c906a06d38f",
        "colab": {
          "base_uri": "https://localhost:8080/",
          "height": 35
        }
      },
      "source": [
        "BIS_Score_Buttler = np.round((192+140)-(52*0.5)/140,2)\n",
        "print(BIS_Score_Buttler)\n"
      ],
      "execution_count": 52,
      "outputs": [
        {
          "output_type": "stream",
          "text": [
            "331.81\n"
          ],
          "name": "stdout"
        }
      ]
    },
    {
      "cell_type": "code",
      "metadata": {
        "id": "pRcESnvojTv6"
      },
      "source": [
        "data_ss = data_n.loc[data.batsman.isin(['SPD Smith'])]"
      ],
      "execution_count": 32,
      "outputs": []
    },
    {
      "cell_type": "code",
      "metadata": {
        "id": "hPh4tNQhvfFL",
        "outputId": "07743249-49e3-42e8-99e5-f223427fe63a",
        "colab": {
          "base_uri": "https://localhost:8080/",
          "height": 35
        }
      },
      "source": [
        "data_ss.match_id.nunique()"
      ],
      "execution_count": 33,
      "outputs": [
        {
          "output_type": "execute_result",
          "data": {
            "text/plain": [
              "4"
            ]
          },
          "metadata": {
            "tags": []
          },
          "execution_count": 33
        }
      ]
    },
    {
      "cell_type": "code",
      "metadata": {
        "id": "x6drGHhovhv3",
        "outputId": "9643c4a4-990a-4d77-ad96-b612190bbc02",
        "colab": {
          "base_uri": "https://localhost:8080/",
          "height": 35
        }
      },
      "source": [
        "data_ss.batsman_runs.sum()"
      ],
      "execution_count": 34,
      "outputs": [
        {
          "output_type": "execute_result",
          "data": {
            "text/plain": [
              "173"
            ]
          },
          "metadata": {
            "tags": []
          },
          "execution_count": 34
        }
      ]
    },
    {
      "cell_type": "code",
      "metadata": {
        "id": "986GH_vpvlvx",
        "outputId": "13ef6317-2081-4d7f-ec3d-fb5b70a888b9",
        "colab": {
          "base_uri": "https://localhost:8080/",
          "height": 139
        }
      },
      "source": [
        "data_ss.batsman_runs.value_counts()"
      ],
      "execution_count": 36,
      "outputs": [
        {
          "output_type": "execute_result",
          "data": {
            "text/plain": [
              "1    60\n",
              "0    43\n",
              "2    17\n",
              "4    16\n",
              "6     2\n",
              "3     1\n",
              "Name: batsman_runs, dtype: int64"
            ]
          },
          "metadata": {
            "tags": []
          },
          "execution_count": 36
        }
      ]
    },
    {
      "cell_type": "code",
      "metadata": {
        "id": "27o09Qpmjbjg",
        "outputId": "d0cb9163-4d24-4536-f2e1-3b72f2c06f42",
        "colab": {
          "base_uri": "https://localhost:8080/",
          "height": 35
        }
      },
      "source": [
        "data_ss.over.value_counts().sum()"
      ],
      "execution_count": 38,
      "outputs": [
        {
          "output_type": "execute_result",
          "data": {
            "text/plain": [
              "139"
            ]
          },
          "metadata": {
            "tags": []
          },
          "execution_count": 38
        }
      ]
    },
    {
      "cell_type": "code",
      "metadata": {
        "id": "jUC9iQN7xgCA",
        "outputId": "12da05bf-0c22-4647-8f36-bf683efa2d75",
        "colab": {
          "base_uri": "https://localhost:8080/",
          "height": 35
        }
      },
      "source": [
        "boundary_runs_smith = (16*4)+(6*2)\n",
        "print(boundary_runs_smith)"
      ],
      "execution_count": 56,
      "outputs": [
        {
          "output_type": "stream",
          "text": [
            "76\n"
          ],
          "name": "stdout"
        }
      ]
    },
    {
      "cell_type": "code",
      "metadata": {
        "id": "SWsGtbucysZX",
        "outputId": "fd796a19-6007-4f4c-c0f6-71cf1afa5423",
        "colab": {
          "base_uri": "https://localhost:8080/",
          "height": 35
        }
      },
      "source": [
        "BIS_Score_Smith = np.round((173+76)-(94*0.5)/139,2)\n",
        "print(BIS_Score_Smith)"
      ],
      "execution_count": 58,
      "outputs": [
        {
          "output_type": "stream",
          "text": [
            "248.66\n"
          ],
          "name": "stdout"
        }
      ]
    },
    {
      "cell_type": "code",
      "metadata": {
        "id": "KSRhEbpFv-8v",
        "outputId": "7958d1a1-b588-4b94-a531-669bc10c39e6",
        "colab": {
          "base_uri": "https://localhost:8080/",
          "height": 936
        }
      },
      "source": [
        "data_m = data.loc[data.batting_team.isin(['Mumbai Indians'])]\n",
        "data_m = data_m.loc[data.bowling_team.isin(['Rajasthan Royals'])]\n",
        "data_m.batsman.value_counts(ascending=False)"
      ],
      "execution_count": 65,
      "outputs": [
        {
          "output_type": "execute_result",
          "data": {
            "text/plain": [
              "SR Tendulkar       245\n",
              "KA Pollard         213\n",
              "RG Sharma          206\n",
              "AT Rayudu          177\n",
              "AS Yadav           126\n",
              "DR Smith           115\n",
              "Q de Kock          102\n",
              "ST Jayasuriya       99\n",
              "LMP Simmons         92\n",
              "CJ Anderson         84\n",
              "AP Tare             81\n",
              "KD Karthik          75\n",
              "YV Takawale         65\n",
              "Ishan Kishan        56\n",
              "HH Pandya           55\n",
              "MEK Hussey          53\n",
              "AM Nayar            52\n",
              "E Lewis             46\n",
              "SS Tiwary           45\n",
              "Harbhajan Singh     41\n",
              "JP Duminy           39\n",
              "RV Uthappa          33\n",
              "UBT Chand           31\n",
              "A Symonds           27\n",
              "PA Patel            25\n",
              "RE Levi             22\n",
              "SL Malinga          18\n",
              "GJ Maxwell          17\n",
              "DJ Jacobs           16\n",
              "BCJ Cutting         16\n",
              "TL Suman            16\n",
              "KH Pandya           16\n",
              "MG Johnson          16\n",
              "R Sathish           14\n",
              "AJ Finch            14\n",
              "DJ Bravo             9\n",
              "RT Ponting           9\n",
              "JEC Franklin         8\n",
              "AM Rahane            7\n",
              "MK Pandey            6\n",
              "R McLaren            5\n",
              "AG Murtaza           5\n",
              "DS Kulkarni          5\n",
              "R Dhawan             3\n",
              "RR Raje              2\n",
              "PP Ojha              1\n",
              "S Gopal              1\n",
              "M Markande           1\n",
              "C Nanda              1\n",
              "MJ McClenaghan       1\n",
              "J Suchith            1\n",
              "SM Pollock           1\n",
              "Name: batsman, dtype: int64"
            ]
          },
          "metadata": {
            "tags": []
          },
          "execution_count": 65
        }
      ]
    },
    {
      "cell_type": "code",
      "metadata": {
        "id": "-IWM1rCIjntQ"
      },
      "source": [
        "data_dk = data_m.loc[data.batsman.isin(['Q de Kock'])]"
      ],
      "execution_count": 42,
      "outputs": []
    },
    {
      "cell_type": "code",
      "metadata": {
        "id": "MpOaW6GDwJUm",
        "outputId": "89b08fa4-a2dc-4014-fce0-9afa52f33593",
        "colab": {
          "base_uri": "https://localhost:8080/",
          "height": 35
        }
      },
      "source": [
        "data_dk.batsman_runs.sum()"
      ],
      "execution_count": 43,
      "outputs": [
        {
          "output_type": "execute_result",
          "data": {
            "text/plain": [
              "150"
            ]
          },
          "metadata": {
            "tags": []
          },
          "execution_count": 43
        }
      ]
    },
    {
      "cell_type": "code",
      "metadata": {
        "id": "3CQYpE-QwL3X",
        "outputId": "772265da-5419-4134-b44b-d987959450bf",
        "colab": {
          "base_uri": "https://localhost:8080/",
          "height": 35
        }
      },
      "source": [
        "data_dk.match_id.nunique()"
      ],
      "execution_count": 44,
      "outputs": [
        {
          "output_type": "execute_result",
          "data": {
            "text/plain": [
              "2"
            ]
          },
          "metadata": {
            "tags": []
          },
          "execution_count": 44
        }
      ]
    },
    {
      "cell_type": "code",
      "metadata": {
        "id": "WD-rwgE_wRjI",
        "outputId": "fe26590d-92b0-48a8-ece4-28071c2b57b7",
        "colab": {
          "base_uri": "https://localhost:8080/",
          "height": 121
        }
      },
      "source": [
        "data_dk.batsman_runs.value_counts()"
      ],
      "execution_count": 45,
      "outputs": [
        {
          "output_type": "execute_result",
          "data": {
            "text/plain": [
              "1    44\n",
              "0    29\n",
              "4    12\n",
              "2    11\n",
              "6     6\n",
              "Name: batsman_runs, dtype: int64"
            ]
          },
          "metadata": {
            "tags": []
          },
          "execution_count": 45
        }
      ]
    },
    {
      "cell_type": "code",
      "metadata": {
        "id": "0U0Xq12fztYA",
        "outputId": "23af3d1a-42db-44c3-891f-91c29b4d2e1a",
        "colab": {
          "base_uri": "https://localhost:8080/",
          "height": 35
        }
      },
      "source": [
        "boundary_runs_dekock = (12*4)+(6*6)\n",
        "print(boundary_runs_dekock)"
      ],
      "execution_count": 59,
      "outputs": [
        {
          "output_type": "stream",
          "text": [
            "84\n"
          ],
          "name": "stdout"
        }
      ]
    },
    {
      "cell_type": "code",
      "metadata": {
        "id": "Zb61lXlIwYLs",
        "outputId": "7b658317-14c3-4fa7-a1f4-a08e6bdf9dda",
        "colab": {
          "base_uri": "https://localhost:8080/",
          "height": 35
        }
      },
      "source": [
        "data_dk.over.value_counts().sum()"
      ],
      "execution_count": 47,
      "outputs": [
        {
          "output_type": "execute_result",
          "data": {
            "text/plain": [
              "102"
            ]
          },
          "metadata": {
            "tags": []
          },
          "execution_count": 47
        }
      ]
    },
    {
      "cell_type": "code",
      "metadata": {
        "id": "pN6_FZkwznBH",
        "outputId": "fa42bf11-987f-49db-e489-8b6d98b15ddb",
        "colab": {
          "base_uri": "https://localhost:8080/",
          "height": 35
        }
      },
      "source": [
        "BIS_Score_Dekock = np.round((150+84)-(66*0.5)/102,2)\n",
        "print(BIS_Score_Dekock)"
      ],
      "execution_count": 60,
      "outputs": [
        {
          "output_type": "stream",
          "text": [
            "233.68\n"
          ],
          "name": "stdout"
        }
      ]
    },
    {
      "cell_type": "code",
      "metadata": {
        "id": "kHZ0OUSs0F1r",
        "outputId": "c0d170dc-fcde-4fde-9bf2-d493a45ff6e6",
        "colab": {
          "base_uri": "https://localhost:8080/",
          "height": 141
        }
      },
      "source": [
        "BIS = [['Jos Buttler',BIS_Score_Buttler], ['Steve Smith',BIS_Score_Smith ], ['De Kock',BIS_Score_Dekock  ]] \n",
        "BIS_Score = pd.DataFrame(BIS,columns = ['Player', 'BIS Score',])\n",
        "BIS_Score.head()"
      ],
      "execution_count": 61,
      "outputs": [
        {
          "output_type": "execute_result",
          "data": {
            "text/html": [
              "<div>\n",
              "<style scoped>\n",
              "    .dataframe tbody tr th:only-of-type {\n",
              "        vertical-align: middle;\n",
              "    }\n",
              "\n",
              "    .dataframe tbody tr th {\n",
              "        vertical-align: top;\n",
              "    }\n",
              "\n",
              "    .dataframe thead th {\n",
              "        text-align: right;\n",
              "    }\n",
              "</style>\n",
              "<table border=\"1\" class=\"dataframe\">\n",
              "  <thead>\n",
              "    <tr style=\"text-align: right;\">\n",
              "      <th></th>\n",
              "      <th>Player</th>\n",
              "      <th>BIS Score</th>\n",
              "    </tr>\n",
              "  </thead>\n",
              "  <tbody>\n",
              "    <tr>\n",
              "      <th>0</th>\n",
              "      <td>Jos Buttler</td>\n",
              "      <td>331.81</td>\n",
              "    </tr>\n",
              "    <tr>\n",
              "      <th>1</th>\n",
              "      <td>Steve Smith</td>\n",
              "      <td>248.66</td>\n",
              "    </tr>\n",
              "    <tr>\n",
              "      <th>2</th>\n",
              "      <td>De Kock</td>\n",
              "      <td>233.68</td>\n",
              "    </tr>\n",
              "  </tbody>\n",
              "</table>\n",
              "</div>"
            ],
            "text/plain": [
              "        Player  BIS Score\n",
              "0  Jos Buttler     331.81\n",
              "1  Steve Smith     248.66\n",
              "2      De Kock     233.68"
            ]
          },
          "metadata": {
            "tags": []
          },
          "execution_count": 61
        }
      ]
    },
    {
      "cell_type": "code",
      "metadata": {
        "id": "u4WJ0xqL0p_S",
        "outputId": "318cfdf1-eae6-4661-a47a-79cdd0d29428",
        "colab": {
          "base_uri": "https://localhost:8080/",
          "height": 404
        }
      },
      "source": [
        "fig= plt.figure(dpi=100)\n",
        "sns.barplot(x=BIS_Score['Player'],y=BIS_Score['BIS Score'])\n",
        "plt.title('BIS Score Comparison')\n",
        "plt.show()"
      ],
      "execution_count": 62,
      "outputs": [
        {
          "output_type": "display_data",
          "data": {
            "image/png": "[encoded data removed]",
            "text/plain": [
              "<Figure size 600x400 with 1 Axes>"
            ]
          },
          "metadata": {
            "tags": []
          }
        }
      ]
    },
    {
      "cell_type": "markdown",
      "metadata": {
        "id": "m7Lrh9FTPDo3"
      },
      "source": [
        "Well as Jos Buttler is not in first 3 options, let's mark others for this."
      ]
    },
    {
      "cell_type": "markdown",
      "metadata": {
        "id": "Q0Xco_vdrYuW"
      },
      "source": [
        "**For Q3, Let's find boundaries/runs ratio for Buttler,Pandya and Pollard**\n",
        "\n"
      ]
    },
    {
      "cell_type": "code",
      "metadata": {
        "id": "EWSCYDNcjt3f",
        "outputId": "42a59e5f-c88e-42b0-e5d1-179b191c101e",
        "colab": {
          "base_uri": "https://localhost:8080/",
          "height": 35
        }
      },
      "source": [
        "buttler_ratio = np.round(140/192*100,2)\n",
        "print(buttler_ratio)"
      ],
      "execution_count": 64,
      "outputs": [
        {
          "output_type": "stream",
          "text": [
            "72.92\n"
          ],
          "name": "stdout"
        }
      ]
    },
    {
      "cell_type": "code",
      "metadata": {
        "id": "Tn6F4C9eaxt7"
      },
      "source": [
        "data_hp = data_m.loc[data.batsman.isin(['HH Pandya'])]"
      ],
      "execution_count": 67,
      "outputs": []
    },
    {
      "cell_type": "code",
      "metadata": {
        "id": "l4lE4HGX7XZf",
        "outputId": "d7b6f4e7-dc49-4104-fb1f-ed9dea182652",
        "colab": {
          "base_uri": "https://localhost:8080/",
          "height": 35
        }
      },
      "source": [
        "data_hp.batsman_runs.sum()"
      ],
      "execution_count": 68,
      "outputs": [
        {
          "output_type": "execute_result",
          "data": {
            "text/plain": [
              "97"
            ]
          },
          "metadata": {
            "tags": []
          },
          "execution_count": 68
        }
      ]
    },
    {
      "cell_type": "code",
      "metadata": {
        "id": "FtIIidws7baO",
        "outputId": "dc6a25a5-2bcf-4b9d-fb43-66db1e4ad80f",
        "colab": {
          "base_uri": "https://localhost:8080/",
          "height": 121
        }
      },
      "source": [
        "data_hp.total_runs.value_counts()"
      ],
      "execution_count": 69,
      "outputs": [
        {
          "output_type": "execute_result",
          "data": {
            "text/plain": [
              "1    19\n",
              "0    13\n",
              "2    10\n",
              "4     7\n",
              "6     6\n",
              "Name: total_runs, dtype: int64"
            ]
          },
          "metadata": {
            "tags": []
          },
          "execution_count": 69
        }
      ]
    },
    {
      "cell_type": "code",
      "metadata": {
        "id": "2AMQvNlc8sGW",
        "outputId": "38e96d33-57fe-4378-f04a-7f1356c38e8c",
        "colab": {
          "base_uri": "https://localhost:8080/",
          "height": 35
        }
      },
      "source": [
        "hardik_boundary = (4*7)+(6*6)\n",
        "print(hardik_boundary)"
      ],
      "execution_count": 84,
      "outputs": [
        {
          "output_type": "stream",
          "text": [
            "64\n"
          ],
          "name": "stdout"
        }
      ]
    },
    {
      "cell_type": "code",
      "metadata": {
        "id": "TD_WWxnO7iYU",
        "outputId": "763350d1-15de-438e-a559-5ae2127b5d71",
        "colab": {
          "base_uri": "https://localhost:8080/",
          "height": 35
        }
      },
      "source": [
        "hardik_ratio = np.round(64/97*100,2)\n",
        "print(hardik_ratio)"
      ],
      "execution_count": 85,
      "outputs": [
        {
          "output_type": "stream",
          "text": [
            "65.98\n"
          ],
          "name": "stdout"
        }
      ]
    },
    {
      "cell_type": "code",
      "metadata": {
        "id": "bhQF4HEP70Xl"
      },
      "source": [
        "data_kp = data_m.loc[data.batsman.isin(['KA Pollard'])]"
      ],
      "execution_count": 74,
      "outputs": []
    },
    {
      "cell_type": "code",
      "metadata": {
        "id": "FcNDqzCo78kh",
        "outputId": "de912db8-b7ec-4958-aff8-a28eca5123f4",
        "colab": {
          "base_uri": "https://localhost:8080/",
          "height": 35
        }
      },
      "source": [
        "data_kp.batsman_runs.sum()"
      ],
      "execution_count": 78,
      "outputs": [
        {
          "output_type": "execute_result",
          "data": {
            "text/plain": [
              "295"
            ]
          },
          "metadata": {
            "tags": []
          },
          "execution_count": 78
        }
      ]
    },
    {
      "cell_type": "code",
      "metadata": {
        "id": "E7uf5Fzg7_Vg",
        "outputId": "f3664e77-6b84-418d-9002-ba40c7580a67",
        "colab": {
          "base_uri": "https://localhost:8080/",
          "height": 139
        }
      },
      "source": [
        "data_kp.total_runs.value_counts()"
      ],
      "execution_count": 79,
      "outputs": [
        {
          "output_type": "execute_result",
          "data": {
            "text/plain": [
              "1    88\n",
              "0    69\n",
              "4    21\n",
              "6    17\n",
              "2    17\n",
              "5     1\n",
              "Name: total_runs, dtype: int64"
            ]
          },
          "metadata": {
            "tags": []
          },
          "execution_count": 79
        }
      ]
    },
    {
      "cell_type": "code",
      "metadata": {
        "id": "YkXIWuDH85ep",
        "outputId": "f69d684a-e47e-48bb-d9aa-3c4027306baa",
        "colab": {
          "base_uri": "https://localhost:8080/",
          "height": 35
        }
      },
      "source": [
        "pollard_boundary = (4*21)+(6*17)\n",
        "print(pollard_boundary)"
      ],
      "execution_count": 86,
      "outputs": [
        {
          "output_type": "stream",
          "text": [
            "186\n"
          ],
          "name": "stdout"
        }
      ]
    },
    {
      "cell_type": "code",
      "metadata": {
        "id": "DQUNTzceeDKK",
        "outputId": "b83e3354-1b39-4237-b28b-a3f3ea1cf8af",
        "colab": {
          "base_uri": "https://localhost:8080/",
          "height": 35
        }
      },
      "source": [
        "pollard_ratio = np.round(186/295*100,2)\n",
        "print(pollard_ratio)"
      ],
      "execution_count": 87,
      "outputs": [
        {
          "output_type": "stream",
          "text": [
            "63.05\n"
          ],
          "name": "stdout"
        }
      ]
    },
    {
      "cell_type": "markdown",
      "metadata": {
        "id": "TcjcgbgMlgPD"
      },
      "source": [
        "Clearly here also Buttler has best ratio of boundaries runs/total runs.\n",
        "\n",
        "Let's mark others"
      ]
    },
    {
      "cell_type": "markdown",
      "metadata": {
        "id": "MX2NNUNNVMCK"
      },
      "source": [
        "**Let's do Q4**\n",
        "\n",
        "**Let's find Balls taken to score 100 runs by MI and RR each**"
      ]
    },
    {
      "cell_type": "code",
      "metadata": {
        "id": "z7Fwvut_-DZZ"
      },
      "source": [
        "data_btrr = data_n.loc[(data_n.over<=13)] # RR runs in first 13 overs v MI"
      ],
      "execution_count": 103,
      "outputs": []
    },
    {
      "cell_type": "code",
      "metadata": {
        "id": "BcsUyr8G-NB5",
        "outputId": "cbef984c-c95f-4d60-a649-2adfeac261a3",
        "colab": {
          "base_uri": "https://localhost:8080/",
          "height": 35
        }
      },
      "source": [
        "data_btrr.total_runs.sum()"
      ],
      "execution_count": 104,
      "outputs": [
        {
          "output_type": "execute_result",
          "data": {
            "text/plain": [
              "2040"
            ]
          },
          "metadata": {
            "tags": []
          },
          "execution_count": 104
        }
      ]
    },
    {
      "cell_type": "code",
      "metadata": {
        "id": "D8DbFuHP-Pg4",
        "outputId": "c5f3e9b8-488e-428a-bea1-f35fac7fb4bd",
        "colab": {
          "base_uri": "https://localhost:8080/",
          "height": 35
        }
      },
      "source": [
        "data_btrr.match_id.nunique()"
      ],
      "execution_count": 105,
      "outputs": [
        {
          "output_type": "execute_result",
          "data": {
            "text/plain": [
              "20"
            ]
          },
          "metadata": {
            "tags": []
          },
          "execution_count": 105
        }
      ]
    },
    {
      "cell_type": "code",
      "metadata": {
        "id": "j51LLGNZ-Tx-",
        "outputId": "3451fdaa-b25e-4b24-cf13-03fc33738716",
        "colab": {
          "base_uri": "https://localhost:8080/",
          "height": 35
        }
      },
      "source": [
        "np.round(2040/20,2) # Average runs scored in first 13 overs"
      ],
      "execution_count": 106,
      "outputs": [
        {
          "output_type": "execute_result",
          "data": {
            "text/plain": [
              "102.0"
            ]
          },
          "metadata": {
            "tags": []
          },
          "execution_count": 106
        }
      ]
    },
    {
      "cell_type": "code",
      "metadata": {
        "id": "f1W9kj1R-6tp"
      },
      "source": [
        "data_btmi = data_m.loc[data_m.over<=13] # MI runs in first 13 overs v RR"
      ],
      "execution_count": 122,
      "outputs": []
    },
    {
      "cell_type": "code",
      "metadata": {
        "id": "iUdcRL2dngJk",
        "outputId": "73cfbfc7-7493-48f8-e09e-c33723ce6680",
        "colab": {
          "base_uri": "https://localhost:8080/",
          "height": 35
        }
      },
      "source": [
        "data_btmi.total_runs.sum()"
      ],
      "execution_count": 123,
      "outputs": [
        {
          "output_type": "execute_result",
          "data": {
            "text/plain": [
              "1999"
            ]
          },
          "metadata": {
            "tags": []
          },
          "execution_count": 123
        }
      ]
    },
    {
      "cell_type": "code",
      "metadata": {
        "id": "4aigZ2_m_RNU",
        "outputId": "284afc82-b229-4107-bfe2-50d9719d0225",
        "colab": {
          "base_uri": "https://localhost:8080/",
          "height": 35
        }
      },
      "source": [
        "np.round(1999/20,2)"
      ],
      "execution_count": 124,
      "outputs": [
        {
          "output_type": "execute_result",
          "data": {
            "text/plain": [
              "99.95"
            ]
          },
          "metadata": {
            "tags": []
          },
          "execution_count": 124
        }
      ]
    },
    {
      "cell_type": "markdown",
      "metadata": {
        "id": "vZEFdI9GoTiN"
      },
      "source": [
        "Well Its clear that they too less than 10 balls on an average more or less to score 100 runs"
      ]
    },
    {
      "cell_type": "markdown",
      "metadata": {
        "id": "uWo7_DlCXew3"
      },
      "source": [
        "**Let's do Q5 now**\n",
        "\n",
        "**Let's find BLS for Bumrah Archer**"
      ]
    },
    {
      "cell_type": "code",
      "metadata": {
        "id": "t0Twq8yrpN0a"
      },
      "source": [
        "data_ja = data_m.loc[data.bowler.isin(['J Archer'])]"
      ],
      "execution_count": 129,
      "outputs": []
    },
    {
      "cell_type": "code",
      "metadata": {
        "id": "2Le9XuAXoH7c",
        "outputId": "87ceeefb-f62e-4556-a921-d2d005f27715",
        "colab": {
          "base_uri": "https://localhost:8080/",
          "height": 156
        }
      },
      "source": [
        "data_ja.player_dismissed.value_counts()"
      ],
      "execution_count": 130,
      "outputs": [
        {
          "output_type": "execute_result",
          "data": {
            "text/plain": [
              "HH Pandya         2\n",
              "RG Sharma         2\n",
              "KA Pollard        1\n",
              "MJ McClenaghan    1\n",
              "AS Yadav          1\n",
              "Q de Kock         1\n",
              "KH Pandya         1\n",
              "Name: player_dismissed, dtype: int64"
            ]
          },
          "metadata": {
            "tags": []
          },
          "execution_count": 130
        }
      ]
    },
    {
      "cell_type": "code",
      "metadata": {
        "id": "r4BQIzKeAi1T",
        "outputId": "39aa417c-479d-444e-e6fe-7d9331bfe4f9",
        "colab": {
          "base_uri": "https://localhost:8080/",
          "height": 87
        }
      },
      "source": [
        "data_ja.dismissal_kind.value_counts()"
      ],
      "execution_count": 131,
      "outputs": [
        {
          "output_type": "execute_result",
          "data": {
            "text/plain": [
              "caught    6\n",
              "bowled    2\n",
              "lbw       1\n",
              "Name: dismissal_kind, dtype: int64"
            ]
          },
          "metadata": {
            "tags": []
          },
          "execution_count": 131
        }
      ]
    },
    {
      "cell_type": "code",
      "metadata": {
        "id": "bcvBKjnXodU4",
        "outputId": "1f4795f0-a8b1-417d-8198-59aefbf71cd2",
        "colab": {
          "base_uri": "https://localhost:8080/",
          "height": 35
        }
      },
      "source": [
        "data_ja.over.value_counts().sum()"
      ],
      "execution_count": 151,
      "outputs": [
        {
          "output_type": "execute_result",
          "data": {
            "text/plain": [
              "100"
            ]
          },
          "metadata": {
            "tags": []
          },
          "execution_count": 151
        }
      ]
    },
    {
      "cell_type": "code",
      "metadata": {
        "id": "mM_N9WVQAs2b",
        "outputId": "93db165d-4719-4add-8b68-9b22f80bb6ad",
        "colab": {
          "base_uri": "https://localhost:8080/",
          "height": 139
        }
      },
      "source": [
        "data_ja.total_runs.value_counts()"
      ],
      "execution_count": 142,
      "outputs": [
        {
          "output_type": "execute_result",
          "data": {
            "text/plain": [
              "0    45\n",
              "1    30\n",
              "2    13\n",
              "4     8\n",
              "6     3\n",
              "3     1\n",
              "Name: total_runs, dtype: int64"
            ]
          },
          "metadata": {
            "tags": []
          },
          "execution_count": 142
        }
      ]
    },
    {
      "cell_type": "code",
      "metadata": {
        "id": "bteFfnnbpN2c"
      },
      "source": [
        "data_jb = data_n.loc[data.bowler.isin(['JJ Bumrah'])]"
      ],
      "execution_count": 138,
      "outputs": []
    },
    {
      "cell_type": "code",
      "metadata": {
        "id": "bEZdfnwqBAG8",
        "outputId": "223c77b2-e2a2-4263-8676-b29c54df1b75",
        "colab": {
          "base_uri": "https://localhost:8080/",
          "height": 156
        }
      },
      "source": [
        "data_jb.total_runs.value_counts()"
      ],
      "execution_count": 139,
      "outputs": [
        {
          "output_type": "execute_result",
          "data": {
            "text/plain": [
              "1     54\n",
              "0     51\n",
              "4     15\n",
              "2     12\n",
              "6      3\n",
              "10     1\n",
              "3      1\n",
              "Name: total_runs, dtype: int64"
            ]
          },
          "metadata": {
            "tags": []
          },
          "execution_count": 139
        }
      ]
    },
    {
      "cell_type": "code",
      "metadata": {
        "id": "LB_QIl_AsHWG",
        "outputId": "2ab822e8-70de-4e68-a032-344cf6b3b279",
        "colab": {
          "base_uri": "https://localhost:8080/",
          "height": 87
        }
      },
      "source": [
        "data_jb.dismissal_kind.value_counts()"
      ],
      "execution_count": 140,
      "outputs": [
        {
          "output_type": "execute_result",
          "data": {
            "text/plain": [
              "caught    4\n",
              "lbw       2\n",
              "bowled    1\n",
              "Name: dismissal_kind, dtype: int64"
            ]
          },
          "metadata": {
            "tags": []
          },
          "execution_count": 140
        }
      ]
    },
    {
      "cell_type": "code",
      "metadata": {
        "id": "Ni0AUcoGBSiT",
        "outputId": "5ec2a205-6abb-4a02-ce5e-d41c3048ecef",
        "colab": {
          "base_uri": "https://localhost:8080/",
          "height": 35
        }
      },
      "source": [
        "data_jb.over.value_counts().sum()"
      ],
      "execution_count": 141,
      "outputs": [
        {
          "output_type": "execute_result",
          "data": {
            "text/plain": [
              "137"
            ]
          },
          "metadata": {
            "tags": []
          },
          "execution_count": 141
        }
      ]
    },
    {
      "cell_type": "code",
      "metadata": {
        "id": "_fyvZuWjBZ39",
        "outputId": "ba7b1145-5e9d-4426-ac34-81d2a3aa6299",
        "colab": {
          "base_uri": "https://localhost:8080/",
          "height": 35
        }
      },
      "source": [
        "(9+45*2) - (50/11)"
      ],
      "execution_count": 143,
      "outputs": [
        {
          "output_type": "execute_result",
          "data": {
            "text/plain": [
              "94.45454545454545"
            ]
          },
          "metadata": {
            "tags": []
          },
          "execution_count": 143
        }
      ]
    },
    {
      "cell_type": "code",
      "metadata": {
        "id": "6VO2hDqpCEe7",
        "outputId": "8e1c3791-ace6-4c63-bf85-bb0243b88af0",
        "colab": {
          "base_uri": "https://localhost:8080/",
          "height": 35
        }
      },
      "source": [
        "100 - (45*2.5)"
      ],
      "execution_count": 148,
      "outputs": [
        {
          "output_type": "execute_result",
          "data": {
            "text/plain": [
              "-12.5"
            ]
          },
          "metadata": {
            "tags": []
          },
          "execution_count": 148
        }
      ]
    },
    {
      "cell_type": "code",
      "metadata": {
        "id": "fL8BgVuJCVBK",
        "outputId": "03ba0e71-18bc-4269-e5a0-279578a23697",
        "colab": {
          "base_uri": "https://localhost:8080/",
          "height": 35
        }
      },
      "source": [
        "BLS_Archer = (94.45/-12.5)\n",
        "print(BLS_Archer)"
      ],
      "execution_count": 146,
      "outputs": [
        {
          "output_type": "stream",
          "text": [
            "-7.556\n"
          ],
          "name": "stdout"
        }
      ]
    },
    {
      "cell_type": "code",
      "metadata": {
        "id": "jp-aAFVCCzHm",
        "outputId": "4d388911-1479-4db0-957d-5608e8001534",
        "colab": {
          "base_uri": "https://localhost:8080/",
          "height": 35
        }
      },
      "source": [
        "(7+54*2)-(78/18)"
      ],
      "execution_count": 147,
      "outputs": [
        {
          "output_type": "execute_result",
          "data": {
            "text/plain": [
              "110.66666666666667"
            ]
          },
          "metadata": {
            "tags": []
          },
          "execution_count": 147
        }
      ]
    },
    {
      "cell_type": "code",
      "metadata": {
        "id": "u6sS-ApqC-Yr",
        "outputId": "d9884a96-1251-4a36-86ad-f3dd83d6355c",
        "colab": {
          "base_uri": "https://localhost:8080/",
          "height": 35
        }
      },
      "source": [
        "137-51*2.5"
      ],
      "execution_count": 149,
      "outputs": [
        {
          "output_type": "execute_result",
          "data": {
            "text/plain": [
              "9.5"
            ]
          },
          "metadata": {
            "tags": []
          },
          "execution_count": 149
        }
      ]
    },
    {
      "cell_type": "code",
      "metadata": {
        "id": "gOlZ3rWRDORu",
        "outputId": "f2f160fd-aaa3-443d-8056-c866c587d9b4",
        "colab": {
          "base_uri": "https://localhost:8080/",
          "height": 35
        }
      },
      "source": [
        "110.66/9.5"
      ],
      "execution_count": 150,
      "outputs": [
        {
          "output_type": "execute_result",
          "data": {
            "text/plain": [
              "11.648421052631578"
            ]
          },
          "metadata": {
            "tags": []
          },
          "execution_count": 150
        }
      ]
    },
    {
      "cell_type": "markdown",
      "metadata": {
        "id": "Vf9roBc_sKjL"
      },
      "source": [
        "Let's mark Archer considering our analysis"
      ]
    },
    {
      "cell_type": "markdown",
      "metadata": {
        "id": "U0qAE79f0tAQ"
      },
      "source": [
        "Thank You again for this amazing internship.\n",
        "\n",
        "Looking forward to it tomorrow.\n",
        "\n",
        "Regards,\n",
        "\n",
        "Ashaab Rizvi\n",
        "\n"
      ]
    }
  ]
}