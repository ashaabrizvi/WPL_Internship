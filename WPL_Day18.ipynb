{
  "nbformat": 4,
  "nbformat_minor": 0,
  "metadata": {
    "colab": {
      "name": "WPL_Day18.ipynb",
      "provenance": []
    },
    "kernelspec": {
      "name": "python3",
      "display_name": "Python 3"
    }
  },
  "cells": [
    {
      "cell_type": "code",
      "metadata": {
        "id": "atP2KdI4X2Bh",
        "outputId": "ad4b7c33-e429-4f65-c89e-6ca2973ebc0f",
        "colab": {
          "base_uri": "https://localhost:8080/",
          "height": 35
        }
      },
      "source": [
        "from google.colab import drive\n",
        "drive.mount('/content/gdrive')"
      ],
      "execution_count": 1,
      "outputs": [
        {
          "output_type": "stream",
          "text": [
            "Mounted at /content/gdrive\n"
          ],
          "name": "stdout"
        }
      ]
    },
    {
      "cell_type": "code",
      "metadata": {
        "id": "-dV6pKFqX73s"
      },
      "source": [
        "import os\n",
        "os.environ['KAGGLE_CONFIG_DIR'] = \"/content/gdrive/My Drive/Kaggle\""
      ],
      "execution_count": 2,
      "outputs": []
    },
    {
      "cell_type": "code",
      "metadata": {
        "id": "SAmfc_O-YIeD",
        "outputId": "d371328b-2c6b-4697-ac92-31a162c594b0",
        "colab": {
          "base_uri": "https://localhost:8080/",
          "height": 35
        }
      },
      "source": [
        "%cd /content/gdrive/My Drive/Kaggle"
      ],
      "execution_count": 3,
      "outputs": [
        {
          "output_type": "stream",
          "text": [
            "/content/gdrive/My Drive/Kaggle\n"
          ],
          "name": "stdout"
        }
      ]
    },
    {
      "cell_type": "code",
      "metadata": {
        "id": "qmc0lzmpYLFO",
        "outputId": "5d779212-c54c-43f5-941e-4860cb2b77db",
        "colab": {
          "base_uri": "https://localhost:8080/",
          "height": 69
        }
      },
      "source": [
        "!kaggle datasets download -d nowke9/ipldata"
      ],
      "execution_count": 4,
      "outputs": [
        {
          "output_type": "stream",
          "text": [
            "Downloading ipldata.zip to /content/gdrive/My Drive/Kaggle\n",
            "\r  0% 0.00/1.20M [00:00<?, ?B/s]\n",
            "\r100% 1.20M/1.20M [00:00<00:00, 38.7MB/s]\n"
          ],
          "name": "stdout"
        }
      ]
    },
    {
      "cell_type": "code",
      "metadata": {
        "id": "zRWPQny7YfCm",
        "outputId": "b3d0090c-4a77-4bcf-ba9b-55a259e812e8",
        "colab": {
          "base_uri": "https://localhost:8080/",
          "height": 35
        }
      },
      "source": [
        "!ls"
      ],
      "execution_count": 5,
      "outputs": [
        {
          "output_type": "stream",
          "text": [
            "deliveries.csv\tipldata.zip  kaggle.json  matches.csv\n"
          ],
          "name": "stdout"
        }
      ]
    },
    {
      "cell_type": "code",
      "metadata": {
        "id": "cFT6X2SVYp-g",
        "outputId": "7487274d-3e85-49ab-d47c-d1317bb2bd30",
        "colab": {
          "base_uri": "https://localhost:8080/",
          "height": 69
        }
      },
      "source": [
        "!unzip \\*.zip  && rm *.zip"
      ],
      "execution_count": 6,
      "outputs": [
        {
          "output_type": "stream",
          "text": [
            "Archive:  ipldata.zip\n",
            "replace deliveries.csv? [y]es, [n]o, [A]ll, [N]one, [r]ename: n\n",
            "replace matches.csv? [y]es, [n]o, [A]ll, [N]one, [r]ename: n\n"
          ],
          "name": "stdout"
        }
      ]
    },
    {
      "cell_type": "code",
      "metadata": {
        "id": "WPXS8VygY5qv"
      },
      "source": [
        "import pandas as pd\n",
        "import numpy as np\n",
        "import matplotlib.pyplot as plt\n",
        "import seaborn as sns\n",
        "sns.set_style(style='darkgrid')"
      ],
      "execution_count": 7,
      "outputs": []
    },
    {
      "cell_type": "code",
      "metadata": {
        "id": "eYoL_cUeZCkQ",
        "outputId": "c7b366fb-4a3b-4536-8420-533455e08956",
        "colab": {
          "base_uri": "https://localhost:8080/",
          "height": 395
        }
      },
      "source": [
        "data=pd.read_csv('deliveries.csv')\n",
        "data.head()"
      ],
      "execution_count": 8,
      "outputs": [
        {
          "output_type": "execute_result",
          "data": {
            "text/html": [
              "<div>\n",
              "<style scoped>\n",
              "    .dataframe tbody tr th:only-of-type {\n",
              "        vertical-align: middle;\n",
              "    }\n",
              "\n",
              "    .dataframe tbody tr th {\n",
              "        vertical-align: top;\n",
              "    }\n",
              "\n",
              "    .dataframe thead th {\n",
              "        text-align: right;\n",
              "    }\n",
              "</style>\n",
              "<table border=\"1\" class=\"dataframe\">\n",
              "  <thead>\n",
              "    <tr style=\"text-align: right;\">\n",
              "      <th></th>\n",
              "      <th>match_id</th>\n",
              "      <th>inning</th>\n",
              "      <th>batting_team</th>\n",
              "      <th>bowling_team</th>\n",
              "      <th>over</th>\n",
              "      <th>ball</th>\n",
              "      <th>batsman</th>\n",
              "      <th>non_striker</th>\n",
              "      <th>bowler</th>\n",
              "      <th>is_super_over</th>\n",
              "      <th>wide_runs</th>\n",
              "      <th>bye_runs</th>\n",
              "      <th>legbye_runs</th>\n",
              "      <th>noball_runs</th>\n",
              "      <th>penalty_runs</th>\n",
              "      <th>batsman_runs</th>\n",
              "      <th>extra_runs</th>\n",
              "      <th>total_runs</th>\n",
              "      <th>player_dismissed</th>\n",
              "      <th>dismissal_kind</th>\n",
              "      <th>fielder</th>\n",
              "    </tr>\n",
              "  </thead>\n",
              "  <tbody>\n",
              "    <tr>\n",
              "      <th>0</th>\n",
              "      <td>1</td>\n",
              "      <td>1</td>\n",
              "      <td>Sunrisers Hyderabad</td>\n",
              "      <td>Royal Challengers Bangalore</td>\n",
              "      <td>1</td>\n",
              "      <td>1</td>\n",
              "      <td>DA Warner</td>\n",
              "      <td>S Dhawan</td>\n",
              "      <td>TS Mills</td>\n",
              "      <td>0</td>\n",
              "      <td>0</td>\n",
              "      <td>0</td>\n",
              "      <td>0</td>\n",
              "      <td>0</td>\n",
              "      <td>0</td>\n",
              "      <td>0</td>\n",
              "      <td>0</td>\n",
              "      <td>0</td>\n",
              "      <td>NaN</td>\n",
              "      <td>NaN</td>\n",
              "      <td>NaN</td>\n",
              "    </tr>\n",
              "    <tr>\n",
              "      <th>1</th>\n",
              "      <td>1</td>\n",
              "      <td>1</td>\n",
              "      <td>Sunrisers Hyderabad</td>\n",
              "      <td>Royal Challengers Bangalore</td>\n",
              "      <td>1</td>\n",
              "      <td>2</td>\n",
              "      <td>DA Warner</td>\n",
              "      <td>S Dhawan</td>\n",
              "      <td>TS Mills</td>\n",
              "      <td>0</td>\n",
              "      <td>0</td>\n",
              "      <td>0</td>\n",
              "      <td>0</td>\n",
              "      <td>0</td>\n",
              "      <td>0</td>\n",
              "      <td>0</td>\n",
              "      <td>0</td>\n",
              "      <td>0</td>\n",
              "      <td>NaN</td>\n",
              "      <td>NaN</td>\n",
              "      <td>NaN</td>\n",
              "    </tr>\n",
              "    <tr>\n",
              "      <th>2</th>\n",
              "      <td>1</td>\n",
              "      <td>1</td>\n",
              "      <td>Sunrisers Hyderabad</td>\n",
              "      <td>Royal Challengers Bangalore</td>\n",
              "      <td>1</td>\n",
              "      <td>3</td>\n",
              "      <td>DA Warner</td>\n",
              "      <td>S Dhawan</td>\n",
              "      <td>TS Mills</td>\n",
              "      <td>0</td>\n",
              "      <td>0</td>\n",
              "      <td>0</td>\n",
              "      <td>0</td>\n",
              "      <td>0</td>\n",
              "      <td>0</td>\n",
              "      <td>4</td>\n",
              "      <td>0</td>\n",
              "      <td>4</td>\n",
              "      <td>NaN</td>\n",
              "      <td>NaN</td>\n",
              "      <td>NaN</td>\n",
              "    </tr>\n",
              "    <tr>\n",
              "      <th>3</th>\n",
              "      <td>1</td>\n",
              "      <td>1</td>\n",
              "      <td>Sunrisers Hyderabad</td>\n",
              "      <td>Royal Challengers Bangalore</td>\n",
              "      <td>1</td>\n",
              "      <td>4</td>\n",
              "      <td>DA Warner</td>\n",
              "      <td>S Dhawan</td>\n",
              "      <td>TS Mills</td>\n",
              "      <td>0</td>\n",
              "      <td>0</td>\n",
              "      <td>0</td>\n",
              "      <td>0</td>\n",
              "      <td>0</td>\n",
              "      <td>0</td>\n",
              "      <td>0</td>\n",
              "      <td>0</td>\n",
              "      <td>0</td>\n",
              "      <td>NaN</td>\n",
              "      <td>NaN</td>\n",
              "      <td>NaN</td>\n",
              "    </tr>\n",
              "    <tr>\n",
              "      <th>4</th>\n",
              "      <td>1</td>\n",
              "      <td>1</td>\n",
              "      <td>Sunrisers Hyderabad</td>\n",
              "      <td>Royal Challengers Bangalore</td>\n",
              "      <td>1</td>\n",
              "      <td>5</td>\n",
              "      <td>DA Warner</td>\n",
              "      <td>S Dhawan</td>\n",
              "      <td>TS Mills</td>\n",
              "      <td>0</td>\n",
              "      <td>2</td>\n",
              "      <td>0</td>\n",
              "      <td>0</td>\n",
              "      <td>0</td>\n",
              "      <td>0</td>\n",
              "      <td>0</td>\n",
              "      <td>2</td>\n",
              "      <td>2</td>\n",
              "      <td>NaN</td>\n",
              "      <td>NaN</td>\n",
              "      <td>NaN</td>\n",
              "    </tr>\n",
              "  </tbody>\n",
              "</table>\n",
              "</div>"
            ],
            "text/plain": [
              "   match_id  inning  ... dismissal_kind fielder\n",
              "0         1       1  ...            NaN     NaN\n",
              "1         1       1  ...            NaN     NaN\n",
              "2         1       1  ...            NaN     NaN\n",
              "3         1       1  ...            NaN     NaN\n",
              "4         1       1  ...            NaN     NaN\n",
              "\n",
              "[5 rows x 21 columns]"
            ]
          },
          "metadata": {
            "tags": []
          },
          "execution_count": 8
        }
      ]
    },
    {
      "cell_type": "code",
      "metadata": {
        "id": "j-EEPN7pZVj5",
        "outputId": "d6d456e9-3c97-4883-d3ea-61bbb535ebff",
        "colab": {
          "base_uri": "https://localhost:8080/",
          "height": 447
        }
      },
      "source": [
        "data2= pd.read_csv('matches.csv')\n",
        "data2.head()"
      ],
      "execution_count": 9,
      "outputs": [
        {
          "output_type": "execute_result",
          "data": {
            "text/html": [
              "<div>\n",
              "<style scoped>\n",
              "    .dataframe tbody tr th:only-of-type {\n",
              "        vertical-align: middle;\n",
              "    }\n",
              "\n",
              "    .dataframe tbody tr th {\n",
              "        vertical-align: top;\n",
              "    }\n",
              "\n",
              "    .dataframe thead th {\n",
              "        text-align: right;\n",
              "    }\n",
              "</style>\n",
              "<table border=\"1\" class=\"dataframe\">\n",
              "  <thead>\n",
              "    <tr style=\"text-align: right;\">\n",
              "      <th></th>\n",
              "      <th>id</th>\n",
              "      <th>season</th>\n",
              "      <th>city</th>\n",
              "      <th>date</th>\n",
              "      <th>team1</th>\n",
              "      <th>team2</th>\n",
              "      <th>toss_winner</th>\n",
              "      <th>toss_decision</th>\n",
              "      <th>result</th>\n",
              "      <th>dl_applied</th>\n",
              "      <th>winner</th>\n",
              "      <th>win_by_runs</th>\n",
              "      <th>win_by_wickets</th>\n",
              "      <th>player_of_match</th>\n",
              "      <th>venue</th>\n",
              "      <th>umpire1</th>\n",
              "      <th>umpire2</th>\n",
              "      <th>umpire3</th>\n",
              "    </tr>\n",
              "  </thead>\n",
              "  <tbody>\n",
              "    <tr>\n",
              "      <th>0</th>\n",
              "      <td>1</td>\n",
              "      <td>2017</td>\n",
              "      <td>Hyderabad</td>\n",
              "      <td>2017-04-05</td>\n",
              "      <td>Sunrisers Hyderabad</td>\n",
              "      <td>Royal Challengers Bangalore</td>\n",
              "      <td>Royal Challengers Bangalore</td>\n",
              "      <td>field</td>\n",
              "      <td>normal</td>\n",
              "      <td>0</td>\n",
              "      <td>Sunrisers Hyderabad</td>\n",
              "      <td>35</td>\n",
              "      <td>0</td>\n",
              "      <td>Yuvraj Singh</td>\n",
              "      <td>Rajiv Gandhi International Stadium, Uppal</td>\n",
              "      <td>AY Dandekar</td>\n",
              "      <td>NJ Llong</td>\n",
              "      <td>NaN</td>\n",
              "    </tr>\n",
              "    <tr>\n",
              "      <th>1</th>\n",
              "      <td>2</td>\n",
              "      <td>2017</td>\n",
              "      <td>Pune</td>\n",
              "      <td>2017-04-06</td>\n",
              "      <td>Mumbai Indians</td>\n",
              "      <td>Rising Pune Supergiant</td>\n",
              "      <td>Rising Pune Supergiant</td>\n",
              "      <td>field</td>\n",
              "      <td>normal</td>\n",
              "      <td>0</td>\n",
              "      <td>Rising Pune Supergiant</td>\n",
              "      <td>0</td>\n",
              "      <td>7</td>\n",
              "      <td>SPD Smith</td>\n",
              "      <td>Maharashtra Cricket Association Stadium</td>\n",
              "      <td>A Nand Kishore</td>\n",
              "      <td>S Ravi</td>\n",
              "      <td>NaN</td>\n",
              "    </tr>\n",
              "    <tr>\n",
              "      <th>2</th>\n",
              "      <td>3</td>\n",
              "      <td>2017</td>\n",
              "      <td>Rajkot</td>\n",
              "      <td>2017-04-07</td>\n",
              "      <td>Gujarat Lions</td>\n",
              "      <td>Kolkata Knight Riders</td>\n",
              "      <td>Kolkata Knight Riders</td>\n",
              "      <td>field</td>\n",
              "      <td>normal</td>\n",
              "      <td>0</td>\n",
              "      <td>Kolkata Knight Riders</td>\n",
              "      <td>0</td>\n",
              "      <td>10</td>\n",
              "      <td>CA Lynn</td>\n",
              "      <td>Saurashtra Cricket Association Stadium</td>\n",
              "      <td>Nitin Menon</td>\n",
              "      <td>CK Nandan</td>\n",
              "      <td>NaN</td>\n",
              "    </tr>\n",
              "    <tr>\n",
              "      <th>3</th>\n",
              "      <td>4</td>\n",
              "      <td>2017</td>\n",
              "      <td>Indore</td>\n",
              "      <td>2017-04-08</td>\n",
              "      <td>Rising Pune Supergiant</td>\n",
              "      <td>Kings XI Punjab</td>\n",
              "      <td>Kings XI Punjab</td>\n",
              "      <td>field</td>\n",
              "      <td>normal</td>\n",
              "      <td>0</td>\n",
              "      <td>Kings XI Punjab</td>\n",
              "      <td>0</td>\n",
              "      <td>6</td>\n",
              "      <td>GJ Maxwell</td>\n",
              "      <td>Holkar Cricket Stadium</td>\n",
              "      <td>AK Chaudhary</td>\n",
              "      <td>C Shamshuddin</td>\n",
              "      <td>NaN</td>\n",
              "    </tr>\n",
              "    <tr>\n",
              "      <th>4</th>\n",
              "      <td>5</td>\n",
              "      <td>2017</td>\n",
              "      <td>Bangalore</td>\n",
              "      <td>2017-04-08</td>\n",
              "      <td>Royal Challengers Bangalore</td>\n",
              "      <td>Delhi Daredevils</td>\n",
              "      <td>Royal Challengers Bangalore</td>\n",
              "      <td>bat</td>\n",
              "      <td>normal</td>\n",
              "      <td>0</td>\n",
              "      <td>Royal Challengers Bangalore</td>\n",
              "      <td>15</td>\n",
              "      <td>0</td>\n",
              "      <td>KM Jadhav</td>\n",
              "      <td>M Chinnaswamy Stadium</td>\n",
              "      <td>NaN</td>\n",
              "      <td>NaN</td>\n",
              "      <td>NaN</td>\n",
              "    </tr>\n",
              "  </tbody>\n",
              "</table>\n",
              "</div>"
            ],
            "text/plain": [
              "   id  season       city  ...         umpire1        umpire2 umpire3\n",
              "0   1    2017  Hyderabad  ...     AY Dandekar       NJ Llong     NaN\n",
              "1   2    2017       Pune  ...  A Nand Kishore         S Ravi     NaN\n",
              "2   3    2017     Rajkot  ...     Nitin Menon      CK Nandan     NaN\n",
              "3   4    2017     Indore  ...    AK Chaudhary  C Shamshuddin     NaN\n",
              "4   5    2017  Bangalore  ...             NaN            NaN     NaN\n",
              "\n",
              "[5 rows x 18 columns]"
            ]
          },
          "metadata": {
            "tags": []
          },
          "execution_count": 9
        }
      ]
    },
    {
      "cell_type": "code",
      "metadata": {
        "id": "gnGL6b0mK4dK"
      },
      "source": [
        "data.batting_team.replace({'Bangalore Royal Challengers' : 'Royal Challengers Bangalore'},inplace=True)\n",
        "data.bowling_team.replace({'Bangalore Royal Challengers' : 'Royal Challengers Bangalore'},inplace=True)"
      ],
      "execution_count": 10,
      "outputs": []
    },
    {
      "cell_type": "code",
      "metadata": {
        "id": "0bWD9KrRLfub"
      },
      "source": [
        "data2.team1.replace({'Bangalore Royal Challengers' : 'Royal Challengers Bangalore'},inplace=True)\n",
        "data2.team2.replace({'Bangalore Royal Challengers' : 'Royal Challengers Bangalore'},inplace=True)"
      ],
      "execution_count": 11,
      "outputs": []
    },
    {
      "cell_type": "code",
      "metadata": {
        "id": "d6kXdHR2LlZt"
      },
      "source": [
        "data2.toss_winner.replace({'Bangalore Royal Challengers' : 'Royal Challengers Bangalore'},inplace=True)\n",
        "data2.winner.replace({'Bangalore Royal Challengers' : 'Royal Challengers Bangalore'},inplace=True)"
      ],
      "execution_count": 12,
      "outputs": []
    },
    {
      "cell_type": "code",
      "metadata": {
        "id": "J2C_uVclcSX4",
        "outputId": "99920e8f-e736-4ac1-b013-c687ad2d8719",
        "colab": {
          "base_uri": "https://localhost:8080/",
          "height": 1000
        }
      },
      "source": [
        "data_f = data2.loc[data2.team1.isin(['Mumbai Indians','Royal Challengers Bangalore'])] \n",
        "data_f = data_f.loc[data_f.team2.isin(['Mumbai Indians','Royal Challengers Bangalore'])] \n",
        "data_f"
      ],
      "execution_count": 13,
      "outputs": [
        {
          "output_type": "execute_result",
          "data": {
            "text/html": [
              "<div>\n",
              "<style scoped>\n",
              "    .dataframe tbody tr th:only-of-type {\n",
              "        vertical-align: middle;\n",
              "    }\n",
              "\n",
              "    .dataframe tbody tr th {\n",
              "        vertical-align: top;\n",
              "    }\n",
              "\n",
              "    .dataframe thead th {\n",
              "        text-align: right;\n",
              "    }\n",
              "</style>\n",
              "<table border=\"1\" class=\"dataframe\">\n",
              "  <thead>\n",
              "    <tr style=\"text-align: right;\">\n",
              "      <th></th>\n",
              "      <th>id</th>\n",
              "      <th>season</th>\n",
              "      <th>city</th>\n",
              "      <th>date</th>\n",
              "      <th>team1</th>\n",
              "      <th>team2</th>\n",
              "      <th>toss_winner</th>\n",
              "      <th>toss_decision</th>\n",
              "      <th>result</th>\n",
              "      <th>dl_applied</th>\n",
              "      <th>winner</th>\n",
              "      <th>win_by_runs</th>\n",
              "      <th>win_by_wickets</th>\n",
              "      <th>player_of_match</th>\n",
              "      <th>venue</th>\n",
              "      <th>umpire1</th>\n",
              "      <th>umpire2</th>\n",
              "      <th>umpire3</th>\n",
              "    </tr>\n",
              "  </thead>\n",
              "  <tbody>\n",
              "    <tr>\n",
              "      <th>11</th>\n",
              "      <td>12</td>\n",
              "      <td>2017</td>\n",
              "      <td>Bangalore</td>\n",
              "      <td>2017-04-14</td>\n",
              "      <td>Royal Challengers Bangalore</td>\n",
              "      <td>Mumbai Indians</td>\n",
              "      <td>Mumbai Indians</td>\n",
              "      <td>field</td>\n",
              "      <td>normal</td>\n",
              "      <td>0</td>\n",
              "      <td>Mumbai Indians</td>\n",
              "      <td>0</td>\n",
              "      <td>4</td>\n",
              "      <td>KA Pollard</td>\n",
              "      <td>M Chinnaswamy Stadium</td>\n",
              "      <td>KN Ananthapadmanabhan</td>\n",
              "      <td>AK Chaudhary</td>\n",
              "      <td>NaN</td>\n",
              "    </tr>\n",
              "    <tr>\n",
              "      <th>36</th>\n",
              "      <td>37</td>\n",
              "      <td>2017</td>\n",
              "      <td>Mumbai</td>\n",
              "      <td>2017-05-01</td>\n",
              "      <td>Royal Challengers Bangalore</td>\n",
              "      <td>Mumbai Indians</td>\n",
              "      <td>Royal Challengers Bangalore</td>\n",
              "      <td>bat</td>\n",
              "      <td>normal</td>\n",
              "      <td>0</td>\n",
              "      <td>Mumbai Indians</td>\n",
              "      <td>0</td>\n",
              "      <td>5</td>\n",
              "      <td>RG Sharma</td>\n",
              "      <td>Wankhede Stadium</td>\n",
              "      <td>AK Chaudhary</td>\n",
              "      <td>CB Gaffaney</td>\n",
              "      <td>NaN</td>\n",
              "    </tr>\n",
              "    <tr>\n",
              "      <th>62</th>\n",
              "      <td>63</td>\n",
              "      <td>2008</td>\n",
              "      <td>Mumbai</td>\n",
              "      <td>2008-04-20</td>\n",
              "      <td>Mumbai Indians</td>\n",
              "      <td>Royal Challengers Bangalore</td>\n",
              "      <td>Mumbai Indians</td>\n",
              "      <td>bat</td>\n",
              "      <td>normal</td>\n",
              "      <td>0</td>\n",
              "      <td>Royal Challengers Bangalore</td>\n",
              "      <td>0</td>\n",
              "      <td>5</td>\n",
              "      <td>MV Boucher</td>\n",
              "      <td>Wankhede Stadium</td>\n",
              "      <td>SJ Davis</td>\n",
              "      <td>DJ Harper</td>\n",
              "      <td>NaN</td>\n",
              "    </tr>\n",
              "    <tr>\n",
              "      <th>89</th>\n",
              "      <td>90</td>\n",
              "      <td>2008</td>\n",
              "      <td>Bangalore</td>\n",
              "      <td>2008-05-28</td>\n",
              "      <td>Royal Challengers Bangalore</td>\n",
              "      <td>Mumbai Indians</td>\n",
              "      <td>Mumbai Indians</td>\n",
              "      <td>field</td>\n",
              "      <td>normal</td>\n",
              "      <td>0</td>\n",
              "      <td>Mumbai Indians</td>\n",
              "      <td>0</td>\n",
              "      <td>9</td>\n",
              "      <td>CRD Fernando</td>\n",
              "      <td>M Chinnaswamy Stadium</td>\n",
              "      <td>BF Bowden</td>\n",
              "      <td>AV Jayaprakash</td>\n",
              "      <td>NaN</td>\n",
              "    </tr>\n",
              "    <tr>\n",
              "      <th>142</th>\n",
              "      <td>143</td>\n",
              "      <td>2009</td>\n",
              "      <td>Johannesburg</td>\n",
              "      <td>2009-05-03</td>\n",
              "      <td>Mumbai Indians</td>\n",
              "      <td>Royal Challengers Bangalore</td>\n",
              "      <td>Mumbai Indians</td>\n",
              "      <td>bat</td>\n",
              "      <td>normal</td>\n",
              "      <td>0</td>\n",
              "      <td>Royal Challengers Bangalore</td>\n",
              "      <td>0</td>\n",
              "      <td>9</td>\n",
              "      <td>JH Kallis</td>\n",
              "      <td>New Wanderers Stadium</td>\n",
              "      <td>RE Koertzen</td>\n",
              "      <td>TH Wijewardene</td>\n",
              "      <td>NaN</td>\n",
              "    </tr>\n",
              "    <tr>\n",
              "      <th>152</th>\n",
              "      <td>153</td>\n",
              "      <td>2009</td>\n",
              "      <td>Port Elizabeth</td>\n",
              "      <td>2009-05-10</td>\n",
              "      <td>Mumbai Indians</td>\n",
              "      <td>Royal Challengers Bangalore</td>\n",
              "      <td>Mumbai Indians</td>\n",
              "      <td>bat</td>\n",
              "      <td>normal</td>\n",
              "      <td>0</td>\n",
              "      <td>Mumbai Indians</td>\n",
              "      <td>16</td>\n",
              "      <td>0</td>\n",
              "      <td>JP Duminy</td>\n",
              "      <td>St George's Park</td>\n",
              "      <td>BR Doctrove</td>\n",
              "      <td>BG Jerling</td>\n",
              "      <td>NaN</td>\n",
              "    </tr>\n",
              "    <tr>\n",
              "      <th>187</th>\n",
              "      <td>188</td>\n",
              "      <td>2010</td>\n",
              "      <td>Mumbai</td>\n",
              "      <td>2010-03-20</td>\n",
              "      <td>Mumbai Indians</td>\n",
              "      <td>Royal Challengers Bangalore</td>\n",
              "      <td>Mumbai Indians</td>\n",
              "      <td>bat</td>\n",
              "      <td>normal</td>\n",
              "      <td>0</td>\n",
              "      <td>Royal Challengers Bangalore</td>\n",
              "      <td>0</td>\n",
              "      <td>7</td>\n",
              "      <td>JH Kallis</td>\n",
              "      <td>Brabourne Stadium</td>\n",
              "      <td>HDPK Dharmasena</td>\n",
              "      <td>SS Hazare</td>\n",
              "      <td>NaN</td>\n",
              "    </tr>\n",
              "    <tr>\n",
              "      <th>225</th>\n",
              "      <td>226</td>\n",
              "      <td>2010</td>\n",
              "      <td>Bangalore</td>\n",
              "      <td>2010-04-17</td>\n",
              "      <td>Mumbai Indians</td>\n",
              "      <td>Royal Challengers Bangalore</td>\n",
              "      <td>Royal Challengers Bangalore</td>\n",
              "      <td>field</td>\n",
              "      <td>normal</td>\n",
              "      <td>0</td>\n",
              "      <td>Mumbai Indians</td>\n",
              "      <td>57</td>\n",
              "      <td>0</td>\n",
              "      <td>R McLaren</td>\n",
              "      <td>M Chinnaswamy Stadium</td>\n",
              "      <td>HDPK Dharmasena</td>\n",
              "      <td>SJA Taufel</td>\n",
              "      <td>NaN</td>\n",
              "    </tr>\n",
              "    <tr>\n",
              "      <th>230</th>\n",
              "      <td>231</td>\n",
              "      <td>2010</td>\n",
              "      <td>Mumbai</td>\n",
              "      <td>2010-04-21</td>\n",
              "      <td>Mumbai Indians</td>\n",
              "      <td>Royal Challengers Bangalore</td>\n",
              "      <td>Mumbai Indians</td>\n",
              "      <td>bat</td>\n",
              "      <td>normal</td>\n",
              "      <td>0</td>\n",
              "      <td>Mumbai Indians</td>\n",
              "      <td>35</td>\n",
              "      <td>0</td>\n",
              "      <td>KA Pollard</td>\n",
              "      <td>Dr DY Patil Sports Academy</td>\n",
              "      <td>BR Doctrove</td>\n",
              "      <td>RB Tiffin</td>\n",
              "      <td>NaN</td>\n",
              "    </tr>\n",
              "    <tr>\n",
              "      <th>241</th>\n",
              "      <td>242</td>\n",
              "      <td>2011</td>\n",
              "      <td>Bangalore</td>\n",
              "      <td>2011-04-12</td>\n",
              "      <td>Royal Challengers Bangalore</td>\n",
              "      <td>Mumbai Indians</td>\n",
              "      <td>Mumbai Indians</td>\n",
              "      <td>field</td>\n",
              "      <td>normal</td>\n",
              "      <td>0</td>\n",
              "      <td>Mumbai Indians</td>\n",
              "      <td>0</td>\n",
              "      <td>9</td>\n",
              "      <td>SR Tendulkar</td>\n",
              "      <td>M Chinnaswamy Stadium</td>\n",
              "      <td>HDPK Dharmasena</td>\n",
              "      <td>AL Hill</td>\n",
              "      <td>NaN</td>\n",
              "    </tr>\n",
              "    <tr>\n",
              "      <th>305</th>\n",
              "      <td>306</td>\n",
              "      <td>2011</td>\n",
              "      <td>Chennai</td>\n",
              "      <td>2011-05-27</td>\n",
              "      <td>Royal Challengers Bangalore</td>\n",
              "      <td>Mumbai Indians</td>\n",
              "      <td>Mumbai Indians</td>\n",
              "      <td>field</td>\n",
              "      <td>normal</td>\n",
              "      <td>0</td>\n",
              "      <td>Royal Challengers Bangalore</td>\n",
              "      <td>43</td>\n",
              "      <td>0</td>\n",
              "      <td>CH Gayle</td>\n",
              "      <td>MA Chidambaram Stadium, Chepauk</td>\n",
              "      <td>Asad Rauf</td>\n",
              "      <td>SJA Taufel</td>\n",
              "      <td>NaN</td>\n",
              "    </tr>\n",
              "    <tr>\n",
              "      <th>359</th>\n",
              "      <td>360</td>\n",
              "      <td>2012</td>\n",
              "      <td>Mumbai</td>\n",
              "      <td>2012-05-09</td>\n",
              "      <td>Mumbai Indians</td>\n",
              "      <td>Royal Challengers Bangalore</td>\n",
              "      <td>Royal Challengers Bangalore</td>\n",
              "      <td>field</td>\n",
              "      <td>normal</td>\n",
              "      <td>0</td>\n",
              "      <td>Royal Challengers Bangalore</td>\n",
              "      <td>0</td>\n",
              "      <td>9</td>\n",
              "      <td>CH Gayle</td>\n",
              "      <td>Wankhede Stadium</td>\n",
              "      <td>BF Bowden</td>\n",
              "      <td>VA Kulkarni</td>\n",
              "      <td>NaN</td>\n",
              "    </tr>\n",
              "    <tr>\n",
              "      <th>366</th>\n",
              "      <td>367</td>\n",
              "      <td>2012</td>\n",
              "      <td>Bangalore</td>\n",
              "      <td>2012-05-14</td>\n",
              "      <td>Royal Challengers Bangalore</td>\n",
              "      <td>Mumbai Indians</td>\n",
              "      <td>Mumbai Indians</td>\n",
              "      <td>field</td>\n",
              "      <td>normal</td>\n",
              "      <td>0</td>\n",
              "      <td>Mumbai Indians</td>\n",
              "      <td>0</td>\n",
              "      <td>5</td>\n",
              "      <td>AT Rayudu</td>\n",
              "      <td>M Chinnaswamy Stadium</td>\n",
              "      <td>S Das</td>\n",
              "      <td>BR Doctrove</td>\n",
              "      <td>NaN</td>\n",
              "    </tr>\n",
              "    <tr>\n",
              "      <th>382</th>\n",
              "      <td>383</td>\n",
              "      <td>2013</td>\n",
              "      <td>Bangalore</td>\n",
              "      <td>2013-04-04</td>\n",
              "      <td>Royal Challengers Bangalore</td>\n",
              "      <td>Mumbai Indians</td>\n",
              "      <td>Mumbai Indians</td>\n",
              "      <td>field</td>\n",
              "      <td>normal</td>\n",
              "      <td>0</td>\n",
              "      <td>Royal Challengers Bangalore</td>\n",
              "      <td>2</td>\n",
              "      <td>0</td>\n",
              "      <td>CH Gayle</td>\n",
              "      <td>M Chinnaswamy Stadium</td>\n",
              "      <td>VA Kulkarni</td>\n",
              "      <td>C Shamshuddin</td>\n",
              "      <td>NaN</td>\n",
              "    </tr>\n",
              "    <tr>\n",
              "      <th>416</th>\n",
              "      <td>417</td>\n",
              "      <td>2013</td>\n",
              "      <td>Mumbai</td>\n",
              "      <td>2013-04-27</td>\n",
              "      <td>Mumbai Indians</td>\n",
              "      <td>Royal Challengers Bangalore</td>\n",
              "      <td>Mumbai Indians</td>\n",
              "      <td>bat</td>\n",
              "      <td>normal</td>\n",
              "      <td>0</td>\n",
              "      <td>Mumbai Indians</td>\n",
              "      <td>58</td>\n",
              "      <td>0</td>\n",
              "      <td>DR Smith</td>\n",
              "      <td>Wankhede Stadium</td>\n",
              "      <td>Asad Rauf</td>\n",
              "      <td>S Asnani</td>\n",
              "      <td>NaN</td>\n",
              "    </tr>\n",
              "    <tr>\n",
              "      <th>461</th>\n",
              "      <td>462</td>\n",
              "      <td>2014</td>\n",
              "      <td>NaN</td>\n",
              "      <td>2014-04-19</td>\n",
              "      <td>Mumbai Indians</td>\n",
              "      <td>Royal Challengers Bangalore</td>\n",
              "      <td>Royal Challengers Bangalore</td>\n",
              "      <td>field</td>\n",
              "      <td>normal</td>\n",
              "      <td>0</td>\n",
              "      <td>Royal Challengers Bangalore</td>\n",
              "      <td>0</td>\n",
              "      <td>7</td>\n",
              "      <td>PA Patel</td>\n",
              "      <td>Dubai International Cricket Stadium</td>\n",
              "      <td>Aleem Dar</td>\n",
              "      <td>AK Chaudhary</td>\n",
              "      <td>NaN</td>\n",
              "    </tr>\n",
              "    <tr>\n",
              "      <th>483</th>\n",
              "      <td>484</td>\n",
              "      <td>2014</td>\n",
              "      <td>Mumbai</td>\n",
              "      <td>2014-05-06</td>\n",
              "      <td>Mumbai Indians</td>\n",
              "      <td>Royal Challengers Bangalore</td>\n",
              "      <td>Royal Challengers Bangalore</td>\n",
              "      <td>field</td>\n",
              "      <td>normal</td>\n",
              "      <td>0</td>\n",
              "      <td>Mumbai Indians</td>\n",
              "      <td>19</td>\n",
              "      <td>0</td>\n",
              "      <td>RG Sharma</td>\n",
              "      <td>Wankhede Stadium</td>\n",
              "      <td>S Ravi</td>\n",
              "      <td>K Srinath</td>\n",
              "      <td>NaN</td>\n",
              "    </tr>\n",
              "    <tr>\n",
              "      <th>533</th>\n",
              "      <td>534</td>\n",
              "      <td>2015</td>\n",
              "      <td>Bangalore</td>\n",
              "      <td>2015-04-19</td>\n",
              "      <td>Mumbai Indians</td>\n",
              "      <td>Royal Challengers Bangalore</td>\n",
              "      <td>Royal Challengers Bangalore</td>\n",
              "      <td>field</td>\n",
              "      <td>normal</td>\n",
              "      <td>0</td>\n",
              "      <td>Mumbai Indians</td>\n",
              "      <td>18</td>\n",
              "      <td>0</td>\n",
              "      <td>Harbhajan Singh</td>\n",
              "      <td>M Chinnaswamy Stadium</td>\n",
              "      <td>RK Illingworth</td>\n",
              "      <td>VA Kulkarni</td>\n",
              "      <td>NaN</td>\n",
              "    </tr>\n",
              "    <tr>\n",
              "      <th>561</th>\n",
              "      <td>562</td>\n",
              "      <td>2015</td>\n",
              "      <td>Mumbai</td>\n",
              "      <td>2015-05-10</td>\n",
              "      <td>Royal Challengers Bangalore</td>\n",
              "      <td>Mumbai Indians</td>\n",
              "      <td>Royal Challengers Bangalore</td>\n",
              "      <td>bat</td>\n",
              "      <td>normal</td>\n",
              "      <td>0</td>\n",
              "      <td>Royal Challengers Bangalore</td>\n",
              "      <td>39</td>\n",
              "      <td>0</td>\n",
              "      <td>AB de Villiers</td>\n",
              "      <td>Wankhede Stadium</td>\n",
              "      <td>JD Cloete</td>\n",
              "      <td>C Shamshuddin</td>\n",
              "      <td>NaN</td>\n",
              "    </tr>\n",
              "    <tr>\n",
              "      <th>589</th>\n",
              "      <td>590</td>\n",
              "      <td>2016</td>\n",
              "      <td>Mumbai</td>\n",
              "      <td>2016-04-20</td>\n",
              "      <td>Royal Challengers Bangalore</td>\n",
              "      <td>Mumbai Indians</td>\n",
              "      <td>Mumbai Indians</td>\n",
              "      <td>field</td>\n",
              "      <td>normal</td>\n",
              "      <td>0</td>\n",
              "      <td>Mumbai Indians</td>\n",
              "      <td>0</td>\n",
              "      <td>6</td>\n",
              "      <td>RG Sharma</td>\n",
              "      <td>Wankhede Stadium</td>\n",
              "      <td>AK Chaudhary</td>\n",
              "      <td>CK Nandan</td>\n",
              "      <td>NaN</td>\n",
              "    </tr>\n",
              "    <tr>\n",
              "      <th>616</th>\n",
              "      <td>617</td>\n",
              "      <td>2016</td>\n",
              "      <td>Bangalore</td>\n",
              "      <td>2016-05-11</td>\n",
              "      <td>Royal Challengers Bangalore</td>\n",
              "      <td>Mumbai Indians</td>\n",
              "      <td>Mumbai Indians</td>\n",
              "      <td>field</td>\n",
              "      <td>normal</td>\n",
              "      <td>0</td>\n",
              "      <td>Mumbai Indians</td>\n",
              "      <td>0</td>\n",
              "      <td>6</td>\n",
              "      <td>KH Pandya</td>\n",
              "      <td>M Chinnaswamy Stadium</td>\n",
              "      <td>AY Dandekar</td>\n",
              "      <td>C Shamshuddin</td>\n",
              "      <td>NaN</td>\n",
              "    </tr>\n",
              "    <tr>\n",
              "      <th>649</th>\n",
              "      <td>7907</td>\n",
              "      <td>2018</td>\n",
              "      <td>Mumbai</td>\n",
              "      <td>17/04/18</td>\n",
              "      <td>Mumbai Indians</td>\n",
              "      <td>Royal Challengers Bangalore</td>\n",
              "      <td>Royal Challengers Bangalore</td>\n",
              "      <td>field</td>\n",
              "      <td>normal</td>\n",
              "      <td>0</td>\n",
              "      <td>Mumbai Indians</td>\n",
              "      <td>46</td>\n",
              "      <td>0</td>\n",
              "      <td>RG Sharma</td>\n",
              "      <td>Wankhede Stadium</td>\n",
              "      <td>Rod Tucker</td>\n",
              "      <td>Nitin Menon</td>\n",
              "      <td>K Ananthapadmanabhan</td>\n",
              "    </tr>\n",
              "    <tr>\n",
              "      <th>666</th>\n",
              "      <td>7924</td>\n",
              "      <td>2018</td>\n",
              "      <td>Bengaluru</td>\n",
              "      <td>01/05/18</td>\n",
              "      <td>Royal Challengers Bangalore</td>\n",
              "      <td>Mumbai Indians</td>\n",
              "      <td>Mumbai Indians</td>\n",
              "      <td>field</td>\n",
              "      <td>normal</td>\n",
              "      <td>0</td>\n",
              "      <td>Royal Challengers Bangalore</td>\n",
              "      <td>14</td>\n",
              "      <td>0</td>\n",
              "      <td>TG Southee</td>\n",
              "      <td>M Chinnaswamy Stadium</td>\n",
              "      <td>Marais Erasmus</td>\n",
              "      <td>Nitin Menon</td>\n",
              "      <td>Yeshwant Barde</td>\n",
              "    </tr>\n",
              "    <tr>\n",
              "      <th>702</th>\n",
              "      <td>11143</td>\n",
              "      <td>2019</td>\n",
              "      <td>Bengaluru</td>\n",
              "      <td>28/03/19</td>\n",
              "      <td>Mumbai Indians</td>\n",
              "      <td>Royal Challengers Bangalore</td>\n",
              "      <td>Royal Challengers Bangalore</td>\n",
              "      <td>field</td>\n",
              "      <td>normal</td>\n",
              "      <td>0</td>\n",
              "      <td>Mumbai Indians</td>\n",
              "      <td>6</td>\n",
              "      <td>0</td>\n",
              "      <td>JJ Bumrah</td>\n",
              "      <td>M. Chinnaswamy Stadium</td>\n",
              "      <td>S Ravi</td>\n",
              "      <td>O Nandan</td>\n",
              "      <td>Yeshwant Barde</td>\n",
              "    </tr>\n",
              "    <tr>\n",
              "      <th>726</th>\n",
              "      <td>11322</td>\n",
              "      <td>2019</td>\n",
              "      <td>Mumbai</td>\n",
              "      <td>15/04/19</td>\n",
              "      <td>Royal Challengers Bangalore</td>\n",
              "      <td>Mumbai Indians</td>\n",
              "      <td>Mumbai Indians</td>\n",
              "      <td>field</td>\n",
              "      <td>normal</td>\n",
              "      <td>0</td>\n",
              "      <td>Mumbai Indians</td>\n",
              "      <td>0</td>\n",
              "      <td>5</td>\n",
              "      <td>SL Malinga</td>\n",
              "      <td>Wankhede Stadium</td>\n",
              "      <td>Marais Erasmus</td>\n",
              "      <td>Nitin Menon</td>\n",
              "      <td>Nanda Kishore</td>\n",
              "    </tr>\n",
              "  </tbody>\n",
              "</table>\n",
              "</div>"
            ],
            "text/plain": [
              "        id  season  ...         umpire2               umpire3\n",
              "11      12    2017  ...    AK Chaudhary                   NaN\n",
              "36      37    2017  ...     CB Gaffaney                   NaN\n",
              "62      63    2008  ...       DJ Harper                   NaN\n",
              "89      90    2008  ...  AV Jayaprakash                   NaN\n",
              "142    143    2009  ...  TH Wijewardene                   NaN\n",
              "152    153    2009  ...      BG Jerling                   NaN\n",
              "187    188    2010  ...       SS Hazare                   NaN\n",
              "225    226    2010  ...      SJA Taufel                   NaN\n",
              "230    231    2010  ...       RB Tiffin                   NaN\n",
              "241    242    2011  ...         AL Hill                   NaN\n",
              "305    306    2011  ...      SJA Taufel                   NaN\n",
              "359    360    2012  ...     VA Kulkarni                   NaN\n",
              "366    367    2012  ...     BR Doctrove                   NaN\n",
              "382    383    2013  ...   C Shamshuddin                   NaN\n",
              "416    417    2013  ...        S Asnani                   NaN\n",
              "461    462    2014  ...    AK Chaudhary                   NaN\n",
              "483    484    2014  ...       K Srinath                   NaN\n",
              "533    534    2015  ...     VA Kulkarni                   NaN\n",
              "561    562    2015  ...   C Shamshuddin                   NaN\n",
              "589    590    2016  ...       CK Nandan                   NaN\n",
              "616    617    2016  ...   C Shamshuddin                   NaN\n",
              "649   7907    2018  ...     Nitin Menon  K Ananthapadmanabhan\n",
              "666   7924    2018  ...     Nitin Menon        Yeshwant Barde\n",
              "702  11143    2019  ...        O Nandan        Yeshwant Barde\n",
              "726  11322    2019  ...     Nitin Menon         Nanda Kishore\n",
              "\n",
              "[25 rows x 18 columns]"
            ]
          },
          "metadata": {
            "tags": []
          },
          "execution_count": 13
        }
      ]
    },
    {
      "cell_type": "markdown",
      "metadata": {
        "id": "oaZFdVHJoCx5"
      },
      "source": [
        "Finally , We have got a complete dataset for all the matches of MI VS RCB"
      ]
    },
    {
      "cell_type": "markdown",
      "metadata": {
        "id": "135PC1OV0mR4"
      },
      "source": [
        "**Let's do Q1 now**"
      ]
    },
    {
      "cell_type": "code",
      "metadata": {
        "id": "QIn7GSQznk4q",
        "outputId": "4e881bac-9be9-4a4c-d30e-8bc07f59025b",
        "colab": {
          "base_uri": "https://localhost:8080/",
          "height": 439
        }
      },
      "source": [
        "plt.figure(dpi=100)\n",
        "sns.countplot(x='winner',data = data_f)\n",
        "plt.ylabel('Wins Count')\n",
        "plt.xlabel('Team Name')\n",
        "plt.title('MI vs RCB')\n",
        "A,B =data_f.winner.value_counts()\n",
        "\n",
        "print('MI Wins -',A)\n",
        "print('RCB Wins -',B)\n",
        "\n",
        "plt.show()\n"
      ],
      "execution_count": 14,
      "outputs": [
        {
          "output_type": "stream",
          "text": [
            "MI Wins - 16\n",
            "RCB Wins - 9\n"
          ],
          "name": "stdout"
        },
        {
          "output_type": "display_data",
          "data": {
            "image/png": "[encoded data removed]",
            "text/plain": [
              "<Figure size 600x400 with 1 Axes>"
            ]
          },
          "metadata": {
            "tags": []
          }
        }
      ]
    },
    {
      "cell_type": "markdown",
      "metadata": {
        "id": "oNUwKRg-4dbw"
      },
      "source": [
        "Let's mark MI without any doubt"
      ]
    },
    {
      "cell_type": "markdown",
      "metadata": {
        "id": "SixIaI0eqy-o"
      },
      "source": [
        "**Let's do Q2 now**\n",
        "\n",
        "**Let's find bowlers with more than 2 wickets**"
      ]
    },
    {
      "cell_type": "code",
      "metadata": {
        "id": "lTFe7lWKHyv2",
        "outputId": "9f709ee5-9c81-48a1-c5ad-4cbbf6884aed",
        "colab": {
          "base_uri": "https://localhost:8080/",
          "height": 782
        }
      },
      "source": [
        "data_n = data.loc[data.bowling_team.isin(['Mumbai Indians','Royal Challengers Bangalore'])]\n",
        "data_n = data_n.loc[data.batting_team.isin(['Mumbai Indians','Royal Challengers Bangalore'])]\n",
        "data_n"
      ],
      "execution_count": 91,
      "outputs": [
        {
          "output_type": "execute_result",
          "data": {
            "text/html": [
              "<div>\n",
              "<style scoped>\n",
              "    .dataframe tbody tr th:only-of-type {\n",
              "        vertical-align: middle;\n",
              "    }\n",
              "\n",
              "    .dataframe tbody tr th {\n",
              "        vertical-align: top;\n",
              "    }\n",
              "\n",
              "    .dataframe thead th {\n",
              "        text-align: right;\n",
              "    }\n",
              "</style>\n",
              "<table border=\"1\" class=\"dataframe\">\n",
              "  <thead>\n",
              "    <tr style=\"text-align: right;\">\n",
              "      <th></th>\n",
              "      <th>match_id</th>\n",
              "      <th>inning</th>\n",
              "      <th>batting_team</th>\n",
              "      <th>bowling_team</th>\n",
              "      <th>over</th>\n",
              "      <th>ball</th>\n",
              "      <th>batsman</th>\n",
              "      <th>non_striker</th>\n",
              "      <th>bowler</th>\n",
              "      <th>is_super_over</th>\n",
              "      <th>wide_runs</th>\n",
              "      <th>bye_runs</th>\n",
              "      <th>legbye_runs</th>\n",
              "      <th>noball_runs</th>\n",
              "      <th>penalty_runs</th>\n",
              "      <th>batsman_runs</th>\n",
              "      <th>extra_runs</th>\n",
              "      <th>total_runs</th>\n",
              "      <th>player_dismissed</th>\n",
              "      <th>dismissal_kind</th>\n",
              "      <th>fielder</th>\n",
              "    </tr>\n",
              "  </thead>\n",
              "  <tbody>\n",
              "    <tr>\n",
              "      <th>2589</th>\n",
              "      <td>12</td>\n",
              "      <td>1</td>\n",
              "      <td>Royal Challengers Bangalore</td>\n",
              "      <td>Mumbai Indians</td>\n",
              "      <td>1</td>\n",
              "      <td>1</td>\n",
              "      <td>CH Gayle</td>\n",
              "      <td>V Kohli</td>\n",
              "      <td>TG Southee</td>\n",
              "      <td>0</td>\n",
              "      <td>0</td>\n",
              "      <td>0</td>\n",
              "      <td>0</td>\n",
              "      <td>0</td>\n",
              "      <td>0</td>\n",
              "      <td>1</td>\n",
              "      <td>0</td>\n",
              "      <td>1</td>\n",
              "      <td>NaN</td>\n",
              "      <td>NaN</td>\n",
              "      <td>NaN</td>\n",
              "    </tr>\n",
              "    <tr>\n",
              "      <th>2590</th>\n",
              "      <td>12</td>\n",
              "      <td>1</td>\n",
              "      <td>Royal Challengers Bangalore</td>\n",
              "      <td>Mumbai Indians</td>\n",
              "      <td>1</td>\n",
              "      <td>2</td>\n",
              "      <td>V Kohli</td>\n",
              "      <td>CH Gayle</td>\n",
              "      <td>TG Southee</td>\n",
              "      <td>0</td>\n",
              "      <td>1</td>\n",
              "      <td>0</td>\n",
              "      <td>0</td>\n",
              "      <td>0</td>\n",
              "      <td>0</td>\n",
              "      <td>0</td>\n",
              "      <td>1</td>\n",
              "      <td>1</td>\n",
              "      <td>NaN</td>\n",
              "      <td>NaN</td>\n",
              "      <td>NaN</td>\n",
              "    </tr>\n",
              "    <tr>\n",
              "      <th>2591</th>\n",
              "      <td>12</td>\n",
              "      <td>1</td>\n",
              "      <td>Royal Challengers Bangalore</td>\n",
              "      <td>Mumbai Indians</td>\n",
              "      <td>1</td>\n",
              "      <td>3</td>\n",
              "      <td>V Kohli</td>\n",
              "      <td>CH Gayle</td>\n",
              "      <td>TG Southee</td>\n",
              "      <td>0</td>\n",
              "      <td>0</td>\n",
              "      <td>0</td>\n",
              "      <td>0</td>\n",
              "      <td>0</td>\n",
              "      <td>0</td>\n",
              "      <td>1</td>\n",
              "      <td>0</td>\n",
              "      <td>1</td>\n",
              "      <td>NaN</td>\n",
              "      <td>NaN</td>\n",
              "      <td>NaN</td>\n",
              "    </tr>\n",
              "    <tr>\n",
              "      <th>2592</th>\n",
              "      <td>12</td>\n",
              "      <td>1</td>\n",
              "      <td>Royal Challengers Bangalore</td>\n",
              "      <td>Mumbai Indians</td>\n",
              "      <td>1</td>\n",
              "      <td>4</td>\n",
              "      <td>CH Gayle</td>\n",
              "      <td>V Kohli</td>\n",
              "      <td>TG Southee</td>\n",
              "      <td>0</td>\n",
              "      <td>0</td>\n",
              "      <td>0</td>\n",
              "      <td>0</td>\n",
              "      <td>0</td>\n",
              "      <td>0</td>\n",
              "      <td>1</td>\n",
              "      <td>0</td>\n",
              "      <td>1</td>\n",
              "      <td>NaN</td>\n",
              "      <td>NaN</td>\n",
              "      <td>NaN</td>\n",
              "    </tr>\n",
              "    <tr>\n",
              "      <th>2593</th>\n",
              "      <td>12</td>\n",
              "      <td>1</td>\n",
              "      <td>Royal Challengers Bangalore</td>\n",
              "      <td>Mumbai Indians</td>\n",
              "      <td>1</td>\n",
              "      <td>5</td>\n",
              "      <td>V Kohli</td>\n",
              "      <td>CH Gayle</td>\n",
              "      <td>TG Southee</td>\n",
              "      <td>0</td>\n",
              "      <td>0</td>\n",
              "      <td>0</td>\n",
              "      <td>0</td>\n",
              "      <td>0</td>\n",
              "      <td>0</td>\n",
              "      <td>0</td>\n",
              "      <td>0</td>\n",
              "      <td>0</td>\n",
              "      <td>NaN</td>\n",
              "      <td>NaN</td>\n",
              "      <td>NaN</td>\n",
              "    </tr>\n",
              "    <tr>\n",
              "      <th>...</th>\n",
              "      <td>...</td>\n",
              "      <td>...</td>\n",
              "      <td>...</td>\n",
              "      <td>...</td>\n",
              "      <td>...</td>\n",
              "      <td>...</td>\n",
              "      <td>...</td>\n",
              "      <td>...</td>\n",
              "      <td>...</td>\n",
              "      <td>...</td>\n",
              "      <td>...</td>\n",
              "      <td>...</td>\n",
              "      <td>...</td>\n",
              "      <td>...</td>\n",
              "      <td>...</td>\n",
              "      <td>...</td>\n",
              "      <td>...</td>\n",
              "      <td>...</td>\n",
              "      <td>...</td>\n",
              "      <td>...</td>\n",
              "      <td>...</td>\n",
              "    </tr>\n",
              "    <tr>\n",
              "      <th>172278</th>\n",
              "      <td>11322</td>\n",
              "      <td>2</td>\n",
              "      <td>Mumbai Indians</td>\n",
              "      <td>Royal Challengers Bangalore</td>\n",
              "      <td>19</td>\n",
              "      <td>3</td>\n",
              "      <td>HH Pandya</td>\n",
              "      <td>KA Pollard</td>\n",
              "      <td>P Negi</td>\n",
              "      <td>0</td>\n",
              "      <td>0</td>\n",
              "      <td>0</td>\n",
              "      <td>0</td>\n",
              "      <td>0</td>\n",
              "      <td>0</td>\n",
              "      <td>4</td>\n",
              "      <td>0</td>\n",
              "      <td>4</td>\n",
              "      <td>NaN</td>\n",
              "      <td>NaN</td>\n",
              "      <td>NaN</td>\n",
              "    </tr>\n",
              "    <tr>\n",
              "      <th>172279</th>\n",
              "      <td>11322</td>\n",
              "      <td>2</td>\n",
              "      <td>Mumbai Indians</td>\n",
              "      <td>Royal Challengers Bangalore</td>\n",
              "      <td>19</td>\n",
              "      <td>4</td>\n",
              "      <td>HH Pandya</td>\n",
              "      <td>KA Pollard</td>\n",
              "      <td>P Negi</td>\n",
              "      <td>0</td>\n",
              "      <td>0</td>\n",
              "      <td>0</td>\n",
              "      <td>0</td>\n",
              "      <td>0</td>\n",
              "      <td>0</td>\n",
              "      <td>4</td>\n",
              "      <td>0</td>\n",
              "      <td>4</td>\n",
              "      <td>NaN</td>\n",
              "      <td>NaN</td>\n",
              "      <td>NaN</td>\n",
              "    </tr>\n",
              "    <tr>\n",
              "      <th>172280</th>\n",
              "      <td>11322</td>\n",
              "      <td>2</td>\n",
              "      <td>Mumbai Indians</td>\n",
              "      <td>Royal Challengers Bangalore</td>\n",
              "      <td>19</td>\n",
              "      <td>5</td>\n",
              "      <td>HH Pandya</td>\n",
              "      <td>KA Pollard</td>\n",
              "      <td>P Negi</td>\n",
              "      <td>0</td>\n",
              "      <td>0</td>\n",
              "      <td>0</td>\n",
              "      <td>0</td>\n",
              "      <td>0</td>\n",
              "      <td>0</td>\n",
              "      <td>6</td>\n",
              "      <td>0</td>\n",
              "      <td>6</td>\n",
              "      <td>NaN</td>\n",
              "      <td>NaN</td>\n",
              "      <td>NaN</td>\n",
              "    </tr>\n",
              "    <tr>\n",
              "      <th>172281</th>\n",
              "      <td>11322</td>\n",
              "      <td>2</td>\n",
              "      <td>Mumbai Indians</td>\n",
              "      <td>Royal Challengers Bangalore</td>\n",
              "      <td>19</td>\n",
              "      <td>6</td>\n",
              "      <td>HH Pandya</td>\n",
              "      <td>KA Pollard</td>\n",
              "      <td>P Negi</td>\n",
              "      <td>0</td>\n",
              "      <td>1</td>\n",
              "      <td>0</td>\n",
              "      <td>0</td>\n",
              "      <td>0</td>\n",
              "      <td>0</td>\n",
              "      <td>1</td>\n",
              "      <td>1</td>\n",
              "      <td>2</td>\n",
              "      <td>NaN</td>\n",
              "      <td>NaN</td>\n",
              "      <td>NaN</td>\n",
              "    </tr>\n",
              "    <tr>\n",
              "      <th>172282</th>\n",
              "      <td>11322</td>\n",
              "      <td>2</td>\n",
              "      <td>Mumbai Indians</td>\n",
              "      <td>Royal Challengers Bangalore</td>\n",
              "      <td>19</td>\n",
              "      <td>7</td>\n",
              "      <td>HH Pandya</td>\n",
              "      <td>KA Pollard</td>\n",
              "      <td>P Negi</td>\n",
              "      <td>0</td>\n",
              "      <td>0</td>\n",
              "      <td>0</td>\n",
              "      <td>0</td>\n",
              "      <td>0</td>\n",
              "      <td>0</td>\n",
              "      <td>1</td>\n",
              "      <td>0</td>\n",
              "      <td>1</td>\n",
              "      <td>NaN</td>\n",
              "      <td>NaN</td>\n",
              "      <td>NaN</td>\n",
              "    </tr>\n",
              "  </tbody>\n",
              "</table>\n",
              "<p>6124 rows × 21 columns</p>\n",
              "</div>"
            ],
            "text/plain": [
              "        match_id  inning  ... dismissal_kind fielder\n",
              "2589          12       1  ...            NaN     NaN\n",
              "2590          12       1  ...            NaN     NaN\n",
              "2591          12       1  ...            NaN     NaN\n",
              "2592          12       1  ...            NaN     NaN\n",
              "2593          12       1  ...            NaN     NaN\n",
              "...          ...     ...  ...            ...     ...\n",
              "172278     11322       2  ...            NaN     NaN\n",
              "172279     11322       2  ...            NaN     NaN\n",
              "172280     11322       2  ...            NaN     NaN\n",
              "172281     11322       2  ...            NaN     NaN\n",
              "172282     11322       2  ...            NaN     NaN\n",
              "\n",
              "[6124 rows x 21 columns]"
            ]
          },
          "metadata": {
            "tags": []
          },
          "execution_count": 91
        }
      ]
    },
    {
      "cell_type": "code",
      "metadata": {
        "id": "Wt81lgKSNLGl",
        "outputId": "43a47b35-c41b-41cb-eeb8-1abe290e29be",
        "colab": {
          "base_uri": "https://localhost:8080/",
          "height": 415
        }
      },
      "source": [
        "data_wt= data_n.groupby(['match_id','bowler']).apply(lambda data_n:(data_n.player_dismissed.value_counts().sum())).reset_index(name='No of Dismissal')\n",
        "data_wt"
      ],
      "execution_count": 19,
      "outputs": [
        {
          "output_type": "execute_result",
          "data": {
            "text/html": [
              "<div>\n",
              "<style scoped>\n",
              "    .dataframe tbody tr th:only-of-type {\n",
              "        vertical-align: middle;\n",
              "    }\n",
              "\n",
              "    .dataframe tbody tr th {\n",
              "        vertical-align: top;\n",
              "    }\n",
              "\n",
              "    .dataframe thead th {\n",
              "        text-align: right;\n",
              "    }\n",
              "</style>\n",
              "<table border=\"1\" class=\"dataframe\">\n",
              "  <thead>\n",
              "    <tr style=\"text-align: right;\">\n",
              "      <th></th>\n",
              "      <th>match_id</th>\n",
              "      <th>bowler</th>\n",
              "      <th>No of Dismissal</th>\n",
              "    </tr>\n",
              "  </thead>\n",
              "  <tbody>\n",
              "    <tr>\n",
              "      <th>0</th>\n",
              "      <td>12</td>\n",
              "      <td>HH Pandya</td>\n",
              "      <td>1</td>\n",
              "    </tr>\n",
              "    <tr>\n",
              "      <th>1</th>\n",
              "      <td>12</td>\n",
              "      <td>Harbhajan Singh</td>\n",
              "      <td>0</td>\n",
              "    </tr>\n",
              "    <tr>\n",
              "      <th>2</th>\n",
              "      <td>12</td>\n",
              "      <td>JJ Bumrah</td>\n",
              "      <td>1</td>\n",
              "    </tr>\n",
              "    <tr>\n",
              "      <th>3</th>\n",
              "      <td>12</td>\n",
              "      <td>KH Pandya</td>\n",
              "      <td>1</td>\n",
              "    </tr>\n",
              "    <tr>\n",
              "      <th>4</th>\n",
              "      <td>12</td>\n",
              "      <td>MJ McClenaghan</td>\n",
              "      <td>2</td>\n",
              "    </tr>\n",
              "    <tr>\n",
              "      <th>...</th>\n",
              "      <td>...</td>\n",
              "      <td>...</td>\n",
              "      <td>...</td>\n",
              "    </tr>\n",
              "    <tr>\n",
              "      <th>286</th>\n",
              "      <td>11322</td>\n",
              "      <td>P Negi</td>\n",
              "      <td>0</td>\n",
              "    </tr>\n",
              "    <tr>\n",
              "      <th>287</th>\n",
              "      <td>11322</td>\n",
              "      <td>RD Chahar</td>\n",
              "      <td>0</td>\n",
              "    </tr>\n",
              "    <tr>\n",
              "      <th>288</th>\n",
              "      <td>11322</td>\n",
              "      <td>SL Malinga</td>\n",
              "      <td>5</td>\n",
              "    </tr>\n",
              "    <tr>\n",
              "      <th>289</th>\n",
              "      <td>11322</td>\n",
              "      <td>UT Yadav</td>\n",
              "      <td>0</td>\n",
              "    </tr>\n",
              "    <tr>\n",
              "      <th>290</th>\n",
              "      <td>11322</td>\n",
              "      <td>YS Chahal</td>\n",
              "      <td>2</td>\n",
              "    </tr>\n",
              "  </tbody>\n",
              "</table>\n",
              "<p>291 rows × 3 columns</p>\n",
              "</div>"
            ],
            "text/plain": [
              "     match_id           bowler  No of Dismissal\n",
              "0          12        HH Pandya                1\n",
              "1          12  Harbhajan Singh                0\n",
              "2          12        JJ Bumrah                1\n",
              "3          12        KH Pandya                1\n",
              "4          12   MJ McClenaghan                2\n",
              "..        ...              ...              ...\n",
              "286     11322           P Negi                0\n",
              "287     11322        RD Chahar                0\n",
              "288     11322       SL Malinga                5\n",
              "289     11322         UT Yadav                0\n",
              "290     11322        YS Chahal                2\n",
              "\n",
              "[291 rows x 3 columns]"
            ]
          },
          "metadata": {
            "tags": []
          },
          "execution_count": 19
        }
      ]
    },
    {
      "cell_type": "markdown",
      "metadata": {
        "id": "YU_kYBUsOPtQ"
      },
      "source": [
        "Here, we have got wickets taken by all the bowlers in a particular match"
      ]
    },
    {
      "cell_type": "code",
      "metadata": {
        "id": "Gn1ba4QzNj5p",
        "outputId": "68ea8b0b-dcdf-4fd9-dc48-99b055e2a5e0",
        "colab": {
          "base_uri": "https://localhost:8080/",
          "height": 415
        }
      },
      "source": [
        "data_wt= data_n.groupby(['match_id','bowler']).apply(lambda data_n:(data_n.player_dismissed.value_counts().sum()>=2)).reset_index(name='No of Dismissal')\n",
        "data_wt"
      ],
      "execution_count": 25,
      "outputs": [
        {
          "output_type": "execute_result",
          "data": {
            "text/html": [
              "<div>\n",
              "<style scoped>\n",
              "    .dataframe tbody tr th:only-of-type {\n",
              "        vertical-align: middle;\n",
              "    }\n",
              "\n",
              "    .dataframe tbody tr th {\n",
              "        vertical-align: top;\n",
              "    }\n",
              "\n",
              "    .dataframe thead th {\n",
              "        text-align: right;\n",
              "    }\n",
              "</style>\n",
              "<table border=\"1\" class=\"dataframe\">\n",
              "  <thead>\n",
              "    <tr style=\"text-align: right;\">\n",
              "      <th></th>\n",
              "      <th>match_id</th>\n",
              "      <th>bowler</th>\n",
              "      <th>No of Dismissal</th>\n",
              "    </tr>\n",
              "  </thead>\n",
              "  <tbody>\n",
              "    <tr>\n",
              "      <th>0</th>\n",
              "      <td>12</td>\n",
              "      <td>HH Pandya</td>\n",
              "      <td>False</td>\n",
              "    </tr>\n",
              "    <tr>\n",
              "      <th>1</th>\n",
              "      <td>12</td>\n",
              "      <td>Harbhajan Singh</td>\n",
              "      <td>False</td>\n",
              "    </tr>\n",
              "    <tr>\n",
              "      <th>2</th>\n",
              "      <td>12</td>\n",
              "      <td>JJ Bumrah</td>\n",
              "      <td>False</td>\n",
              "    </tr>\n",
              "    <tr>\n",
              "      <th>3</th>\n",
              "      <td>12</td>\n",
              "      <td>KH Pandya</td>\n",
              "      <td>False</td>\n",
              "    </tr>\n",
              "    <tr>\n",
              "      <th>4</th>\n",
              "      <td>12</td>\n",
              "      <td>MJ McClenaghan</td>\n",
              "      <td>True</td>\n",
              "    </tr>\n",
              "    <tr>\n",
              "      <th>...</th>\n",
              "      <td>...</td>\n",
              "      <td>...</td>\n",
              "      <td>...</td>\n",
              "    </tr>\n",
              "    <tr>\n",
              "      <th>286</th>\n",
              "      <td>11322</td>\n",
              "      <td>P Negi</td>\n",
              "      <td>False</td>\n",
              "    </tr>\n",
              "    <tr>\n",
              "      <th>287</th>\n",
              "      <td>11322</td>\n",
              "      <td>RD Chahar</td>\n",
              "      <td>False</td>\n",
              "    </tr>\n",
              "    <tr>\n",
              "      <th>288</th>\n",
              "      <td>11322</td>\n",
              "      <td>SL Malinga</td>\n",
              "      <td>True</td>\n",
              "    </tr>\n",
              "    <tr>\n",
              "      <th>289</th>\n",
              "      <td>11322</td>\n",
              "      <td>UT Yadav</td>\n",
              "      <td>False</td>\n",
              "    </tr>\n",
              "    <tr>\n",
              "      <th>290</th>\n",
              "      <td>11322</td>\n",
              "      <td>YS Chahal</td>\n",
              "      <td>True</td>\n",
              "    </tr>\n",
              "  </tbody>\n",
              "</table>\n",
              "<p>291 rows × 3 columns</p>\n",
              "</div>"
            ],
            "text/plain": [
              "     match_id           bowler  No of Dismissal\n",
              "0          12        HH Pandya            False\n",
              "1          12  Harbhajan Singh            False\n",
              "2          12        JJ Bumrah            False\n",
              "3          12        KH Pandya            False\n",
              "4          12   MJ McClenaghan             True\n",
              "..        ...              ...              ...\n",
              "286     11322           P Negi            False\n",
              "287     11322        RD Chahar            False\n",
              "288     11322       SL Malinga             True\n",
              "289     11322         UT Yadav            False\n",
              "290     11322        YS Chahal             True\n",
              "\n",
              "[291 rows x 3 columns]"
            ]
          },
          "metadata": {
            "tags": []
          },
          "execution_count": 25
        }
      ]
    },
    {
      "cell_type": "markdown",
      "metadata": {
        "id": "BOhNO554OZXA"
      },
      "source": [
        "True represents whether a bowler has taken 2 or more wickets.\n",
        "\n",
        "False represents he hasn't done above.\n",
        "\n",
        "Let's count there values to get to our results."
      ]
    },
    {
      "cell_type": "code",
      "metadata": {
        "id": "h-nRomZK9iQQ",
        "outputId": "102e2af1-cd80-412f-f631-7af82ab40656",
        "colab": {
          "base_uri": "https://localhost:8080/",
          "height": 69
        }
      },
      "source": [
        "data_wt['No of Dismissal'].value_counts()"
      ],
      "execution_count": 26,
      "outputs": [
        {
          "output_type": "execute_result",
          "data": {
            "text/plain": [
              "False    214\n",
              "True      77\n",
              "Name: No of Dismissal, dtype: int64"
            ]
          },
          "metadata": {
            "tags": []
          },
          "execution_count": 26
        }
      ]
    },
    {
      "cell_type": "code",
      "metadata": {
        "id": "w2IhOGwpOvCw",
        "outputId": "81c65e74-a80e-49db-e204-f5a0da150a16",
        "colab": {
          "base_uri": "https://localhost:8080/",
          "height": 35
        }
      },
      "source": [
        "data_wt.match_id.nunique()"
      ],
      "execution_count": 27,
      "outputs": [
        {
          "output_type": "execute_result",
          "data": {
            "text/plain": [
              "25"
            ]
          },
          "metadata": {
            "tags": []
          },
          "execution_count": 27
        }
      ]
    },
    {
      "cell_type": "code",
      "metadata": {
        "id": "T_AMzs327E67",
        "outputId": "404929b3-6702-4ebe-cf3c-484f63747c64",
        "colab": {
          "base_uri": "https://localhost:8080/",
          "height": 35
        }
      },
      "source": [
        "np.round(77/25,2) # Averge 2+ wickets taken in RCB v MI contest"
      ],
      "execution_count": 28,
      "outputs": [
        {
          "output_type": "execute_result",
          "data": {
            "text/plain": [
              "3.08"
            ]
          },
          "metadata": {
            "tags": []
          },
          "execution_count": 28
        }
      ]
    },
    {
      "cell_type": "markdown",
      "metadata": {
        "id": "-vCAk2kj7Uys"
      },
      "source": [
        "Let's mark 3-4 considering our analysis."
      ]
    },
    {
      "cell_type": "markdown",
      "metadata": {
        "id": "Q0Xco_vdrYuW"
      },
      "source": [
        "**For Q3, Let's find economy rate of all**\n",
        "\n"
      ]
    },
    {
      "cell_type": "code",
      "metadata": {
        "id": "OX0E3VdW7mBb",
        "outputId": "13e839b0-3726-4899-908f-fe0725802bb7",
        "colab": {
          "base_uri": "https://localhost:8080/",
          "height": 415
        }
      },
      "source": [
        "data_er = data_n.groupby(['match_id','bowler']).apply(lambda data_n:(data_n.total_runs.sum())).reset_index(name='Runs_Given')\n",
        "data_er"
      ],
      "execution_count": 30,
      "outputs": [
        {
          "output_type": "execute_result",
          "data": {
            "text/html": [
              "<div>\n",
              "<style scoped>\n",
              "    .dataframe tbody tr th:only-of-type {\n",
              "        vertical-align: middle;\n",
              "    }\n",
              "\n",
              "    .dataframe tbody tr th {\n",
              "        vertical-align: top;\n",
              "    }\n",
              "\n",
              "    .dataframe thead th {\n",
              "        text-align: right;\n",
              "    }\n",
              "</style>\n",
              "<table border=\"1\" class=\"dataframe\">\n",
              "  <thead>\n",
              "    <tr style=\"text-align: right;\">\n",
              "      <th></th>\n",
              "      <th>match_id</th>\n",
              "      <th>bowler</th>\n",
              "      <th>Runs_Given</th>\n",
              "    </tr>\n",
              "  </thead>\n",
              "  <tbody>\n",
              "    <tr>\n",
              "      <th>0</th>\n",
              "      <td>12</td>\n",
              "      <td>HH Pandya</td>\n",
              "      <td>9</td>\n",
              "    </tr>\n",
              "    <tr>\n",
              "      <th>1</th>\n",
              "      <td>12</td>\n",
              "      <td>Harbhajan Singh</td>\n",
              "      <td>25</td>\n",
              "    </tr>\n",
              "    <tr>\n",
              "      <th>2</th>\n",
              "      <td>12</td>\n",
              "      <td>JJ Bumrah</td>\n",
              "      <td>40</td>\n",
              "    </tr>\n",
              "    <tr>\n",
              "      <th>3</th>\n",
              "      <td>12</td>\n",
              "      <td>KH Pandya</td>\n",
              "      <td>25</td>\n",
              "    </tr>\n",
              "    <tr>\n",
              "      <th>4</th>\n",
              "      <td>12</td>\n",
              "      <td>MJ McClenaghan</td>\n",
              "      <td>20</td>\n",
              "    </tr>\n",
              "    <tr>\n",
              "      <th>...</th>\n",
              "      <td>...</td>\n",
              "      <td>...</td>\n",
              "      <td>...</td>\n",
              "    </tr>\n",
              "    <tr>\n",
              "      <th>286</th>\n",
              "      <td>11322</td>\n",
              "      <td>P Negi</td>\n",
              "      <td>50</td>\n",
              "    </tr>\n",
              "    <tr>\n",
              "      <th>287</th>\n",
              "      <td>11322</td>\n",
              "      <td>RD Chahar</td>\n",
              "      <td>31</td>\n",
              "    </tr>\n",
              "    <tr>\n",
              "      <th>288</th>\n",
              "      <td>11322</td>\n",
              "      <td>SL Malinga</td>\n",
              "      <td>35</td>\n",
              "    </tr>\n",
              "    <tr>\n",
              "      <th>289</th>\n",
              "      <td>11322</td>\n",
              "      <td>UT Yadav</td>\n",
              "      <td>26</td>\n",
              "    </tr>\n",
              "    <tr>\n",
              "      <th>290</th>\n",
              "      <td>11322</td>\n",
              "      <td>YS Chahal</td>\n",
              "      <td>27</td>\n",
              "    </tr>\n",
              "  </tbody>\n",
              "</table>\n",
              "<p>291 rows × 3 columns</p>\n",
              "</div>"
            ],
            "text/plain": [
              "     match_id           bowler  Runs_Given\n",
              "0          12        HH Pandya           9\n",
              "1          12  Harbhajan Singh          25\n",
              "2          12        JJ Bumrah          40\n",
              "3          12        KH Pandya          25\n",
              "4          12   MJ McClenaghan          20\n",
              "..        ...              ...         ...\n",
              "286     11322           P Negi          50\n",
              "287     11322        RD Chahar          31\n",
              "288     11322       SL Malinga          35\n",
              "289     11322         UT Yadav          26\n",
              "290     11322        YS Chahal          27\n",
              "\n",
              "[291 rows x 3 columns]"
            ]
          },
          "metadata": {
            "tags": []
          },
          "execution_count": 30
        }
      ]
    },
    {
      "cell_type": "code",
      "metadata": {
        "id": "UYVDBZ_8PtkP",
        "outputId": "01184b28-a9f0-4532-8e19-c2671162878f",
        "colab": {
          "base_uri": "https://localhost:8080/",
          "height": 415
        }
      },
      "source": [
        "data_er2 = data_n.groupby(['match_id','bowler']).apply(lambda data_n:(data_n.over.value_counts().sum())).reset_index(name='Balls_bowled')\n",
        "data_er2"
      ],
      "execution_count": 33,
      "outputs": [
        {
          "output_type": "execute_result",
          "data": {
            "text/html": [
              "<div>\n",
              "<style scoped>\n",
              "    .dataframe tbody tr th:only-of-type {\n",
              "        vertical-align: middle;\n",
              "    }\n",
              "\n",
              "    .dataframe tbody tr th {\n",
              "        vertical-align: top;\n",
              "    }\n",
              "\n",
              "    .dataframe thead th {\n",
              "        text-align: right;\n",
              "    }\n",
              "</style>\n",
              "<table border=\"1\" class=\"dataframe\">\n",
              "  <thead>\n",
              "    <tr style=\"text-align: right;\">\n",
              "      <th></th>\n",
              "      <th>match_id</th>\n",
              "      <th>bowler</th>\n",
              "      <th>Balls_bowled</th>\n",
              "    </tr>\n",
              "  </thead>\n",
              "  <tbody>\n",
              "    <tr>\n",
              "      <th>0</th>\n",
              "      <td>12</td>\n",
              "      <td>HH Pandya</td>\n",
              "      <td>12</td>\n",
              "    </tr>\n",
              "    <tr>\n",
              "      <th>1</th>\n",
              "      <td>12</td>\n",
              "      <td>Harbhajan Singh</td>\n",
              "      <td>24</td>\n",
              "    </tr>\n",
              "    <tr>\n",
              "      <th>2</th>\n",
              "      <td>12</td>\n",
              "      <td>JJ Bumrah</td>\n",
              "      <td>25</td>\n",
              "    </tr>\n",
              "    <tr>\n",
              "      <th>3</th>\n",
              "      <td>12</td>\n",
              "      <td>KH Pandya</td>\n",
              "      <td>24</td>\n",
              "    </tr>\n",
              "    <tr>\n",
              "      <th>4</th>\n",
              "      <td>12</td>\n",
              "      <td>MJ McClenaghan</td>\n",
              "      <td>25</td>\n",
              "    </tr>\n",
              "    <tr>\n",
              "      <th>...</th>\n",
              "      <td>...</td>\n",
              "      <td>...</td>\n",
              "      <td>...</td>\n",
              "    </tr>\n",
              "    <tr>\n",
              "      <th>286</th>\n",
              "      <td>11322</td>\n",
              "      <td>P Negi</td>\n",
              "      <td>27</td>\n",
              "    </tr>\n",
              "    <tr>\n",
              "      <th>287</th>\n",
              "      <td>11322</td>\n",
              "      <td>RD Chahar</td>\n",
              "      <td>24</td>\n",
              "    </tr>\n",
              "    <tr>\n",
              "      <th>288</th>\n",
              "      <td>11322</td>\n",
              "      <td>SL Malinga</td>\n",
              "      <td>24</td>\n",
              "    </tr>\n",
              "    <tr>\n",
              "      <th>289</th>\n",
              "      <td>11322</td>\n",
              "      <td>UT Yadav</td>\n",
              "      <td>13</td>\n",
              "    </tr>\n",
              "    <tr>\n",
              "      <th>290</th>\n",
              "      <td>11322</td>\n",
              "      <td>YS Chahal</td>\n",
              "      <td>24</td>\n",
              "    </tr>\n",
              "  </tbody>\n",
              "</table>\n",
              "<p>291 rows × 3 columns</p>\n",
              "</div>"
            ],
            "text/plain": [
              "     match_id           bowler  Balls_bowled\n",
              "0          12        HH Pandya            12\n",
              "1          12  Harbhajan Singh            24\n",
              "2          12        JJ Bumrah            25\n",
              "3          12        KH Pandya            24\n",
              "4          12   MJ McClenaghan            25\n",
              "..        ...              ...           ...\n",
              "286     11322           P Negi            27\n",
              "287     11322        RD Chahar            24\n",
              "288     11322       SL Malinga            24\n",
              "289     11322         UT Yadav            13\n",
              "290     11322        YS Chahal            24\n",
              "\n",
              "[291 rows x 3 columns]"
            ]
          },
          "metadata": {
            "tags": []
          },
          "execution_count": 33
        }
      ]
    },
    {
      "cell_type": "code",
      "metadata": {
        "id": "UD3Xj2QqQUFg",
        "outputId": "5e8b47f1-02a5-4188-b462-8262f3fab8f2",
        "colab": {
          "base_uri": "https://localhost:8080/",
          "height": 415
        }
      },
      "source": [
        "data_er2['Overs_bowled'] = data_er2['Balls_bowled'] / 6\n",
        "data_er2"
      ],
      "execution_count": 49,
      "outputs": [
        {
          "output_type": "execute_result",
          "data": {
            "text/html": [
              "<div>\n",
              "<style scoped>\n",
              "    .dataframe tbody tr th:only-of-type {\n",
              "        vertical-align: middle;\n",
              "    }\n",
              "\n",
              "    .dataframe tbody tr th {\n",
              "        vertical-align: top;\n",
              "    }\n",
              "\n",
              "    .dataframe thead th {\n",
              "        text-align: right;\n",
              "    }\n",
              "</style>\n",
              "<table border=\"1\" class=\"dataframe\">\n",
              "  <thead>\n",
              "    <tr style=\"text-align: right;\">\n",
              "      <th></th>\n",
              "      <th>match_id</th>\n",
              "      <th>bowler</th>\n",
              "      <th>Balls_bowled</th>\n",
              "      <th>Overs_bowled</th>\n",
              "    </tr>\n",
              "  </thead>\n",
              "  <tbody>\n",
              "    <tr>\n",
              "      <th>0</th>\n",
              "      <td>12</td>\n",
              "      <td>HH Pandya</td>\n",
              "      <td>12</td>\n",
              "      <td>2.000000</td>\n",
              "    </tr>\n",
              "    <tr>\n",
              "      <th>1</th>\n",
              "      <td>12</td>\n",
              "      <td>Harbhajan Singh</td>\n",
              "      <td>24</td>\n",
              "      <td>4.000000</td>\n",
              "    </tr>\n",
              "    <tr>\n",
              "      <th>2</th>\n",
              "      <td>12</td>\n",
              "      <td>JJ Bumrah</td>\n",
              "      <td>25</td>\n",
              "      <td>4.166667</td>\n",
              "    </tr>\n",
              "    <tr>\n",
              "      <th>3</th>\n",
              "      <td>12</td>\n",
              "      <td>KH Pandya</td>\n",
              "      <td>24</td>\n",
              "      <td>4.000000</td>\n",
              "    </tr>\n",
              "    <tr>\n",
              "      <th>4</th>\n",
              "      <td>12</td>\n",
              "      <td>MJ McClenaghan</td>\n",
              "      <td>25</td>\n",
              "      <td>4.166667</td>\n",
              "    </tr>\n",
              "    <tr>\n",
              "      <th>...</th>\n",
              "      <td>...</td>\n",
              "      <td>...</td>\n",
              "      <td>...</td>\n",
              "      <td>...</td>\n",
              "    </tr>\n",
              "    <tr>\n",
              "      <th>286</th>\n",
              "      <td>11322</td>\n",
              "      <td>P Negi</td>\n",
              "      <td>27</td>\n",
              "      <td>4.500000</td>\n",
              "    </tr>\n",
              "    <tr>\n",
              "      <th>287</th>\n",
              "      <td>11322</td>\n",
              "      <td>RD Chahar</td>\n",
              "      <td>24</td>\n",
              "      <td>4.000000</td>\n",
              "    </tr>\n",
              "    <tr>\n",
              "      <th>288</th>\n",
              "      <td>11322</td>\n",
              "      <td>SL Malinga</td>\n",
              "      <td>24</td>\n",
              "      <td>4.000000</td>\n",
              "    </tr>\n",
              "    <tr>\n",
              "      <th>289</th>\n",
              "      <td>11322</td>\n",
              "      <td>UT Yadav</td>\n",
              "      <td>13</td>\n",
              "      <td>2.166667</td>\n",
              "    </tr>\n",
              "    <tr>\n",
              "      <th>290</th>\n",
              "      <td>11322</td>\n",
              "      <td>YS Chahal</td>\n",
              "      <td>24</td>\n",
              "      <td>4.000000</td>\n",
              "    </tr>\n",
              "  </tbody>\n",
              "</table>\n",
              "<p>291 rows × 4 columns</p>\n",
              "</div>"
            ],
            "text/plain": [
              "     match_id           bowler  Balls_bowled  Overs_bowled\n",
              "0          12        HH Pandya            12      2.000000\n",
              "1          12  Harbhajan Singh            24      4.000000\n",
              "2          12        JJ Bumrah            25      4.166667\n",
              "3          12        KH Pandya            24      4.000000\n",
              "4          12   MJ McClenaghan            25      4.166667\n",
              "..        ...              ...           ...           ...\n",
              "286     11322           P Negi            27      4.500000\n",
              "287     11322        RD Chahar            24      4.000000\n",
              "288     11322       SL Malinga            24      4.000000\n",
              "289     11322         UT Yadav            13      2.166667\n",
              "290     11322        YS Chahal            24      4.000000\n",
              "\n",
              "[291 rows x 4 columns]"
            ]
          },
          "metadata": {
            "tags": []
          },
          "execution_count": 49
        }
      ]
    },
    {
      "cell_type": "markdown",
      "metadata": {
        "id": "eFxN1nKRRgKJ"
      },
      "source": [
        "First let's join them . Also, I think it will better to do find Economy rate with Ballsr rather than Overs because of any error"
      ]
    },
    {
      "cell_type": "code",
      "metadata": {
        "id": "y1l-dPlL74OH",
        "outputId": "c3d3914e-e4e7-4196-cd03-03b2c3a85cb1",
        "colab": {
          "base_uri": "https://localhost:8080/",
          "height": 415
        }
      },
      "source": [
        "data_e = data_er.join(data_er2['Balls_bowled'])\n",
        "data_e \n"
      ],
      "execution_count": 66,
      "outputs": [
        {
          "output_type": "execute_result",
          "data": {
            "text/html": [
              "<div>\n",
              "<style scoped>\n",
              "    .dataframe tbody tr th:only-of-type {\n",
              "        vertical-align: middle;\n",
              "    }\n",
              "\n",
              "    .dataframe tbody tr th {\n",
              "        vertical-align: top;\n",
              "    }\n",
              "\n",
              "    .dataframe thead th {\n",
              "        text-align: right;\n",
              "    }\n",
              "</style>\n",
              "<table border=\"1\" class=\"dataframe\">\n",
              "  <thead>\n",
              "    <tr style=\"text-align: right;\">\n",
              "      <th></th>\n",
              "      <th>match_id</th>\n",
              "      <th>bowler</th>\n",
              "      <th>Runs_Given</th>\n",
              "      <th>Balls_bowled</th>\n",
              "    </tr>\n",
              "  </thead>\n",
              "  <tbody>\n",
              "    <tr>\n",
              "      <th>0</th>\n",
              "      <td>12</td>\n",
              "      <td>HH Pandya</td>\n",
              "      <td>9</td>\n",
              "      <td>12</td>\n",
              "    </tr>\n",
              "    <tr>\n",
              "      <th>1</th>\n",
              "      <td>12</td>\n",
              "      <td>Harbhajan Singh</td>\n",
              "      <td>25</td>\n",
              "      <td>24</td>\n",
              "    </tr>\n",
              "    <tr>\n",
              "      <th>2</th>\n",
              "      <td>12</td>\n",
              "      <td>JJ Bumrah</td>\n",
              "      <td>40</td>\n",
              "      <td>25</td>\n",
              "    </tr>\n",
              "    <tr>\n",
              "      <th>3</th>\n",
              "      <td>12</td>\n",
              "      <td>KH Pandya</td>\n",
              "      <td>25</td>\n",
              "      <td>24</td>\n",
              "    </tr>\n",
              "    <tr>\n",
              "      <th>4</th>\n",
              "      <td>12</td>\n",
              "      <td>MJ McClenaghan</td>\n",
              "      <td>20</td>\n",
              "      <td>25</td>\n",
              "    </tr>\n",
              "    <tr>\n",
              "      <th>...</th>\n",
              "      <td>...</td>\n",
              "      <td>...</td>\n",
              "      <td>...</td>\n",
              "      <td>...</td>\n",
              "    </tr>\n",
              "    <tr>\n",
              "      <th>286</th>\n",
              "      <td>11322</td>\n",
              "      <td>P Negi</td>\n",
              "      <td>50</td>\n",
              "      <td>27</td>\n",
              "    </tr>\n",
              "    <tr>\n",
              "      <th>287</th>\n",
              "      <td>11322</td>\n",
              "      <td>RD Chahar</td>\n",
              "      <td>31</td>\n",
              "      <td>24</td>\n",
              "    </tr>\n",
              "    <tr>\n",
              "      <th>288</th>\n",
              "      <td>11322</td>\n",
              "      <td>SL Malinga</td>\n",
              "      <td>35</td>\n",
              "      <td>24</td>\n",
              "    </tr>\n",
              "    <tr>\n",
              "      <th>289</th>\n",
              "      <td>11322</td>\n",
              "      <td>UT Yadav</td>\n",
              "      <td>26</td>\n",
              "      <td>13</td>\n",
              "    </tr>\n",
              "    <tr>\n",
              "      <th>290</th>\n",
              "      <td>11322</td>\n",
              "      <td>YS Chahal</td>\n",
              "      <td>27</td>\n",
              "      <td>24</td>\n",
              "    </tr>\n",
              "  </tbody>\n",
              "</table>\n",
              "<p>291 rows × 4 columns</p>\n",
              "</div>"
            ],
            "text/plain": [
              "     match_id           bowler  Runs_Given  Balls_bowled\n",
              "0          12        HH Pandya           9            12\n",
              "1          12  Harbhajan Singh          25            24\n",
              "2          12        JJ Bumrah          40            25\n",
              "3          12        KH Pandya          25            24\n",
              "4          12   MJ McClenaghan          20            25\n",
              "..        ...              ...         ...           ...\n",
              "286     11322           P Negi          50            27\n",
              "287     11322        RD Chahar          31            24\n",
              "288     11322       SL Malinga          35            24\n",
              "289     11322         UT Yadav          26            13\n",
              "290     11322        YS Chahal          27            24\n",
              "\n",
              "[291 rows x 4 columns]"
            ]
          },
          "metadata": {
            "tags": []
          },
          "execution_count": 66
        }
      ]
    },
    {
      "cell_type": "markdown",
      "metadata": {
        "id": "5aZeAzRYQpYT"
      },
      "source": [
        "Let's find economy rate now\n",
        "\n",
        "Formulae - Runs/Balls * 6"
      ]
    },
    {
      "cell_type": "code",
      "metadata": {
        "id": "zW6-3ddHQtJa",
        "outputId": "a2c14579-432a-4b6b-de61-9e0eaa1e6f97",
        "colab": {
          "base_uri": "https://localhost:8080/",
          "height": 415
        }
      },
      "source": [
        "data_e['Economy_rate'] =( data_e['Runs_Given'] / data_e['Balls_bowled']) * 6\n",
        "data_e"
      ],
      "execution_count": 67,
      "outputs": [
        {
          "output_type": "execute_result",
          "data": {
            "text/html": [
              "<div>\n",
              "<style scoped>\n",
              "    .dataframe tbody tr th:only-of-type {\n",
              "        vertical-align: middle;\n",
              "    }\n",
              "\n",
              "    .dataframe tbody tr th {\n",
              "        vertical-align: top;\n",
              "    }\n",
              "\n",
              "    .dataframe thead th {\n",
              "        text-align: right;\n",
              "    }\n",
              "</style>\n",
              "<table border=\"1\" class=\"dataframe\">\n",
              "  <thead>\n",
              "    <tr style=\"text-align: right;\">\n",
              "      <th></th>\n",
              "      <th>match_id</th>\n",
              "      <th>bowler</th>\n",
              "      <th>Runs_Given</th>\n",
              "      <th>Balls_bowled</th>\n",
              "      <th>Economy_rate</th>\n",
              "    </tr>\n",
              "  </thead>\n",
              "  <tbody>\n",
              "    <tr>\n",
              "      <th>0</th>\n",
              "      <td>12</td>\n",
              "      <td>HH Pandya</td>\n",
              "      <td>9</td>\n",
              "      <td>12</td>\n",
              "      <td>4.500000</td>\n",
              "    </tr>\n",
              "    <tr>\n",
              "      <th>1</th>\n",
              "      <td>12</td>\n",
              "      <td>Harbhajan Singh</td>\n",
              "      <td>25</td>\n",
              "      <td>24</td>\n",
              "      <td>6.250000</td>\n",
              "    </tr>\n",
              "    <tr>\n",
              "      <th>2</th>\n",
              "      <td>12</td>\n",
              "      <td>JJ Bumrah</td>\n",
              "      <td>40</td>\n",
              "      <td>25</td>\n",
              "      <td>9.600000</td>\n",
              "    </tr>\n",
              "    <tr>\n",
              "      <th>3</th>\n",
              "      <td>12</td>\n",
              "      <td>KH Pandya</td>\n",
              "      <td>25</td>\n",
              "      <td>24</td>\n",
              "      <td>6.250000</td>\n",
              "    </tr>\n",
              "    <tr>\n",
              "      <th>4</th>\n",
              "      <td>12</td>\n",
              "      <td>MJ McClenaghan</td>\n",
              "      <td>20</td>\n",
              "      <td>25</td>\n",
              "      <td>4.800000</td>\n",
              "    </tr>\n",
              "    <tr>\n",
              "      <th>...</th>\n",
              "      <td>...</td>\n",
              "      <td>...</td>\n",
              "      <td>...</td>\n",
              "      <td>...</td>\n",
              "      <td>...</td>\n",
              "    </tr>\n",
              "    <tr>\n",
              "      <th>286</th>\n",
              "      <td>11322</td>\n",
              "      <td>P Negi</td>\n",
              "      <td>50</td>\n",
              "      <td>27</td>\n",
              "      <td>11.111111</td>\n",
              "    </tr>\n",
              "    <tr>\n",
              "      <th>287</th>\n",
              "      <td>11322</td>\n",
              "      <td>RD Chahar</td>\n",
              "      <td>31</td>\n",
              "      <td>24</td>\n",
              "      <td>7.750000</td>\n",
              "    </tr>\n",
              "    <tr>\n",
              "      <th>288</th>\n",
              "      <td>11322</td>\n",
              "      <td>SL Malinga</td>\n",
              "      <td>35</td>\n",
              "      <td>24</td>\n",
              "      <td>8.750000</td>\n",
              "    </tr>\n",
              "    <tr>\n",
              "      <th>289</th>\n",
              "      <td>11322</td>\n",
              "      <td>UT Yadav</td>\n",
              "      <td>26</td>\n",
              "      <td>13</td>\n",
              "      <td>12.000000</td>\n",
              "    </tr>\n",
              "    <tr>\n",
              "      <th>290</th>\n",
              "      <td>11322</td>\n",
              "      <td>YS Chahal</td>\n",
              "      <td>27</td>\n",
              "      <td>24</td>\n",
              "      <td>6.750000</td>\n",
              "    </tr>\n",
              "  </tbody>\n",
              "</table>\n",
              "<p>291 rows × 5 columns</p>\n",
              "</div>"
            ],
            "text/plain": [
              "     match_id           bowler  Runs_Given  Balls_bowled  Economy_rate\n",
              "0          12        HH Pandya           9            12      4.500000\n",
              "1          12  Harbhajan Singh          25            24      6.250000\n",
              "2          12        JJ Bumrah          40            25      9.600000\n",
              "3          12        KH Pandya          25            24      6.250000\n",
              "4          12   MJ McClenaghan          20            25      4.800000\n",
              "..        ...              ...         ...           ...           ...\n",
              "286     11322           P Negi          50            27     11.111111\n",
              "287     11322        RD Chahar          31            24      7.750000\n",
              "288     11322       SL Malinga          35            24      8.750000\n",
              "289     11322         UT Yadav          26            13     12.000000\n",
              "290     11322        YS Chahal          27            24      6.750000\n",
              "\n",
              "[291 rows x 5 columns]"
            ]
          },
          "metadata": {
            "tags": []
          },
          "execution_count": 67
        }
      ]
    },
    {
      "cell_type": "markdown",
      "metadata": {
        "id": "KxZyd0J6RfYX"
      },
      "source": [
        "Since we have the condition of 1 over max , let's filter it out.\n",
        "\n",
        "Also, then we will find all those who have economy rate less than 8\n"
      ]
    },
    {
      "cell_type": "code",
      "metadata": {
        "id": "9lrPH6ReTXSQ"
      },
      "source": [
        "data_e = data_e[data_e.Balls_bowled >6] # Max 1 over condition"
      ],
      "execution_count": 69,
      "outputs": []
    },
    {
      "cell_type": "code",
      "metadata": {
        "id": "l_-EHmveUIf_"
      },
      "source": [
        "data_e = data_e[data_e.Economy_rate < 8] # Economy rate should be less than 8"
      ],
      "execution_count": 70,
      "outputs": []
    },
    {
      "cell_type": "code",
      "metadata": {
        "id": "bZyUW72sUTBW",
        "outputId": "44535803-aa49-451c-a101-a19897b92075",
        "colab": {
          "base_uri": "https://localhost:8080/",
          "height": 202
        }
      },
      "source": [
        "data_e.head()"
      ],
      "execution_count": 71,
      "outputs": [
        {
          "output_type": "execute_result",
          "data": {
            "text/html": [
              "<div>\n",
              "<style scoped>\n",
              "    .dataframe tbody tr th:only-of-type {\n",
              "        vertical-align: middle;\n",
              "    }\n",
              "\n",
              "    .dataframe tbody tr th {\n",
              "        vertical-align: top;\n",
              "    }\n",
              "\n",
              "    .dataframe thead th {\n",
              "        text-align: right;\n",
              "    }\n",
              "</style>\n",
              "<table border=\"1\" class=\"dataframe\">\n",
              "  <thead>\n",
              "    <tr style=\"text-align: right;\">\n",
              "      <th></th>\n",
              "      <th>match_id</th>\n",
              "      <th>bowler</th>\n",
              "      <th>Runs_Given</th>\n",
              "      <th>Balls_bowled</th>\n",
              "      <th>Economy_rate</th>\n",
              "    </tr>\n",
              "  </thead>\n",
              "  <tbody>\n",
              "    <tr>\n",
              "      <th>0</th>\n",
              "      <td>12</td>\n",
              "      <td>HH Pandya</td>\n",
              "      <td>9</td>\n",
              "      <td>12</td>\n",
              "      <td>4.50</td>\n",
              "    </tr>\n",
              "    <tr>\n",
              "      <th>1</th>\n",
              "      <td>12</td>\n",
              "      <td>Harbhajan Singh</td>\n",
              "      <td>25</td>\n",
              "      <td>24</td>\n",
              "      <td>6.25</td>\n",
              "    </tr>\n",
              "    <tr>\n",
              "      <th>3</th>\n",
              "      <td>12</td>\n",
              "      <td>KH Pandya</td>\n",
              "      <td>25</td>\n",
              "      <td>24</td>\n",
              "      <td>6.25</td>\n",
              "    </tr>\n",
              "    <tr>\n",
              "      <th>4</th>\n",
              "      <td>12</td>\n",
              "      <td>MJ McClenaghan</td>\n",
              "      <td>20</td>\n",
              "      <td>25</td>\n",
              "      <td>4.80</td>\n",
              "    </tr>\n",
              "    <tr>\n",
              "      <th>6</th>\n",
              "      <td>12</td>\n",
              "      <td>S Aravind</td>\n",
              "      <td>21</td>\n",
              "      <td>25</td>\n",
              "      <td>5.04</td>\n",
              "    </tr>\n",
              "  </tbody>\n",
              "</table>\n",
              "</div>"
            ],
            "text/plain": [
              "   match_id           bowler  Runs_Given  Balls_bowled  Economy_rate\n",
              "0        12        HH Pandya           9            12          4.50\n",
              "1        12  Harbhajan Singh          25            24          6.25\n",
              "3        12        KH Pandya          25            24          6.25\n",
              "4        12   MJ McClenaghan          20            25          4.80\n",
              "6        12        S Aravind          21            25          5.04"
            ]
          },
          "metadata": {
            "tags": []
          },
          "execution_count": 71
        }
      ]
    },
    {
      "cell_type": "code",
      "metadata": {
        "id": "Hg4T05e6UhZq",
        "outputId": "f6bdfd20-d348-4582-c7c6-05aea2deb3c1",
        "colab": {
          "base_uri": "https://localhost:8080/",
          "height": 35
        }
      },
      "source": [
        "data_e.Economy_rate.value_counts().sum() # No of bowlers with less than economy rate of 8 in MI v RCB contest"
      ],
      "execution_count": 73,
      "outputs": [
        {
          "output_type": "execute_result",
          "data": {
            "text/plain": [
              "131"
            ]
          },
          "metadata": {
            "tags": []
          },
          "execution_count": 73
        }
      ]
    },
    {
      "cell_type": "code",
      "metadata": {
        "id": "-dnhyskTUrRs",
        "outputId": "e172b249-4dd1-42de-e2e0-695f62856f2a",
        "colab": {
          "base_uri": "https://localhost:8080/",
          "height": 35
        }
      },
      "source": [
        "data_e.match_id.nunique()"
      ],
      "execution_count": 74,
      "outputs": [
        {
          "output_type": "execute_result",
          "data": {
            "text/plain": [
              "25"
            ]
          },
          "metadata": {
            "tags": []
          },
          "execution_count": 74
        }
      ]
    },
    {
      "cell_type": "code",
      "metadata": {
        "id": "u_T4qC1hU3Nk",
        "outputId": "f1981bb5-4f5f-4e50-e54f-1be7fbecfa74",
        "colab": {
          "base_uri": "https://localhost:8080/",
          "height": 35
        }
      },
      "source": [
        "np.round(131/25,2) # Average bowler per match with Economy of less than 8"
      ],
      "execution_count": 75,
      "outputs": [
        {
          "output_type": "execute_result",
          "data": {
            "text/plain": [
              "5.24"
            ]
          },
          "metadata": {
            "tags": []
          },
          "execution_count": 75
        }
      ]
    },
    {
      "cell_type": "markdown",
      "metadata": {
        "id": "8gyn9GKu8OVM"
      },
      "source": [
        "Let's mark 5-7 bowlers considering our analysis"
      ]
    },
    {
      "cell_type": "markdown",
      "metadata": {
        "id": "MX2NNUNNVMCK"
      },
      "source": [
        "**Let's do Q4**\n",
        "\n",
        "**Let's find Strike rate for all**"
      ]
    },
    {
      "cell_type": "code",
      "metadata": {
        "id": "oWa-u5OsVafi",
        "outputId": "05c5fa9d-19f3-43e4-c793-9c6fc840a6c5",
        "colab": {
          "base_uri": "https://localhost:8080/",
          "height": 415
        }
      },
      "source": [
        "data_sr = data_n.groupby(['match_id','batsman']).apply(lambda data_n:(data_n.batsman_runs.sum())).reset_index(name='Runs_Scored')\n",
        "data_sr"
      ],
      "execution_count": 76,
      "outputs": [
        {
          "output_type": "execute_result",
          "data": {
            "text/html": [
              "<div>\n",
              "<style scoped>\n",
              "    .dataframe tbody tr th:only-of-type {\n",
              "        vertical-align: middle;\n",
              "    }\n",
              "\n",
              "    .dataframe tbody tr th {\n",
              "        vertical-align: top;\n",
              "    }\n",
              "\n",
              "    .dataframe thead th {\n",
              "        text-align: right;\n",
              "    }\n",
              "</style>\n",
              "<table border=\"1\" class=\"dataframe\">\n",
              "  <thead>\n",
              "    <tr style=\"text-align: right;\">\n",
              "      <th></th>\n",
              "      <th>match_id</th>\n",
              "      <th>batsman</th>\n",
              "      <th>Runs_Scored</th>\n",
              "    </tr>\n",
              "  </thead>\n",
              "  <tbody>\n",
              "    <tr>\n",
              "      <th>0</th>\n",
              "      <td>12</td>\n",
              "      <td>AB de Villiers</td>\n",
              "      <td>19</td>\n",
              "    </tr>\n",
              "    <tr>\n",
              "      <th>1</th>\n",
              "      <td>12</td>\n",
              "      <td>CH Gayle</td>\n",
              "      <td>22</td>\n",
              "    </tr>\n",
              "    <tr>\n",
              "      <th>2</th>\n",
              "      <td>12</td>\n",
              "      <td>HH Pandya</td>\n",
              "      <td>9</td>\n",
              "    </tr>\n",
              "    <tr>\n",
              "      <th>3</th>\n",
              "      <td>12</td>\n",
              "      <td>JC Buttler</td>\n",
              "      <td>2</td>\n",
              "    </tr>\n",
              "    <tr>\n",
              "      <th>4</th>\n",
              "      <td>12</td>\n",
              "      <td>KA Pollard</td>\n",
              "      <td>70</td>\n",
              "    </tr>\n",
              "    <tr>\n",
              "      <th>...</th>\n",
              "      <td>...</td>\n",
              "      <td>...</td>\n",
              "      <td>...</td>\n",
              "    </tr>\n",
              "    <tr>\n",
              "      <th>360</th>\n",
              "      <td>11322</td>\n",
              "      <td>PA Patel</td>\n",
              "      <td>31</td>\n",
              "    </tr>\n",
              "    <tr>\n",
              "      <th>361</th>\n",
              "      <td>11322</td>\n",
              "      <td>Q de Kock</td>\n",
              "      <td>41</td>\n",
              "    </tr>\n",
              "    <tr>\n",
              "      <th>362</th>\n",
              "      <td>11322</td>\n",
              "      <td>RG Sharma</td>\n",
              "      <td>29</td>\n",
              "    </tr>\n",
              "    <tr>\n",
              "      <th>363</th>\n",
              "      <td>11322</td>\n",
              "      <td>UT Yadav</td>\n",
              "      <td>2</td>\n",
              "    </tr>\n",
              "    <tr>\n",
              "      <th>364</th>\n",
              "      <td>11322</td>\n",
              "      <td>V Kohli</td>\n",
              "      <td>9</td>\n",
              "    </tr>\n",
              "  </tbody>\n",
              "</table>\n",
              "<p>365 rows × 3 columns</p>\n",
              "</div>"
            ],
            "text/plain": [
              "     match_id         batsman  Runs_Scored\n",
              "0          12  AB de Villiers           19\n",
              "1          12        CH Gayle           22\n",
              "2          12       HH Pandya            9\n",
              "3          12      JC Buttler            2\n",
              "4          12      KA Pollard           70\n",
              "..        ...             ...          ...\n",
              "360     11322        PA Patel           31\n",
              "361     11322       Q de Kock           41\n",
              "362     11322       RG Sharma           29\n",
              "363     11322        UT Yadav            2\n",
              "364     11322         V Kohli            9\n",
              "\n",
              "[365 rows x 3 columns]"
            ]
          },
          "metadata": {
            "tags": []
          },
          "execution_count": 76
        }
      ]
    },
    {
      "cell_type": "code",
      "metadata": {
        "id": "BcsUyr8G-NB5",
        "outputId": "d71feb08-f021-4ae0-b706-8d715b3f7d85",
        "colab": {
          "base_uri": "https://localhost:8080/",
          "height": 415
        }
      },
      "source": [
        "data_sr2 = data_n.groupby(['match_id','batsman']).apply(lambda data_n:(data_n.over.value_counts().sum())).reset_index(name='Balls_Faced')\n",
        "data_sr2"
      ],
      "execution_count": 77,
      "outputs": [
        {
          "output_type": "execute_result",
          "data": {
            "text/html": [
              "<div>\n",
              "<style scoped>\n",
              "    .dataframe tbody tr th:only-of-type {\n",
              "        vertical-align: middle;\n",
              "    }\n",
              "\n",
              "    .dataframe tbody tr th {\n",
              "        vertical-align: top;\n",
              "    }\n",
              "\n",
              "    .dataframe thead th {\n",
              "        text-align: right;\n",
              "    }\n",
              "</style>\n",
              "<table border=\"1\" class=\"dataframe\">\n",
              "  <thead>\n",
              "    <tr style=\"text-align: right;\">\n",
              "      <th></th>\n",
              "      <th>match_id</th>\n",
              "      <th>batsman</th>\n",
              "      <th>Balls_Faced</th>\n",
              "    </tr>\n",
              "  </thead>\n",
              "  <tbody>\n",
              "    <tr>\n",
              "      <th>0</th>\n",
              "      <td>12</td>\n",
              "      <td>AB de Villiers</td>\n",
              "      <td>22</td>\n",
              "    </tr>\n",
              "    <tr>\n",
              "      <th>1</th>\n",
              "      <td>12</td>\n",
              "      <td>CH Gayle</td>\n",
              "      <td>28</td>\n",
              "    </tr>\n",
              "    <tr>\n",
              "      <th>2</th>\n",
              "      <td>12</td>\n",
              "      <td>HH Pandya</td>\n",
              "      <td>5</td>\n",
              "    </tr>\n",
              "    <tr>\n",
              "      <th>3</th>\n",
              "      <td>12</td>\n",
              "      <td>JC Buttler</td>\n",
              "      <td>5</td>\n",
              "    </tr>\n",
              "    <tr>\n",
              "      <th>4</th>\n",
              "      <td>12</td>\n",
              "      <td>KA Pollard</td>\n",
              "      <td>49</td>\n",
              "    </tr>\n",
              "    <tr>\n",
              "      <th>...</th>\n",
              "      <td>...</td>\n",
              "      <td>...</td>\n",
              "      <td>...</td>\n",
              "    </tr>\n",
              "    <tr>\n",
              "      <th>360</th>\n",
              "      <td>11322</td>\n",
              "      <td>PA Patel</td>\n",
              "      <td>20</td>\n",
              "    </tr>\n",
              "    <tr>\n",
              "      <th>361</th>\n",
              "      <td>11322</td>\n",
              "      <td>Q de Kock</td>\n",
              "      <td>27</td>\n",
              "    </tr>\n",
              "    <tr>\n",
              "      <th>362</th>\n",
              "      <td>11322</td>\n",
              "      <td>RG Sharma</td>\n",
              "      <td>20</td>\n",
              "    </tr>\n",
              "    <tr>\n",
              "      <th>363</th>\n",
              "      <td>11322</td>\n",
              "      <td>UT Yadav</td>\n",
              "      <td>1</td>\n",
              "    </tr>\n",
              "    <tr>\n",
              "      <th>364</th>\n",
              "      <td>11322</td>\n",
              "      <td>V Kohli</td>\n",
              "      <td>10</td>\n",
              "    </tr>\n",
              "  </tbody>\n",
              "</table>\n",
              "<p>365 rows × 3 columns</p>\n",
              "</div>"
            ],
            "text/plain": [
              "     match_id         batsman  Balls_Faced\n",
              "0          12  AB de Villiers           22\n",
              "1          12        CH Gayle           28\n",
              "2          12       HH Pandya            5\n",
              "3          12      JC Buttler            5\n",
              "4          12      KA Pollard           49\n",
              "..        ...             ...          ...\n",
              "360     11322        PA Patel           20\n",
              "361     11322       Q de Kock           27\n",
              "362     11322       RG Sharma           20\n",
              "363     11322        UT Yadav            1\n",
              "364     11322         V Kohli           10\n",
              "\n",
              "[365 rows x 3 columns]"
            ]
          },
          "metadata": {
            "tags": []
          },
          "execution_count": 77
        }
      ]
    },
    {
      "cell_type": "code",
      "metadata": {
        "id": "BSbCpT2feAwB",
        "outputId": "9cc26796-b0ef-461e-d392-8a7b7404d789",
        "colab": {
          "base_uri": "https://localhost:8080/",
          "height": 415
        }
      },
      "source": [
        "data_s = data_sr.join(data_sr2['Balls_Faced'])\n",
        "data_s"
      ],
      "execution_count": 102,
      "outputs": [
        {
          "output_type": "execute_result",
          "data": {
            "text/html": [
              "<div>\n",
              "<style scoped>\n",
              "    .dataframe tbody tr th:only-of-type {\n",
              "        vertical-align: middle;\n",
              "    }\n",
              "\n",
              "    .dataframe tbody tr th {\n",
              "        vertical-align: top;\n",
              "    }\n",
              "\n",
              "    .dataframe thead th {\n",
              "        text-align: right;\n",
              "    }\n",
              "</style>\n",
              "<table border=\"1\" class=\"dataframe\">\n",
              "  <thead>\n",
              "    <tr style=\"text-align: right;\">\n",
              "      <th></th>\n",
              "      <th>match_id</th>\n",
              "      <th>batsman</th>\n",
              "      <th>Runs_Scored</th>\n",
              "      <th>Balls_Faced</th>\n",
              "    </tr>\n",
              "  </thead>\n",
              "  <tbody>\n",
              "    <tr>\n",
              "      <th>0</th>\n",
              "      <td>12</td>\n",
              "      <td>AB de Villiers</td>\n",
              "      <td>19</td>\n",
              "      <td>22</td>\n",
              "    </tr>\n",
              "    <tr>\n",
              "      <th>1</th>\n",
              "      <td>12</td>\n",
              "      <td>CH Gayle</td>\n",
              "      <td>22</td>\n",
              "      <td>28</td>\n",
              "    </tr>\n",
              "    <tr>\n",
              "      <th>2</th>\n",
              "      <td>12</td>\n",
              "      <td>HH Pandya</td>\n",
              "      <td>9</td>\n",
              "      <td>5</td>\n",
              "    </tr>\n",
              "    <tr>\n",
              "      <th>3</th>\n",
              "      <td>12</td>\n",
              "      <td>JC Buttler</td>\n",
              "      <td>2</td>\n",
              "      <td>5</td>\n",
              "    </tr>\n",
              "    <tr>\n",
              "      <th>4</th>\n",
              "      <td>12</td>\n",
              "      <td>KA Pollard</td>\n",
              "      <td>70</td>\n",
              "      <td>49</td>\n",
              "    </tr>\n",
              "    <tr>\n",
              "      <th>...</th>\n",
              "      <td>...</td>\n",
              "      <td>...</td>\n",
              "      <td>...</td>\n",
              "      <td>...</td>\n",
              "    </tr>\n",
              "    <tr>\n",
              "      <th>360</th>\n",
              "      <td>11322</td>\n",
              "      <td>PA Patel</td>\n",
              "      <td>31</td>\n",
              "      <td>20</td>\n",
              "    </tr>\n",
              "    <tr>\n",
              "      <th>361</th>\n",
              "      <td>11322</td>\n",
              "      <td>Q de Kock</td>\n",
              "      <td>41</td>\n",
              "      <td>27</td>\n",
              "    </tr>\n",
              "    <tr>\n",
              "      <th>362</th>\n",
              "      <td>11322</td>\n",
              "      <td>RG Sharma</td>\n",
              "      <td>29</td>\n",
              "      <td>20</td>\n",
              "    </tr>\n",
              "    <tr>\n",
              "      <th>363</th>\n",
              "      <td>11322</td>\n",
              "      <td>UT Yadav</td>\n",
              "      <td>2</td>\n",
              "      <td>1</td>\n",
              "    </tr>\n",
              "    <tr>\n",
              "      <th>364</th>\n",
              "      <td>11322</td>\n",
              "      <td>V Kohli</td>\n",
              "      <td>9</td>\n",
              "      <td>10</td>\n",
              "    </tr>\n",
              "  </tbody>\n",
              "</table>\n",
              "<p>365 rows × 4 columns</p>\n",
              "</div>"
            ],
            "text/plain": [
              "     match_id         batsman  Runs_Scored  Balls_Faced\n",
              "0          12  AB de Villiers           19           22\n",
              "1          12        CH Gayle           22           28\n",
              "2          12       HH Pandya            9            5\n",
              "3          12      JC Buttler            2            5\n",
              "4          12      KA Pollard           70           49\n",
              "..        ...             ...          ...          ...\n",
              "360     11322        PA Patel           31           20\n",
              "361     11322       Q de Kock           41           27\n",
              "362     11322       RG Sharma           29           20\n",
              "363     11322        UT Yadav            2            1\n",
              "364     11322         V Kohli            9           10\n",
              "\n",
              "[365 rows x 4 columns]"
            ]
          },
          "metadata": {
            "tags": []
          },
          "execution_count": 102
        }
      ]
    },
    {
      "cell_type": "code",
      "metadata": {
        "id": "RN386zkPczDL",
        "outputId": "d4242ebc-5c9e-4019-b711-3c9e56ab6227",
        "colab": {
          "base_uri": "https://localhost:8080/",
          "height": 415
        }
      },
      "source": [
        "data_s['Strike_Rate'] = (data_s['Runs_Scored']/data_s['Balls_Faced']) * 100\n",
        "data_s"
      ],
      "execution_count": 104,
      "outputs": [
        {
          "output_type": "execute_result",
          "data": {
            "text/html": [
              "<div>\n",
              "<style scoped>\n",
              "    .dataframe tbody tr th:only-of-type {\n",
              "        vertical-align: middle;\n",
              "    }\n",
              "\n",
              "    .dataframe tbody tr th {\n",
              "        vertical-align: top;\n",
              "    }\n",
              "\n",
              "    .dataframe thead th {\n",
              "        text-align: right;\n",
              "    }\n",
              "</style>\n",
              "<table border=\"1\" class=\"dataframe\">\n",
              "  <thead>\n",
              "    <tr style=\"text-align: right;\">\n",
              "      <th></th>\n",
              "      <th>match_id</th>\n",
              "      <th>batsman</th>\n",
              "      <th>Runs_Scored</th>\n",
              "      <th>Balls_Faced</th>\n",
              "      <th>Strike_Rate</th>\n",
              "    </tr>\n",
              "  </thead>\n",
              "  <tbody>\n",
              "    <tr>\n",
              "      <th>0</th>\n",
              "      <td>12</td>\n",
              "      <td>AB de Villiers</td>\n",
              "      <td>19</td>\n",
              "      <td>22</td>\n",
              "      <td>86.363636</td>\n",
              "    </tr>\n",
              "    <tr>\n",
              "      <th>1</th>\n",
              "      <td>12</td>\n",
              "      <td>CH Gayle</td>\n",
              "      <td>22</td>\n",
              "      <td>28</td>\n",
              "      <td>78.571429</td>\n",
              "    </tr>\n",
              "    <tr>\n",
              "      <th>2</th>\n",
              "      <td>12</td>\n",
              "      <td>HH Pandya</td>\n",
              "      <td>9</td>\n",
              "      <td>5</td>\n",
              "      <td>180.000000</td>\n",
              "    </tr>\n",
              "    <tr>\n",
              "      <th>3</th>\n",
              "      <td>12</td>\n",
              "      <td>JC Buttler</td>\n",
              "      <td>2</td>\n",
              "      <td>5</td>\n",
              "      <td>40.000000</td>\n",
              "    </tr>\n",
              "    <tr>\n",
              "      <th>4</th>\n",
              "      <td>12</td>\n",
              "      <td>KA Pollard</td>\n",
              "      <td>70</td>\n",
              "      <td>49</td>\n",
              "      <td>142.857143</td>\n",
              "    </tr>\n",
              "    <tr>\n",
              "      <th>...</th>\n",
              "      <td>...</td>\n",
              "      <td>...</td>\n",
              "      <td>...</td>\n",
              "      <td>...</td>\n",
              "      <td>...</td>\n",
              "    </tr>\n",
              "    <tr>\n",
              "      <th>360</th>\n",
              "      <td>11322</td>\n",
              "      <td>PA Patel</td>\n",
              "      <td>31</td>\n",
              "      <td>20</td>\n",
              "      <td>155.000000</td>\n",
              "    </tr>\n",
              "    <tr>\n",
              "      <th>361</th>\n",
              "      <td>11322</td>\n",
              "      <td>Q de Kock</td>\n",
              "      <td>41</td>\n",
              "      <td>27</td>\n",
              "      <td>151.851852</td>\n",
              "    </tr>\n",
              "    <tr>\n",
              "      <th>362</th>\n",
              "      <td>11322</td>\n",
              "      <td>RG Sharma</td>\n",
              "      <td>29</td>\n",
              "      <td>20</td>\n",
              "      <td>145.000000</td>\n",
              "    </tr>\n",
              "    <tr>\n",
              "      <th>363</th>\n",
              "      <td>11322</td>\n",
              "      <td>UT Yadav</td>\n",
              "      <td>2</td>\n",
              "      <td>1</td>\n",
              "      <td>200.000000</td>\n",
              "    </tr>\n",
              "    <tr>\n",
              "      <th>364</th>\n",
              "      <td>11322</td>\n",
              "      <td>V Kohli</td>\n",
              "      <td>9</td>\n",
              "      <td>10</td>\n",
              "      <td>90.000000</td>\n",
              "    </tr>\n",
              "  </tbody>\n",
              "</table>\n",
              "<p>365 rows × 5 columns</p>\n",
              "</div>"
            ],
            "text/plain": [
              "     match_id         batsman  Runs_Scored  Balls_Faced  Strike_Rate\n",
              "0          12  AB de Villiers           19           22    86.363636\n",
              "1          12        CH Gayle           22           28    78.571429\n",
              "2          12       HH Pandya            9            5   180.000000\n",
              "3          12      JC Buttler            2            5    40.000000\n",
              "4          12      KA Pollard           70           49   142.857143\n",
              "..        ...             ...          ...          ...          ...\n",
              "360     11322        PA Patel           31           20   155.000000\n",
              "361     11322       Q de Kock           41           27   151.851852\n",
              "362     11322       RG Sharma           29           20   145.000000\n",
              "363     11322        UT Yadav            2            1   200.000000\n",
              "364     11322         V Kohli            9           10    90.000000\n",
              "\n",
              "[365 rows x 5 columns]"
            ]
          },
          "metadata": {
            "tags": []
          },
          "execution_count": 104
        }
      ]
    },
    {
      "cell_type": "markdown",
      "metadata": {
        "id": "T7_zApe9ejT3"
      },
      "source": [
        "Now, We have a condition of more than 3 boundaries. To score atleast 4 boundaries one needs to score 16 runs. \n",
        "\n",
        "Let's filter out it with this condition"
      ]
    },
    {
      "cell_type": "code",
      "metadata": {
        "id": "aRNodxsSev7w"
      },
      "source": [
        "data_s = data_s[data_s.Runs_Scored > 16 ] # Max 16 runs to score 4 boundaries"
      ],
      "execution_count": 106,
      "outputs": []
    },
    {
      "cell_type": "code",
      "metadata": {
        "id": "_u4GeE48e7XK"
      },
      "source": [
        "data_s = data_s[data_s.Strike_Rate > 130 ] # Max Strike Rate of 130 Condition"
      ],
      "execution_count": 105,
      "outputs": []
    },
    {
      "cell_type": "code",
      "metadata": {
        "id": "1dqIR-OifQTn",
        "outputId": "99fedf55-7dd1-4af8-bb21-d35ce99b60eb",
        "colab": {
          "base_uri": "https://localhost:8080/",
          "height": 202
        }
      },
      "source": [
        "data_s.head()"
      ],
      "execution_count": 107,
      "outputs": [
        {
          "output_type": "execute_result",
          "data": {
            "text/html": [
              "<div>\n",
              "<style scoped>\n",
              "    .dataframe tbody tr th:only-of-type {\n",
              "        vertical-align: middle;\n",
              "    }\n",
              "\n",
              "    .dataframe tbody tr th {\n",
              "        vertical-align: top;\n",
              "    }\n",
              "\n",
              "    .dataframe thead th {\n",
              "        text-align: right;\n",
              "    }\n",
              "</style>\n",
              "<table border=\"1\" class=\"dataframe\">\n",
              "  <thead>\n",
              "    <tr style=\"text-align: right;\">\n",
              "      <th></th>\n",
              "      <th>match_id</th>\n",
              "      <th>batsman</th>\n",
              "      <th>Runs_Scored</th>\n",
              "      <th>Balls_Faced</th>\n",
              "      <th>Strike_Rate</th>\n",
              "    </tr>\n",
              "  </thead>\n",
              "  <tbody>\n",
              "    <tr>\n",
              "      <th>4</th>\n",
              "      <td>12</td>\n",
              "      <td>KA Pollard</td>\n",
              "      <td>70</td>\n",
              "      <td>49</td>\n",
              "      <td>142.857143</td>\n",
              "    </tr>\n",
              "    <tr>\n",
              "      <th>15</th>\n",
              "      <td>37</td>\n",
              "      <td>AB de Villiers</td>\n",
              "      <td>43</td>\n",
              "      <td>28</td>\n",
              "      <td>153.571429</td>\n",
              "    </tr>\n",
              "    <tr>\n",
              "      <th>18</th>\n",
              "      <td>37</td>\n",
              "      <td>JC Buttler</td>\n",
              "      <td>33</td>\n",
              "      <td>21</td>\n",
              "      <td>157.142857</td>\n",
              "    </tr>\n",
              "    <tr>\n",
              "      <th>19</th>\n",
              "      <td>37</td>\n",
              "      <td>KA Pollard</td>\n",
              "      <td>17</td>\n",
              "      <td>13</td>\n",
              "      <td>130.769231</td>\n",
              "    </tr>\n",
              "    <tr>\n",
              "      <th>23</th>\n",
              "      <td>37</td>\n",
              "      <td>Mandeep Singh</td>\n",
              "      <td>17</td>\n",
              "      <td>13</td>\n",
              "      <td>130.769231</td>\n",
              "    </tr>\n",
              "  </tbody>\n",
              "</table>\n",
              "</div>"
            ],
            "text/plain": [
              "    match_id         batsman  Runs_Scored  Balls_Faced  Strike_Rate\n",
              "4         12      KA Pollard           70           49   142.857143\n",
              "15        37  AB de Villiers           43           28   153.571429\n",
              "18        37      JC Buttler           33           21   157.142857\n",
              "19        37      KA Pollard           17           13   130.769231\n",
              "23        37   Mandeep Singh           17           13   130.769231"
            ]
          },
          "metadata": {
            "tags": []
          },
          "execution_count": 107
        }
      ]
    },
    {
      "cell_type": "code",
      "metadata": {
        "id": "RwnOtHhPfWGz",
        "outputId": "c59d769d-69b9-4f86-f2c9-a3939295a84b",
        "colab": {
          "base_uri": "https://localhost:8080/",
          "height": 35
        }
      },
      "source": [
        "data_s.batsman.value_counts().sum()"
      ],
      "execution_count": 108,
      "outputs": [
        {
          "output_type": "execute_result",
          "data": {
            "text/plain": [
              "93"
            ]
          },
          "metadata": {
            "tags": []
          },
          "execution_count": 108
        }
      ]
    },
    {
      "cell_type": "code",
      "metadata": {
        "id": "aJyCd5FMfh4D",
        "outputId": "3b86b620-9e38-4913-c0c5-660e39ff9480",
        "colab": {
          "base_uri": "https://localhost:8080/",
          "height": 35
        }
      },
      "source": [
        "data_s.match_id.nunique()"
      ],
      "execution_count": 109,
      "outputs": [
        {
          "output_type": "execute_result",
          "data": {
            "text/plain": [
              "23"
            ]
          },
          "metadata": {
            "tags": []
          },
          "execution_count": 109
        }
      ]
    },
    {
      "cell_type": "code",
      "metadata": {
        "id": "iUdcRL2dngJk",
        "outputId": "3522de0b-87a9-460b-e307-d5a0ff2d5726",
        "colab": {
          "base_uri": "https://localhost:8080/",
          "height": 35
        }
      },
      "source": [
        "np.round(93/23,2) # Average players to score with SR of 130 and hit more than 3 boundaries in MI v RCB contest"
      ],
      "execution_count": 110,
      "outputs": [
        {
          "output_type": "execute_result",
          "data": {
            "text/plain": [
              "4.04"
            ]
          },
          "metadata": {
            "tags": []
          },
          "execution_count": 110
        }
      ]
    },
    {
      "cell_type": "markdown",
      "metadata": {
        "id": "BLI_ND1OTF1k"
      },
      "source": [
        "Let's mark 3-5 considering our analysis"
      ]
    },
    {
      "cell_type": "markdown",
      "metadata": {
        "id": "uWo7_DlCXew3"
      },
      "source": [
        "**Let's do Q5 now**\n",
        "\n",
        "**Let's find difference of powerplay runs**"
      ]
    },
    {
      "cell_type": "code",
      "metadata": {
        "id": "t0Twq8yrpN0a"
      },
      "source": [
        "data_mi = data.loc[data.bowling_team.isin(['Royal Challengers Bangalore'])]\n",
        "data_mi = data_mi.loc[data.batting_team.isin(['Mumbai Indians'])]\n",
        "data_mi = data_mi.loc[data_mi.over <=6]"
      ],
      "execution_count": 112,
      "outputs": []
    },
    {
      "cell_type": "code",
      "metadata": {
        "id": "s4EQGkbugQ6m",
        "outputId": "f1b3a356-1a1f-4028-a01b-a1fa6c1680f2",
        "colab": {
          "base_uri": "https://localhost:8080/",
          "height": 35
        }
      },
      "source": [
        "data_mi.total_runs.sum()"
      ],
      "execution_count": 113,
      "outputs": [
        {
          "output_type": "execute_result",
          "data": {
            "text/plain": [
              "1125"
            ]
          },
          "metadata": {
            "tags": []
          },
          "execution_count": 113
        }
      ]
    },
    {
      "cell_type": "code",
      "metadata": {
        "id": "JPEuDm4QgeuT",
        "outputId": "bcee82a5-591f-4dc4-9ae8-cefc57de51b9",
        "colab": {
          "base_uri": "https://localhost:8080/",
          "height": 35
        }
      },
      "source": [
        "np.round(1125/25,2) # Average Powerplay runs of MI v RCB"
      ],
      "execution_count": 115,
      "outputs": [
        {
          "output_type": "execute_result",
          "data": {
            "text/plain": [
              "45.0"
            ]
          },
          "metadata": {
            "tags": []
          },
          "execution_count": 115
        }
      ]
    },
    {
      "cell_type": "code",
      "metadata": {
        "id": "6RTC1sz1go2r"
      },
      "source": [
        "data_rcb = data.loc[data.batting_team.isin(['Royal Challengers Bangalore'])]\n",
        "data_rcb = data_rcb.loc[data.bowling_team.isin(['Mumbai Indians'])]\n",
        "data_rcb = data_rcb.loc[data_rcb.over <=6]"
      ],
      "execution_count": 116,
      "outputs": []
    },
    {
      "cell_type": "code",
      "metadata": {
        "id": "I3QaX5YTg1bf",
        "outputId": "9876bfd9-bc73-4280-cfd6-928206623bf9",
        "colab": {
          "base_uri": "https://localhost:8080/",
          "height": 35
        }
      },
      "source": [
        "data_rcb.total_runs.sum()"
      ],
      "execution_count": 117,
      "outputs": [
        {
          "output_type": "execute_result",
          "data": {
            "text/plain": [
              "1076"
            ]
          },
          "metadata": {
            "tags": []
          },
          "execution_count": 117
        }
      ]
    },
    {
      "cell_type": "code",
      "metadata": {
        "id": "hVyjT6WpWAI1",
        "outputId": "07e62d60-e56c-42e4-e4e1-d7bccc2401b3",
        "colab": {
          "base_uri": "https://localhost:8080/",
          "height": 35
        }
      },
      "source": [
        "np.round(1076/25,2) # Average Powerplay runs of RCB v MI"
      ],
      "execution_count": 119,
      "outputs": [
        {
          "output_type": "execute_result",
          "data": {
            "text/plain": [
              "43.04"
            ]
          },
          "metadata": {
            "tags": []
          },
          "execution_count": 119
        }
      ]
    },
    {
      "cell_type": "markdown",
      "metadata": {
        "id": "RO04OBdk-pP6"
      },
      "source": [
        "Well let's mark 0-5 considering our analysis"
      ]
    },
    {
      "cell_type": "markdown",
      "metadata": {
        "id": "U0qAE79f0tAQ"
      },
      "source": [
        "Thank You again for this amazing internship.\n",
        "\n",
        "Looking forward to it tomorrow.\n",
        "\n",
        "Regards,\n",
        "\n",
        "Ashaab Rizvi\n",
        "\n"
      ]
    }
  ]
}