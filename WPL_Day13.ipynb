{
  "nbformat": 4,
  "nbformat_minor": 0,
  "metadata": {
    "colab": {
      "name": "WPL_Day13.ipynb",
      "provenance": []
    },
    "kernelspec": {
      "name": "python3",
      "display_name": "Python 3"
    }
  },
  "cells": [
    {
      "cell_type": "code",
      "metadata": {
        "id": "atP2KdI4X2Bh",
        "outputId": "3ae1af9a-17c1-41e5-fdd4-36c7825914d0",
        "colab": {
          "base_uri": "https://localhost:8080/",
          "height": 35
        }
      },
      "source": [
        "from google.colab import drive\n",
        "drive.mount('/content/gdrive')"
      ],
      "execution_count": 1,
      "outputs": [
        {
          "output_type": "stream",
          "text": [
            "Mounted at /content/gdrive\n"
          ],
          "name": "stdout"
        }
      ]
    },
    {
      "cell_type": "code",
      "metadata": {
        "id": "-dV6pKFqX73s"
      },
      "source": [
        "import os\n",
        "os.environ['KAGGLE_CONFIG_DIR'] = \"/content/gdrive/My Drive/Kaggle\""
      ],
      "execution_count": 2,
      "outputs": []
    },
    {
      "cell_type": "code",
      "metadata": {
        "id": "SAmfc_O-YIeD",
        "outputId": "bd2ad86f-d47d-4f7e-b8eb-92e948e21626",
        "colab": {
          "base_uri": "https://localhost:8080/",
          "height": 35
        }
      },
      "source": [
        "%cd /content/gdrive/My Drive/Kaggle"
      ],
      "execution_count": 3,
      "outputs": [
        {
          "output_type": "stream",
          "text": [
            "/content/gdrive/My Drive/Kaggle\n"
          ],
          "name": "stdout"
        }
      ]
    },
    {
      "cell_type": "code",
      "metadata": {
        "id": "qmc0lzmpYLFO",
        "outputId": "62a748a6-cb68-431e-f5d1-981327a3377d",
        "colab": {
          "base_uri": "https://localhost:8080/",
          "height": 69
        }
      },
      "source": [
        "!kaggle datasets download -d nowke9/ipldata"
      ],
      "execution_count": 4,
      "outputs": [
        {
          "output_type": "stream",
          "text": [
            "Downloading ipldata.zip to /content/gdrive/My Drive/Kaggle\n",
            "\r  0% 0.00/1.20M [00:00<?, ?B/s]\n",
            "\r100% 1.20M/1.20M [00:00<00:00, 39.0MB/s]\n"
          ],
          "name": "stdout"
        }
      ]
    },
    {
      "cell_type": "code",
      "metadata": {
        "id": "zRWPQny7YfCm",
        "outputId": "a8cddace-e14d-42a9-f46c-7ee898de707e",
        "colab": {
          "base_uri": "https://localhost:8080/",
          "height": 35
        }
      },
      "source": [
        "!ls"
      ],
      "execution_count": 5,
      "outputs": [
        {
          "output_type": "stream",
          "text": [
            "deliveries.csv\tipldata.zip  kaggle.json  matches.csv\n"
          ],
          "name": "stdout"
        }
      ]
    },
    {
      "cell_type": "code",
      "metadata": {
        "id": "cFT6X2SVYp-g",
        "outputId": "6363e087-82d9-44a0-fd3e-8c3c5ec7fd30",
        "colab": {
          "base_uri": "https://localhost:8080/",
          "height": 69
        }
      },
      "source": [
        "!unzip \\*.zip  && rm *.zip"
      ],
      "execution_count": 6,
      "outputs": [
        {
          "output_type": "stream",
          "text": [
            "Archive:  ipldata.zip\n",
            "replace deliveries.csv? [y]es, [n]o, [A]ll, [N]one, [r]ename: n\n",
            "replace matches.csv? [y]es, [n]o, [A]ll, [N]one, [r]ename: n\n"
          ],
          "name": "stdout"
        }
      ]
    },
    {
      "cell_type": "code",
      "metadata": {
        "id": "WPXS8VygY5qv"
      },
      "source": [
        "import pandas as pd\n",
        "import numpy as np\n",
        "import matplotlib.pyplot as plt\n",
        "import seaborn as sns\n",
        "sns.set_style(style='darkgrid')"
      ],
      "execution_count": 7,
      "outputs": []
    },
    {
      "cell_type": "code",
      "metadata": {
        "id": "eYoL_cUeZCkQ",
        "outputId": "a9aa4bad-59e3-45c2-c727-e35fae15b7dd",
        "colab": {
          "base_uri": "https://localhost:8080/",
          "height": 395
        }
      },
      "source": [
        "data=pd.read_csv('deliveries.csv')\n",
        "data.head()"
      ],
      "execution_count": 8,
      "outputs": [
        {
          "output_type": "execute_result",
          "data": {
            "text/html": [
              "<div>\n",
              "<style scoped>\n",
              "    .dataframe tbody tr th:only-of-type {\n",
              "        vertical-align: middle;\n",
              "    }\n",
              "\n",
              "    .dataframe tbody tr th {\n",
              "        vertical-align: top;\n",
              "    }\n",
              "\n",
              "    .dataframe thead th {\n",
              "        text-align: right;\n",
              "    }\n",
              "</style>\n",
              "<table border=\"1\" class=\"dataframe\">\n",
              "  <thead>\n",
              "    <tr style=\"text-align: right;\">\n",
              "      <th></th>\n",
              "      <th>match_id</th>\n",
              "      <th>inning</th>\n",
              "      <th>batting_team</th>\n",
              "      <th>bowling_team</th>\n",
              "      <th>over</th>\n",
              "      <th>ball</th>\n",
              "      <th>batsman</th>\n",
              "      <th>non_striker</th>\n",
              "      <th>bowler</th>\n",
              "      <th>is_super_over</th>\n",
              "      <th>wide_runs</th>\n",
              "      <th>bye_runs</th>\n",
              "      <th>legbye_runs</th>\n",
              "      <th>noball_runs</th>\n",
              "      <th>penalty_runs</th>\n",
              "      <th>batsman_runs</th>\n",
              "      <th>extra_runs</th>\n",
              "      <th>total_runs</th>\n",
              "      <th>player_dismissed</th>\n",
              "      <th>dismissal_kind</th>\n",
              "      <th>fielder</th>\n",
              "    </tr>\n",
              "  </thead>\n",
              "  <tbody>\n",
              "    <tr>\n",
              "      <th>0</th>\n",
              "      <td>1</td>\n",
              "      <td>1</td>\n",
              "      <td>Sunrisers Hyderabad</td>\n",
              "      <td>Royal Challengers Bangalore</td>\n",
              "      <td>1</td>\n",
              "      <td>1</td>\n",
              "      <td>DA Warner</td>\n",
              "      <td>S Dhawan</td>\n",
              "      <td>TS Mills</td>\n",
              "      <td>0</td>\n",
              "      <td>0</td>\n",
              "      <td>0</td>\n",
              "      <td>0</td>\n",
              "      <td>0</td>\n",
              "      <td>0</td>\n",
              "      <td>0</td>\n",
              "      <td>0</td>\n",
              "      <td>0</td>\n",
              "      <td>NaN</td>\n",
              "      <td>NaN</td>\n",
              "      <td>NaN</td>\n",
              "    </tr>\n",
              "    <tr>\n",
              "      <th>1</th>\n",
              "      <td>1</td>\n",
              "      <td>1</td>\n",
              "      <td>Sunrisers Hyderabad</td>\n",
              "      <td>Royal Challengers Bangalore</td>\n",
              "      <td>1</td>\n",
              "      <td>2</td>\n",
              "      <td>DA Warner</td>\n",
              "      <td>S Dhawan</td>\n",
              "      <td>TS Mills</td>\n",
              "      <td>0</td>\n",
              "      <td>0</td>\n",
              "      <td>0</td>\n",
              "      <td>0</td>\n",
              "      <td>0</td>\n",
              "      <td>0</td>\n",
              "      <td>0</td>\n",
              "      <td>0</td>\n",
              "      <td>0</td>\n",
              "      <td>NaN</td>\n",
              "      <td>NaN</td>\n",
              "      <td>NaN</td>\n",
              "    </tr>\n",
              "    <tr>\n",
              "      <th>2</th>\n",
              "      <td>1</td>\n",
              "      <td>1</td>\n",
              "      <td>Sunrisers Hyderabad</td>\n",
              "      <td>Royal Challengers Bangalore</td>\n",
              "      <td>1</td>\n",
              "      <td>3</td>\n",
              "      <td>DA Warner</td>\n",
              "      <td>S Dhawan</td>\n",
              "      <td>TS Mills</td>\n",
              "      <td>0</td>\n",
              "      <td>0</td>\n",
              "      <td>0</td>\n",
              "      <td>0</td>\n",
              "      <td>0</td>\n",
              "      <td>0</td>\n",
              "      <td>4</td>\n",
              "      <td>0</td>\n",
              "      <td>4</td>\n",
              "      <td>NaN</td>\n",
              "      <td>NaN</td>\n",
              "      <td>NaN</td>\n",
              "    </tr>\n",
              "    <tr>\n",
              "      <th>3</th>\n",
              "      <td>1</td>\n",
              "      <td>1</td>\n",
              "      <td>Sunrisers Hyderabad</td>\n",
              "      <td>Royal Challengers Bangalore</td>\n",
              "      <td>1</td>\n",
              "      <td>4</td>\n",
              "      <td>DA Warner</td>\n",
              "      <td>S Dhawan</td>\n",
              "      <td>TS Mills</td>\n",
              "      <td>0</td>\n",
              "      <td>0</td>\n",
              "      <td>0</td>\n",
              "      <td>0</td>\n",
              "      <td>0</td>\n",
              "      <td>0</td>\n",
              "      <td>0</td>\n",
              "      <td>0</td>\n",
              "      <td>0</td>\n",
              "      <td>NaN</td>\n",
              "      <td>NaN</td>\n",
              "      <td>NaN</td>\n",
              "    </tr>\n",
              "    <tr>\n",
              "      <th>4</th>\n",
              "      <td>1</td>\n",
              "      <td>1</td>\n",
              "      <td>Sunrisers Hyderabad</td>\n",
              "      <td>Royal Challengers Bangalore</td>\n",
              "      <td>1</td>\n",
              "      <td>5</td>\n",
              "      <td>DA Warner</td>\n",
              "      <td>S Dhawan</td>\n",
              "      <td>TS Mills</td>\n",
              "      <td>0</td>\n",
              "      <td>2</td>\n",
              "      <td>0</td>\n",
              "      <td>0</td>\n",
              "      <td>0</td>\n",
              "      <td>0</td>\n",
              "      <td>0</td>\n",
              "      <td>2</td>\n",
              "      <td>2</td>\n",
              "      <td>NaN</td>\n",
              "      <td>NaN</td>\n",
              "      <td>NaN</td>\n",
              "    </tr>\n",
              "  </tbody>\n",
              "</table>\n",
              "</div>"
            ],
            "text/plain": [
              "   match_id  inning  ... dismissal_kind fielder\n",
              "0         1       1  ...            NaN     NaN\n",
              "1         1       1  ...            NaN     NaN\n",
              "2         1       1  ...            NaN     NaN\n",
              "3         1       1  ...            NaN     NaN\n",
              "4         1       1  ...            NaN     NaN\n",
              "\n",
              "[5 rows x 21 columns]"
            ]
          },
          "metadata": {
            "tags": []
          },
          "execution_count": 8
        }
      ]
    },
    {
      "cell_type": "code",
      "metadata": {
        "id": "j-EEPN7pZVj5",
        "outputId": "fb3e4e5b-9048-4aa7-cc15-28c4744eafce",
        "colab": {
          "base_uri": "https://localhost:8080/",
          "height": 447
        }
      },
      "source": [
        "data2= pd.read_csv('matches.csv')\n",
        "data2.head()"
      ],
      "execution_count": 9,
      "outputs": [
        {
          "output_type": "execute_result",
          "data": {
            "text/html": [
              "<div>\n",
              "<style scoped>\n",
              "    .dataframe tbody tr th:only-of-type {\n",
              "        vertical-align: middle;\n",
              "    }\n",
              "\n",
              "    .dataframe tbody tr th {\n",
              "        vertical-align: top;\n",
              "    }\n",
              "\n",
              "    .dataframe thead th {\n",
              "        text-align: right;\n",
              "    }\n",
              "</style>\n",
              "<table border=\"1\" class=\"dataframe\">\n",
              "  <thead>\n",
              "    <tr style=\"text-align: right;\">\n",
              "      <th></th>\n",
              "      <th>id</th>\n",
              "      <th>season</th>\n",
              "      <th>city</th>\n",
              "      <th>date</th>\n",
              "      <th>team1</th>\n",
              "      <th>team2</th>\n",
              "      <th>toss_winner</th>\n",
              "      <th>toss_decision</th>\n",
              "      <th>result</th>\n",
              "      <th>dl_applied</th>\n",
              "      <th>winner</th>\n",
              "      <th>win_by_runs</th>\n",
              "      <th>win_by_wickets</th>\n",
              "      <th>player_of_match</th>\n",
              "      <th>venue</th>\n",
              "      <th>umpire1</th>\n",
              "      <th>umpire2</th>\n",
              "      <th>umpire3</th>\n",
              "    </tr>\n",
              "  </thead>\n",
              "  <tbody>\n",
              "    <tr>\n",
              "      <th>0</th>\n",
              "      <td>1</td>\n",
              "      <td>2017</td>\n",
              "      <td>Hyderabad</td>\n",
              "      <td>2017-04-05</td>\n",
              "      <td>Sunrisers Hyderabad</td>\n",
              "      <td>Royal Challengers Bangalore</td>\n",
              "      <td>Royal Challengers Bangalore</td>\n",
              "      <td>field</td>\n",
              "      <td>normal</td>\n",
              "      <td>0</td>\n",
              "      <td>Sunrisers Hyderabad</td>\n",
              "      <td>35</td>\n",
              "      <td>0</td>\n",
              "      <td>Yuvraj Singh</td>\n",
              "      <td>Rajiv Gandhi International Stadium, Uppal</td>\n",
              "      <td>AY Dandekar</td>\n",
              "      <td>NJ Llong</td>\n",
              "      <td>NaN</td>\n",
              "    </tr>\n",
              "    <tr>\n",
              "      <th>1</th>\n",
              "      <td>2</td>\n",
              "      <td>2017</td>\n",
              "      <td>Pune</td>\n",
              "      <td>2017-04-06</td>\n",
              "      <td>Mumbai Indians</td>\n",
              "      <td>Rising Pune Supergiant</td>\n",
              "      <td>Rising Pune Supergiant</td>\n",
              "      <td>field</td>\n",
              "      <td>normal</td>\n",
              "      <td>0</td>\n",
              "      <td>Rising Pune Supergiant</td>\n",
              "      <td>0</td>\n",
              "      <td>7</td>\n",
              "      <td>SPD Smith</td>\n",
              "      <td>Maharashtra Cricket Association Stadium</td>\n",
              "      <td>A Nand Kishore</td>\n",
              "      <td>S Ravi</td>\n",
              "      <td>NaN</td>\n",
              "    </tr>\n",
              "    <tr>\n",
              "      <th>2</th>\n",
              "      <td>3</td>\n",
              "      <td>2017</td>\n",
              "      <td>Rajkot</td>\n",
              "      <td>2017-04-07</td>\n",
              "      <td>Gujarat Lions</td>\n",
              "      <td>Kolkata Knight Riders</td>\n",
              "      <td>Kolkata Knight Riders</td>\n",
              "      <td>field</td>\n",
              "      <td>normal</td>\n",
              "      <td>0</td>\n",
              "      <td>Kolkata Knight Riders</td>\n",
              "      <td>0</td>\n",
              "      <td>10</td>\n",
              "      <td>CA Lynn</td>\n",
              "      <td>Saurashtra Cricket Association Stadium</td>\n",
              "      <td>Nitin Menon</td>\n",
              "      <td>CK Nandan</td>\n",
              "      <td>NaN</td>\n",
              "    </tr>\n",
              "    <tr>\n",
              "      <th>3</th>\n",
              "      <td>4</td>\n",
              "      <td>2017</td>\n",
              "      <td>Indore</td>\n",
              "      <td>2017-04-08</td>\n",
              "      <td>Rising Pune Supergiant</td>\n",
              "      <td>Kings XI Punjab</td>\n",
              "      <td>Kings XI Punjab</td>\n",
              "      <td>field</td>\n",
              "      <td>normal</td>\n",
              "      <td>0</td>\n",
              "      <td>Kings XI Punjab</td>\n",
              "      <td>0</td>\n",
              "      <td>6</td>\n",
              "      <td>GJ Maxwell</td>\n",
              "      <td>Holkar Cricket Stadium</td>\n",
              "      <td>AK Chaudhary</td>\n",
              "      <td>C Shamshuddin</td>\n",
              "      <td>NaN</td>\n",
              "    </tr>\n",
              "    <tr>\n",
              "      <th>4</th>\n",
              "      <td>5</td>\n",
              "      <td>2017</td>\n",
              "      <td>Bangalore</td>\n",
              "      <td>2017-04-08</td>\n",
              "      <td>Royal Challengers Bangalore</td>\n",
              "      <td>Delhi Daredevils</td>\n",
              "      <td>Royal Challengers Bangalore</td>\n",
              "      <td>bat</td>\n",
              "      <td>normal</td>\n",
              "      <td>0</td>\n",
              "      <td>Royal Challengers Bangalore</td>\n",
              "      <td>15</td>\n",
              "      <td>0</td>\n",
              "      <td>KM Jadhav</td>\n",
              "      <td>M Chinnaswamy Stadium</td>\n",
              "      <td>NaN</td>\n",
              "      <td>NaN</td>\n",
              "      <td>NaN</td>\n",
              "    </tr>\n",
              "  </tbody>\n",
              "</table>\n",
              "</div>"
            ],
            "text/plain": [
              "   id  season       city  ...         umpire1        umpire2 umpire3\n",
              "0   1    2017  Hyderabad  ...     AY Dandekar       NJ Llong     NaN\n",
              "1   2    2017       Pune  ...  A Nand Kishore         S Ravi     NaN\n",
              "2   3    2017     Rajkot  ...     Nitin Menon      CK Nandan     NaN\n",
              "3   4    2017     Indore  ...    AK Chaudhary  C Shamshuddin     NaN\n",
              "4   5    2017  Bangalore  ...             NaN            NaN     NaN\n",
              "\n",
              "[5 rows x 18 columns]"
            ]
          },
          "metadata": {
            "tags": []
          },
          "execution_count": 9
        }
      ]
    },
    {
      "cell_type": "code",
      "metadata": {
        "id": "J2C_uVclcSX4",
        "outputId": "000e769f-3f56-4a1f-b68c-76d47c693b9e",
        "colab": {
          "base_uri": "https://localhost:8080/",
          "height": 1000
        }
      },
      "source": [
        "data_f = data2.loc[data2.team1.isin(['Chennai Super Kings','Mumbai Indians'])] \n",
        "data_f = data_f.loc[data_f.team2.isin(['Chennai Super Kings','Mumbai Indians'])] \n",
        "data_f"
      ],
      "execution_count": 10,
      "outputs": [
        {
          "output_type": "execute_result",
          "data": {
            "text/html": [
              "<div>\n",
              "<style scoped>\n",
              "    .dataframe tbody tr th:only-of-type {\n",
              "        vertical-align: middle;\n",
              "    }\n",
              "\n",
              "    .dataframe tbody tr th {\n",
              "        vertical-align: top;\n",
              "    }\n",
              "\n",
              "    .dataframe thead th {\n",
              "        text-align: right;\n",
              "    }\n",
              "</style>\n",
              "<table border=\"1\" class=\"dataframe\">\n",
              "  <thead>\n",
              "    <tr style=\"text-align: right;\">\n",
              "      <th></th>\n",
              "      <th>id</th>\n",
              "      <th>season</th>\n",
              "      <th>city</th>\n",
              "      <th>date</th>\n",
              "      <th>team1</th>\n",
              "      <th>team2</th>\n",
              "      <th>toss_winner</th>\n",
              "      <th>toss_decision</th>\n",
              "      <th>result</th>\n",
              "      <th>dl_applied</th>\n",
              "      <th>winner</th>\n",
              "      <th>win_by_runs</th>\n",
              "      <th>win_by_wickets</th>\n",
              "      <th>player_of_match</th>\n",
              "      <th>venue</th>\n",
              "      <th>umpire1</th>\n",
              "      <th>umpire2</th>\n",
              "      <th>umpire3</th>\n",
              "    </tr>\n",
              "  </thead>\n",
              "  <tbody>\n",
              "    <tr>\n",
              "      <th>66</th>\n",
              "      <td>67</td>\n",
              "      <td>2008</td>\n",
              "      <td>Chennai</td>\n",
              "      <td>2008-04-23</td>\n",
              "      <td>Chennai Super Kings</td>\n",
              "      <td>Mumbai Indians</td>\n",
              "      <td>Mumbai Indians</td>\n",
              "      <td>field</td>\n",
              "      <td>normal</td>\n",
              "      <td>0</td>\n",
              "      <td>Chennai Super Kings</td>\n",
              "      <td>6</td>\n",
              "      <td>0</td>\n",
              "      <td>ML Hayden</td>\n",
              "      <td>MA Chidambaram Stadium, Chepauk</td>\n",
              "      <td>DJ Harper</td>\n",
              "      <td>GA Pratapkumar</td>\n",
              "      <td>NaN</td>\n",
              "    </tr>\n",
              "    <tr>\n",
              "      <th>95</th>\n",
              "      <td>96</td>\n",
              "      <td>2008</td>\n",
              "      <td>Mumbai</td>\n",
              "      <td>2008-05-14</td>\n",
              "      <td>Chennai Super Kings</td>\n",
              "      <td>Mumbai Indians</td>\n",
              "      <td>Mumbai Indians</td>\n",
              "      <td>field</td>\n",
              "      <td>normal</td>\n",
              "      <td>0</td>\n",
              "      <td>Mumbai Indians</td>\n",
              "      <td>0</td>\n",
              "      <td>9</td>\n",
              "      <td>ST Jayasuriya</td>\n",
              "      <td>Wankhede Stadium</td>\n",
              "      <td>BR Doctrove</td>\n",
              "      <td>AM Saheba</td>\n",
              "      <td>NaN</td>\n",
              "    </tr>\n",
              "    <tr>\n",
              "      <th>117</th>\n",
              "      <td>118</td>\n",
              "      <td>2009</td>\n",
              "      <td>Cape Town</td>\n",
              "      <td>2009-04-18</td>\n",
              "      <td>Mumbai Indians</td>\n",
              "      <td>Chennai Super Kings</td>\n",
              "      <td>Chennai Super Kings</td>\n",
              "      <td>field</td>\n",
              "      <td>normal</td>\n",
              "      <td>0</td>\n",
              "      <td>Mumbai Indians</td>\n",
              "      <td>19</td>\n",
              "      <td>0</td>\n",
              "      <td>SR Tendulkar</td>\n",
              "      <td>Newlands</td>\n",
              "      <td>BR Doctrove</td>\n",
              "      <td>K Hariharan</td>\n",
              "      <td>NaN</td>\n",
              "    </tr>\n",
              "    <tr>\n",
              "      <th>161</th>\n",
              "      <td>162</td>\n",
              "      <td>2009</td>\n",
              "      <td>Port Elizabeth</td>\n",
              "      <td>2009-05-16</td>\n",
              "      <td>Mumbai Indians</td>\n",
              "      <td>Chennai Super Kings</td>\n",
              "      <td>Mumbai Indians</td>\n",
              "      <td>bat</td>\n",
              "      <td>normal</td>\n",
              "      <td>0</td>\n",
              "      <td>Chennai Super Kings</td>\n",
              "      <td>0</td>\n",
              "      <td>7</td>\n",
              "      <td>ML Hayden</td>\n",
              "      <td>St George's Park</td>\n",
              "      <td>SK Tarapore</td>\n",
              "      <td>SJA Taufel</td>\n",
              "      <td>NaN</td>\n",
              "    </tr>\n",
              "    <tr>\n",
              "      <th>193</th>\n",
              "      <td>194</td>\n",
              "      <td>2010</td>\n",
              "      <td>Mumbai</td>\n",
              "      <td>2010-03-25</td>\n",
              "      <td>Chennai Super Kings</td>\n",
              "      <td>Mumbai Indians</td>\n",
              "      <td>Mumbai Indians</td>\n",
              "      <td>field</td>\n",
              "      <td>normal</td>\n",
              "      <td>0</td>\n",
              "      <td>Mumbai Indians</td>\n",
              "      <td>0</td>\n",
              "      <td>5</td>\n",
              "      <td>SR Tendulkar</td>\n",
              "      <td>Brabourne Stadium</td>\n",
              "      <td>BF Bowden</td>\n",
              "      <td>AM Saheba</td>\n",
              "      <td>NaN</td>\n",
              "    </tr>\n",
              "    <tr>\n",
              "      <th>210</th>\n",
              "      <td>211</td>\n",
              "      <td>2010</td>\n",
              "      <td>Chennai</td>\n",
              "      <td>2010-04-06</td>\n",
              "      <td>Chennai Super Kings</td>\n",
              "      <td>Mumbai Indians</td>\n",
              "      <td>Chennai Super Kings</td>\n",
              "      <td>bat</td>\n",
              "      <td>normal</td>\n",
              "      <td>0</td>\n",
              "      <td>Chennai Super Kings</td>\n",
              "      <td>24</td>\n",
              "      <td>0</td>\n",
              "      <td>SK Raina</td>\n",
              "      <td>MA Chidambaram Stadium, Chepauk</td>\n",
              "      <td>S Asnani</td>\n",
              "      <td>DJ Harper</td>\n",
              "      <td>NaN</td>\n",
              "    </tr>\n",
              "    <tr>\n",
              "      <th>233</th>\n",
              "      <td>234</td>\n",
              "      <td>2010</td>\n",
              "      <td>Mumbai</td>\n",
              "      <td>2010-04-25</td>\n",
              "      <td>Chennai Super Kings</td>\n",
              "      <td>Mumbai Indians</td>\n",
              "      <td>Chennai Super Kings</td>\n",
              "      <td>bat</td>\n",
              "      <td>normal</td>\n",
              "      <td>0</td>\n",
              "      <td>Chennai Super Kings</td>\n",
              "      <td>22</td>\n",
              "      <td>0</td>\n",
              "      <td>SK Raina</td>\n",
              "      <td>Dr DY Patil Sports Academy</td>\n",
              "      <td>RE Koertzen</td>\n",
              "      <td>SJA Taufel</td>\n",
              "      <td>NaN</td>\n",
              "    </tr>\n",
              "    <tr>\n",
              "      <th>256</th>\n",
              "      <td>257</td>\n",
              "      <td>2011</td>\n",
              "      <td>Mumbai</td>\n",
              "      <td>2011-04-22</td>\n",
              "      <td>Mumbai Indians</td>\n",
              "      <td>Chennai Super Kings</td>\n",
              "      <td>Chennai Super Kings</td>\n",
              "      <td>field</td>\n",
              "      <td>normal</td>\n",
              "      <td>0</td>\n",
              "      <td>Mumbai Indians</td>\n",
              "      <td>8</td>\n",
              "      <td>0</td>\n",
              "      <td>Harbhajan Singh</td>\n",
              "      <td>Wankhede Stadium</td>\n",
              "      <td>Asad Rauf</td>\n",
              "      <td>AM Saheba</td>\n",
              "      <td>NaN</td>\n",
              "    </tr>\n",
              "    <tr>\n",
              "      <th>307</th>\n",
              "      <td>308</td>\n",
              "      <td>2012</td>\n",
              "      <td>Chennai</td>\n",
              "      <td>2012-04-04</td>\n",
              "      <td>Chennai Super Kings</td>\n",
              "      <td>Mumbai Indians</td>\n",
              "      <td>Mumbai Indians</td>\n",
              "      <td>field</td>\n",
              "      <td>normal</td>\n",
              "      <td>0</td>\n",
              "      <td>Mumbai Indians</td>\n",
              "      <td>0</td>\n",
              "      <td>8</td>\n",
              "      <td>RE Levi</td>\n",
              "      <td>MA Chidambaram Stadium, Chepauk</td>\n",
              "      <td>JD Cloete</td>\n",
              "      <td>SJA Taufel</td>\n",
              "      <td>NaN</td>\n",
              "    </tr>\n",
              "    <tr>\n",
              "      <th>354</th>\n",
              "      <td>355</td>\n",
              "      <td>2012</td>\n",
              "      <td>Mumbai</td>\n",
              "      <td>2012-05-06</td>\n",
              "      <td>Chennai Super Kings</td>\n",
              "      <td>Mumbai Indians</td>\n",
              "      <td>Mumbai Indians</td>\n",
              "      <td>field</td>\n",
              "      <td>normal</td>\n",
              "      <td>0</td>\n",
              "      <td>Mumbai Indians</td>\n",
              "      <td>0</td>\n",
              "      <td>2</td>\n",
              "      <td>DR Smith</td>\n",
              "      <td>Wankhede Stadium</td>\n",
              "      <td>Asad Rauf</td>\n",
              "      <td>S Asnani</td>\n",
              "      <td>NaN</td>\n",
              "    </tr>\n",
              "    <tr>\n",
              "      <th>378</th>\n",
              "      <td>379</td>\n",
              "      <td>2012</td>\n",
              "      <td>Bangalore</td>\n",
              "      <td>2012-05-23</td>\n",
              "      <td>Chennai Super Kings</td>\n",
              "      <td>Mumbai Indians</td>\n",
              "      <td>Mumbai Indians</td>\n",
              "      <td>field</td>\n",
              "      <td>normal</td>\n",
              "      <td>0</td>\n",
              "      <td>Chennai Super Kings</td>\n",
              "      <td>38</td>\n",
              "      <td>0</td>\n",
              "      <td>MS Dhoni</td>\n",
              "      <td>M Chinnaswamy Stadium</td>\n",
              "      <td>BF Bowden</td>\n",
              "      <td>HDPK Dharmasena</td>\n",
              "      <td>NaN</td>\n",
              "    </tr>\n",
              "    <tr>\n",
              "      <th>385</th>\n",
              "      <td>386</td>\n",
              "      <td>2013</td>\n",
              "      <td>Chennai</td>\n",
              "      <td>2013-04-06</td>\n",
              "      <td>Mumbai Indians</td>\n",
              "      <td>Chennai Super Kings</td>\n",
              "      <td>Mumbai Indians</td>\n",
              "      <td>bat</td>\n",
              "      <td>normal</td>\n",
              "      <td>0</td>\n",
              "      <td>Mumbai Indians</td>\n",
              "      <td>9</td>\n",
              "      <td>0</td>\n",
              "      <td>KA Pollard</td>\n",
              "      <td>MA Chidambaram Stadium, Chepauk</td>\n",
              "      <td>M Erasmus</td>\n",
              "      <td>VA Kulkarni</td>\n",
              "      <td>NaN</td>\n",
              "    </tr>\n",
              "    <tr>\n",
              "      <th>429</th>\n",
              "      <td>430</td>\n",
              "      <td>2013</td>\n",
              "      <td>Mumbai</td>\n",
              "      <td>2013-05-05</td>\n",
              "      <td>Mumbai Indians</td>\n",
              "      <td>Chennai Super Kings</td>\n",
              "      <td>Mumbai Indians</td>\n",
              "      <td>bat</td>\n",
              "      <td>normal</td>\n",
              "      <td>0</td>\n",
              "      <td>Mumbai Indians</td>\n",
              "      <td>60</td>\n",
              "      <td>0</td>\n",
              "      <td>MG Johnson</td>\n",
              "      <td>Wankhede Stadium</td>\n",
              "      <td>HDPK Dharmasena</td>\n",
              "      <td>CK Nandan</td>\n",
              "      <td>NaN</td>\n",
              "    </tr>\n",
              "    <tr>\n",
              "      <th>453</th>\n",
              "      <td>454</td>\n",
              "      <td>2013</td>\n",
              "      <td>Delhi</td>\n",
              "      <td>2013-05-21</td>\n",
              "      <td>Chennai Super Kings</td>\n",
              "      <td>Mumbai Indians</td>\n",
              "      <td>Chennai Super Kings</td>\n",
              "      <td>bat</td>\n",
              "      <td>normal</td>\n",
              "      <td>0</td>\n",
              "      <td>Chennai Super Kings</td>\n",
              "      <td>48</td>\n",
              "      <td>0</td>\n",
              "      <td>MEK Hussey</td>\n",
              "      <td>Feroz Shah Kotla</td>\n",
              "      <td>NJ Llong</td>\n",
              "      <td>RJ Tucker</td>\n",
              "      <td>NaN</td>\n",
              "    </tr>\n",
              "    <tr>\n",
              "      <th>456</th>\n",
              "      <td>457</td>\n",
              "      <td>2013</td>\n",
              "      <td>Kolkata</td>\n",
              "      <td>2013-05-26</td>\n",
              "      <td>Mumbai Indians</td>\n",
              "      <td>Chennai Super Kings</td>\n",
              "      <td>Mumbai Indians</td>\n",
              "      <td>bat</td>\n",
              "      <td>normal</td>\n",
              "      <td>0</td>\n",
              "      <td>Mumbai Indians</td>\n",
              "      <td>23</td>\n",
              "      <td>0</td>\n",
              "      <td>KA Pollard</td>\n",
              "      <td>Eden Gardens</td>\n",
              "      <td>HDPK Dharmasena</td>\n",
              "      <td>SJA Taufel</td>\n",
              "      <td>NaN</td>\n",
              "    </tr>\n",
              "    <tr>\n",
              "      <th>469</th>\n",
              "      <td>470</td>\n",
              "      <td>2014</td>\n",
              "      <td>NaN</td>\n",
              "      <td>2014-04-25</td>\n",
              "      <td>Mumbai Indians</td>\n",
              "      <td>Chennai Super Kings</td>\n",
              "      <td>Mumbai Indians</td>\n",
              "      <td>bat</td>\n",
              "      <td>normal</td>\n",
              "      <td>0</td>\n",
              "      <td>Chennai Super Kings</td>\n",
              "      <td>0</td>\n",
              "      <td>7</td>\n",
              "      <td>MM Sharma</td>\n",
              "      <td>Dubai International Cricket Stadium</td>\n",
              "      <td>BF Bowden</td>\n",
              "      <td>M Erasmus</td>\n",
              "      <td>NaN</td>\n",
              "    </tr>\n",
              "    <tr>\n",
              "      <th>489</th>\n",
              "      <td>490</td>\n",
              "      <td>2014</td>\n",
              "      <td>Mumbai</td>\n",
              "      <td>2014-05-10</td>\n",
              "      <td>Mumbai Indians</td>\n",
              "      <td>Chennai Super Kings</td>\n",
              "      <td>Chennai Super Kings</td>\n",
              "      <td>field</td>\n",
              "      <td>normal</td>\n",
              "      <td>0</td>\n",
              "      <td>Chennai Super Kings</td>\n",
              "      <td>0</td>\n",
              "      <td>4</td>\n",
              "      <td>DR Smith</td>\n",
              "      <td>Wankhede Stadium</td>\n",
              "      <td>HDPK Dharmasena</td>\n",
              "      <td>VA Kulkarni</td>\n",
              "      <td>NaN</td>\n",
              "    </tr>\n",
              "    <tr>\n",
              "      <th>514</th>\n",
              "      <td>515</td>\n",
              "      <td>2014</td>\n",
              "      <td>Mumbai</td>\n",
              "      <td>2014-05-28</td>\n",
              "      <td>Mumbai Indians</td>\n",
              "      <td>Chennai Super Kings</td>\n",
              "      <td>Chennai Super Kings</td>\n",
              "      <td>field</td>\n",
              "      <td>normal</td>\n",
              "      <td>0</td>\n",
              "      <td>Chennai Super Kings</td>\n",
              "      <td>0</td>\n",
              "      <td>7</td>\n",
              "      <td>SK Raina</td>\n",
              "      <td>Brabourne Stadium</td>\n",
              "      <td>VA Kulkarni</td>\n",
              "      <td>BNJ Oxenford</td>\n",
              "      <td>NaN</td>\n",
              "    </tr>\n",
              "    <tr>\n",
              "      <th>529</th>\n",
              "      <td>530</td>\n",
              "      <td>2015</td>\n",
              "      <td>Mumbai</td>\n",
              "      <td>2015-04-17</td>\n",
              "      <td>Mumbai Indians</td>\n",
              "      <td>Chennai Super Kings</td>\n",
              "      <td>Mumbai Indians</td>\n",
              "      <td>bat</td>\n",
              "      <td>normal</td>\n",
              "      <td>0</td>\n",
              "      <td>Chennai Super Kings</td>\n",
              "      <td>0</td>\n",
              "      <td>6</td>\n",
              "      <td>A Nehra</td>\n",
              "      <td>Wankhede Stadium</td>\n",
              "      <td>AK Chaudhary</td>\n",
              "      <td>M Erasmus</td>\n",
              "      <td>NaN</td>\n",
              "    </tr>\n",
              "    <tr>\n",
              "      <th>558</th>\n",
              "      <td>559</td>\n",
              "      <td>2015</td>\n",
              "      <td>Chennai</td>\n",
              "      <td>2015-05-08</td>\n",
              "      <td>Chennai Super Kings</td>\n",
              "      <td>Mumbai Indians</td>\n",
              "      <td>Chennai Super Kings</td>\n",
              "      <td>bat</td>\n",
              "      <td>normal</td>\n",
              "      <td>0</td>\n",
              "      <td>Mumbai Indians</td>\n",
              "      <td>0</td>\n",
              "      <td>6</td>\n",
              "      <td>HH Pandya</td>\n",
              "      <td>MA Chidambaram Stadium, Chepauk</td>\n",
              "      <td>CB Gaffaney</td>\n",
              "      <td>CK Nandan</td>\n",
              "      <td>NaN</td>\n",
              "    </tr>\n",
              "    <tr>\n",
              "      <th>572</th>\n",
              "      <td>573</td>\n",
              "      <td>2015</td>\n",
              "      <td>Mumbai</td>\n",
              "      <td>2015-05-19</td>\n",
              "      <td>Mumbai Indians</td>\n",
              "      <td>Chennai Super Kings</td>\n",
              "      <td>Mumbai Indians</td>\n",
              "      <td>bat</td>\n",
              "      <td>normal</td>\n",
              "      <td>0</td>\n",
              "      <td>Mumbai Indians</td>\n",
              "      <td>25</td>\n",
              "      <td>0</td>\n",
              "      <td>KA Pollard</td>\n",
              "      <td>Wankhede Stadium</td>\n",
              "      <td>HDPK Dharmasena</td>\n",
              "      <td>RK Illingworth</td>\n",
              "      <td>NaN</td>\n",
              "    </tr>\n",
              "    <tr>\n",
              "      <th>575</th>\n",
              "      <td>576</td>\n",
              "      <td>2015</td>\n",
              "      <td>Kolkata</td>\n",
              "      <td>2015-05-24</td>\n",
              "      <td>Mumbai Indians</td>\n",
              "      <td>Chennai Super Kings</td>\n",
              "      <td>Chennai Super Kings</td>\n",
              "      <td>field</td>\n",
              "      <td>normal</td>\n",
              "      <td>0</td>\n",
              "      <td>Mumbai Indians</td>\n",
              "      <td>41</td>\n",
              "      <td>0</td>\n",
              "      <td>RG Sharma</td>\n",
              "      <td>Eden Gardens</td>\n",
              "      <td>HDPK Dharmasena</td>\n",
              "      <td>RK Illingworth</td>\n",
              "      <td>NaN</td>\n",
              "    </tr>\n",
              "    <tr>\n",
              "      <th>636</th>\n",
              "      <td>7894</td>\n",
              "      <td>2018</td>\n",
              "      <td>Mumbai</td>\n",
              "      <td>07/04/18</td>\n",
              "      <td>Mumbai Indians</td>\n",
              "      <td>Chennai Super Kings</td>\n",
              "      <td>Chennai Super Kings</td>\n",
              "      <td>field</td>\n",
              "      <td>normal</td>\n",
              "      <td>0</td>\n",
              "      <td>Chennai Super Kings</td>\n",
              "      <td>0</td>\n",
              "      <td>1</td>\n",
              "      <td>DJ Bravo</td>\n",
              "      <td>Wankhede Stadium</td>\n",
              "      <td>Chris Gaffaney</td>\n",
              "      <td>A Nanda Kishore</td>\n",
              "      <td>Anil Chaudhary</td>\n",
              "    </tr>\n",
              "    <tr>\n",
              "      <th>662</th>\n",
              "      <td>7920</td>\n",
              "      <td>2018</td>\n",
              "      <td>Pune</td>\n",
              "      <td>28/04/18</td>\n",
              "      <td>Chennai Super Kings</td>\n",
              "      <td>Mumbai Indians</td>\n",
              "      <td>Mumbai Indians</td>\n",
              "      <td>field</td>\n",
              "      <td>normal</td>\n",
              "      <td>0</td>\n",
              "      <td>Mumbai Indians</td>\n",
              "      <td>0</td>\n",
              "      <td>8</td>\n",
              "      <td>RG Sharma</td>\n",
              "      <td>Maharashtra Cricket Association Stadium</td>\n",
              "      <td>Chris Gaffaney</td>\n",
              "      <td>Nitin Menon</td>\n",
              "      <td>Anil Dandekar</td>\n",
              "    </tr>\n",
              "    <tr>\n",
              "      <th>710</th>\n",
              "      <td>11151</td>\n",
              "      <td>2019</td>\n",
              "      <td>Mumbai</td>\n",
              "      <td>03/04/19</td>\n",
              "      <td>Mumbai Indians</td>\n",
              "      <td>Chennai Super Kings</td>\n",
              "      <td>Chennai Super Kings</td>\n",
              "      <td>field</td>\n",
              "      <td>normal</td>\n",
              "      <td>0</td>\n",
              "      <td>Mumbai Indians</td>\n",
              "      <td>37</td>\n",
              "      <td>0</td>\n",
              "      <td>HH Pandya</td>\n",
              "      <td>Wankhede Stadium</td>\n",
              "      <td>Bruce Oxenford</td>\n",
              "      <td>Rod Tucker</td>\n",
              "      <td>Yeshwant Barde</td>\n",
              "    </tr>\n",
              "    <tr>\n",
              "      <th>739</th>\n",
              "      <td>11335</td>\n",
              "      <td>2019</td>\n",
              "      <td>Chennai</td>\n",
              "      <td>26/04/19</td>\n",
              "      <td>Mumbai Indians</td>\n",
              "      <td>Chennai Super Kings</td>\n",
              "      <td>Chennai Super Kings</td>\n",
              "      <td>field</td>\n",
              "      <td>normal</td>\n",
              "      <td>0</td>\n",
              "      <td>Mumbai Indians</td>\n",
              "      <td>46</td>\n",
              "      <td>0</td>\n",
              "      <td>RG Sharma</td>\n",
              "      <td>M. A. Chidambaram Stadium</td>\n",
              "      <td>Nigel Llong</td>\n",
              "      <td>Anil Chaudhary</td>\n",
              "      <td>Vineet Kulkarni</td>\n",
              "    </tr>\n",
              "    <tr>\n",
              "      <th>752</th>\n",
              "      <td>11412</td>\n",
              "      <td>2019</td>\n",
              "      <td>Chennai</td>\n",
              "      <td>07/05/19</td>\n",
              "      <td>Chennai Super Kings</td>\n",
              "      <td>Mumbai Indians</td>\n",
              "      <td>Chennai Super Kings</td>\n",
              "      <td>bat</td>\n",
              "      <td>normal</td>\n",
              "      <td>0</td>\n",
              "      <td>Mumbai Indians</td>\n",
              "      <td>0</td>\n",
              "      <td>6</td>\n",
              "      <td>AS Yadav</td>\n",
              "      <td>M. A. Chidambaram Stadium</td>\n",
              "      <td>Nigel Llong</td>\n",
              "      <td>Nitin Menon</td>\n",
              "      <td>Ian Gould</td>\n",
              "    </tr>\n",
              "    <tr>\n",
              "      <th>755</th>\n",
              "      <td>11415</td>\n",
              "      <td>2019</td>\n",
              "      <td>Hyderabad</td>\n",
              "      <td>12/05/19</td>\n",
              "      <td>Mumbai Indians</td>\n",
              "      <td>Chennai Super Kings</td>\n",
              "      <td>Mumbai Indians</td>\n",
              "      <td>bat</td>\n",
              "      <td>normal</td>\n",
              "      <td>0</td>\n",
              "      <td>Mumbai Indians</td>\n",
              "      <td>1</td>\n",
              "      <td>0</td>\n",
              "      <td>JJ Bumrah</td>\n",
              "      <td>Rajiv Gandhi Intl. Cricket Stadium</td>\n",
              "      <td>Nitin Menon</td>\n",
              "      <td>Ian Gould</td>\n",
              "      <td>Nigel Llong</td>\n",
              "    </tr>\n",
              "  </tbody>\n",
              "</table>\n",
              "</div>"
            ],
            "text/plain": [
              "        id  season  ...          umpire2          umpire3\n",
              "66      67    2008  ...   GA Pratapkumar              NaN\n",
              "95      96    2008  ...        AM Saheba              NaN\n",
              "117    118    2009  ...      K Hariharan              NaN\n",
              "161    162    2009  ...       SJA Taufel              NaN\n",
              "193    194    2010  ...        AM Saheba              NaN\n",
              "210    211    2010  ...        DJ Harper              NaN\n",
              "233    234    2010  ...       SJA Taufel              NaN\n",
              "256    257    2011  ...        AM Saheba              NaN\n",
              "307    308    2012  ...       SJA Taufel              NaN\n",
              "354    355    2012  ...         S Asnani              NaN\n",
              "378    379    2012  ...  HDPK Dharmasena              NaN\n",
              "385    386    2013  ...      VA Kulkarni              NaN\n",
              "429    430    2013  ...        CK Nandan              NaN\n",
              "453    454    2013  ...        RJ Tucker              NaN\n",
              "456    457    2013  ...       SJA Taufel              NaN\n",
              "469    470    2014  ...        M Erasmus              NaN\n",
              "489    490    2014  ...      VA Kulkarni              NaN\n",
              "514    515    2014  ...     BNJ Oxenford              NaN\n",
              "529    530    2015  ...        M Erasmus              NaN\n",
              "558    559    2015  ...        CK Nandan              NaN\n",
              "572    573    2015  ...   RK Illingworth              NaN\n",
              "575    576    2015  ...   RK Illingworth              NaN\n",
              "636   7894    2018  ...  A Nanda Kishore   Anil Chaudhary\n",
              "662   7920    2018  ...      Nitin Menon    Anil Dandekar\n",
              "710  11151    2019  ...       Rod Tucker   Yeshwant Barde\n",
              "739  11335    2019  ...   Anil Chaudhary  Vineet Kulkarni\n",
              "752  11412    2019  ...      Nitin Menon        Ian Gould\n",
              "755  11415    2019  ...        Ian Gould      Nigel Llong\n",
              "\n",
              "[28 rows x 18 columns]"
            ]
          },
          "metadata": {
            "tags": []
          },
          "execution_count": 10
        }
      ]
    },
    {
      "cell_type": "markdown",
      "metadata": {
        "id": "oaZFdVHJoCx5"
      },
      "source": [
        "Finally , We have got a complete dataset for all the matches of RR VS SRH"
      ]
    },
    {
      "cell_type": "markdown",
      "metadata": {
        "id": "135PC1OV0mR4"
      },
      "source": [
        "**Let's do Q1 now**"
      ]
    },
    {
      "cell_type": "code",
      "metadata": {
        "id": "QIn7GSQznk4q",
        "outputId": "8865c944-3c36-48d1-ceec-a889b1154089",
        "colab": {
          "base_uri": "https://localhost:8080/",
          "height": 439
        }
      },
      "source": [
        "plt.figure(dpi=100)\n",
        "sns.countplot(x='winner',data = data_f)\n",
        "plt.ylabel('Wins Count')\n",
        "plt.xlabel('Team Name')\n",
        "plt.title('CSK vs MI')\n",
        "A,B =data_f.winner.value_counts()\n",
        "\n",
        "print('MI Wins -',A)\n",
        "print('CSK Wins -',B)\n",
        "\n",
        "plt.show()\n"
      ],
      "execution_count": 12,
      "outputs": [
        {
          "output_type": "stream",
          "text": [
            "MI Wins - 17\n",
            "CSK Wins - 11\n"
          ],
          "name": "stdout"
        },
        {
          "output_type": "display_data",
          "data": {
            "image/png": "[encoded data removed]",
            "text/plain": [
              "<Figure size 600x400 with 1 Axes>"
            ]
          },
          "metadata": {
            "tags": []
          }
        }
      ]
    },
    {
      "cell_type": "markdown",
      "metadata": {
        "id": "19UKcUiyp-qM"
      },
      "source": [
        "Let's mark MI considering overall analysis"
      ]
    },
    {
      "cell_type": "markdown",
      "metadata": {
        "id": "SixIaI0eqy-o"
      },
      "source": [
        "**Let's do Q2 now**\n",
        "\n",
        "**Average Wickets lost by RCB in 5-20 overs**"
      ]
    },
    {
      "cell_type": "code",
      "metadata": {
        "id": "lTFe7lWKHyv2",
        "outputId": "f7043258-fe88-4a8d-ddb6-37ea9d12693a",
        "colab": {
          "base_uri": "https://localhost:8080/",
          "height": 609
        }
      },
      "source": [
        "data_n = data.loc[data.bowling_team.isin(['Chennai Super Kings'])]\n",
        "data_n = data_n.loc[data.batsman.isin(['Q de Kock'])]\n",
        "data_n"
      ],
      "execution_count": 29,
      "outputs": [
        {
          "output_type": "execute_result",
          "data": {
            "text/html": [
              "<div>\n",
              "<style scoped>\n",
              "    .dataframe tbody tr th:only-of-type {\n",
              "        vertical-align: middle;\n",
              "    }\n",
              "\n",
              "    .dataframe tbody tr th {\n",
              "        vertical-align: top;\n",
              "    }\n",
              "\n",
              "    .dataframe thead th {\n",
              "        text-align: right;\n",
              "    }\n",
              "</style>\n",
              "<table border=\"1\" class=\"dataframe\">\n",
              "  <thead>\n",
              "    <tr style=\"text-align: right;\">\n",
              "      <th></th>\n",
              "      <th>match_id</th>\n",
              "      <th>inning</th>\n",
              "      <th>batting_team</th>\n",
              "      <th>bowling_team</th>\n",
              "      <th>over</th>\n",
              "      <th>ball</th>\n",
              "      <th>batsman</th>\n",
              "      <th>non_striker</th>\n",
              "      <th>bowler</th>\n",
              "      <th>is_super_over</th>\n",
              "      <th>wide_runs</th>\n",
              "      <th>bye_runs</th>\n",
              "      <th>legbye_runs</th>\n",
              "      <th>noball_runs</th>\n",
              "      <th>penalty_runs</th>\n",
              "      <th>batsman_runs</th>\n",
              "      <th>extra_runs</th>\n",
              "      <th>total_runs</th>\n",
              "      <th>player_dismissed</th>\n",
              "      <th>dismissal_kind</th>\n",
              "      <th>fielder</th>\n",
              "    </tr>\n",
              "  </thead>\n",
              "  <tbody>\n",
              "    <tr>\n",
              "      <th>97960</th>\n",
              "      <td>414</td>\n",
              "      <td>1</td>\n",
              "      <td>Sunrisers Hyderabad</td>\n",
              "      <td>Chennai Super Kings</td>\n",
              "      <td>1</td>\n",
              "      <td>1</td>\n",
              "      <td>Q de Kock</td>\n",
              "      <td>S Dhawan</td>\n",
              "      <td>MM Sharma</td>\n",
              "      <td>0</td>\n",
              "      <td>0</td>\n",
              "      <td>0</td>\n",
              "      <td>0</td>\n",
              "      <td>0</td>\n",
              "      <td>0</td>\n",
              "      <td>0</td>\n",
              "      <td>0</td>\n",
              "      <td>0</td>\n",
              "      <td>NaN</td>\n",
              "      <td>NaN</td>\n",
              "      <td>NaN</td>\n",
              "    </tr>\n",
              "    <tr>\n",
              "      <th>97961</th>\n",
              "      <td>414</td>\n",
              "      <td>1</td>\n",
              "      <td>Sunrisers Hyderabad</td>\n",
              "      <td>Chennai Super Kings</td>\n",
              "      <td>1</td>\n",
              "      <td>2</td>\n",
              "      <td>Q de Kock</td>\n",
              "      <td>S Dhawan</td>\n",
              "      <td>MM Sharma</td>\n",
              "      <td>0</td>\n",
              "      <td>0</td>\n",
              "      <td>0</td>\n",
              "      <td>0</td>\n",
              "      <td>0</td>\n",
              "      <td>0</td>\n",
              "      <td>4</td>\n",
              "      <td>0</td>\n",
              "      <td>4</td>\n",
              "      <td>NaN</td>\n",
              "      <td>NaN</td>\n",
              "      <td>NaN</td>\n",
              "    </tr>\n",
              "    <tr>\n",
              "      <th>97962</th>\n",
              "      <td>414</td>\n",
              "      <td>1</td>\n",
              "      <td>Sunrisers Hyderabad</td>\n",
              "      <td>Chennai Super Kings</td>\n",
              "      <td>1</td>\n",
              "      <td>3</td>\n",
              "      <td>Q de Kock</td>\n",
              "      <td>S Dhawan</td>\n",
              "      <td>MM Sharma</td>\n",
              "      <td>0</td>\n",
              "      <td>0</td>\n",
              "      <td>0</td>\n",
              "      <td>0</td>\n",
              "      <td>0</td>\n",
              "      <td>0</td>\n",
              "      <td>0</td>\n",
              "      <td>0</td>\n",
              "      <td>0</td>\n",
              "      <td>Q de Kock</td>\n",
              "      <td>caught</td>\n",
              "      <td>M Vijay</td>\n",
              "    </tr>\n",
              "    <tr>\n",
              "      <th>114358</th>\n",
              "      <td>483</td>\n",
              "      <td>1</td>\n",
              "      <td>Delhi Daredevils</td>\n",
              "      <td>Chennai Super Kings</td>\n",
              "      <td>1</td>\n",
              "      <td>1</td>\n",
              "      <td>Q de Kock</td>\n",
              "      <td>M Vijay</td>\n",
              "      <td>BW Hilfenhaus</td>\n",
              "      <td>0</td>\n",
              "      <td>0</td>\n",
              "      <td>0</td>\n",
              "      <td>4</td>\n",
              "      <td>0</td>\n",
              "      <td>0</td>\n",
              "      <td>0</td>\n",
              "      <td>4</td>\n",
              "      <td>4</td>\n",
              "      <td>NaN</td>\n",
              "      <td>NaN</td>\n",
              "      <td>NaN</td>\n",
              "    </tr>\n",
              "    <tr>\n",
              "      <th>114359</th>\n",
              "      <td>483</td>\n",
              "      <td>1</td>\n",
              "      <td>Delhi Daredevils</td>\n",
              "      <td>Chennai Super Kings</td>\n",
              "      <td>1</td>\n",
              "      <td>2</td>\n",
              "      <td>Q de Kock</td>\n",
              "      <td>M Vijay</td>\n",
              "      <td>BW Hilfenhaus</td>\n",
              "      <td>0</td>\n",
              "      <td>0</td>\n",
              "      <td>0</td>\n",
              "      <td>0</td>\n",
              "      <td>0</td>\n",
              "      <td>0</td>\n",
              "      <td>0</td>\n",
              "      <td>0</td>\n",
              "      <td>0</td>\n",
              "      <td>NaN</td>\n",
              "      <td>NaN</td>\n",
              "      <td>NaN</td>\n",
              "    </tr>\n",
              "    <tr>\n",
              "      <th>...</th>\n",
              "      <td>...</td>\n",
              "      <td>...</td>\n",
              "      <td>...</td>\n",
              "      <td>...</td>\n",
              "      <td>...</td>\n",
              "      <td>...</td>\n",
              "      <td>...</td>\n",
              "      <td>...</td>\n",
              "      <td>...</td>\n",
              "      <td>...</td>\n",
              "      <td>...</td>\n",
              "      <td>...</td>\n",
              "      <td>...</td>\n",
              "      <td>...</td>\n",
              "      <td>...</td>\n",
              "      <td>...</td>\n",
              "      <td>...</td>\n",
              "      <td>...</td>\n",
              "      <td>...</td>\n",
              "      <td>...</td>\n",
              "      <td>...</td>\n",
              "    </tr>\n",
              "    <tr>\n",
              "      <th>178851</th>\n",
              "      <td>11415</td>\n",
              "      <td>1</td>\n",
              "      <td>Mumbai Indians</td>\n",
              "      <td>Chennai Super Kings</td>\n",
              "      <td>4</td>\n",
              "      <td>3</td>\n",
              "      <td>Q de Kock</td>\n",
              "      <td>RG Sharma</td>\n",
              "      <td>Harbhajan Singh</td>\n",
              "      <td>0</td>\n",
              "      <td>0</td>\n",
              "      <td>0</td>\n",
              "      <td>0</td>\n",
              "      <td>0</td>\n",
              "      <td>0</td>\n",
              "      <td>1</td>\n",
              "      <td>0</td>\n",
              "      <td>1</td>\n",
              "      <td>NaN</td>\n",
              "      <td>NaN</td>\n",
              "      <td>NaN</td>\n",
              "    </tr>\n",
              "    <tr>\n",
              "      <th>178855</th>\n",
              "      <td>11415</td>\n",
              "      <td>1</td>\n",
              "      <td>Mumbai Indians</td>\n",
              "      <td>Chennai Super Kings</td>\n",
              "      <td>5</td>\n",
              "      <td>1</td>\n",
              "      <td>Q de Kock</td>\n",
              "      <td>RG Sharma</td>\n",
              "      <td>SN Thakur</td>\n",
              "      <td>0</td>\n",
              "      <td>0</td>\n",
              "      <td>0</td>\n",
              "      <td>0</td>\n",
              "      <td>0</td>\n",
              "      <td>0</td>\n",
              "      <td>1</td>\n",
              "      <td>0</td>\n",
              "      <td>1</td>\n",
              "      <td>NaN</td>\n",
              "      <td>NaN</td>\n",
              "      <td>NaN</td>\n",
              "    </tr>\n",
              "    <tr>\n",
              "      <th>178857</th>\n",
              "      <td>11415</td>\n",
              "      <td>1</td>\n",
              "      <td>Mumbai Indians</td>\n",
              "      <td>Chennai Super Kings</td>\n",
              "      <td>5</td>\n",
              "      <td>3</td>\n",
              "      <td>Q de Kock</td>\n",
              "      <td>RG Sharma</td>\n",
              "      <td>SN Thakur</td>\n",
              "      <td>0</td>\n",
              "      <td>0</td>\n",
              "      <td>0</td>\n",
              "      <td>0</td>\n",
              "      <td>0</td>\n",
              "      <td>0</td>\n",
              "      <td>0</td>\n",
              "      <td>0</td>\n",
              "      <td>0</td>\n",
              "      <td>NaN</td>\n",
              "      <td>NaN</td>\n",
              "      <td>NaN</td>\n",
              "    </tr>\n",
              "    <tr>\n",
              "      <th>178858</th>\n",
              "      <td>11415</td>\n",
              "      <td>1</td>\n",
              "      <td>Mumbai Indians</td>\n",
              "      <td>Chennai Super Kings</td>\n",
              "      <td>5</td>\n",
              "      <td>4</td>\n",
              "      <td>Q de Kock</td>\n",
              "      <td>RG Sharma</td>\n",
              "      <td>SN Thakur</td>\n",
              "      <td>0</td>\n",
              "      <td>0</td>\n",
              "      <td>0</td>\n",
              "      <td>0</td>\n",
              "      <td>0</td>\n",
              "      <td>0</td>\n",
              "      <td>6</td>\n",
              "      <td>0</td>\n",
              "      <td>6</td>\n",
              "      <td>NaN</td>\n",
              "      <td>NaN</td>\n",
              "      <td>NaN</td>\n",
              "    </tr>\n",
              "    <tr>\n",
              "      <th>178859</th>\n",
              "      <td>11415</td>\n",
              "      <td>1</td>\n",
              "      <td>Mumbai Indians</td>\n",
              "      <td>Chennai Super Kings</td>\n",
              "      <td>5</td>\n",
              "      <td>5</td>\n",
              "      <td>Q de Kock</td>\n",
              "      <td>RG Sharma</td>\n",
              "      <td>SN Thakur</td>\n",
              "      <td>0</td>\n",
              "      <td>0</td>\n",
              "      <td>0</td>\n",
              "      <td>0</td>\n",
              "      <td>0</td>\n",
              "      <td>0</td>\n",
              "      <td>0</td>\n",
              "      <td>0</td>\n",
              "      <td>0</td>\n",
              "      <td>Q de Kock</td>\n",
              "      <td>caught</td>\n",
              "      <td>MS Dhoni</td>\n",
              "    </tr>\n",
              "  </tbody>\n",
              "</table>\n",
              "<p>112 rows × 21 columns</p>\n",
              "</div>"
            ],
            "text/plain": [
              "        match_id  inning  ... dismissal_kind   fielder\n",
              "97960        414       1  ...            NaN       NaN\n",
              "97961        414       1  ...            NaN       NaN\n",
              "97962        414       1  ...         caught   M Vijay\n",
              "114358       483       1  ...            NaN       NaN\n",
              "114359       483       1  ...            NaN       NaN\n",
              "...          ...     ...  ...            ...       ...\n",
              "178851     11415       1  ...            NaN       NaN\n",
              "178855     11415       1  ...            NaN       NaN\n",
              "178857     11415       1  ...            NaN       NaN\n",
              "178858     11415       1  ...            NaN       NaN\n",
              "178859     11415       1  ...         caught  MS Dhoni\n",
              "\n",
              "[112 rows x 21 columns]"
            ]
          },
          "metadata": {
            "tags": []
          },
          "execution_count": 29
        }
      ]
    },
    {
      "cell_type": "code",
      "metadata": {
        "id": "h-nRomZK9iQQ",
        "outputId": "9547ccff-57cf-4d16-fc59-4aec052c7292",
        "colab": {
          "base_uri": "https://localhost:8080/",
          "height": 35
        }
      },
      "source": [
        "data_n.match_id.nunique() # Matches of De Kock v CSK"
      ],
      "execution_count": 58,
      "outputs": [
        {
          "output_type": "execute_result",
          "data": {
            "text/plain": [
              "8"
            ]
          },
          "metadata": {
            "tags": []
          },
          "execution_count": 58
        }
      ]
    },
    {
      "cell_type": "code",
      "metadata": {
        "id": "fBbnvDs52M-l",
        "outputId": "26b64a42-9ec8-4471-e463-9dee2b2ed940",
        "colab": {
          "base_uri": "https://localhost:8080/",
          "height": 294
        }
      },
      "source": [
        "data_dk = data_n.groupby('match_id').apply(lambda data_n:np.sum(data_n['batsman_runs'])).reset_index(name='Runs/Match')\n",
        "data_dk"
      ],
      "execution_count": 30,
      "outputs": [
        {
          "output_type": "execute_result",
          "data": {
            "text/html": [
              "<div>\n",
              "<style scoped>\n",
              "    .dataframe tbody tr th:only-of-type {\n",
              "        vertical-align: middle;\n",
              "    }\n",
              "\n",
              "    .dataframe tbody tr th {\n",
              "        vertical-align: top;\n",
              "    }\n",
              "\n",
              "    .dataframe thead th {\n",
              "        text-align: right;\n",
              "    }\n",
              "</style>\n",
              "<table border=\"1\" class=\"dataframe\">\n",
              "  <thead>\n",
              "    <tr style=\"text-align: right;\">\n",
              "      <th></th>\n",
              "      <th>match_id</th>\n",
              "      <th>Runs/Match</th>\n",
              "    </tr>\n",
              "  </thead>\n",
              "  <tbody>\n",
              "    <tr>\n",
              "      <th>0</th>\n",
              "      <td>414</td>\n",
              "      <td>4</td>\n",
              "    </tr>\n",
              "    <tr>\n",
              "      <th>1</th>\n",
              "      <td>483</td>\n",
              "      <td>24</td>\n",
              "    </tr>\n",
              "    <tr>\n",
              "      <th>2</th>\n",
              "      <td>565</td>\n",
              "      <td>3</td>\n",
              "    </tr>\n",
              "    <tr>\n",
              "      <th>3</th>\n",
              "      <td>7917</td>\n",
              "      <td>53</td>\n",
              "    </tr>\n",
              "    <tr>\n",
              "      <th>4</th>\n",
              "      <td>11151</td>\n",
              "      <td>5</td>\n",
              "    </tr>\n",
              "    <tr>\n",
              "      <th>5</th>\n",
              "      <td>11335</td>\n",
              "      <td>16</td>\n",
              "    </tr>\n",
              "    <tr>\n",
              "      <th>6</th>\n",
              "      <td>11412</td>\n",
              "      <td>11</td>\n",
              "    </tr>\n",
              "    <tr>\n",
              "      <th>7</th>\n",
              "      <td>11415</td>\n",
              "      <td>30</td>\n",
              "    </tr>\n",
              "  </tbody>\n",
              "</table>\n",
              "</div>"
            ],
            "text/plain": [
              "   match_id  Runs/Match\n",
              "0       414           4\n",
              "1       483          24\n",
              "2       565           3\n",
              "3      7917          53\n",
              "4     11151           5\n",
              "5     11335          16\n",
              "6     11412          11\n",
              "7     11415          30"
            ]
          },
          "metadata": {
            "tags": []
          },
          "execution_count": 30
        }
      ]
    },
    {
      "cell_type": "code",
      "metadata": {
        "id": "x-T2-isA3WQ7",
        "outputId": "1ffd3c59-77a4-43f1-a58d-6c4e7349c5cc",
        "colab": {
          "base_uri": "https://localhost:8080/",
          "height": 294
        }
      },
      "source": [
        "data_dk2= data_n.groupby('match_id').apply(lambda data_n:np.sum(data_n.over.value_counts())).reset_index(name='Ball faced')\n",
        "data_dk2"
      ],
      "execution_count": 63,
      "outputs": [
        {
          "output_type": "execute_result",
          "data": {
            "text/html": [
              "<div>\n",
              "<style scoped>\n",
              "    .dataframe tbody tr th:only-of-type {\n",
              "        vertical-align: middle;\n",
              "    }\n",
              "\n",
              "    .dataframe tbody tr th {\n",
              "        vertical-align: top;\n",
              "    }\n",
              "\n",
              "    .dataframe thead th {\n",
              "        text-align: right;\n",
              "    }\n",
              "</style>\n",
              "<table border=\"1\" class=\"dataframe\">\n",
              "  <thead>\n",
              "    <tr style=\"text-align: right;\">\n",
              "      <th></th>\n",
              "      <th>match_id</th>\n",
              "      <th>Ball faced</th>\n",
              "    </tr>\n",
              "  </thead>\n",
              "  <tbody>\n",
              "    <tr>\n",
              "      <th>0</th>\n",
              "      <td>414</td>\n",
              "      <td>3</td>\n",
              "    </tr>\n",
              "    <tr>\n",
              "      <th>1</th>\n",
              "      <td>483</td>\n",
              "      <td>17</td>\n",
              "    </tr>\n",
              "    <tr>\n",
              "      <th>2</th>\n",
              "      <td>565</td>\n",
              "      <td>7</td>\n",
              "    </tr>\n",
              "    <tr>\n",
              "      <th>3</th>\n",
              "      <td>7917</td>\n",
              "      <td>37</td>\n",
              "    </tr>\n",
              "    <tr>\n",
              "      <th>4</th>\n",
              "      <td>11151</td>\n",
              "      <td>7</td>\n",
              "    </tr>\n",
              "    <tr>\n",
              "      <th>5</th>\n",
              "      <td>11335</td>\n",
              "      <td>10</td>\n",
              "    </tr>\n",
              "    <tr>\n",
              "      <th>6</th>\n",
              "      <td>11412</td>\n",
              "      <td>13</td>\n",
              "    </tr>\n",
              "    <tr>\n",
              "      <th>7</th>\n",
              "      <td>11415</td>\n",
              "      <td>18</td>\n",
              "    </tr>\n",
              "  </tbody>\n",
              "</table>\n",
              "</div>"
            ],
            "text/plain": [
              "   match_id  Ball faced\n",
              "0       414           3\n",
              "1       483          17\n",
              "2       565           7\n",
              "3      7917          37\n",
              "4     11151           7\n",
              "5     11335          10\n",
              "6     11412          13\n",
              "7     11415          18"
            ]
          },
          "metadata": {
            "tags": []
          },
          "execution_count": 63
        }
      ]
    },
    {
      "cell_type": "code",
      "metadata": {
        "id": "urPTsnd2MMWo",
        "outputId": "c74bcaf4-1ab7-4ea9-a4fe-65908e4903c2",
        "colab": {
          "base_uri": "https://localhost:8080/",
          "height": 503
        }
      },
      "source": [
        "data_dk4 = data_n.groupby(['match_id','batsman_runs']).apply(lambda data_n: np.sum(data_n.over.value_counts().sum() <10))\n",
        "data_dk4 # Stats of first 10 runs scored by De Kock"
      ],
      "execution_count": 91,
      "outputs": [
        {
          "output_type": "execute_result",
          "data": {
            "text/plain": [
              "match_id  batsman_runs\n",
              "414       0               1\n",
              "          4               1\n",
              "483       0               0\n",
              "          4               1\n",
              "          6               1\n",
              "565       0               1\n",
              "          1               1\n",
              "7917      0               0\n",
              "          1               0\n",
              "          2               1\n",
              "          4               1\n",
              "          6               1\n",
              "11151     0               1\n",
              "          1               1\n",
              "          4               1\n",
              "11335     0               1\n",
              "          1               1\n",
              "          3               1\n",
              "          4               1\n",
              "          6               1\n",
              "11412     0               0\n",
              "          3               1\n",
              "          4               1\n",
              "11415     0               1\n",
              "          1               1\n",
              "          6               1\n",
              "dtype: int64"
            ]
          },
          "metadata": {
            "tags": []
          },
          "execution_count": 91
        }
      ]
    },
    {
      "cell_type": "markdown",
      "metadata": {
        "id": "ixmDYDr0rfsd"
      },
      "source": [
        "Finally we have got our desired dataset in which De Kock has scored how much boundaries in first 10 balls\n",
        "\n",
        "Let's count them -"
      ]
    },
    {
      "cell_type": "code",
      "metadata": {
        "id": "8g4ghdS6OzmY",
        "outputId": "c9ebc474-b054-4b25-a149-1d8fbee782f7",
        "colab": {
          "base_uri": "https://localhost:8080/",
          "height": 35
        }
      },
      "source": [
        "sum = (4+4+6+4+6+4+4+6+4+6)\n",
        "print(sum)"
      ],
      "execution_count": 92,
      "outputs": [
        {
          "output_type": "stream",
          "text": [
            "48\n"
          ],
          "name": "stdout"
        }
      ]
    },
    {
      "cell_type": "code",
      "metadata": {
        "id": "Z9KS-YT-O42N",
        "outputId": "a4d54b53-a80e-4167-a1e8-3ba90634bae1",
        "colab": {
          "base_uri": "https://localhost:8080/",
          "height": 35
        }
      },
      "source": [
        "print(48/8) # Average Boundary runs in first 10 balls faced by De Kock"
      ],
      "execution_count": 93,
      "outputs": [
        {
          "output_type": "stream",
          "text": [
            "6.0\n"
          ],
          "name": "stdout"
        }
      ]
    },
    {
      "cell_type": "markdown",
      "metadata": {
        "id": "m7Lrh9FTPDo3"
      },
      "source": [
        "Let's mark less than 10 considering our analysis"
      ]
    },
    {
      "cell_type": "markdown",
      "metadata": {
        "id": "Q0Xco_vdrYuW"
      },
      "source": [
        "**For Q3, Let's find the dot ball ratio of MI bowlers**"
      ]
    },
    {
      "cell_type": "code",
      "metadata": {
        "id": "EWSCYDNcjt3f"
      },
      "source": [
        "data_m = data.loc[data.bowling_team.isin(['Mumbai Indians'])]\n",
        "data_m = data_m.loc[data.batting_team.isin(['Chennai Super Kings'])]"
      ],
      "execution_count": 143,
      "outputs": []
    },
    {
      "cell_type": "code",
      "metadata": {
        "id": "Tn6F4C9eaxt7",
        "outputId": "626ee056-ca19-4f97-f8d7-f24aee56d781",
        "colab": {
          "base_uri": "https://localhost:8080/",
          "height": 832
        }
      },
      "source": [
        "data_m.bowler.value_counts()"
      ],
      "execution_count": 114,
      "outputs": [
        {
          "output_type": "execute_result",
          "data": {
            "text/plain": [
              "SL Malinga           521\n",
              "Harbhajan Singh      475\n",
              "KA Pollard           254\n",
              "JJ Bumrah            191\n",
              "MJ McClenaghan       144\n",
              "PP Ojha              141\n",
              "HH Pandya            140\n",
              "DJ Bravo             125\n",
              "KH Pandya             99\n",
              "Z Khan                99\n",
              "DS Kulkarni           98\n",
              "MG Johnson            96\n",
              "MM Patel              93\n",
              "RD Chahar             85\n",
              "R Vinay Kumar         74\n",
              "A Nehra               52\n",
              "RP Singh              49\n",
              "J Suchith             49\n",
              "P Kumar               48\n",
              "R McLaren             46\n",
              "M Markande            43\n",
              "SM Pollock            43\n",
              "P Suyal               40\n",
              "AN Ahmed              40\n",
              "CJ Anderson           37\n",
              "CRD Fernando          26\n",
              "M de Lange            26\n",
              "J Behrendorff         25\n",
              "RR Raje               25\n",
              "ST Jayasuriya         24\n",
              "JEC Franklin          24\n",
              "Mustafizur Rahman     23\n",
              "C Nanda               20\n",
              "J Yadav               19\n",
              "MA Khote              18\n",
              "DR Smith              18\n",
              "A Roy                 15\n",
              "JP Duminy             12\n",
              "RJ Peterson           12\n",
              "R Sathish             12\n",
              "DJ Thornely            7\n",
              "VS Yeligati            7\n",
              "BCJ Cutting            7\n",
              "R Dhawan               6\n",
              "AM Nayar               6\n",
              "RG Sharma              6\n",
              "Name: bowler, dtype: int64"
            ]
          },
          "metadata": {
            "tags": []
          },
          "execution_count": 114
        }
      ]
    },
    {
      "cell_type": "code",
      "metadata": {
        "id": "DQUNTzceeDKK"
      },
      "source": [
        "data_m = data_m.loc[data.bowler.isin(['JJ Bumrah'])]"
      ],
      "execution_count": 131,
      "outputs": []
    },
    {
      "cell_type": "code",
      "metadata": {
        "id": "J3LUCGw4eQEk",
        "outputId": "af8d3303-393d-4cf2-aff0-cda55f1958dd",
        "colab": {
          "base_uri": "https://localhost:8080/",
          "height": 139
        }
      },
      "source": [
        "data_m.total_runs.value_counts() # To find Dot balls of Bumrah"
      ],
      "execution_count": 132,
      "outputs": [
        {
          "output_type": "execute_result",
          "data": {
            "text/plain": [
              "0    75\n",
              "1    66\n",
              "4    22\n",
              "2    21\n",
              "6     6\n",
              "8     1\n",
              "Name: total_runs, dtype: int64"
            ]
          },
          "metadata": {
            "tags": []
          },
          "execution_count": 132
        }
      ]
    },
    {
      "cell_type": "code",
      "metadata": {
        "id": "g0ADWlHkeWOF",
        "outputId": "cb886b3d-4035-4251-96f7-7f5004d3753e",
        "colab": {
          "base_uri": "https://localhost:8080/",
          "height": 35
        }
      },
      "source": [
        "data_m.over.value_counts().sum() # Total balls by Bumrah"
      ],
      "execution_count": 134,
      "outputs": [
        {
          "output_type": "execute_result",
          "data": {
            "text/plain": [
              "191"
            ]
          },
          "metadata": {
            "tags": []
          },
          "execution_count": 134
        }
      ]
    },
    {
      "cell_type": "code",
      "metadata": {
        "id": "mhHwuXGveeDK",
        "outputId": "66678ac1-f3a9-4dd9-a2b1-e0af5de46074",
        "colab": {
          "base_uri": "https://localhost:8080/",
          "height": 35
        }
      },
      "source": [
        "np.round(75/191,2) # Dot ball / Total ball ratio of Bumrah "
      ],
      "execution_count": 135,
      "outputs": [
        {
          "output_type": "execute_result",
          "data": {
            "text/plain": [
              "0.39"
            ]
          },
          "metadata": {
            "tags": []
          },
          "execution_count": 135
        }
      ]
    },
    {
      "cell_type": "code",
      "metadata": {
        "id": "gs9P-hW-esUf"
      },
      "source": [
        "data_rc = data_m.loc[data.bowler.isin(['RD Chahar'])]"
      ],
      "execution_count": 144,
      "outputs": []
    },
    {
      "cell_type": "code",
      "metadata": {
        "id": "NqT_Q5W5fMcx",
        "outputId": "83af0446-e936-47c7-ce59-c77b8c060101",
        "colab": {
          "base_uri": "https://localhost:8080/",
          "height": 104
        }
      },
      "source": [
        "data_rc.total_runs.value_counts() # To find Dot balls of RD Chahar"
      ],
      "execution_count": 147,
      "outputs": [
        {
          "output_type": "execute_result",
          "data": {
            "text/plain": [
              "1    41\n",
              "0    38\n",
              "4     4\n",
              "2     2\n",
              "Name: total_runs, dtype: int64"
            ]
          },
          "metadata": {
            "tags": []
          },
          "execution_count": 147
        }
      ]
    },
    {
      "cell_type": "code",
      "metadata": {
        "id": "byVK4BCte3iZ",
        "outputId": "bc5d5c78-feda-4f87-865e-36005b452af8",
        "colab": {
          "base_uri": "https://localhost:8080/",
          "height": 35
        }
      },
      "source": [
        "data_rc.over.value_counts().sum()"
      ],
      "execution_count": 145,
      "outputs": [
        {
          "output_type": "execute_result",
          "data": {
            "text/plain": [
              "85"
            ]
          },
          "metadata": {
            "tags": []
          },
          "execution_count": 145
        }
      ]
    },
    {
      "cell_type": "code",
      "metadata": {
        "id": "xAB7pF6rfWqa",
        "outputId": "b9af29b6-cd41-42ed-a8bb-8122c471223b",
        "colab": {
          "base_uri": "https://localhost:8080/",
          "height": 35
        }
      },
      "source": [
        "np.round(38/85,2) # Dot ball Ratio of RD Chahar"
      ],
      "execution_count": 152,
      "outputs": [
        {
          "output_type": "execute_result",
          "data": {
            "text/plain": [
              "0.45"
            ]
          },
          "metadata": {
            "tags": []
          },
          "execution_count": 152
        }
      ]
    },
    {
      "cell_type": "markdown",
      "metadata": {
        "id": "cx3gUgtfgC7-"
      },
      "source": [
        "After considering dot/total balls ratio Bumrah has more fine record than Chahar\n",
        "\n",
        "Let's mark Bumrah Considering our analysis"
      ]
    },
    {
      "cell_type": "markdown",
      "metadata": {
        "id": "MX2NNUNNVMCK"
      },
      "source": [
        "**Let's do Q4**\n",
        "\n",
        "**Let's find overs in which 4 and 6 are together hit**"
      ]
    },
    {
      "cell_type": "code",
      "metadata": {
        "id": "mkiJmsmKHziO",
        "outputId": "69da3dc1-c782-40f3-adc0-caf9f814090e",
        "colab": {
          "base_uri": "https://localhost:8080/",
          "height": 609
        }
      },
      "source": [
        "data_s = data.loc[data.bowling_team.isin(['Chennai Super Kings','Mumbai Indians'])]\n",
        "data_s = data_s.loc[data.batting_team.isin(['Chennai Super Kings','Mumbai Indians'])]\n",
        "data_s = data_s.loc[data.total_runs.isin(['4','6'])]\n",
        "data_s"
      ],
      "execution_count": 165,
      "outputs": [
        {
          "output_type": "execute_result",
          "data": {
            "text/html": [
              "<div>\n",
              "<style scoped>\n",
              "    .dataframe tbody tr th:only-of-type {\n",
              "        vertical-align: middle;\n",
              "    }\n",
              "\n",
              "    .dataframe tbody tr th {\n",
              "        vertical-align: top;\n",
              "    }\n",
              "\n",
              "    .dataframe thead th {\n",
              "        text-align: right;\n",
              "    }\n",
              "</style>\n",
              "<table border=\"1\" class=\"dataframe\">\n",
              "  <thead>\n",
              "    <tr style=\"text-align: right;\">\n",
              "      <th></th>\n",
              "      <th>match_id</th>\n",
              "      <th>inning</th>\n",
              "      <th>batting_team</th>\n",
              "      <th>bowling_team</th>\n",
              "      <th>over</th>\n",
              "      <th>ball</th>\n",
              "      <th>batsman</th>\n",
              "      <th>non_striker</th>\n",
              "      <th>bowler</th>\n",
              "      <th>is_super_over</th>\n",
              "      <th>wide_runs</th>\n",
              "      <th>bye_runs</th>\n",
              "      <th>legbye_runs</th>\n",
              "      <th>noball_runs</th>\n",
              "      <th>penalty_runs</th>\n",
              "      <th>batsman_runs</th>\n",
              "      <th>extra_runs</th>\n",
              "      <th>total_runs</th>\n",
              "      <th>player_dismissed</th>\n",
              "      <th>dismissal_kind</th>\n",
              "      <th>fielder</th>\n",
              "    </tr>\n",
              "  </thead>\n",
              "  <tbody>\n",
              "    <tr>\n",
              "      <th>15490</th>\n",
              "      <td>67</td>\n",
              "      <td>1</td>\n",
              "      <td>Chennai Super Kings</td>\n",
              "      <td>Mumbai Indians</td>\n",
              "      <td>1</td>\n",
              "      <td>5</td>\n",
              "      <td>PA Patel</td>\n",
              "      <td>ML Hayden</td>\n",
              "      <td>SM Pollock</td>\n",
              "      <td>0</td>\n",
              "      <td>0</td>\n",
              "      <td>0</td>\n",
              "      <td>0</td>\n",
              "      <td>0</td>\n",
              "      <td>0</td>\n",
              "      <td>4</td>\n",
              "      <td>0</td>\n",
              "      <td>4</td>\n",
              "      <td>NaN</td>\n",
              "      <td>NaN</td>\n",
              "      <td>NaN</td>\n",
              "    </tr>\n",
              "    <tr>\n",
              "      <th>15496</th>\n",
              "      <td>67</td>\n",
              "      <td>1</td>\n",
              "      <td>Chennai Super Kings</td>\n",
              "      <td>Mumbai Indians</td>\n",
              "      <td>2</td>\n",
              "      <td>4</td>\n",
              "      <td>PA Patel</td>\n",
              "      <td>ML Hayden</td>\n",
              "      <td>A Nehra</td>\n",
              "      <td>0</td>\n",
              "      <td>0</td>\n",
              "      <td>0</td>\n",
              "      <td>0</td>\n",
              "      <td>0</td>\n",
              "      <td>0</td>\n",
              "      <td>4</td>\n",
              "      <td>0</td>\n",
              "      <td>4</td>\n",
              "      <td>NaN</td>\n",
              "      <td>NaN</td>\n",
              "      <td>NaN</td>\n",
              "    </tr>\n",
              "    <tr>\n",
              "      <th>15498</th>\n",
              "      <td>67</td>\n",
              "      <td>1</td>\n",
              "      <td>Chennai Super Kings</td>\n",
              "      <td>Mumbai Indians</td>\n",
              "      <td>2</td>\n",
              "      <td>6</td>\n",
              "      <td>PA Patel</td>\n",
              "      <td>ML Hayden</td>\n",
              "      <td>A Nehra</td>\n",
              "      <td>0</td>\n",
              "      <td>0</td>\n",
              "      <td>0</td>\n",
              "      <td>0</td>\n",
              "      <td>0</td>\n",
              "      <td>0</td>\n",
              "      <td>4</td>\n",
              "      <td>0</td>\n",
              "      <td>4</td>\n",
              "      <td>NaN</td>\n",
              "      <td>NaN</td>\n",
              "      <td>NaN</td>\n",
              "    </tr>\n",
              "    <tr>\n",
              "      <th>15500</th>\n",
              "      <td>67</td>\n",
              "      <td>1</td>\n",
              "      <td>Chennai Super Kings</td>\n",
              "      <td>Mumbai Indians</td>\n",
              "      <td>3</td>\n",
              "      <td>2</td>\n",
              "      <td>ML Hayden</td>\n",
              "      <td>PA Patel</td>\n",
              "      <td>SM Pollock</td>\n",
              "      <td>0</td>\n",
              "      <td>0</td>\n",
              "      <td>0</td>\n",
              "      <td>0</td>\n",
              "      <td>0</td>\n",
              "      <td>0</td>\n",
              "      <td>4</td>\n",
              "      <td>0</td>\n",
              "      <td>4</td>\n",
              "      <td>NaN</td>\n",
              "      <td>NaN</td>\n",
              "      <td>NaN</td>\n",
              "    </tr>\n",
              "    <tr>\n",
              "      <th>15501</th>\n",
              "      <td>67</td>\n",
              "      <td>1</td>\n",
              "      <td>Chennai Super Kings</td>\n",
              "      <td>Mumbai Indians</td>\n",
              "      <td>3</td>\n",
              "      <td>3</td>\n",
              "      <td>ML Hayden</td>\n",
              "      <td>PA Patel</td>\n",
              "      <td>SM Pollock</td>\n",
              "      <td>0</td>\n",
              "      <td>0</td>\n",
              "      <td>0</td>\n",
              "      <td>0</td>\n",
              "      <td>0</td>\n",
              "      <td>0</td>\n",
              "      <td>6</td>\n",
              "      <td>0</td>\n",
              "      <td>6</td>\n",
              "      <td>NaN</td>\n",
              "      <td>NaN</td>\n",
              "      <td>NaN</td>\n",
              "    </tr>\n",
              "    <tr>\n",
              "      <th>...</th>\n",
              "      <td>...</td>\n",
              "      <td>...</td>\n",
              "      <td>...</td>\n",
              "      <td>...</td>\n",
              "      <td>...</td>\n",
              "      <td>...</td>\n",
              "      <td>...</td>\n",
              "      <td>...</td>\n",
              "      <td>...</td>\n",
              "      <td>...</td>\n",
              "      <td>...</td>\n",
              "      <td>...</td>\n",
              "      <td>...</td>\n",
              "      <td>...</td>\n",
              "      <td>...</td>\n",
              "      <td>...</td>\n",
              "      <td>...</td>\n",
              "      <td>...</td>\n",
              "      <td>...</td>\n",
              "      <td>...</td>\n",
              "      <td>...</td>\n",
              "    </tr>\n",
              "    <tr>\n",
              "      <th>179051</th>\n",
              "      <td>11415</td>\n",
              "      <td>2</td>\n",
              "      <td>Chennai Super Kings</td>\n",
              "      <td>Mumbai Indians</td>\n",
              "      <td>16</td>\n",
              "      <td>4</td>\n",
              "      <td>SR Watson</td>\n",
              "      <td>DJ Bravo</td>\n",
              "      <td>SL Malinga</td>\n",
              "      <td>0</td>\n",
              "      <td>0</td>\n",
              "      <td>0</td>\n",
              "      <td>0</td>\n",
              "      <td>0</td>\n",
              "      <td>0</td>\n",
              "      <td>4</td>\n",
              "      <td>0</td>\n",
              "      <td>4</td>\n",
              "      <td>NaN</td>\n",
              "      <td>NaN</td>\n",
              "      <td>NaN</td>\n",
              "    </tr>\n",
              "    <tr>\n",
              "      <th>179052</th>\n",
              "      <td>11415</td>\n",
              "      <td>2</td>\n",
              "      <td>Chennai Super Kings</td>\n",
              "      <td>Mumbai Indians</td>\n",
              "      <td>16</td>\n",
              "      <td>5</td>\n",
              "      <td>SR Watson</td>\n",
              "      <td>DJ Bravo</td>\n",
              "      <td>SL Malinga</td>\n",
              "      <td>0</td>\n",
              "      <td>0</td>\n",
              "      <td>0</td>\n",
              "      <td>0</td>\n",
              "      <td>0</td>\n",
              "      <td>0</td>\n",
              "      <td>4</td>\n",
              "      <td>0</td>\n",
              "      <td>4</td>\n",
              "      <td>NaN</td>\n",
              "      <td>NaN</td>\n",
              "      <td>NaN</td>\n",
              "    </tr>\n",
              "    <tr>\n",
              "      <th>179061</th>\n",
              "      <td>11415</td>\n",
              "      <td>2</td>\n",
              "      <td>Chennai Super Kings</td>\n",
              "      <td>Mumbai Indians</td>\n",
              "      <td>18</td>\n",
              "      <td>2</td>\n",
              "      <td>SR Watson</td>\n",
              "      <td>DJ Bravo</td>\n",
              "      <td>KH Pandya</td>\n",
              "      <td>0</td>\n",
              "      <td>0</td>\n",
              "      <td>0</td>\n",
              "      <td>0</td>\n",
              "      <td>0</td>\n",
              "      <td>0</td>\n",
              "      <td>6</td>\n",
              "      <td>0</td>\n",
              "      <td>6</td>\n",
              "      <td>NaN</td>\n",
              "      <td>NaN</td>\n",
              "      <td>NaN</td>\n",
              "    </tr>\n",
              "    <tr>\n",
              "      <th>179062</th>\n",
              "      <td>11415</td>\n",
              "      <td>2</td>\n",
              "      <td>Chennai Super Kings</td>\n",
              "      <td>Mumbai Indians</td>\n",
              "      <td>18</td>\n",
              "      <td>3</td>\n",
              "      <td>SR Watson</td>\n",
              "      <td>DJ Bravo</td>\n",
              "      <td>KH Pandya</td>\n",
              "      <td>0</td>\n",
              "      <td>0</td>\n",
              "      <td>0</td>\n",
              "      <td>0</td>\n",
              "      <td>0</td>\n",
              "      <td>0</td>\n",
              "      <td>6</td>\n",
              "      <td>0</td>\n",
              "      <td>6</td>\n",
              "      <td>NaN</td>\n",
              "      <td>NaN</td>\n",
              "      <td>NaN</td>\n",
              "    </tr>\n",
              "    <tr>\n",
              "      <th>179063</th>\n",
              "      <td>11415</td>\n",
              "      <td>2</td>\n",
              "      <td>Chennai Super Kings</td>\n",
              "      <td>Mumbai Indians</td>\n",
              "      <td>18</td>\n",
              "      <td>4</td>\n",
              "      <td>SR Watson</td>\n",
              "      <td>DJ Bravo</td>\n",
              "      <td>KH Pandya</td>\n",
              "      <td>0</td>\n",
              "      <td>0</td>\n",
              "      <td>0</td>\n",
              "      <td>0</td>\n",
              "      <td>0</td>\n",
              "      <td>0</td>\n",
              "      <td>6</td>\n",
              "      <td>0</td>\n",
              "      <td>6</td>\n",
              "      <td>NaN</td>\n",
              "      <td>NaN</td>\n",
              "      <td>NaN</td>\n",
              "    </tr>\n",
              "  </tbody>\n",
              "</table>\n",
              "<p>1092 rows × 21 columns</p>\n",
              "</div>"
            ],
            "text/plain": [
              "        match_id  inning  ... dismissal_kind fielder\n",
              "15490         67       1  ...            NaN     NaN\n",
              "15496         67       1  ...            NaN     NaN\n",
              "15498         67       1  ...            NaN     NaN\n",
              "15500         67       1  ...            NaN     NaN\n",
              "15501         67       1  ...            NaN     NaN\n",
              "...          ...     ...  ...            ...     ...\n",
              "179051     11415       2  ...            NaN     NaN\n",
              "179052     11415       2  ...            NaN     NaN\n",
              "179061     11415       2  ...            NaN     NaN\n",
              "179062     11415       2  ...            NaN     NaN\n",
              "179063     11415       2  ...            NaN     NaN\n",
              "\n",
              "[1092 rows x 21 columns]"
            ]
          },
          "metadata": {
            "tags": []
          },
          "execution_count": 165
        }
      ]
    },
    {
      "cell_type": "code",
      "metadata": {
        "id": "J9Why1gZkVtB",
        "outputId": "f80563ee-0bab-40ed-db49-74d7dd54d536",
        "colab": {
          "base_uri": "https://localhost:8080/",
          "height": 1000
        }
      },
      "source": [
        "data_s.groupby(['match_id','total_runs']).apply(lambda data_s: np.unique(data_s.over.value_counts()))"
      ],
      "execution_count": 177,
      "outputs": [
        {
          "output_type": "execute_result",
          "data": {
            "text/plain": [
              "match_id  total_runs\n",
              "67        4             [1, 2, 3, 4, 5]\n",
              "          6                      [1, 2]\n",
              "96        4                [1, 2, 3, 4]\n",
              "          6                   [1, 2, 3]\n",
              "118       4                [1, 2, 3, 4]\n",
              "          6                   [1, 2, 4]\n",
              "162       4                   [1, 2, 3]\n",
              "          6                      [1, 2]\n",
              "194       4                [1, 2, 3, 5]\n",
              "          6                   [1, 2, 3]\n",
              "211       4                   [1, 2, 3]\n",
              "          6                      [1, 2]\n",
              "234       4                [1, 2, 3, 4]\n",
              "          6                      [1, 2]\n",
              "257       4                [1, 2, 3, 5]\n",
              "          6                      [1, 2]\n",
              "308       4                   [1, 2, 3]\n",
              "          6                         [1]\n",
              "355       4                [1, 2, 3, 4]\n",
              "          6                   [1, 2, 4]\n",
              "379       4                [1, 2, 3, 4]\n",
              "          6                   [1, 2, 3]\n",
              "386       4                   [1, 2, 3]\n",
              "          6                      [1, 2]\n",
              "430       4                   [1, 2, 3]\n",
              "          6                      [1, 2]\n",
              "454       4                [1, 2, 3, 4]\n",
              "          6                   [1, 2, 3]\n",
              "457       4                [1, 2, 3, 4]\n",
              "          6                   [1, 2, 4]\n",
              "470       4                   [1, 2, 4]\n",
              "          6                      [1, 2]\n",
              "490       4                      [1, 2]\n",
              "          6                   [1, 2, 3]\n",
              "515       4             [1, 2, 3, 4, 7]\n",
              "          6                   [1, 2, 4]\n",
              "530       4             [1, 2, 3, 4, 5]\n",
              "          6                   [1, 2, 4]\n",
              "559       4             [1, 2, 3, 4, 5]\n",
              "          6                   [1, 2, 5]\n",
              "573       4                   [1, 2, 3]\n",
              "          6                   [1, 2, 3]\n",
              "576       4                [1, 2, 3, 5]\n",
              "          6                   [1, 2, 3]\n",
              "7894      4                   [1, 2, 4]\n",
              "          6                   [1, 2, 4]\n",
              "7920      4                [1, 2, 3, 4]\n",
              "          6                      [1, 2]\n",
              "11151     4             [1, 2, 3, 4, 5]\n",
              "          6                   [1, 2, 3]\n",
              "11335     4                   [1, 2, 3]\n",
              "          6                      [1, 2]\n",
              "11412     4                [1, 2, 3, 4]\n",
              "          6                      [1, 2]\n",
              "11415     4                [1, 2, 3, 4]\n",
              "          6                   [1, 3, 5]\n",
              "dtype: object"
            ]
          },
          "metadata": {
            "tags": []
          },
          "execution_count": 177
        }
      ]
    },
    {
      "cell_type": "markdown",
      "metadata": {
        "id": "k984XGFLk29z"
      },
      "source": [
        "After observing from above there mostly 3-4 overs on an average where both 4 and 6 has been scored."
      ]
    },
    {
      "cell_type": "markdown",
      "metadata": {
        "id": "uWo7_DlCXew3"
      },
      "source": [
        "**Let's do Q5 now**\n",
        "\n",
        "**Let's compute BLS**"
      ]
    },
    {
      "cell_type": "markdown",
      "metadata": {
        "id": "AeOMQ7CCneOY"
      },
      "source": [
        "Out of these options let's find BLS for Bumrah,Rahul Chahar and Deepak Chahar as they more prominent fighters for it.\n",
        "\n",
        "Using my domain knowledge here."
      ]
    },
    {
      "cell_type": "code",
      "metadata": {
        "id": "t0Twq8yrpN0a",
        "outputId": "f59ed6ff-cfd5-4788-e0d2-bcc67804512d",
        "colab": {
          "base_uri": "https://localhost:8080/",
          "height": 609
        }
      },
      "source": [
        "data_cm = data.loc[data.bowling_team.isin(['Chennai Super Kings'])]\n",
        "data_cm = data_cm.loc[data.batting_team.isin(['Mumbai Indians'])]\n",
        "data_cm"
      ],
      "execution_count": 199,
      "outputs": [
        {
          "output_type": "execute_result",
          "data": {
            "text/html": [
              "<div>\n",
              "<style scoped>\n",
              "    .dataframe tbody tr th:only-of-type {\n",
              "        vertical-align: middle;\n",
              "    }\n",
              "\n",
              "    .dataframe tbody tr th {\n",
              "        vertical-align: top;\n",
              "    }\n",
              "\n",
              "    .dataframe thead th {\n",
              "        text-align: right;\n",
              "    }\n",
              "</style>\n",
              "<table border=\"1\" class=\"dataframe\">\n",
              "  <thead>\n",
              "    <tr style=\"text-align: right;\">\n",
              "      <th></th>\n",
              "      <th>match_id</th>\n",
              "      <th>inning</th>\n",
              "      <th>batting_team</th>\n",
              "      <th>bowling_team</th>\n",
              "      <th>over</th>\n",
              "      <th>ball</th>\n",
              "      <th>batsman</th>\n",
              "      <th>non_striker</th>\n",
              "      <th>bowler</th>\n",
              "      <th>is_super_over</th>\n",
              "      <th>wide_runs</th>\n",
              "      <th>bye_runs</th>\n",
              "      <th>legbye_runs</th>\n",
              "      <th>noball_runs</th>\n",
              "      <th>penalty_runs</th>\n",
              "      <th>batsman_runs</th>\n",
              "      <th>extra_runs</th>\n",
              "      <th>total_runs</th>\n",
              "      <th>player_dismissed</th>\n",
              "      <th>dismissal_kind</th>\n",
              "      <th>fielder</th>\n",
              "    </tr>\n",
              "  </thead>\n",
              "  <tbody>\n",
              "    <tr>\n",
              "      <th>15613</th>\n",
              "      <td>67</td>\n",
              "      <td>2</td>\n",
              "      <td>Mumbai Indians</td>\n",
              "      <td>Chennai Super Kings</td>\n",
              "      <td>1</td>\n",
              "      <td>1</td>\n",
              "      <td>L Ronchi</td>\n",
              "      <td>ST Jayasuriya</td>\n",
              "      <td>JDP Oram</td>\n",
              "      <td>0</td>\n",
              "      <td>0</td>\n",
              "      <td>0</td>\n",
              "      <td>0</td>\n",
              "      <td>0</td>\n",
              "      <td>0</td>\n",
              "      <td>0</td>\n",
              "      <td>0</td>\n",
              "      <td>0</td>\n",
              "      <td>NaN</td>\n",
              "      <td>NaN</td>\n",
              "      <td>NaN</td>\n",
              "    </tr>\n",
              "    <tr>\n",
              "      <th>15614</th>\n",
              "      <td>67</td>\n",
              "      <td>2</td>\n",
              "      <td>Mumbai Indians</td>\n",
              "      <td>Chennai Super Kings</td>\n",
              "      <td>1</td>\n",
              "      <td>2</td>\n",
              "      <td>L Ronchi</td>\n",
              "      <td>ST Jayasuriya</td>\n",
              "      <td>JDP Oram</td>\n",
              "      <td>0</td>\n",
              "      <td>1</td>\n",
              "      <td>0</td>\n",
              "      <td>0</td>\n",
              "      <td>0</td>\n",
              "      <td>0</td>\n",
              "      <td>0</td>\n",
              "      <td>1</td>\n",
              "      <td>1</td>\n",
              "      <td>NaN</td>\n",
              "      <td>NaN</td>\n",
              "      <td>NaN</td>\n",
              "    </tr>\n",
              "    <tr>\n",
              "      <th>15615</th>\n",
              "      <td>67</td>\n",
              "      <td>2</td>\n",
              "      <td>Mumbai Indians</td>\n",
              "      <td>Chennai Super Kings</td>\n",
              "      <td>1</td>\n",
              "      <td>3</td>\n",
              "      <td>L Ronchi</td>\n",
              "      <td>ST Jayasuriya</td>\n",
              "      <td>JDP Oram</td>\n",
              "      <td>0</td>\n",
              "      <td>0</td>\n",
              "      <td>0</td>\n",
              "      <td>0</td>\n",
              "      <td>0</td>\n",
              "      <td>0</td>\n",
              "      <td>1</td>\n",
              "      <td>0</td>\n",
              "      <td>1</td>\n",
              "      <td>NaN</td>\n",
              "      <td>NaN</td>\n",
              "      <td>NaN</td>\n",
              "    </tr>\n",
              "    <tr>\n",
              "      <th>15616</th>\n",
              "      <td>67</td>\n",
              "      <td>2</td>\n",
              "      <td>Mumbai Indians</td>\n",
              "      <td>Chennai Super Kings</td>\n",
              "      <td>1</td>\n",
              "      <td>4</td>\n",
              "      <td>ST Jayasuriya</td>\n",
              "      <td>L Ronchi</td>\n",
              "      <td>JDP Oram</td>\n",
              "      <td>0</td>\n",
              "      <td>0</td>\n",
              "      <td>0</td>\n",
              "      <td>0</td>\n",
              "      <td>0</td>\n",
              "      <td>0</td>\n",
              "      <td>4</td>\n",
              "      <td>0</td>\n",
              "      <td>4</td>\n",
              "      <td>NaN</td>\n",
              "      <td>NaN</td>\n",
              "      <td>NaN</td>\n",
              "    </tr>\n",
              "    <tr>\n",
              "      <th>15617</th>\n",
              "      <td>67</td>\n",
              "      <td>2</td>\n",
              "      <td>Mumbai Indians</td>\n",
              "      <td>Chennai Super Kings</td>\n",
              "      <td>1</td>\n",
              "      <td>5</td>\n",
              "      <td>ST Jayasuriya</td>\n",
              "      <td>L Ronchi</td>\n",
              "      <td>JDP Oram</td>\n",
              "      <td>0</td>\n",
              "      <td>1</td>\n",
              "      <td>0</td>\n",
              "      <td>0</td>\n",
              "      <td>0</td>\n",
              "      <td>0</td>\n",
              "      <td>0</td>\n",
              "      <td>1</td>\n",
              "      <td>1</td>\n",
              "      <td>NaN</td>\n",
              "      <td>NaN</td>\n",
              "      <td>NaN</td>\n",
              "    </tr>\n",
              "    <tr>\n",
              "      <th>...</th>\n",
              "      <td>...</td>\n",
              "      <td>...</td>\n",
              "      <td>...</td>\n",
              "      <td>...</td>\n",
              "      <td>...</td>\n",
              "      <td>...</td>\n",
              "      <td>...</td>\n",
              "      <td>...</td>\n",
              "      <td>...</td>\n",
              "      <td>...</td>\n",
              "      <td>...</td>\n",
              "      <td>...</td>\n",
              "      <td>...</td>\n",
              "      <td>...</td>\n",
              "      <td>...</td>\n",
              "      <td>...</td>\n",
              "      <td>...</td>\n",
              "      <td>...</td>\n",
              "      <td>...</td>\n",
              "      <td>...</td>\n",
              "      <td>...</td>\n",
              "    </tr>\n",
              "    <tr>\n",
              "      <th>178949</th>\n",
              "      <td>11415</td>\n",
              "      <td>1</td>\n",
              "      <td>Mumbai Indians</td>\n",
              "      <td>Chennai Super Kings</td>\n",
              "      <td>20</td>\n",
              "      <td>2</td>\n",
              "      <td>KA Pollard</td>\n",
              "      <td>MJ McClenaghan</td>\n",
              "      <td>DJ Bravo</td>\n",
              "      <td>0</td>\n",
              "      <td>0</td>\n",
              "      <td>0</td>\n",
              "      <td>0</td>\n",
              "      <td>0</td>\n",
              "      <td>0</td>\n",
              "      <td>0</td>\n",
              "      <td>0</td>\n",
              "      <td>0</td>\n",
              "      <td>NaN</td>\n",
              "      <td>NaN</td>\n",
              "      <td>NaN</td>\n",
              "    </tr>\n",
              "    <tr>\n",
              "      <th>178950</th>\n",
              "      <td>11415</td>\n",
              "      <td>1</td>\n",
              "      <td>Mumbai Indians</td>\n",
              "      <td>Chennai Super Kings</td>\n",
              "      <td>20</td>\n",
              "      <td>3</td>\n",
              "      <td>KA Pollard</td>\n",
              "      <td>MJ McClenaghan</td>\n",
              "      <td>DJ Bravo</td>\n",
              "      <td>0</td>\n",
              "      <td>0</td>\n",
              "      <td>0</td>\n",
              "      <td>0</td>\n",
              "      <td>0</td>\n",
              "      <td>0</td>\n",
              "      <td>0</td>\n",
              "      <td>0</td>\n",
              "      <td>0</td>\n",
              "      <td>NaN</td>\n",
              "      <td>NaN</td>\n",
              "      <td>NaN</td>\n",
              "    </tr>\n",
              "    <tr>\n",
              "      <th>178951</th>\n",
              "      <td>11415</td>\n",
              "      <td>1</td>\n",
              "      <td>Mumbai Indians</td>\n",
              "      <td>Chennai Super Kings</td>\n",
              "      <td>20</td>\n",
              "      <td>4</td>\n",
              "      <td>KA Pollard</td>\n",
              "      <td>MJ McClenaghan</td>\n",
              "      <td>DJ Bravo</td>\n",
              "      <td>0</td>\n",
              "      <td>0</td>\n",
              "      <td>0</td>\n",
              "      <td>0</td>\n",
              "      <td>0</td>\n",
              "      <td>0</td>\n",
              "      <td>1</td>\n",
              "      <td>0</td>\n",
              "      <td>1</td>\n",
              "      <td>MJ McClenaghan</td>\n",
              "      <td>run out</td>\n",
              "      <td>F du Plessis</td>\n",
              "    </tr>\n",
              "    <tr>\n",
              "      <th>178952</th>\n",
              "      <td>11415</td>\n",
              "      <td>1</td>\n",
              "      <td>Mumbai Indians</td>\n",
              "      <td>Chennai Super Kings</td>\n",
              "      <td>20</td>\n",
              "      <td>5</td>\n",
              "      <td>KA Pollard</td>\n",
              "      <td>JJ Bumrah</td>\n",
              "      <td>DJ Bravo</td>\n",
              "      <td>0</td>\n",
              "      <td>0</td>\n",
              "      <td>0</td>\n",
              "      <td>0</td>\n",
              "      <td>0</td>\n",
              "      <td>0</td>\n",
              "      <td>4</td>\n",
              "      <td>0</td>\n",
              "      <td>4</td>\n",
              "      <td>NaN</td>\n",
              "      <td>NaN</td>\n",
              "      <td>NaN</td>\n",
              "    </tr>\n",
              "    <tr>\n",
              "      <th>178953</th>\n",
              "      <td>11415</td>\n",
              "      <td>1</td>\n",
              "      <td>Mumbai Indians</td>\n",
              "      <td>Chennai Super Kings</td>\n",
              "      <td>20</td>\n",
              "      <td>6</td>\n",
              "      <td>KA Pollard</td>\n",
              "      <td>JJ Bumrah</td>\n",
              "      <td>DJ Bravo</td>\n",
              "      <td>0</td>\n",
              "      <td>0</td>\n",
              "      <td>0</td>\n",
              "      <td>0</td>\n",
              "      <td>0</td>\n",
              "      <td>0</td>\n",
              "      <td>4</td>\n",
              "      <td>0</td>\n",
              "      <td>4</td>\n",
              "      <td>NaN</td>\n",
              "      <td>NaN</td>\n",
              "      <td>NaN</td>\n",
              "    </tr>\n",
              "  </tbody>\n",
              "</table>\n",
              "<p>3392 rows × 21 columns</p>\n",
              "</div>"
            ],
            "text/plain": [
              "        match_id  inning  ... dismissal_kind       fielder\n",
              "15613         67       2  ...            NaN           NaN\n",
              "15614         67       2  ...            NaN           NaN\n",
              "15615         67       2  ...            NaN           NaN\n",
              "15616         67       2  ...            NaN           NaN\n",
              "15617         67       2  ...            NaN           NaN\n",
              "...          ...     ...  ...            ...           ...\n",
              "178949     11415       1  ...            NaN           NaN\n",
              "178950     11415       1  ...            NaN           NaN\n",
              "178951     11415       1  ...        run out  F du Plessis\n",
              "178952     11415       1  ...            NaN           NaN\n",
              "178953     11415       1  ...            NaN           NaN\n",
              "\n",
              "[3392 rows x 21 columns]"
            ]
          },
          "metadata": {
            "tags": []
          },
          "execution_count": 199
        }
      ]
    },
    {
      "cell_type": "code",
      "metadata": {
        "id": "2Le9XuAXoH7c"
      },
      "source": [
        "data_cm2 = data_cm.loc[data.bowler.isin(['DL Chahar'])]"
      ],
      "execution_count": 200,
      "outputs": []
    },
    {
      "cell_type": "code",
      "metadata": {
        "id": "XwQ6g_4KoUns",
        "outputId": "d0c2f0f0-cbb5-47d0-a6ed-ee79d5018596",
        "colab": {
          "base_uri": "https://localhost:8080/",
          "height": 35
        }
      },
      "source": [
        "data_cm2.player_dismissed.value_counts().sum()"
      ],
      "execution_count": 201,
      "outputs": [
        {
          "output_type": "execute_result",
          "data": {
            "text/plain": [
              "7"
            ]
          },
          "metadata": {
            "tags": []
          },
          "execution_count": 201
        }
      ]
    },
    {
      "cell_type": "code",
      "metadata": {
        "id": "bcvBKjnXodU4",
        "outputId": "d65780dc-b8e4-46ce-ce51-d61db4f5efb9",
        "colab": {
          "base_uri": "https://localhost:8080/",
          "height": 139
        }
      },
      "source": [
        "data_cm2.total_runs.value_counts()"
      ],
      "execution_count": 202,
      "outputs": [
        {
          "output_type": "execute_result",
          "data": {
            "text/plain": [
              "0    60\n",
              "4    22\n",
              "1    22\n",
              "2    12\n",
              "6     4\n",
              "3     1\n",
              "Name: total_runs, dtype: int64"
            ]
          },
          "metadata": {
            "tags": []
          },
          "execution_count": 202
        }
      ]
    },
    {
      "cell_type": "code",
      "metadata": {
        "id": "bteFfnnbpN2c",
        "outputId": "f0bc1f12-1eb0-4d8d-8233-ec1f8e267eac",
        "colab": {
          "base_uri": "https://localhost:8080/",
          "height": 35
        }
      },
      "source": [
        "data_cm2.over.value_counts().sum()"
      ],
      "execution_count": 203,
      "outputs": [
        {
          "output_type": "execute_result",
          "data": {
            "text/plain": [
              "121"
            ]
          },
          "metadata": {
            "tags": []
          },
          "execution_count": 203
        }
      ]
    },
    {
      "cell_type": "code",
      "metadata": {
        "id": "rnS-sMWxokS8"
      },
      "source": [
        "data_cm3 = data_cm.loc[data.batsman.isin(['DL Chahar'])]"
      ],
      "execution_count": 204,
      "outputs": []
    },
    {
      "cell_type": "code",
      "metadata": {
        "id": "OjO99IB6o1kn",
        "outputId": "feefbe76-1664-43a6-f762-b56bcb392596",
        "colab": {
          "base_uri": "https://localhost:8080/",
          "height": 35
        }
      },
      "source": [
        "data_cm3.batsman_runs.value_counts()"
      ],
      "execution_count": 205,
      "outputs": [
        {
          "output_type": "execute_result",
          "data": {
            "text/plain": [
              "Series([], Name: batsman_runs, dtype: int64)"
            ]
          },
          "metadata": {
            "tags": []
          },
          "execution_count": 205
        }
      ]
    },
    {
      "cell_type": "code",
      "metadata": {
        "id": "mdWP1rixpF6o",
        "outputId": "fe802bee-18ee-4db1-86d5-40a3f67cf098",
        "colab": {
          "base_uri": "https://localhost:8080/",
          "height": 35
        }
      },
      "source": [
        "BLS_D_Chahar = ((7 +60)-(112/1)/121) # Using 1 as division by 0 will cause error\n",
        "print(BLS_D_Chahar)"
      ],
      "execution_count": 192,
      "outputs": [
        {
          "output_type": "stream",
          "text": [
            "66.07438016528926\n"
          ],
          "name": "stdout"
        }
      ]
    },
    {
      "cell_type": "code",
      "metadata": {
        "id": "zHkeKqj0pZwy"
      },
      "source": [
        "data_cm = data.loc[data.bowling_team.isin(['Mumbai Indians'])]\n",
        "data_cm = data_cm.loc[data.batting_team.isin(['Chennai Super Kings'])]"
      ],
      "execution_count": 206,
      "outputs": []
    },
    {
      "cell_type": "code",
      "metadata": {
        "id": "O_XKOVGsqeg5"
      },
      "source": [
        "data_cm2 = data_cm.loc[data.bowler.isin(['JJ Bumrah'])]"
      ],
      "execution_count": 207,
      "outputs": []
    },
    {
      "cell_type": "code",
      "metadata": {
        "id": "JeqTLKz3qlXn",
        "outputId": "18f6de76-f7ed-452f-e048-8598dda55f44",
        "colab": {
          "base_uri": "https://localhost:8080/",
          "height": 35
        }
      },
      "source": [
        "data_cm2.player_dismissed.value_counts().sum()"
      ],
      "execution_count": 208,
      "outputs": [
        {
          "output_type": "execute_result",
          "data": {
            "text/plain": [
              "5"
            ]
          },
          "metadata": {
            "tags": []
          },
          "execution_count": 208
        }
      ]
    },
    {
      "cell_type": "code",
      "metadata": {
        "id": "ufZ_E7QxrEda"
      },
      "source": [
        "data_cm3 = data_cm.loc[data.batsman.isin(['JJ Bumrah'])]"
      ],
      "execution_count": 209,
      "outputs": []
    },
    {
      "cell_type": "code",
      "metadata": {
        "id": "TXfiLNhprI6Y",
        "outputId": "a95b090b-5db7-46f5-e2bf-bd6d69f74519",
        "colab": {
          "base_uri": "https://localhost:8080/",
          "height": 35
        }
      },
      "source": [
        "data_cm3.batsman_runs.sum()"
      ],
      "execution_count": 211,
      "outputs": [
        {
          "output_type": "execute_result",
          "data": {
            "text/plain": [
              "0"
            ]
          },
          "metadata": {
            "tags": []
          },
          "execution_count": 211
        }
      ]
    },
    {
      "cell_type": "code",
      "metadata": {
        "id": "MKWqu9pUpdz1",
        "outputId": "6b3f17f8-b4d5-4485-eba3-c6ffb5781e83",
        "colab": {
          "base_uri": "https://localhost:8080/",
          "height": 35
        }
      },
      "source": [
        "BLS_Bumrah = ((5+75)-(124/1)/171) # Using 1 as division by 0 will cause error\n",
        "print(BLS_Bumrah)"
      ],
      "execution_count": 215,
      "outputs": [
        {
          "output_type": "stream",
          "text": [
            "79.27485380116958\n"
          ],
          "name": "stdout"
        }
      ]
    },
    {
      "cell_type": "code",
      "metadata": {
        "id": "HAcObN4Or9g2"
      },
      "source": [
        "data_cm = data.loc[data.bowling_team.isin(['Mumbai Indians'])]\n",
        "data_cm = data_cm.loc[data.batting_team.isin(['Chennai Super Kings'])]"
      ],
      "execution_count": 216,
      "outputs": []
    },
    {
      "cell_type": "code",
      "metadata": {
        "id": "ZpD84QEgsDQ3"
      },
      "source": [
        "data_cm2 = data_cm.loc[data.bowler.isin(['RD Chahar'])]"
      ],
      "execution_count": 217,
      "outputs": []
    },
    {
      "cell_type": "code",
      "metadata": {
        "id": "peqCgUnpsHpt",
        "outputId": "44779af3-2544-45f4-b435-bafb58eaddc7",
        "colab": {
          "base_uri": "https://localhost:8080/",
          "height": 35
        }
      },
      "source": [
        "data_cm2.player_dismissed.value_counts().sum()"
      ],
      "execution_count": 219,
      "outputs": [
        {
          "output_type": "execute_result",
          "data": {
            "text/plain": [
              "3"
            ]
          },
          "metadata": {
            "tags": []
          },
          "execution_count": 219
        }
      ]
    },
    {
      "cell_type": "code",
      "metadata": {
        "id": "7-a2EreWsC6j",
        "outputId": "b12bd14d-889d-4d6d-e4c9-5a6be89b2ed4",
        "colab": {
          "base_uri": "https://localhost:8080/",
          "height": 35
        }
      },
      "source": [
        "BLS_R_Chahar = ((3+38)-(16/1)/85)\n",
        "print(BLS_R_Chahar)"
      ],
      "execution_count": 221,
      "outputs": [
        {
          "output_type": "stream",
          "text": [
            "40.811764705882354\n"
          ],
          "name": "stdout"
        }
      ]
    },
    {
      "cell_type": "markdown",
      "metadata": {
        "id": "74PRVPATTWgl"
      },
      "source": [
        "From our analysis we got highest BLS score for Bumrah with 79.27.\n",
        "\n",
        "Let's mark it considering our analysis."
      ]
    },
    {
      "cell_type": "markdown",
      "metadata": {
        "id": "U0qAE79f0tAQ"
      },
      "source": [
        "Thank You again for this amazing internship.\n",
        "\n",
        "Looking forward to it tomorrow.\n",
        "\n",
        "Regards,\n",
        "\n",
        "Ashaab Rizvi\n",
        "\n"
      ]
    }
  ]
}