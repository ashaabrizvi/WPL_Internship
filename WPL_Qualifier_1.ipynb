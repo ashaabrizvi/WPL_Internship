{
  "nbformat": 4,
  "nbformat_minor": 0,
  "metadata": {
    "colab": {
      "name": "WPL_Qualifier_1.ipynb",
      "provenance": []
    },
    "kernelspec": {
      "name": "python3",
      "display_name": "Python 3"
    }
  },
  "cells": [
    {
      "cell_type": "code",
      "metadata": {
        "id": "atP2KdI4X2Bh",
        "outputId": "27ea2ed1-a95c-4a29-e267-2807b2ef9edd",
        "colab": {
          "base_uri": "https://localhost:8080/"
        }
      },
      "source": [
        "from google.colab import drive\n",
        "drive.mount('/content/gdrive')"
      ],
      "execution_count": 1,
      "outputs": [
        {
          "output_type": "stream",
          "text": [
            "Mounted at /content/gdrive\n"
          ],
          "name": "stdout"
        }
      ]
    },
    {
      "cell_type": "code",
      "metadata": {
        "id": "-dV6pKFqX73s"
      },
      "source": [
        "import os\n",
        "os.environ['KAGGLE_CONFIG_DIR'] = \"/content/gdrive/My Drive/Kaggle\""
      ],
      "execution_count": 2,
      "outputs": []
    },
    {
      "cell_type": "code",
      "metadata": {
        "id": "SAmfc_O-YIeD",
        "outputId": "9dbc02f8-24c0-41ce-fc6a-bb29aa9b6e4c",
        "colab": {
          "base_uri": "https://localhost:8080/"
        }
      },
      "source": [
        "%cd /content/gdrive/My Drive/Kaggle"
      ],
      "execution_count": 3,
      "outputs": [
        {
          "output_type": "stream",
          "text": [
            "/content/gdrive/My Drive/Kaggle\n"
          ],
          "name": "stdout"
        }
      ]
    },
    {
      "cell_type": "code",
      "metadata": {
        "id": "qmc0lzmpYLFO",
        "outputId": "4a444709-7dad-42fe-f5d8-3f335a39aee7",
        "colab": {
          "base_uri": "https://localhost:8080/"
        }
      },
      "source": [
        "!kaggle datasets download -d nowke9/ipldata"
      ],
      "execution_count": 4,
      "outputs": [
        {
          "output_type": "stream",
          "text": [
            "Downloading ipldata.zip to /content/gdrive/My Drive/Kaggle\n",
            "\r  0% 0.00/1.20M [00:00<?, ?B/s]\n",
            "\r100% 1.20M/1.20M [00:00<00:00, 39.9MB/s]\n"
          ],
          "name": "stdout"
        }
      ]
    },
    {
      "cell_type": "code",
      "metadata": {
        "id": "zRWPQny7YfCm",
        "outputId": "39f0d539-ca85-4917-d190-b6fc93c9d007",
        "colab": {
          "base_uri": "https://localhost:8080/"
        }
      },
      "source": [
        "!ls"
      ],
      "execution_count": 5,
      "outputs": [
        {
          "output_type": "stream",
          "text": [
            "deliveries.csv\tipldata.zip  kaggle.json  matches.csv\n"
          ],
          "name": "stdout"
        }
      ]
    },
    {
      "cell_type": "code",
      "metadata": {
        "id": "cFT6X2SVYp-g",
        "outputId": "b631b280-84db-4217-f3f7-a21aa139dee6",
        "colab": {
          "base_uri": "https://localhost:8080/"
        }
      },
      "source": [
        "!unzip \\*.zip  && rm *.zip"
      ],
      "execution_count": 6,
      "outputs": [
        {
          "output_type": "stream",
          "text": [
            "Archive:  ipldata.zip\n",
            "replace deliveries.csv? [y]es, [n]o, [A]ll, [N]one, [r]ename: n\n",
            "replace matches.csv? [y]es, [n]o, [A]ll, [N]one, [r]ename: n\n"
          ],
          "name": "stdout"
        }
      ]
    },
    {
      "cell_type": "code",
      "metadata": {
        "id": "WPXS8VygY5qv"
      },
      "source": [
        "import pandas as pd\n",
        "import numpy as np\n",
        "import matplotlib.pyplot as plt\n",
        "import seaborn as sns\n",
        "sns.set_style(style='darkgrid')"
      ],
      "execution_count": 7,
      "outputs": []
    },
    {
      "cell_type": "code",
      "metadata": {
        "id": "eYoL_cUeZCkQ",
        "outputId": "6e117c5f-085c-4042-d2bf-6f25c7210e71",
        "colab": {
          "base_uri": "https://localhost:8080/",
          "height": 395
        }
      },
      "source": [
        "data=pd.read_csv('deliveries.csv')\n",
        "data.head()"
      ],
      "execution_count": 8,
      "outputs": [
        {
          "output_type": "execute_result",
          "data": {
            "text/html": [
              "<div>\n",
              "<style scoped>\n",
              "    .dataframe tbody tr th:only-of-type {\n",
              "        vertical-align: middle;\n",
              "    }\n",
              "\n",
              "    .dataframe tbody tr th {\n",
              "        vertical-align: top;\n",
              "    }\n",
              "\n",
              "    .dataframe thead th {\n",
              "        text-align: right;\n",
              "    }\n",
              "</style>\n",
              "<table border=\"1\" class=\"dataframe\">\n",
              "  <thead>\n",
              "    <tr style=\"text-align: right;\">\n",
              "      <th></th>\n",
              "      <th>match_id</th>\n",
              "      <th>inning</th>\n",
              "      <th>batting_team</th>\n",
              "      <th>bowling_team</th>\n",
              "      <th>over</th>\n",
              "      <th>ball</th>\n",
              "      <th>batsman</th>\n",
              "      <th>non_striker</th>\n",
              "      <th>bowler</th>\n",
              "      <th>is_super_over</th>\n",
              "      <th>wide_runs</th>\n",
              "      <th>bye_runs</th>\n",
              "      <th>legbye_runs</th>\n",
              "      <th>noball_runs</th>\n",
              "      <th>penalty_runs</th>\n",
              "      <th>batsman_runs</th>\n",
              "      <th>extra_runs</th>\n",
              "      <th>total_runs</th>\n",
              "      <th>player_dismissed</th>\n",
              "      <th>dismissal_kind</th>\n",
              "      <th>fielder</th>\n",
              "    </tr>\n",
              "  </thead>\n",
              "  <tbody>\n",
              "    <tr>\n",
              "      <th>0</th>\n",
              "      <td>1</td>\n",
              "      <td>1</td>\n",
              "      <td>Sunrisers Hyderabad</td>\n",
              "      <td>Royal Challengers Bangalore</td>\n",
              "      <td>1</td>\n",
              "      <td>1</td>\n",
              "      <td>DA Warner</td>\n",
              "      <td>S Dhawan</td>\n",
              "      <td>TS Mills</td>\n",
              "      <td>0</td>\n",
              "      <td>0</td>\n",
              "      <td>0</td>\n",
              "      <td>0</td>\n",
              "      <td>0</td>\n",
              "      <td>0</td>\n",
              "      <td>0</td>\n",
              "      <td>0</td>\n",
              "      <td>0</td>\n",
              "      <td>NaN</td>\n",
              "      <td>NaN</td>\n",
              "      <td>NaN</td>\n",
              "    </tr>\n",
              "    <tr>\n",
              "      <th>1</th>\n",
              "      <td>1</td>\n",
              "      <td>1</td>\n",
              "      <td>Sunrisers Hyderabad</td>\n",
              "      <td>Royal Challengers Bangalore</td>\n",
              "      <td>1</td>\n",
              "      <td>2</td>\n",
              "      <td>DA Warner</td>\n",
              "      <td>S Dhawan</td>\n",
              "      <td>TS Mills</td>\n",
              "      <td>0</td>\n",
              "      <td>0</td>\n",
              "      <td>0</td>\n",
              "      <td>0</td>\n",
              "      <td>0</td>\n",
              "      <td>0</td>\n",
              "      <td>0</td>\n",
              "      <td>0</td>\n",
              "      <td>0</td>\n",
              "      <td>NaN</td>\n",
              "      <td>NaN</td>\n",
              "      <td>NaN</td>\n",
              "    </tr>\n",
              "    <tr>\n",
              "      <th>2</th>\n",
              "      <td>1</td>\n",
              "      <td>1</td>\n",
              "      <td>Sunrisers Hyderabad</td>\n",
              "      <td>Royal Challengers Bangalore</td>\n",
              "      <td>1</td>\n",
              "      <td>3</td>\n",
              "      <td>DA Warner</td>\n",
              "      <td>S Dhawan</td>\n",
              "      <td>TS Mills</td>\n",
              "      <td>0</td>\n",
              "      <td>0</td>\n",
              "      <td>0</td>\n",
              "      <td>0</td>\n",
              "      <td>0</td>\n",
              "      <td>0</td>\n",
              "      <td>4</td>\n",
              "      <td>0</td>\n",
              "      <td>4</td>\n",
              "      <td>NaN</td>\n",
              "      <td>NaN</td>\n",
              "      <td>NaN</td>\n",
              "    </tr>\n",
              "    <tr>\n",
              "      <th>3</th>\n",
              "      <td>1</td>\n",
              "      <td>1</td>\n",
              "      <td>Sunrisers Hyderabad</td>\n",
              "      <td>Royal Challengers Bangalore</td>\n",
              "      <td>1</td>\n",
              "      <td>4</td>\n",
              "      <td>DA Warner</td>\n",
              "      <td>S Dhawan</td>\n",
              "      <td>TS Mills</td>\n",
              "      <td>0</td>\n",
              "      <td>0</td>\n",
              "      <td>0</td>\n",
              "      <td>0</td>\n",
              "      <td>0</td>\n",
              "      <td>0</td>\n",
              "      <td>0</td>\n",
              "      <td>0</td>\n",
              "      <td>0</td>\n",
              "      <td>NaN</td>\n",
              "      <td>NaN</td>\n",
              "      <td>NaN</td>\n",
              "    </tr>\n",
              "    <tr>\n",
              "      <th>4</th>\n",
              "      <td>1</td>\n",
              "      <td>1</td>\n",
              "      <td>Sunrisers Hyderabad</td>\n",
              "      <td>Royal Challengers Bangalore</td>\n",
              "      <td>1</td>\n",
              "      <td>5</td>\n",
              "      <td>DA Warner</td>\n",
              "      <td>S Dhawan</td>\n",
              "      <td>TS Mills</td>\n",
              "      <td>0</td>\n",
              "      <td>2</td>\n",
              "      <td>0</td>\n",
              "      <td>0</td>\n",
              "      <td>0</td>\n",
              "      <td>0</td>\n",
              "      <td>0</td>\n",
              "      <td>2</td>\n",
              "      <td>2</td>\n",
              "      <td>NaN</td>\n",
              "      <td>NaN</td>\n",
              "      <td>NaN</td>\n",
              "    </tr>\n",
              "  </tbody>\n",
              "</table>\n",
              "</div>"
            ],
            "text/plain": [
              "   match_id  inning  ... dismissal_kind fielder\n",
              "0         1       1  ...            NaN     NaN\n",
              "1         1       1  ...            NaN     NaN\n",
              "2         1       1  ...            NaN     NaN\n",
              "3         1       1  ...            NaN     NaN\n",
              "4         1       1  ...            NaN     NaN\n",
              "\n",
              "[5 rows x 21 columns]"
            ]
          },
          "metadata": {
            "tags": []
          },
          "execution_count": 8
        }
      ]
    },
    {
      "cell_type": "code",
      "metadata": {
        "id": "j-EEPN7pZVj5",
        "outputId": "dfb905e8-4fd4-4508-9efc-fd8cf3b7ef50",
        "colab": {
          "base_uri": "https://localhost:8080/",
          "height": 447
        }
      },
      "source": [
        "data2= pd.read_csv('matches.csv')\n",
        "data2.head()"
      ],
      "execution_count": 9,
      "outputs": [
        {
          "output_type": "execute_result",
          "data": {
            "text/html": [
              "<div>\n",
              "<style scoped>\n",
              "    .dataframe tbody tr th:only-of-type {\n",
              "        vertical-align: middle;\n",
              "    }\n",
              "\n",
              "    .dataframe tbody tr th {\n",
              "        vertical-align: top;\n",
              "    }\n",
              "\n",
              "    .dataframe thead th {\n",
              "        text-align: right;\n",
              "    }\n",
              "</style>\n",
              "<table border=\"1\" class=\"dataframe\">\n",
              "  <thead>\n",
              "    <tr style=\"text-align: right;\">\n",
              "      <th></th>\n",
              "      <th>id</th>\n",
              "      <th>season</th>\n",
              "      <th>city</th>\n",
              "      <th>date</th>\n",
              "      <th>team1</th>\n",
              "      <th>team2</th>\n",
              "      <th>toss_winner</th>\n",
              "      <th>toss_decision</th>\n",
              "      <th>result</th>\n",
              "      <th>dl_applied</th>\n",
              "      <th>winner</th>\n",
              "      <th>win_by_runs</th>\n",
              "      <th>win_by_wickets</th>\n",
              "      <th>player_of_match</th>\n",
              "      <th>venue</th>\n",
              "      <th>umpire1</th>\n",
              "      <th>umpire2</th>\n",
              "      <th>umpire3</th>\n",
              "    </tr>\n",
              "  </thead>\n",
              "  <tbody>\n",
              "    <tr>\n",
              "      <th>0</th>\n",
              "      <td>1</td>\n",
              "      <td>2017</td>\n",
              "      <td>Hyderabad</td>\n",
              "      <td>2017-04-05</td>\n",
              "      <td>Sunrisers Hyderabad</td>\n",
              "      <td>Royal Challengers Bangalore</td>\n",
              "      <td>Royal Challengers Bangalore</td>\n",
              "      <td>field</td>\n",
              "      <td>normal</td>\n",
              "      <td>0</td>\n",
              "      <td>Sunrisers Hyderabad</td>\n",
              "      <td>35</td>\n",
              "      <td>0</td>\n",
              "      <td>Yuvraj Singh</td>\n",
              "      <td>Rajiv Gandhi International Stadium, Uppal</td>\n",
              "      <td>AY Dandekar</td>\n",
              "      <td>NJ Llong</td>\n",
              "      <td>NaN</td>\n",
              "    </tr>\n",
              "    <tr>\n",
              "      <th>1</th>\n",
              "      <td>2</td>\n",
              "      <td>2017</td>\n",
              "      <td>Pune</td>\n",
              "      <td>2017-04-06</td>\n",
              "      <td>Mumbai Indians</td>\n",
              "      <td>Rising Pune Supergiant</td>\n",
              "      <td>Rising Pune Supergiant</td>\n",
              "      <td>field</td>\n",
              "      <td>normal</td>\n",
              "      <td>0</td>\n",
              "      <td>Rising Pune Supergiant</td>\n",
              "      <td>0</td>\n",
              "      <td>7</td>\n",
              "      <td>SPD Smith</td>\n",
              "      <td>Maharashtra Cricket Association Stadium</td>\n",
              "      <td>A Nand Kishore</td>\n",
              "      <td>S Ravi</td>\n",
              "      <td>NaN</td>\n",
              "    </tr>\n",
              "    <tr>\n",
              "      <th>2</th>\n",
              "      <td>3</td>\n",
              "      <td>2017</td>\n",
              "      <td>Rajkot</td>\n",
              "      <td>2017-04-07</td>\n",
              "      <td>Gujarat Lions</td>\n",
              "      <td>Kolkata Knight Riders</td>\n",
              "      <td>Kolkata Knight Riders</td>\n",
              "      <td>field</td>\n",
              "      <td>normal</td>\n",
              "      <td>0</td>\n",
              "      <td>Kolkata Knight Riders</td>\n",
              "      <td>0</td>\n",
              "      <td>10</td>\n",
              "      <td>CA Lynn</td>\n",
              "      <td>Saurashtra Cricket Association Stadium</td>\n",
              "      <td>Nitin Menon</td>\n",
              "      <td>CK Nandan</td>\n",
              "      <td>NaN</td>\n",
              "    </tr>\n",
              "    <tr>\n",
              "      <th>3</th>\n",
              "      <td>4</td>\n",
              "      <td>2017</td>\n",
              "      <td>Indore</td>\n",
              "      <td>2017-04-08</td>\n",
              "      <td>Rising Pune Supergiant</td>\n",
              "      <td>Kings XI Punjab</td>\n",
              "      <td>Kings XI Punjab</td>\n",
              "      <td>field</td>\n",
              "      <td>normal</td>\n",
              "      <td>0</td>\n",
              "      <td>Kings XI Punjab</td>\n",
              "      <td>0</td>\n",
              "      <td>6</td>\n",
              "      <td>GJ Maxwell</td>\n",
              "      <td>Holkar Cricket Stadium</td>\n",
              "      <td>AK Chaudhary</td>\n",
              "      <td>C Shamshuddin</td>\n",
              "      <td>NaN</td>\n",
              "    </tr>\n",
              "    <tr>\n",
              "      <th>4</th>\n",
              "      <td>5</td>\n",
              "      <td>2017</td>\n",
              "      <td>Bangalore</td>\n",
              "      <td>2017-04-08</td>\n",
              "      <td>Royal Challengers Bangalore</td>\n",
              "      <td>Delhi Daredevils</td>\n",
              "      <td>Royal Challengers Bangalore</td>\n",
              "      <td>bat</td>\n",
              "      <td>normal</td>\n",
              "      <td>0</td>\n",
              "      <td>Royal Challengers Bangalore</td>\n",
              "      <td>15</td>\n",
              "      <td>0</td>\n",
              "      <td>KM Jadhav</td>\n",
              "      <td>M Chinnaswamy Stadium</td>\n",
              "      <td>NaN</td>\n",
              "      <td>NaN</td>\n",
              "      <td>NaN</td>\n",
              "    </tr>\n",
              "  </tbody>\n",
              "</table>\n",
              "</div>"
            ],
            "text/plain": [
              "   id  season       city  ...         umpire1        umpire2 umpire3\n",
              "0   1    2017  Hyderabad  ...     AY Dandekar       NJ Llong     NaN\n",
              "1   2    2017       Pune  ...  A Nand Kishore         S Ravi     NaN\n",
              "2   3    2017     Rajkot  ...     Nitin Menon      CK Nandan     NaN\n",
              "3   4    2017     Indore  ...    AK Chaudhary  C Shamshuddin     NaN\n",
              "4   5    2017  Bangalore  ...             NaN            NaN     NaN\n",
              "\n",
              "[5 rows x 18 columns]"
            ]
          },
          "metadata": {
            "tags": []
          },
          "execution_count": 9
        }
      ]
    },
    {
      "cell_type": "code",
      "metadata": {
        "id": "RJ6suqrFXy1R"
      },
      "source": [
        "data.batting_team.replace({'Delhi Daredevils' : 'Delhi Capitals'},inplace=True)\n",
        "data.bowling_team.replace({'Delhi Daredevils' : 'Delhi Capitals'},inplace=True)"
      ],
      "execution_count": 10,
      "outputs": []
    },
    {
      "cell_type": "code",
      "metadata": {
        "id": "TlvgU0OjX1gP"
      },
      "source": [
        "data2.team1.replace({'Delhi Daredevils' : 'Delhi Capitals'},inplace=True)\n",
        "data2.team2.replace({'Delhi Daredevils' : 'Delhi Capitals'},inplace=True)"
      ],
      "execution_count": 11,
      "outputs": []
    },
    {
      "cell_type": "code",
      "metadata": {
        "id": "dqvp9laIX4fL"
      },
      "source": [
        "data2.toss_winner.replace({'Delhi Daredevils' : 'Delhi Capitals'},inplace=True)\n",
        "data2.winner.replace({'Delhi Daredevils' : 'Delhi Capitals'},inplace=True)"
      ],
      "execution_count": 12,
      "outputs": []
    },
    {
      "cell_type": "code",
      "metadata": {
        "id": "J2C_uVclcSX4",
        "outputId": "865e4463-04a2-4275-8be2-f6717f51f1e5",
        "colab": {
          "base_uri": "https://localhost:8080/",
          "height": 1000
        }
      },
      "source": [
        "data_f = data2.loc[data2.team1.isin(['Delhi Capitals','Mumbai Indians'])] \n",
        "data_f = data_f.loc[data_f.team2.isin(['Delhi Capitals','Mumbai Indians'])] \n",
        "data_f"
      ],
      "execution_count": 13,
      "outputs": [
        {
          "output_type": "execute_result",
          "data": {
            "text/html": [
              "<div>\n",
              "<style scoped>\n",
              "    .dataframe tbody tr th:only-of-type {\n",
              "        vertical-align: middle;\n",
              "    }\n",
              "\n",
              "    .dataframe tbody tr th {\n",
              "        vertical-align: top;\n",
              "    }\n",
              "\n",
              "    .dataframe thead th {\n",
              "        text-align: right;\n",
              "    }\n",
              "</style>\n",
              "<table border=\"1\" class=\"dataframe\">\n",
              "  <thead>\n",
              "    <tr style=\"text-align: right;\">\n",
              "      <th></th>\n",
              "      <th>id</th>\n",
              "      <th>season</th>\n",
              "      <th>city</th>\n",
              "      <th>date</th>\n",
              "      <th>team1</th>\n",
              "      <th>team2</th>\n",
              "      <th>toss_winner</th>\n",
              "      <th>toss_decision</th>\n",
              "      <th>result</th>\n",
              "      <th>dl_applied</th>\n",
              "      <th>winner</th>\n",
              "      <th>win_by_runs</th>\n",
              "      <th>win_by_wickets</th>\n",
              "      <th>player_of_match</th>\n",
              "      <th>venue</th>\n",
              "      <th>umpire1</th>\n",
              "      <th>umpire2</th>\n",
              "      <th>umpire3</th>\n",
              "    </tr>\n",
              "  </thead>\n",
              "  <tbody>\n",
              "    <tr>\n",
              "      <th>23</th>\n",
              "      <td>24</td>\n",
              "      <td>2017</td>\n",
              "      <td>Mumbai</td>\n",
              "      <td>2017-04-22</td>\n",
              "      <td>Mumbai Indians</td>\n",
              "      <td>Delhi Capitals</td>\n",
              "      <td>Delhi Capitals</td>\n",
              "      <td>field</td>\n",
              "      <td>normal</td>\n",
              "      <td>0</td>\n",
              "      <td>Mumbai Indians</td>\n",
              "      <td>14</td>\n",
              "      <td>0</td>\n",
              "      <td>MJ McClenaghan</td>\n",
              "      <td>Wankhede Stadium</td>\n",
              "      <td>A Nand Kishore</td>\n",
              "      <td>S Ravi</td>\n",
              "      <td>NaN</td>\n",
              "    </tr>\n",
              "    <tr>\n",
              "      <th>43</th>\n",
              "      <td>44</td>\n",
              "      <td>2017</td>\n",
              "      <td>Delhi</td>\n",
              "      <td>2017-05-06</td>\n",
              "      <td>Mumbai Indians</td>\n",
              "      <td>Delhi Capitals</td>\n",
              "      <td>Delhi Capitals</td>\n",
              "      <td>field</td>\n",
              "      <td>normal</td>\n",
              "      <td>0</td>\n",
              "      <td>Mumbai Indians</td>\n",
              "      <td>146</td>\n",
              "      <td>0</td>\n",
              "      <td>LMP Simmons</td>\n",
              "      <td>Feroz Shah Kotla</td>\n",
              "      <td>Nitin Menon</td>\n",
              "      <td>CK Nandan</td>\n",
              "      <td>NaN</td>\n",
              "    </tr>\n",
              "    <tr>\n",
              "      <th>81</th>\n",
              "      <td>82</td>\n",
              "      <td>2008</td>\n",
              "      <td>Mumbai</td>\n",
              "      <td>2008-05-04</td>\n",
              "      <td>Mumbai Indians</td>\n",
              "      <td>Delhi Capitals</td>\n",
              "      <td>Delhi Capitals</td>\n",
              "      <td>field</td>\n",
              "      <td>normal</td>\n",
              "      <td>0</td>\n",
              "      <td>Mumbai Indians</td>\n",
              "      <td>29</td>\n",
              "      <td>0</td>\n",
              "      <td>SM Pollock</td>\n",
              "      <td>Dr DY Patil Sports Academy</td>\n",
              "      <td>IL Howell</td>\n",
              "      <td>RE Koertzen</td>\n",
              "      <td>NaN</td>\n",
              "    </tr>\n",
              "    <tr>\n",
              "      <th>108</th>\n",
              "      <td>109</td>\n",
              "      <td>2008</td>\n",
              "      <td>Delhi</td>\n",
              "      <td>2008-05-24</td>\n",
              "      <td>Mumbai Indians</td>\n",
              "      <td>Delhi Capitals</td>\n",
              "      <td>Delhi Capitals</td>\n",
              "      <td>field</td>\n",
              "      <td>normal</td>\n",
              "      <td>0</td>\n",
              "      <td>Delhi Capitals</td>\n",
              "      <td>0</td>\n",
              "      <td>5</td>\n",
              "      <td>KD Karthik</td>\n",
              "      <td>Feroz Shah Kotla</td>\n",
              "      <td>BF Bowden</td>\n",
              "      <td>K Hariharan</td>\n",
              "      <td>NaN</td>\n",
              "    </tr>\n",
              "    <tr>\n",
              "      <th>149</th>\n",
              "      <td>150</td>\n",
              "      <td>2009</td>\n",
              "      <td>East London</td>\n",
              "      <td>2009-05-08</td>\n",
              "      <td>Mumbai Indians</td>\n",
              "      <td>Delhi Capitals</td>\n",
              "      <td>Mumbai Indians</td>\n",
              "      <td>bat</td>\n",
              "      <td>normal</td>\n",
              "      <td>0</td>\n",
              "      <td>Delhi Capitals</td>\n",
              "      <td>0</td>\n",
              "      <td>7</td>\n",
              "      <td>A Nehra</td>\n",
              "      <td>Buffalo Park</td>\n",
              "      <td>M Erasmus</td>\n",
              "      <td>SK Tarapore</td>\n",
              "      <td>NaN</td>\n",
              "    </tr>\n",
              "    <tr>\n",
              "      <th>169</th>\n",
              "      <td>170</td>\n",
              "      <td>2009</td>\n",
              "      <td>Centurion</td>\n",
              "      <td>2009-05-21</td>\n",
              "      <td>Mumbai Indians</td>\n",
              "      <td>Delhi Capitals</td>\n",
              "      <td>Delhi Capitals</td>\n",
              "      <td>field</td>\n",
              "      <td>normal</td>\n",
              "      <td>0</td>\n",
              "      <td>Delhi Capitals</td>\n",
              "      <td>0</td>\n",
              "      <td>4</td>\n",
              "      <td>V Sehwag</td>\n",
              "      <td>SuperSport Park</td>\n",
              "      <td>IL Howell</td>\n",
              "      <td>S Ravi</td>\n",
              "      <td>NaN</td>\n",
              "    </tr>\n",
              "    <tr>\n",
              "      <th>182</th>\n",
              "      <td>183</td>\n",
              "      <td>2010</td>\n",
              "      <td>Delhi</td>\n",
              "      <td>2010-03-17</td>\n",
              "      <td>Mumbai Indians</td>\n",
              "      <td>Delhi Capitals</td>\n",
              "      <td>Delhi Capitals</td>\n",
              "      <td>field</td>\n",
              "      <td>normal</td>\n",
              "      <td>0</td>\n",
              "      <td>Mumbai Indians</td>\n",
              "      <td>98</td>\n",
              "      <td>0</td>\n",
              "      <td>SR Tendulkar</td>\n",
              "      <td>Feroz Shah Kotla</td>\n",
              "      <td>BR Doctrove</td>\n",
              "      <td>SK Tarapore</td>\n",
              "      <td>NaN</td>\n",
              "    </tr>\n",
              "    <tr>\n",
              "      <th>220</th>\n",
              "      <td>221</td>\n",
              "      <td>2010</td>\n",
              "      <td>Mumbai</td>\n",
              "      <td>2010-04-13</td>\n",
              "      <td>Mumbai Indians</td>\n",
              "      <td>Delhi Capitals</td>\n",
              "      <td>Mumbai Indians</td>\n",
              "      <td>bat</td>\n",
              "      <td>normal</td>\n",
              "      <td>0</td>\n",
              "      <td>Mumbai Indians</td>\n",
              "      <td>39</td>\n",
              "      <td>0</td>\n",
              "      <td>KA Pollard</td>\n",
              "      <td>Brabourne Stadium</td>\n",
              "      <td>S Asnani</td>\n",
              "      <td>DJ Harper</td>\n",
              "      <td>NaN</td>\n",
              "    </tr>\n",
              "    <tr>\n",
              "      <th>237</th>\n",
              "      <td>238</td>\n",
              "      <td>2011</td>\n",
              "      <td>Delhi</td>\n",
              "      <td>2011-04-10</td>\n",
              "      <td>Delhi Capitals</td>\n",
              "      <td>Mumbai Indians</td>\n",
              "      <td>Delhi Capitals</td>\n",
              "      <td>bat</td>\n",
              "      <td>normal</td>\n",
              "      <td>0</td>\n",
              "      <td>Mumbai Indians</td>\n",
              "      <td>0</td>\n",
              "      <td>8</td>\n",
              "      <td>SL Malinga</td>\n",
              "      <td>Feroz Shah Kotla</td>\n",
              "      <td>AM Saheba</td>\n",
              "      <td>RB Tiffin</td>\n",
              "      <td>NaN</td>\n",
              "    </tr>\n",
              "    <tr>\n",
              "      <th>281</th>\n",
              "      <td>282</td>\n",
              "      <td>2011</td>\n",
              "      <td>Mumbai</td>\n",
              "      <td>2011-05-07</td>\n",
              "      <td>Mumbai Indians</td>\n",
              "      <td>Delhi Capitals</td>\n",
              "      <td>Delhi Capitals</td>\n",
              "      <td>field</td>\n",
              "      <td>normal</td>\n",
              "      <td>0</td>\n",
              "      <td>Mumbai Indians</td>\n",
              "      <td>32</td>\n",
              "      <td>0</td>\n",
              "      <td>AT Rayudu</td>\n",
              "      <td>Wankhede Stadium</td>\n",
              "      <td>K Hariharan</td>\n",
              "      <td>SJA Taufel</td>\n",
              "      <td>NaN</td>\n",
              "    </tr>\n",
              "    <tr>\n",
              "      <th>326</th>\n",
              "      <td>327</td>\n",
              "      <td>2012</td>\n",
              "      <td>Mumbai</td>\n",
              "      <td>2012-04-16</td>\n",
              "      <td>Mumbai Indians</td>\n",
              "      <td>Delhi Capitals</td>\n",
              "      <td>Delhi Capitals</td>\n",
              "      <td>field</td>\n",
              "      <td>normal</td>\n",
              "      <td>0</td>\n",
              "      <td>Delhi Capitals</td>\n",
              "      <td>0</td>\n",
              "      <td>7</td>\n",
              "      <td>S Nadeem</td>\n",
              "      <td>Wankhede Stadium</td>\n",
              "      <td>BF Bowden</td>\n",
              "      <td>SK Tarapore</td>\n",
              "      <td>NaN</td>\n",
              "    </tr>\n",
              "    <tr>\n",
              "      <th>341</th>\n",
              "      <td>342</td>\n",
              "      <td>2012</td>\n",
              "      <td>Delhi</td>\n",
              "      <td>2012-04-27</td>\n",
              "      <td>Delhi Capitals</td>\n",
              "      <td>Mumbai Indians</td>\n",
              "      <td>Mumbai Indians</td>\n",
              "      <td>field</td>\n",
              "      <td>normal</td>\n",
              "      <td>0</td>\n",
              "      <td>Delhi Capitals</td>\n",
              "      <td>37</td>\n",
              "      <td>0</td>\n",
              "      <td>V Sehwag</td>\n",
              "      <td>Feroz Shah Kotla</td>\n",
              "      <td>Aleem Dar</td>\n",
              "      <td>BNJ Oxenford</td>\n",
              "      <td>NaN</td>\n",
              "    </tr>\n",
              "    <tr>\n",
              "      <th>389</th>\n",
              "      <td>390</td>\n",
              "      <td>2013</td>\n",
              "      <td>Mumbai</td>\n",
              "      <td>2013-04-09</td>\n",
              "      <td>Mumbai Indians</td>\n",
              "      <td>Delhi Capitals</td>\n",
              "      <td>Mumbai Indians</td>\n",
              "      <td>bat</td>\n",
              "      <td>normal</td>\n",
              "      <td>0</td>\n",
              "      <td>Mumbai Indians</td>\n",
              "      <td>44</td>\n",
              "      <td>0</td>\n",
              "      <td>KD Karthik</td>\n",
              "      <td>Wankhede Stadium</td>\n",
              "      <td>M Erasmus</td>\n",
              "      <td>VA Kulkarni</td>\n",
              "      <td>NaN</td>\n",
              "    </tr>\n",
              "    <tr>\n",
              "      <th>407</th>\n",
              "      <td>408</td>\n",
              "      <td>2013</td>\n",
              "      <td>Delhi</td>\n",
              "      <td>2013-04-21</td>\n",
              "      <td>Mumbai Indians</td>\n",
              "      <td>Delhi Capitals</td>\n",
              "      <td>Mumbai Indians</td>\n",
              "      <td>bat</td>\n",
              "      <td>normal</td>\n",
              "      <td>0</td>\n",
              "      <td>Delhi Capitals</td>\n",
              "      <td>0</td>\n",
              "      <td>9</td>\n",
              "      <td>V Sehwag</td>\n",
              "      <td>Feroz Shah Kotla</td>\n",
              "      <td>HDPK Dharmasena</td>\n",
              "      <td>S Ravi</td>\n",
              "      <td>NaN</td>\n",
              "    </tr>\n",
              "    <tr>\n",
              "      <th>472</th>\n",
              "      <td>473</td>\n",
              "      <td>2014</td>\n",
              "      <td>Sharjah</td>\n",
              "      <td>2014-04-27</td>\n",
              "      <td>Mumbai Indians</td>\n",
              "      <td>Delhi Capitals</td>\n",
              "      <td>Mumbai Indians</td>\n",
              "      <td>bat</td>\n",
              "      <td>normal</td>\n",
              "      <td>0</td>\n",
              "      <td>Delhi Capitals</td>\n",
              "      <td>0</td>\n",
              "      <td>6</td>\n",
              "      <td>M Vijay</td>\n",
              "      <td>Sharjah Cricket Stadium</td>\n",
              "      <td>Aleem Dar</td>\n",
              "      <td>VA Kulkarni</td>\n",
              "      <td>NaN</td>\n",
              "    </tr>\n",
              "    <tr>\n",
              "      <th>507</th>\n",
              "      <td>508</td>\n",
              "      <td>2014</td>\n",
              "      <td>Mumbai</td>\n",
              "      <td>2014-05-23</td>\n",
              "      <td>Mumbai Indians</td>\n",
              "      <td>Delhi Capitals</td>\n",
              "      <td>Delhi Capitals</td>\n",
              "      <td>field</td>\n",
              "      <td>normal</td>\n",
              "      <td>0</td>\n",
              "      <td>Mumbai Indians</td>\n",
              "      <td>15</td>\n",
              "      <td>0</td>\n",
              "      <td>MEK Hussey</td>\n",
              "      <td>Wankhede Stadium</td>\n",
              "      <td>S Ravi</td>\n",
              "      <td>RJ Tucker</td>\n",
              "      <td>NaN</td>\n",
              "    </tr>\n",
              "    <tr>\n",
              "      <th>538</th>\n",
              "      <td>539</td>\n",
              "      <td>2015</td>\n",
              "      <td>Delhi</td>\n",
              "      <td>2015-04-23</td>\n",
              "      <td>Delhi Capitals</td>\n",
              "      <td>Mumbai Indians</td>\n",
              "      <td>Mumbai Indians</td>\n",
              "      <td>field</td>\n",
              "      <td>normal</td>\n",
              "      <td>0</td>\n",
              "      <td>Delhi Capitals</td>\n",
              "      <td>37</td>\n",
              "      <td>0</td>\n",
              "      <td>SS Iyer</td>\n",
              "      <td>Feroz Shah Kotla</td>\n",
              "      <td>SD Fry</td>\n",
              "      <td>CK Nandan</td>\n",
              "      <td>NaN</td>\n",
              "    </tr>\n",
              "    <tr>\n",
              "      <th>555</th>\n",
              "      <td>556</td>\n",
              "      <td>2015</td>\n",
              "      <td>Mumbai</td>\n",
              "      <td>2015-05-05</td>\n",
              "      <td>Delhi Capitals</td>\n",
              "      <td>Mumbai Indians</td>\n",
              "      <td>Delhi Capitals</td>\n",
              "      <td>bat</td>\n",
              "      <td>normal</td>\n",
              "      <td>0</td>\n",
              "      <td>Mumbai Indians</td>\n",
              "      <td>0</td>\n",
              "      <td>5</td>\n",
              "      <td>Harbhajan Singh</td>\n",
              "      <td>Wankhede Stadium</td>\n",
              "      <td>HDPK Dharmasena</td>\n",
              "      <td>CB Gaffaney</td>\n",
              "      <td>NaN</td>\n",
              "    </tr>\n",
              "    <tr>\n",
              "      <th>592</th>\n",
              "      <td>593</td>\n",
              "      <td>2016</td>\n",
              "      <td>Delhi</td>\n",
              "      <td>2016-04-23</td>\n",
              "      <td>Delhi Capitals</td>\n",
              "      <td>Mumbai Indians</td>\n",
              "      <td>Mumbai Indians</td>\n",
              "      <td>field</td>\n",
              "      <td>normal</td>\n",
              "      <td>0</td>\n",
              "      <td>Delhi Capitals</td>\n",
              "      <td>10</td>\n",
              "      <td>0</td>\n",
              "      <td>SV Samson</td>\n",
              "      <td>Feroz Shah Kotla</td>\n",
              "      <td>S Ravi</td>\n",
              "      <td>C Shamshuddin</td>\n",
              "      <td>NaN</td>\n",
              "    </tr>\n",
              "    <tr>\n",
              "      <th>622</th>\n",
              "      <td>623</td>\n",
              "      <td>2016</td>\n",
              "      <td>Visakhapatnam</td>\n",
              "      <td>2016-05-15</td>\n",
              "      <td>Mumbai Indians</td>\n",
              "      <td>Delhi Capitals</td>\n",
              "      <td>Delhi Capitals</td>\n",
              "      <td>field</td>\n",
              "      <td>normal</td>\n",
              "      <td>0</td>\n",
              "      <td>Mumbai Indians</td>\n",
              "      <td>80</td>\n",
              "      <td>0</td>\n",
              "      <td>KH Pandya</td>\n",
              "      <td>Dr. Y.S. Rajasekhara Reddy ACA-VDCA Cricket St...</td>\n",
              "      <td>Nitin Menon</td>\n",
              "      <td>CK Nandan</td>\n",
              "      <td>NaN</td>\n",
              "    </tr>\n",
              "    <tr>\n",
              "      <th>644</th>\n",
              "      <td>7902</td>\n",
              "      <td>2018</td>\n",
              "      <td>Mumbai</td>\n",
              "      <td>14/04/18</td>\n",
              "      <td>Mumbai Indians</td>\n",
              "      <td>Delhi Capitals</td>\n",
              "      <td>Delhi Capitals</td>\n",
              "      <td>field</td>\n",
              "      <td>normal</td>\n",
              "      <td>0</td>\n",
              "      <td>Delhi Capitals</td>\n",
              "      <td>0</td>\n",
              "      <td>7</td>\n",
              "      <td>JJ Roy</td>\n",
              "      <td>Wankhede Stadium</td>\n",
              "      <td>K Ananthapadmanabhan</td>\n",
              "      <td>Nitin Menon</td>\n",
              "      <td>Rod Tucker</td>\n",
              "    </tr>\n",
              "    <tr>\n",
              "      <th>690</th>\n",
              "      <td>7948</td>\n",
              "      <td>2018</td>\n",
              "      <td>Delhi</td>\n",
              "      <td>20/05/18</td>\n",
              "      <td>Delhi Capitals</td>\n",
              "      <td>Mumbai Indians</td>\n",
              "      <td>Delhi Capitals</td>\n",
              "      <td>bat</td>\n",
              "      <td>normal</td>\n",
              "      <td>0</td>\n",
              "      <td>Delhi Capitals</td>\n",
              "      <td>11</td>\n",
              "      <td>0</td>\n",
              "      <td>A Mishra</td>\n",
              "      <td>Feroz Shah Kotla</td>\n",
              "      <td>Kumar Dharmasena</td>\n",
              "      <td>O Nandan</td>\n",
              "      <td>Vineet Kulkarni</td>\n",
              "    </tr>\n",
              "    <tr>\n",
              "      <th>698</th>\n",
              "      <td>11139</td>\n",
              "      <td>2019</td>\n",
              "      <td>Mumbai</td>\n",
              "      <td>24/03/19</td>\n",
              "      <td>Delhi Capitals</td>\n",
              "      <td>Mumbai Indians</td>\n",
              "      <td>Mumbai Indians</td>\n",
              "      <td>field</td>\n",
              "      <td>normal</td>\n",
              "      <td>0</td>\n",
              "      <td>Delhi Capitals</td>\n",
              "      <td>37</td>\n",
              "      <td>0</td>\n",
              "      <td>RR Pant</td>\n",
              "      <td>Wankhede Stadium</td>\n",
              "      <td>S Ravi</td>\n",
              "      <td>Yeshwant Barde</td>\n",
              "      <td>O Nandan</td>\n",
              "    </tr>\n",
              "    <tr>\n",
              "      <th>729</th>\n",
              "      <td>11325</td>\n",
              "      <td>2019</td>\n",
              "      <td>Delhi</td>\n",
              "      <td>18/04/19</td>\n",
              "      <td>Mumbai Indians</td>\n",
              "      <td>Delhi Capitals</td>\n",
              "      <td>Mumbai Indians</td>\n",
              "      <td>bat</td>\n",
              "      <td>normal</td>\n",
              "      <td>0</td>\n",
              "      <td>Mumbai Indians</td>\n",
              "      <td>40</td>\n",
              "      <td>0</td>\n",
              "      <td>HH Pandya</td>\n",
              "      <td>Feroz Shah Kotla Ground</td>\n",
              "      <td>Nigel Llong</td>\n",
              "      <td>Bruce Oxenford</td>\n",
              "      <td>Anil Chaudhary</td>\n",
              "    </tr>\n",
              "  </tbody>\n",
              "</table>\n",
              "</div>"
            ],
            "text/plain": [
              "        id  season  ...         umpire2          umpire3\n",
              "23      24    2017  ...          S Ravi              NaN\n",
              "43      44    2017  ...       CK Nandan              NaN\n",
              "81      82    2008  ...     RE Koertzen              NaN\n",
              "108    109    2008  ...     K Hariharan              NaN\n",
              "149    150    2009  ...     SK Tarapore              NaN\n",
              "169    170    2009  ...          S Ravi              NaN\n",
              "182    183    2010  ...     SK Tarapore              NaN\n",
              "220    221    2010  ...       DJ Harper              NaN\n",
              "237    238    2011  ...       RB Tiffin              NaN\n",
              "281    282    2011  ...      SJA Taufel              NaN\n",
              "326    327    2012  ...     SK Tarapore              NaN\n",
              "341    342    2012  ...    BNJ Oxenford              NaN\n",
              "389    390    2013  ...     VA Kulkarni              NaN\n",
              "407    408    2013  ...          S Ravi              NaN\n",
              "472    473    2014  ...     VA Kulkarni              NaN\n",
              "507    508    2014  ...       RJ Tucker              NaN\n",
              "538    539    2015  ...       CK Nandan              NaN\n",
              "555    556    2015  ...     CB Gaffaney              NaN\n",
              "592    593    2016  ...   C Shamshuddin              NaN\n",
              "622    623    2016  ...       CK Nandan              NaN\n",
              "644   7902    2018  ...     Nitin Menon       Rod Tucker\n",
              "690   7948    2018  ...        O Nandan  Vineet Kulkarni\n",
              "698  11139    2019  ...  Yeshwant Barde         O Nandan\n",
              "729  11325    2019  ...  Bruce Oxenford   Anil Chaudhary\n",
              "\n",
              "[24 rows x 18 columns]"
            ]
          },
          "metadata": {
            "tags": []
          },
          "execution_count": 13
        }
      ]
    },
    {
      "cell_type": "markdown",
      "metadata": {
        "id": "135PC1OV0mR4"
      },
      "source": [
        "**Let's do Q1 now**"
      ]
    },
    {
      "cell_type": "code",
      "metadata": {
        "id": "QIn7GSQznk4q",
        "outputId": "f45b8f06-51b4-4a43-a8e9-a6f0da0c9705",
        "colab": {
          "base_uri": "https://localhost:8080/",
          "height": 439
        }
      },
      "source": [
        "plt.figure(dpi=100)\n",
        "sns.countplot(x='winner',data = data_f)\n",
        "plt.ylabel('Wins Count')\n",
        "plt.xlabel('Team Name')\n",
        "plt.title('MI vs DC')\n",
        "A,B =data_f.winner.value_counts()\n",
        "\n",
        "print('MI Wins -',A)\n",
        "print('DC Wins -',B)\n",
        "\n",
        "plt.show()\n"
      ],
      "execution_count": 15,
      "outputs": [
        {
          "output_type": "stream",
          "text": [
            "MI Wins - 12\n",
            "DC Wins - 12\n"
          ],
          "name": "stdout"
        },
        {
          "output_type": "display_data",
          "data": {
            "image/png": "[encoded data removed]",
            "text/plain": [
              "<Figure size 600x400 with 1 Axes>"
            ]
          },
          "metadata": {
            "tags": []
          }
        }
      ]
    },
    {
      "cell_type": "markdown",
      "metadata": {
        "id": "oNUwKRg-4dbw"
      },
      "source": [
        "Wooh, Here is a neck to neck fight\n",
        "\n",
        "But as in this IPL MI defeated both times.\n",
        "\n",
        "Let's mark MI considering it."
      ]
    },
    {
      "cell_type": "markdown",
      "metadata": {
        "id": "SixIaI0eqy-o"
      },
      "source": [
        "**Let's do Q2 now**\n",
        "\n",
        "**Let's find wickets lost by both in powerplays**"
      ]
    },
    {
      "cell_type": "code",
      "metadata": {
        "id": "lTFe7lWKHyv2"
      },
      "source": [
        "data_n = data.loc[data.bowling_team.isin(['Delhi Capitals','Mumbai Indians'])]\n",
        "data_n = data_n.loc[data.batting_team.isin(['Delhi Capitals','Mumbai Indians'])]"
      ],
      "execution_count": 16,
      "outputs": []
    },
    {
      "cell_type": "code",
      "metadata": {
        "id": "X1XDlrNGYlOy"
      },
      "source": [
        "data_p = data_n.loc[data.over <=6]"
      ],
      "execution_count": 17,
      "outputs": []
    },
    {
      "cell_type": "code",
      "metadata": {
        "id": "yBqoCSZ4YsMo",
        "outputId": "ad4c2b6f-295f-442e-e9a3-da4f859f5664",
        "colab": {
          "base_uri": "https://localhost:8080/"
        }
      },
      "source": [
        "data_p.player_dismissed.value_counts().sum()"
      ],
      "execution_count": 19,
      "outputs": [
        {
          "output_type": "execute_result",
          "data": {
            "text/plain": [
              "75"
            ]
          },
          "metadata": {
            "tags": []
          },
          "execution_count": 19
        }
      ]
    },
    {
      "cell_type": "code",
      "metadata": {
        "id": "9LFrEiGdYzoO",
        "outputId": "b86ab37f-89a8-4658-d120-73d17a76d8f5",
        "colab": {
          "base_uri": "https://localhost:8080/"
        }
      },
      "source": [
        "data_p.match_id.nunique()"
      ],
      "execution_count": 20,
      "outputs": [
        {
          "output_type": "execute_result",
          "data": {
            "text/plain": [
              "24"
            ]
          },
          "metadata": {
            "tags": []
          },
          "execution_count": 20
        }
      ]
    },
    {
      "cell_type": "code",
      "metadata": {
        "id": "6pvlWB5fY3TF",
        "outputId": "2d5dccc3-6c68-427e-9eea-5963ad88c7d0",
        "colab": {
          "base_uri": "https://localhost:8080/"
        }
      },
      "source": [
        "np.round(75/24,2) # Average wicket lost in powerplay in MI v DC"
      ],
      "execution_count": 22,
      "outputs": [
        {
          "output_type": "execute_result",
          "data": {
            "text/plain": [
              "3.12"
            ]
          },
          "metadata": {
            "tags": []
          },
          "execution_count": 22
        }
      ]
    },
    {
      "cell_type": "markdown",
      "metadata": {
        "id": "H6tkc-BD99C0"
      },
      "source": [
        "Let's mark 2-3 considering our analysis"
      ]
    },
    {
      "cell_type": "markdown",
      "metadata": {
        "id": "Q0Xco_vdrYuW"
      },
      "source": [
        "**For Q3, Let's find Economy rate for all with given condition**"
      ]
    },
    {
      "cell_type": "code",
      "metadata": {
        "id": "AOaNt9BFZkJV",
        "outputId": "b86ea201-d4d8-4b09-8d66-7003effd27c7",
        "colab": {
          "base_uri": "https://localhost:8080/",
          "height": 415
        }
      },
      "source": [
        "data_er = data_n.groupby(['match_id','bowler']).apply(lambda data_n:(data_n.total_runs.sum())).reset_index(name='Runs_Given')\n",
        "data_er"
      ],
      "execution_count": 23,
      "outputs": [
        {
          "output_type": "execute_result",
          "data": {
            "text/html": [
              "<div>\n",
              "<style scoped>\n",
              "    .dataframe tbody tr th:only-of-type {\n",
              "        vertical-align: middle;\n",
              "    }\n",
              "\n",
              "    .dataframe tbody tr th {\n",
              "        vertical-align: top;\n",
              "    }\n",
              "\n",
              "    .dataframe thead th {\n",
              "        text-align: right;\n",
              "    }\n",
              "</style>\n",
              "<table border=\"1\" class=\"dataframe\">\n",
              "  <thead>\n",
              "    <tr style=\"text-align: right;\">\n",
              "      <th></th>\n",
              "      <th>match_id</th>\n",
              "      <th>bowler</th>\n",
              "      <th>Runs_Given</th>\n",
              "    </tr>\n",
              "  </thead>\n",
              "  <tbody>\n",
              "    <tr>\n",
              "      <th>0</th>\n",
              "      <td>24</td>\n",
              "      <td>A Mishra</td>\n",
              "      <td>19</td>\n",
              "    </tr>\n",
              "    <tr>\n",
              "      <th>1</th>\n",
              "      <td>24</td>\n",
              "      <td>CH Morris</td>\n",
              "      <td>33</td>\n",
              "    </tr>\n",
              "    <tr>\n",
              "      <th>2</th>\n",
              "      <td>24</td>\n",
              "      <td>HH Pandya</td>\n",
              "      <td>25</td>\n",
              "    </tr>\n",
              "    <tr>\n",
              "      <th>3</th>\n",
              "      <td>24</td>\n",
              "      <td>Harbhajan Singh</td>\n",
              "      <td>26</td>\n",
              "    </tr>\n",
              "    <tr>\n",
              "      <th>4</th>\n",
              "      <td>24</td>\n",
              "      <td>JJ Bumrah</td>\n",
              "      <td>21</td>\n",
              "    </tr>\n",
              "    <tr>\n",
              "      <th>...</th>\n",
              "      <td>...</td>\n",
              "      <td>...</td>\n",
              "      <td>...</td>\n",
              "    </tr>\n",
              "    <tr>\n",
              "      <th>278</th>\n",
              "      <td>11325</td>\n",
              "      <td>K Paul</td>\n",
              "      <td>38</td>\n",
              "    </tr>\n",
              "    <tr>\n",
              "      <th>279</th>\n",
              "      <td>11325</td>\n",
              "      <td>K Rabada</td>\n",
              "      <td>42</td>\n",
              "    </tr>\n",
              "    <tr>\n",
              "      <th>280</th>\n",
              "      <td>11325</td>\n",
              "      <td>KH Pandya</td>\n",
              "      <td>7</td>\n",
              "    </tr>\n",
              "    <tr>\n",
              "      <th>281</th>\n",
              "      <td>11325</td>\n",
              "      <td>RD Chahar</td>\n",
              "      <td>21</td>\n",
              "    </tr>\n",
              "    <tr>\n",
              "      <th>282</th>\n",
              "      <td>11325</td>\n",
              "      <td>SL Malinga</td>\n",
              "      <td>46</td>\n",
              "    </tr>\n",
              "  </tbody>\n",
              "</table>\n",
              "<p>283 rows × 3 columns</p>\n",
              "</div>"
            ],
            "text/plain": [
              "     match_id           bowler  Runs_Given\n",
              "0          24         A Mishra          19\n",
              "1          24        CH Morris          33\n",
              "2          24        HH Pandya          25\n",
              "3          24  Harbhajan Singh          26\n",
              "4          24        JJ Bumrah          21\n",
              "..        ...              ...         ...\n",
              "278     11325           K Paul          38\n",
              "279     11325         K Rabada          42\n",
              "280     11325        KH Pandya           7\n",
              "281     11325        RD Chahar          21\n",
              "282     11325       SL Malinga          46\n",
              "\n",
              "[283 rows x 3 columns]"
            ]
          },
          "metadata": {
            "tags": []
          },
          "execution_count": 23
        }
      ]
    },
    {
      "cell_type": "code",
      "metadata": {
        "id": "IkYTAIbPZuup",
        "outputId": "bf8418de-fc52-403e-b86f-52fe96eceecf",
        "colab": {
          "base_uri": "https://localhost:8080/",
          "height": 415
        }
      },
      "source": [
        "data_er2 = data_n.groupby(['match_id','bowler']).apply(lambda data_n:(data_n.over.value_counts().sum())).reset_index(name='Balls_bowled')\n",
        "data_er2"
      ],
      "execution_count": 24,
      "outputs": [
        {
          "output_type": "execute_result",
          "data": {
            "text/html": [
              "<div>\n",
              "<style scoped>\n",
              "    .dataframe tbody tr th:only-of-type {\n",
              "        vertical-align: middle;\n",
              "    }\n",
              "\n",
              "    .dataframe tbody tr th {\n",
              "        vertical-align: top;\n",
              "    }\n",
              "\n",
              "    .dataframe thead th {\n",
              "        text-align: right;\n",
              "    }\n",
              "</style>\n",
              "<table border=\"1\" class=\"dataframe\">\n",
              "  <thead>\n",
              "    <tr style=\"text-align: right;\">\n",
              "      <th></th>\n",
              "      <th>match_id</th>\n",
              "      <th>bowler</th>\n",
              "      <th>Balls_bowled</th>\n",
              "    </tr>\n",
              "  </thead>\n",
              "  <tbody>\n",
              "    <tr>\n",
              "      <th>0</th>\n",
              "      <td>24</td>\n",
              "      <td>A Mishra</td>\n",
              "      <td>25</td>\n",
              "    </tr>\n",
              "    <tr>\n",
              "      <th>1</th>\n",
              "      <td>24</td>\n",
              "      <td>CH Morris</td>\n",
              "      <td>25</td>\n",
              "    </tr>\n",
              "    <tr>\n",
              "      <th>2</th>\n",
              "      <td>24</td>\n",
              "      <td>HH Pandya</td>\n",
              "      <td>20</td>\n",
              "    </tr>\n",
              "    <tr>\n",
              "      <th>3</th>\n",
              "      <td>24</td>\n",
              "      <td>Harbhajan Singh</td>\n",
              "      <td>24</td>\n",
              "    </tr>\n",
              "    <tr>\n",
              "      <th>4</th>\n",
              "      <td>24</td>\n",
              "      <td>JJ Bumrah</td>\n",
              "      <td>25</td>\n",
              "    </tr>\n",
              "    <tr>\n",
              "      <th>...</th>\n",
              "      <td>...</td>\n",
              "      <td>...</td>\n",
              "      <td>...</td>\n",
              "    </tr>\n",
              "    <tr>\n",
              "      <th>278</th>\n",
              "      <td>11325</td>\n",
              "      <td>K Paul</td>\n",
              "      <td>19</td>\n",
              "    </tr>\n",
              "    <tr>\n",
              "      <th>279</th>\n",
              "      <td>11325</td>\n",
              "      <td>K Rabada</td>\n",
              "      <td>26</td>\n",
              "    </tr>\n",
              "    <tr>\n",
              "      <th>280</th>\n",
              "      <td>11325</td>\n",
              "      <td>KH Pandya</td>\n",
              "      <td>12</td>\n",
              "    </tr>\n",
              "    <tr>\n",
              "      <th>281</th>\n",
              "      <td>11325</td>\n",
              "      <td>RD Chahar</td>\n",
              "      <td>26</td>\n",
              "    </tr>\n",
              "    <tr>\n",
              "      <th>282</th>\n",
              "      <td>11325</td>\n",
              "      <td>SL Malinga</td>\n",
              "      <td>25</td>\n",
              "    </tr>\n",
              "  </tbody>\n",
              "</table>\n",
              "<p>283 rows × 3 columns</p>\n",
              "</div>"
            ],
            "text/plain": [
              "     match_id           bowler  Balls_bowled\n",
              "0          24         A Mishra            25\n",
              "1          24        CH Morris            25\n",
              "2          24        HH Pandya            20\n",
              "3          24  Harbhajan Singh            24\n",
              "4          24        JJ Bumrah            25\n",
              "..        ...              ...           ...\n",
              "278     11325           K Paul            19\n",
              "279     11325         K Rabada            26\n",
              "280     11325        KH Pandya            12\n",
              "281     11325        RD Chahar            26\n",
              "282     11325       SL Malinga            25\n",
              "\n",
              "[283 rows x 3 columns]"
            ]
          },
          "metadata": {
            "tags": []
          },
          "execution_count": 24
        }
      ]
    },
    {
      "cell_type": "code",
      "metadata": {
        "id": "4S-YlQ7eZ3y8",
        "outputId": "c1dbaab1-ee1d-41ab-941a-a76a29e83cbf",
        "colab": {
          "base_uri": "https://localhost:8080/",
          "height": 415
        }
      },
      "source": [
        "data_e = data_er.join(data_er2['Balls_bowled'])\n",
        "data_e"
      ],
      "execution_count": 37,
      "outputs": [
        {
          "output_type": "execute_result",
          "data": {
            "text/html": [
              "<div>\n",
              "<style scoped>\n",
              "    .dataframe tbody tr th:only-of-type {\n",
              "        vertical-align: middle;\n",
              "    }\n",
              "\n",
              "    .dataframe tbody tr th {\n",
              "        vertical-align: top;\n",
              "    }\n",
              "\n",
              "    .dataframe thead th {\n",
              "        text-align: right;\n",
              "    }\n",
              "</style>\n",
              "<table border=\"1\" class=\"dataframe\">\n",
              "  <thead>\n",
              "    <tr style=\"text-align: right;\">\n",
              "      <th></th>\n",
              "      <th>match_id</th>\n",
              "      <th>bowler</th>\n",
              "      <th>Runs_Given</th>\n",
              "      <th>Balls_bowled</th>\n",
              "    </tr>\n",
              "  </thead>\n",
              "  <tbody>\n",
              "    <tr>\n",
              "      <th>0</th>\n",
              "      <td>24</td>\n",
              "      <td>A Mishra</td>\n",
              "      <td>19</td>\n",
              "      <td>25</td>\n",
              "    </tr>\n",
              "    <tr>\n",
              "      <th>1</th>\n",
              "      <td>24</td>\n",
              "      <td>CH Morris</td>\n",
              "      <td>33</td>\n",
              "      <td>25</td>\n",
              "    </tr>\n",
              "    <tr>\n",
              "      <th>2</th>\n",
              "      <td>24</td>\n",
              "      <td>HH Pandya</td>\n",
              "      <td>25</td>\n",
              "      <td>20</td>\n",
              "    </tr>\n",
              "    <tr>\n",
              "      <th>3</th>\n",
              "      <td>24</td>\n",
              "      <td>Harbhajan Singh</td>\n",
              "      <td>26</td>\n",
              "      <td>24</td>\n",
              "    </tr>\n",
              "    <tr>\n",
              "      <th>4</th>\n",
              "      <td>24</td>\n",
              "      <td>JJ Bumrah</td>\n",
              "      <td>21</td>\n",
              "      <td>25</td>\n",
              "    </tr>\n",
              "    <tr>\n",
              "      <th>...</th>\n",
              "      <td>...</td>\n",
              "      <td>...</td>\n",
              "      <td>...</td>\n",
              "      <td>...</td>\n",
              "    </tr>\n",
              "    <tr>\n",
              "      <th>278</th>\n",
              "      <td>11325</td>\n",
              "      <td>K Paul</td>\n",
              "      <td>38</td>\n",
              "      <td>19</td>\n",
              "    </tr>\n",
              "    <tr>\n",
              "      <th>279</th>\n",
              "      <td>11325</td>\n",
              "      <td>K Rabada</td>\n",
              "      <td>42</td>\n",
              "      <td>26</td>\n",
              "    </tr>\n",
              "    <tr>\n",
              "      <th>280</th>\n",
              "      <td>11325</td>\n",
              "      <td>KH Pandya</td>\n",
              "      <td>7</td>\n",
              "      <td>12</td>\n",
              "    </tr>\n",
              "    <tr>\n",
              "      <th>281</th>\n",
              "      <td>11325</td>\n",
              "      <td>RD Chahar</td>\n",
              "      <td>21</td>\n",
              "      <td>26</td>\n",
              "    </tr>\n",
              "    <tr>\n",
              "      <th>282</th>\n",
              "      <td>11325</td>\n",
              "      <td>SL Malinga</td>\n",
              "      <td>46</td>\n",
              "      <td>25</td>\n",
              "    </tr>\n",
              "  </tbody>\n",
              "</table>\n",
              "<p>283 rows × 4 columns</p>\n",
              "</div>"
            ],
            "text/plain": [
              "     match_id           bowler  Runs_Given  Balls_bowled\n",
              "0          24         A Mishra          19            25\n",
              "1          24        CH Morris          33            25\n",
              "2          24        HH Pandya          25            20\n",
              "3          24  Harbhajan Singh          26            24\n",
              "4          24        JJ Bumrah          21            25\n",
              "..        ...              ...         ...           ...\n",
              "278     11325           K Paul          38            19\n",
              "279     11325         K Rabada          42            26\n",
              "280     11325        KH Pandya           7            12\n",
              "281     11325        RD Chahar          21            26\n",
              "282     11325       SL Malinga          46            25\n",
              "\n",
              "[283 rows x 4 columns]"
            ]
          },
          "metadata": {
            "tags": []
          },
          "execution_count": 37
        }
      ]
    },
    {
      "cell_type": "code",
      "metadata": {
        "id": "AzRBrBmbZ7KD",
        "outputId": "ba4e977d-50e6-4755-f6bc-f6237f20fcf8",
        "colab": {
          "base_uri": "https://localhost:8080/",
          "height": 415
        }
      },
      "source": [
        "data_e['Overs_Bowled'] = data_e['Balls_bowled'] // 6\n",
        "data_e"
      ],
      "execution_count": 38,
      "outputs": [
        {
          "output_type": "execute_result",
          "data": {
            "text/html": [
              "<div>\n",
              "<style scoped>\n",
              "    .dataframe tbody tr th:only-of-type {\n",
              "        vertical-align: middle;\n",
              "    }\n",
              "\n",
              "    .dataframe tbody tr th {\n",
              "        vertical-align: top;\n",
              "    }\n",
              "\n",
              "    .dataframe thead th {\n",
              "        text-align: right;\n",
              "    }\n",
              "</style>\n",
              "<table border=\"1\" class=\"dataframe\">\n",
              "  <thead>\n",
              "    <tr style=\"text-align: right;\">\n",
              "      <th></th>\n",
              "      <th>match_id</th>\n",
              "      <th>bowler</th>\n",
              "      <th>Runs_Given</th>\n",
              "      <th>Balls_bowled</th>\n",
              "      <th>Overs_Bowled</th>\n",
              "    </tr>\n",
              "  </thead>\n",
              "  <tbody>\n",
              "    <tr>\n",
              "      <th>0</th>\n",
              "      <td>24</td>\n",
              "      <td>A Mishra</td>\n",
              "      <td>19</td>\n",
              "      <td>25</td>\n",
              "      <td>4</td>\n",
              "    </tr>\n",
              "    <tr>\n",
              "      <th>1</th>\n",
              "      <td>24</td>\n",
              "      <td>CH Morris</td>\n",
              "      <td>33</td>\n",
              "      <td>25</td>\n",
              "      <td>4</td>\n",
              "    </tr>\n",
              "    <tr>\n",
              "      <th>2</th>\n",
              "      <td>24</td>\n",
              "      <td>HH Pandya</td>\n",
              "      <td>25</td>\n",
              "      <td>20</td>\n",
              "      <td>3</td>\n",
              "    </tr>\n",
              "    <tr>\n",
              "      <th>3</th>\n",
              "      <td>24</td>\n",
              "      <td>Harbhajan Singh</td>\n",
              "      <td>26</td>\n",
              "      <td>24</td>\n",
              "      <td>4</td>\n",
              "    </tr>\n",
              "    <tr>\n",
              "      <th>4</th>\n",
              "      <td>24</td>\n",
              "      <td>JJ Bumrah</td>\n",
              "      <td>21</td>\n",
              "      <td>25</td>\n",
              "      <td>4</td>\n",
              "    </tr>\n",
              "    <tr>\n",
              "      <th>...</th>\n",
              "      <td>...</td>\n",
              "      <td>...</td>\n",
              "      <td>...</td>\n",
              "      <td>...</td>\n",
              "      <td>...</td>\n",
              "    </tr>\n",
              "    <tr>\n",
              "      <th>278</th>\n",
              "      <td>11325</td>\n",
              "      <td>K Paul</td>\n",
              "      <td>38</td>\n",
              "      <td>19</td>\n",
              "      <td>3</td>\n",
              "    </tr>\n",
              "    <tr>\n",
              "      <th>279</th>\n",
              "      <td>11325</td>\n",
              "      <td>K Rabada</td>\n",
              "      <td>42</td>\n",
              "      <td>26</td>\n",
              "      <td>4</td>\n",
              "    </tr>\n",
              "    <tr>\n",
              "      <th>280</th>\n",
              "      <td>11325</td>\n",
              "      <td>KH Pandya</td>\n",
              "      <td>7</td>\n",
              "      <td>12</td>\n",
              "      <td>2</td>\n",
              "    </tr>\n",
              "    <tr>\n",
              "      <th>281</th>\n",
              "      <td>11325</td>\n",
              "      <td>RD Chahar</td>\n",
              "      <td>21</td>\n",
              "      <td>26</td>\n",
              "      <td>4</td>\n",
              "    </tr>\n",
              "    <tr>\n",
              "      <th>282</th>\n",
              "      <td>11325</td>\n",
              "      <td>SL Malinga</td>\n",
              "      <td>46</td>\n",
              "      <td>25</td>\n",
              "      <td>4</td>\n",
              "    </tr>\n",
              "  </tbody>\n",
              "</table>\n",
              "<p>283 rows × 5 columns</p>\n",
              "</div>"
            ],
            "text/plain": [
              "     match_id           bowler  Runs_Given  Balls_bowled  Overs_Bowled\n",
              "0          24         A Mishra          19            25             4\n",
              "1          24        CH Morris          33            25             4\n",
              "2          24        HH Pandya          25            20             3\n",
              "3          24  Harbhajan Singh          26            24             4\n",
              "4          24        JJ Bumrah          21            25             4\n",
              "..        ...              ...         ...           ...           ...\n",
              "278     11325           K Paul          38            19             3\n",
              "279     11325         K Rabada          42            26             4\n",
              "280     11325        KH Pandya           7            12             2\n",
              "281     11325        RD Chahar          21            26             4\n",
              "282     11325       SL Malinga          46            25             4\n",
              "\n",
              "[283 rows x 5 columns]"
            ]
          },
          "metadata": {
            "tags": []
          },
          "execution_count": 38
        }
      ]
    },
    {
      "cell_type": "markdown",
      "metadata": {
        "id": "rR-4VQrUaG79"
      },
      "source": [
        "We have used // because there were some balls more than 24.\n",
        "\n",
        "Also, there can be some balls less than the complete over.\n",
        "\n",
        "Let's find Economy rate for both"
      ]
    },
    {
      "cell_type": "code",
      "metadata": {
        "id": "T0gJ3vodaAYt",
        "outputId": "6dc7c13c-b16d-4905-b26d-dba68d556406",
        "colab": {
          "base_uri": "https://localhost:8080/",
          "height": 415
        }
      },
      "source": [
        "data_e['Economy_rate_overs'] =( data_e['Runs_Given'] / data_e['Overs_Bowled'])\n",
        "data_e"
      ],
      "execution_count": 39,
      "outputs": [
        {
          "output_type": "execute_result",
          "data": {
            "text/html": [
              "<div>\n",
              "<style scoped>\n",
              "    .dataframe tbody tr th:only-of-type {\n",
              "        vertical-align: middle;\n",
              "    }\n",
              "\n",
              "    .dataframe tbody tr th {\n",
              "        vertical-align: top;\n",
              "    }\n",
              "\n",
              "    .dataframe thead th {\n",
              "        text-align: right;\n",
              "    }\n",
              "</style>\n",
              "<table border=\"1\" class=\"dataframe\">\n",
              "  <thead>\n",
              "    <tr style=\"text-align: right;\">\n",
              "      <th></th>\n",
              "      <th>match_id</th>\n",
              "      <th>bowler</th>\n",
              "      <th>Runs_Given</th>\n",
              "      <th>Balls_bowled</th>\n",
              "      <th>Overs_Bowled</th>\n",
              "      <th>Economy_rate_overs</th>\n",
              "    </tr>\n",
              "  </thead>\n",
              "  <tbody>\n",
              "    <tr>\n",
              "      <th>0</th>\n",
              "      <td>24</td>\n",
              "      <td>A Mishra</td>\n",
              "      <td>19</td>\n",
              "      <td>25</td>\n",
              "      <td>4</td>\n",
              "      <td>4.750000</td>\n",
              "    </tr>\n",
              "    <tr>\n",
              "      <th>1</th>\n",
              "      <td>24</td>\n",
              "      <td>CH Morris</td>\n",
              "      <td>33</td>\n",
              "      <td>25</td>\n",
              "      <td>4</td>\n",
              "      <td>8.250000</td>\n",
              "    </tr>\n",
              "    <tr>\n",
              "      <th>2</th>\n",
              "      <td>24</td>\n",
              "      <td>HH Pandya</td>\n",
              "      <td>25</td>\n",
              "      <td>20</td>\n",
              "      <td>3</td>\n",
              "      <td>8.333333</td>\n",
              "    </tr>\n",
              "    <tr>\n",
              "      <th>3</th>\n",
              "      <td>24</td>\n",
              "      <td>Harbhajan Singh</td>\n",
              "      <td>26</td>\n",
              "      <td>24</td>\n",
              "      <td>4</td>\n",
              "      <td>6.500000</td>\n",
              "    </tr>\n",
              "    <tr>\n",
              "      <th>4</th>\n",
              "      <td>24</td>\n",
              "      <td>JJ Bumrah</td>\n",
              "      <td>21</td>\n",
              "      <td>25</td>\n",
              "      <td>4</td>\n",
              "      <td>5.250000</td>\n",
              "    </tr>\n",
              "    <tr>\n",
              "      <th>...</th>\n",
              "      <td>...</td>\n",
              "      <td>...</td>\n",
              "      <td>...</td>\n",
              "      <td>...</td>\n",
              "      <td>...</td>\n",
              "      <td>...</td>\n",
              "    </tr>\n",
              "    <tr>\n",
              "      <th>278</th>\n",
              "      <td>11325</td>\n",
              "      <td>K Paul</td>\n",
              "      <td>38</td>\n",
              "      <td>19</td>\n",
              "      <td>3</td>\n",
              "      <td>12.666667</td>\n",
              "    </tr>\n",
              "    <tr>\n",
              "      <th>279</th>\n",
              "      <td>11325</td>\n",
              "      <td>K Rabada</td>\n",
              "      <td>42</td>\n",
              "      <td>26</td>\n",
              "      <td>4</td>\n",
              "      <td>10.500000</td>\n",
              "    </tr>\n",
              "    <tr>\n",
              "      <th>280</th>\n",
              "      <td>11325</td>\n",
              "      <td>KH Pandya</td>\n",
              "      <td>7</td>\n",
              "      <td>12</td>\n",
              "      <td>2</td>\n",
              "      <td>3.500000</td>\n",
              "    </tr>\n",
              "    <tr>\n",
              "      <th>281</th>\n",
              "      <td>11325</td>\n",
              "      <td>RD Chahar</td>\n",
              "      <td>21</td>\n",
              "      <td>26</td>\n",
              "      <td>4</td>\n",
              "      <td>5.250000</td>\n",
              "    </tr>\n",
              "    <tr>\n",
              "      <th>282</th>\n",
              "      <td>11325</td>\n",
              "      <td>SL Malinga</td>\n",
              "      <td>46</td>\n",
              "      <td>25</td>\n",
              "      <td>4</td>\n",
              "      <td>11.500000</td>\n",
              "    </tr>\n",
              "  </tbody>\n",
              "</table>\n",
              "<p>283 rows × 6 columns</p>\n",
              "</div>"
            ],
            "text/plain": [
              "     match_id           bowler  ...  Overs_Bowled  Economy_rate_overs\n",
              "0          24         A Mishra  ...             4            4.750000\n",
              "1          24        CH Morris  ...             4            8.250000\n",
              "2          24        HH Pandya  ...             3            8.333333\n",
              "3          24  Harbhajan Singh  ...             4            6.500000\n",
              "4          24        JJ Bumrah  ...             4            5.250000\n",
              "..        ...              ...  ...           ...                 ...\n",
              "278     11325           K Paul  ...             3           12.666667\n",
              "279     11325         K Rabada  ...             4           10.500000\n",
              "280     11325        KH Pandya  ...             2            3.500000\n",
              "281     11325        RD Chahar  ...             4            5.250000\n",
              "282     11325       SL Malinga  ...             4           11.500000\n",
              "\n",
              "[283 rows x 6 columns]"
            ]
          },
          "metadata": {
            "tags": []
          },
          "execution_count": 39
        }
      ]
    },
    {
      "cell_type": "code",
      "metadata": {
        "id": "bhaPilJUaKZJ",
        "outputId": "4e402912-4b0f-4688-a22c-bbd52dbad944",
        "colab": {
          "base_uri": "https://localhost:8080/",
          "height": 415
        }
      },
      "source": [
        "data_e['Economy_rate_balls'] =( data_e['Runs_Given'] / data_e['Balls_bowled']) * 6\n",
        "data_e"
      ],
      "execution_count": 40,
      "outputs": [
        {
          "output_type": "execute_result",
          "data": {
            "text/html": [
              "<div>\n",
              "<style scoped>\n",
              "    .dataframe tbody tr th:only-of-type {\n",
              "        vertical-align: middle;\n",
              "    }\n",
              "\n",
              "    .dataframe tbody tr th {\n",
              "        vertical-align: top;\n",
              "    }\n",
              "\n",
              "    .dataframe thead th {\n",
              "        text-align: right;\n",
              "    }\n",
              "</style>\n",
              "<table border=\"1\" class=\"dataframe\">\n",
              "  <thead>\n",
              "    <tr style=\"text-align: right;\">\n",
              "      <th></th>\n",
              "      <th>match_id</th>\n",
              "      <th>bowler</th>\n",
              "      <th>Runs_Given</th>\n",
              "      <th>Balls_bowled</th>\n",
              "      <th>Overs_Bowled</th>\n",
              "      <th>Economy_rate_overs</th>\n",
              "      <th>Economy_rate_balls</th>\n",
              "    </tr>\n",
              "  </thead>\n",
              "  <tbody>\n",
              "    <tr>\n",
              "      <th>0</th>\n",
              "      <td>24</td>\n",
              "      <td>A Mishra</td>\n",
              "      <td>19</td>\n",
              "      <td>25</td>\n",
              "      <td>4</td>\n",
              "      <td>4.750000</td>\n",
              "      <td>4.560000</td>\n",
              "    </tr>\n",
              "    <tr>\n",
              "      <th>1</th>\n",
              "      <td>24</td>\n",
              "      <td>CH Morris</td>\n",
              "      <td>33</td>\n",
              "      <td>25</td>\n",
              "      <td>4</td>\n",
              "      <td>8.250000</td>\n",
              "      <td>7.920000</td>\n",
              "    </tr>\n",
              "    <tr>\n",
              "      <th>2</th>\n",
              "      <td>24</td>\n",
              "      <td>HH Pandya</td>\n",
              "      <td>25</td>\n",
              "      <td>20</td>\n",
              "      <td>3</td>\n",
              "      <td>8.333333</td>\n",
              "      <td>7.500000</td>\n",
              "    </tr>\n",
              "    <tr>\n",
              "      <th>3</th>\n",
              "      <td>24</td>\n",
              "      <td>Harbhajan Singh</td>\n",
              "      <td>26</td>\n",
              "      <td>24</td>\n",
              "      <td>4</td>\n",
              "      <td>6.500000</td>\n",
              "      <td>6.500000</td>\n",
              "    </tr>\n",
              "    <tr>\n",
              "      <th>4</th>\n",
              "      <td>24</td>\n",
              "      <td>JJ Bumrah</td>\n",
              "      <td>21</td>\n",
              "      <td>25</td>\n",
              "      <td>4</td>\n",
              "      <td>5.250000</td>\n",
              "      <td>5.040000</td>\n",
              "    </tr>\n",
              "    <tr>\n",
              "      <th>...</th>\n",
              "      <td>...</td>\n",
              "      <td>...</td>\n",
              "      <td>...</td>\n",
              "      <td>...</td>\n",
              "      <td>...</td>\n",
              "      <td>...</td>\n",
              "      <td>...</td>\n",
              "    </tr>\n",
              "    <tr>\n",
              "      <th>278</th>\n",
              "      <td>11325</td>\n",
              "      <td>K Paul</td>\n",
              "      <td>38</td>\n",
              "      <td>19</td>\n",
              "      <td>3</td>\n",
              "      <td>12.666667</td>\n",
              "      <td>12.000000</td>\n",
              "    </tr>\n",
              "    <tr>\n",
              "      <th>279</th>\n",
              "      <td>11325</td>\n",
              "      <td>K Rabada</td>\n",
              "      <td>42</td>\n",
              "      <td>26</td>\n",
              "      <td>4</td>\n",
              "      <td>10.500000</td>\n",
              "      <td>9.692308</td>\n",
              "    </tr>\n",
              "    <tr>\n",
              "      <th>280</th>\n",
              "      <td>11325</td>\n",
              "      <td>KH Pandya</td>\n",
              "      <td>7</td>\n",
              "      <td>12</td>\n",
              "      <td>2</td>\n",
              "      <td>3.500000</td>\n",
              "      <td>3.500000</td>\n",
              "    </tr>\n",
              "    <tr>\n",
              "      <th>281</th>\n",
              "      <td>11325</td>\n",
              "      <td>RD Chahar</td>\n",
              "      <td>21</td>\n",
              "      <td>26</td>\n",
              "      <td>4</td>\n",
              "      <td>5.250000</td>\n",
              "      <td>4.846154</td>\n",
              "    </tr>\n",
              "    <tr>\n",
              "      <th>282</th>\n",
              "      <td>11325</td>\n",
              "      <td>SL Malinga</td>\n",
              "      <td>46</td>\n",
              "      <td>25</td>\n",
              "      <td>4</td>\n",
              "      <td>11.500000</td>\n",
              "      <td>11.040000</td>\n",
              "    </tr>\n",
              "  </tbody>\n",
              "</table>\n",
              "<p>283 rows × 7 columns</p>\n",
              "</div>"
            ],
            "text/plain": [
              "     match_id           bowler  ...  Economy_rate_overs  Economy_rate_balls\n",
              "0          24         A Mishra  ...            4.750000            4.560000\n",
              "1          24        CH Morris  ...            8.250000            7.920000\n",
              "2          24        HH Pandya  ...            8.333333            7.500000\n",
              "3          24  Harbhajan Singh  ...            6.500000            6.500000\n",
              "4          24        JJ Bumrah  ...            5.250000            5.040000\n",
              "..        ...              ...  ...                 ...                 ...\n",
              "278     11325           K Paul  ...           12.666667           12.000000\n",
              "279     11325         K Rabada  ...           10.500000            9.692308\n",
              "280     11325        KH Pandya  ...            3.500000            3.500000\n",
              "281     11325        RD Chahar  ...            5.250000            4.846154\n",
              "282     11325       SL Malinga  ...           11.500000           11.040000\n",
              "\n",
              "[283 rows x 7 columns]"
            ]
          },
          "metadata": {
            "tags": []
          },
          "execution_count": 40
        }
      ]
    },
    {
      "cell_type": "code",
      "metadata": {
        "id": "-zz91zQjaOkm"
      },
      "source": [
        "data_e = data_e[data_e.Balls_bowled > 6 ] # Max 1 over condition"
      ],
      "execution_count": 41,
      "outputs": []
    },
    {
      "cell_type": "code",
      "metadata": {
        "id": "9QnR3WtHaYaP"
      },
      "source": [
        "data_e = data_e[data_e.Overs_Bowled >1] # Max 1 over condition"
      ],
      "execution_count": 42,
      "outputs": []
    },
    {
      "cell_type": "code",
      "metadata": {
        "id": "l8Z-Fv-waeSs"
      },
      "source": [
        "data_e = data_e[data_e.Economy_rate_overs < 9] # Economy rate should be less than 9"
      ],
      "execution_count": 43,
      "outputs": []
    },
    {
      "cell_type": "code",
      "metadata": {
        "id": "RwHakesqamXZ"
      },
      "source": [
        "data_e = data_e[data_e.Economy_rate_balls < 9] # Economy rate should be less than 8"
      ],
      "execution_count": 44,
      "outputs": []
    },
    {
      "cell_type": "code",
      "metadata": {
        "id": "j3lNpDrHbOQe",
        "outputId": "5ed11340-5af7-45f9-be70-498d3742c98e",
        "colab": {
          "base_uri": "https://localhost:8080/"
        }
      },
      "source": [
        "data_e.Economy_rate_overs.value_counts().sum() # No of bowlers with less than economy rate of 9 in MI v DC contest"
      ],
      "execution_count": 47,
      "outputs": [
        {
          "output_type": "execute_result",
          "data": {
            "text/plain": [
              "156"
            ]
          },
          "metadata": {
            "tags": []
          },
          "execution_count": 47
        }
      ]
    },
    {
      "cell_type": "code",
      "metadata": {
        "id": "EdCUcZPEci1u",
        "outputId": "1d924bb7-8aae-407c-a9fd-5c317a88757e",
        "colab": {
          "base_uri": "https://localhost:8080/"
        }
      },
      "source": [
        "data_e.Economy_rate_balls.value_counts().sum() # No of bowlers with less than economy rate of 9 in MI v DC contest"
      ],
      "execution_count": 48,
      "outputs": [
        {
          "output_type": "execute_result",
          "data": {
            "text/plain": [
              "156"
            ]
          },
          "metadata": {
            "tags": []
          },
          "execution_count": 48
        }
      ]
    },
    {
      "cell_type": "code",
      "metadata": {
        "id": "8ENNEtzDcqEc",
        "outputId": "4e046a35-2e08-4b16-e4c1-387a06832f0f",
        "colab": {
          "base_uri": "https://localhost:8080/"
        }
      },
      "source": [
        "np.round(156/24,2) # Average bowler per match with Economy of less than 9"
      ],
      "execution_count": 49,
      "outputs": [
        {
          "output_type": "execute_result",
          "data": {
            "text/plain": [
              "6.5"
            ]
          },
          "metadata": {
            "tags": []
          },
          "execution_count": 49
        }
      ]
    },
    {
      "cell_type": "markdown",
      "metadata": {
        "id": "lplarVDeKlFH"
      },
      "source": [
        "\n",
        "Let's mark 5-6 considering our analysis"
      ]
    },
    {
      "cell_type": "markdown",
      "metadata": {
        "id": "uWo7_DlCXew3"
      },
      "source": [
        "**Let's do Q4 now**\n",
        "\n",
        "**Let's find Batsman scoring more than 30 runs in match**"
      ]
    },
    {
      "cell_type": "code",
      "metadata": {
        "id": "3x7-Q9oUydMk",
        "outputId": "7fc38a2e-11c4-4dd3-d7a4-e75663fa3474",
        "colab": {
          "base_uri": "https://localhost:8080/",
          "height": 415
        }
      },
      "source": [
        "data_b = data_n.groupby(['match_id','batsman']).apply(lambda data_n:(data_n.total_runs.sum())).reset_index(name='Runs')\n",
        "data_b"
      ],
      "execution_count": 50,
      "outputs": [
        {
          "output_type": "execute_result",
          "data": {
            "text/html": [
              "<div>\n",
              "<style scoped>\n",
              "    .dataframe tbody tr th:only-of-type {\n",
              "        vertical-align: middle;\n",
              "    }\n",
              "\n",
              "    .dataframe tbody tr th {\n",
              "        vertical-align: top;\n",
              "    }\n",
              "\n",
              "    .dataframe thead th {\n",
              "        text-align: right;\n",
              "    }\n",
              "</style>\n",
              "<table border=\"1\" class=\"dataframe\">\n",
              "  <thead>\n",
              "    <tr style=\"text-align: right;\">\n",
              "      <th></th>\n",
              "      <th>match_id</th>\n",
              "      <th>batsman</th>\n",
              "      <th>Runs</th>\n",
              "    </tr>\n",
              "  </thead>\n",
              "  <tbody>\n",
              "    <tr>\n",
              "      <th>0</th>\n",
              "      <td>24</td>\n",
              "      <td>AP Tare</td>\n",
              "      <td>0</td>\n",
              "    </tr>\n",
              "    <tr>\n",
              "      <th>1</th>\n",
              "      <td>24</td>\n",
              "      <td>CH Morris</td>\n",
              "      <td>54</td>\n",
              "    </tr>\n",
              "    <tr>\n",
              "      <th>2</th>\n",
              "      <td>24</td>\n",
              "      <td>CJ Anderson</td>\n",
              "      <td>1</td>\n",
              "    </tr>\n",
              "    <tr>\n",
              "      <th>3</th>\n",
              "      <td>24</td>\n",
              "      <td>HH Pandya</td>\n",
              "      <td>25</td>\n",
              "    </tr>\n",
              "    <tr>\n",
              "      <th>4</th>\n",
              "      <td>24</td>\n",
              "      <td>Harbhajan Singh</td>\n",
              "      <td>2</td>\n",
              "    </tr>\n",
              "    <tr>\n",
              "      <th>...</th>\n",
              "      <td>...</td>\n",
              "      <td>...</td>\n",
              "      <td>...</td>\n",
              "    </tr>\n",
              "    <tr>\n",
              "      <th>377</th>\n",
              "      <td>11325</td>\n",
              "      <td>Q de Kock</td>\n",
              "      <td>37</td>\n",
              "    </tr>\n",
              "    <tr>\n",
              "      <th>378</th>\n",
              "      <td>11325</td>\n",
              "      <td>RG Sharma</td>\n",
              "      <td>32</td>\n",
              "    </tr>\n",
              "    <tr>\n",
              "      <th>379</th>\n",
              "      <td>11325</td>\n",
              "      <td>RR Pant</td>\n",
              "      <td>7</td>\n",
              "    </tr>\n",
              "    <tr>\n",
              "      <th>380</th>\n",
              "      <td>11325</td>\n",
              "      <td>S Dhawan</td>\n",
              "      <td>35</td>\n",
              "    </tr>\n",
              "    <tr>\n",
              "      <th>381</th>\n",
              "      <td>11325</td>\n",
              "      <td>SS Iyer</td>\n",
              "      <td>3</td>\n",
              "    </tr>\n",
              "  </tbody>\n",
              "</table>\n",
              "<p>382 rows × 3 columns</p>\n",
              "</div>"
            ],
            "text/plain": [
              "     match_id          batsman  Runs\n",
              "0          24          AP Tare     0\n",
              "1          24        CH Morris    54\n",
              "2          24      CJ Anderson     1\n",
              "3          24        HH Pandya    25\n",
              "4          24  Harbhajan Singh     2\n",
              "..        ...              ...   ...\n",
              "377     11325        Q de Kock    37\n",
              "378     11325        RG Sharma    32\n",
              "379     11325          RR Pant     7\n",
              "380     11325         S Dhawan    35\n",
              "381     11325          SS Iyer     3\n",
              "\n",
              "[382 rows x 3 columns]"
            ]
          },
          "metadata": {
            "tags": []
          },
          "execution_count": 50
        }
      ]
    },
    {
      "cell_type": "code",
      "metadata": {
        "id": "3I6n4PNNdNEm",
        "outputId": "82fb4888-25fd-4ca5-d029-3db5ca607d9b",
        "colab": {
          "base_uri": "https://localhost:8080/",
          "height": 415
        }
      },
      "source": [
        "data_b = data_b[data_b.Runs> 30 ] # Max 30 runs\n",
        "data_b"
      ],
      "execution_count": 52,
      "outputs": [
        {
          "output_type": "execute_result",
          "data": {
            "text/html": [
              "<div>\n",
              "<style scoped>\n",
              "    .dataframe tbody tr th:only-of-type {\n",
              "        vertical-align: middle;\n",
              "    }\n",
              "\n",
              "    .dataframe tbody tr th {\n",
              "        vertical-align: top;\n",
              "    }\n",
              "\n",
              "    .dataframe thead th {\n",
              "        text-align: right;\n",
              "    }\n",
              "</style>\n",
              "<table border=\"1\" class=\"dataframe\">\n",
              "  <thead>\n",
              "    <tr style=\"text-align: right;\">\n",
              "      <th></th>\n",
              "      <th>match_id</th>\n",
              "      <th>batsman</th>\n",
              "      <th>Runs</th>\n",
              "    </tr>\n",
              "  </thead>\n",
              "  <tbody>\n",
              "    <tr>\n",
              "      <th>1</th>\n",
              "      <td>24</td>\n",
              "      <td>CH Morris</td>\n",
              "      <td>54</td>\n",
              "    </tr>\n",
              "    <tr>\n",
              "      <th>5</th>\n",
              "      <td>24</td>\n",
              "      <td>JC Buttler</td>\n",
              "      <td>35</td>\n",
              "    </tr>\n",
              "    <tr>\n",
              "      <th>6</th>\n",
              "      <td>24</td>\n",
              "      <td>K Rabada</td>\n",
              "      <td>48</td>\n",
              "    </tr>\n",
              "    <tr>\n",
              "      <th>21</th>\n",
              "      <td>44</td>\n",
              "      <td>HH Pandya</td>\n",
              "      <td>33</td>\n",
              "    </tr>\n",
              "    <tr>\n",
              "      <th>23</th>\n",
              "      <td>44</td>\n",
              "      <td>KA Pollard</td>\n",
              "      <td>67</td>\n",
              "    </tr>\n",
              "    <tr>\n",
              "      <th>...</th>\n",
              "      <td>...</td>\n",
              "      <td>...</td>\n",
              "      <td>...</td>\n",
              "    </tr>\n",
              "    <tr>\n",
              "      <th>373</th>\n",
              "      <td>11325</td>\n",
              "      <td>HH Pandya</td>\n",
              "      <td>32</td>\n",
              "    </tr>\n",
              "    <tr>\n",
              "      <th>375</th>\n",
              "      <td>11325</td>\n",
              "      <td>KH Pandya</td>\n",
              "      <td>45</td>\n",
              "    </tr>\n",
              "    <tr>\n",
              "      <th>377</th>\n",
              "      <td>11325</td>\n",
              "      <td>Q de Kock</td>\n",
              "      <td>37</td>\n",
              "    </tr>\n",
              "    <tr>\n",
              "      <th>378</th>\n",
              "      <td>11325</td>\n",
              "      <td>RG Sharma</td>\n",
              "      <td>32</td>\n",
              "    </tr>\n",
              "    <tr>\n",
              "      <th>380</th>\n",
              "      <td>11325</td>\n",
              "      <td>S Dhawan</td>\n",
              "      <td>35</td>\n",
              "    </tr>\n",
              "  </tbody>\n",
              "</table>\n",
              "<p>92 rows × 3 columns</p>\n",
              "</div>"
            ],
            "text/plain": [
              "     match_id     batsman  Runs\n",
              "1          24   CH Morris    54\n",
              "5          24  JC Buttler    35\n",
              "6          24    K Rabada    48\n",
              "21         44   HH Pandya    33\n",
              "23         44  KA Pollard    67\n",
              "..        ...         ...   ...\n",
              "373     11325   HH Pandya    32\n",
              "375     11325   KH Pandya    45\n",
              "377     11325   Q de Kock    37\n",
              "378     11325   RG Sharma    32\n",
              "380     11325    S Dhawan    35\n",
              "\n",
              "[92 rows x 3 columns]"
            ]
          },
          "metadata": {
            "tags": []
          },
          "execution_count": 52
        }
      ]
    },
    {
      "cell_type": "code",
      "metadata": {
        "id": "AvS1kEevdWUM",
        "outputId": "11183a38-05e0-49f1-a280-eb84a0e32535",
        "colab": {
          "base_uri": "https://localhost:8080/"
        }
      },
      "source": [
        "data_b.Runs.value_counts().sum()"
      ],
      "execution_count": 54,
      "outputs": [
        {
          "output_type": "execute_result",
          "data": {
            "text/plain": [
              "92"
            ]
          },
          "metadata": {
            "tags": []
          },
          "execution_count": 54
        }
      ]
    },
    {
      "cell_type": "code",
      "metadata": {
        "id": "Yw5-KnkZddMZ",
        "outputId": "198754bc-a98f-4ee6-aadb-721df104c1d2",
        "colab": {
          "base_uri": "https://localhost:8080/"
        }
      },
      "source": [
        "np.round(92/24,2) # Average batsman scoring more than 30 runs"
      ],
      "execution_count": 55,
      "outputs": [
        {
          "output_type": "execute_result",
          "data": {
            "text/plain": [
              "3.83"
            ]
          },
          "metadata": {
            "tags": []
          },
          "execution_count": 55
        }
      ]
    },
    {
      "cell_type": "markdown",
      "metadata": {
        "id": "ShwKcg13djO9"
      },
      "source": [
        "Let's mark 3-4 considering our analysis"
      ]
    },
    {
      "cell_type": "markdown",
      "metadata": {
        "id": "MRUyW7J_R1kR"
      },
      "source": [
        "**Let's do Q5 now**\n",
        "\n",
        "**Let's find Bumrah's stats in death**"
      ]
    },
    {
      "cell_type": "code",
      "metadata": {
        "id": "AmKnm7c5d0oI"
      },
      "source": [
        "data_m = data.loc[data.bowling_team.isin(['Mumbai Indians'])]\n",
        "data_m = data_m.loc[data.batting_team.isin(['Delhi Capitals'])]\n",
        "data_m = data_m.loc[data.bowler.isin(['JJ Bumrah'])]"
      ],
      "execution_count": 58,
      "outputs": []
    },
    {
      "cell_type": "code",
      "metadata": {
        "id": "z9vyxaPYRvQf"
      },
      "source": [
        "data_m = data_m.loc[(data_m.over>=15) & (data_m.over<=20)]"
      ],
      "execution_count": 60,
      "outputs": []
    },
    {
      "cell_type": "code",
      "metadata": {
        "id": "d1Xlq_2cSFfp",
        "outputId": "286dd18c-8392-4743-ebf4-3682aca1c327",
        "colab": {
          "base_uri": "https://localhost:8080/"
        }
      },
      "source": [
        "data_m.match_id.nunique()"
      ],
      "execution_count": 61,
      "outputs": [
        {
          "output_type": "execute_result",
          "data": {
            "text/plain": [
              "10"
            ]
          },
          "metadata": {
            "tags": []
          },
          "execution_count": 61
        }
      ]
    },
    {
      "cell_type": "code",
      "metadata": {
        "id": "hFNKmHfWSMSm",
        "outputId": "eca8dc70-56f7-4878-8e6c-8d645036e58b",
        "colab": {
          "base_uri": "https://localhost:8080/"
        }
      },
      "source": [
        "data_m.total_runs.sum()"
      ],
      "execution_count": 62,
      "outputs": [
        {
          "output_type": "execute_result",
          "data": {
            "text/plain": [
              "180"
            ]
          },
          "metadata": {
            "tags": []
          },
          "execution_count": 62
        }
      ]
    },
    {
      "cell_type": "code",
      "metadata": {
        "id": "Gbkw5mzleiit",
        "outputId": "3392e4ca-f11d-4e35-ed96-bbf86c7b8565",
        "colab": {
          "base_uri": "https://localhost:8080/"
        }
      },
      "source": [
        "data_m.over.value_counts().sum()"
      ],
      "execution_count": 63,
      "outputs": [
        {
          "output_type": "execute_result",
          "data": {
            "text/plain": [
              "120"
            ]
          },
          "metadata": {
            "tags": []
          },
          "execution_count": 63
        }
      ]
    },
    {
      "cell_type": "markdown",
      "metadata": {
        "id": "n8aKgcRzerNE"
      },
      "source": [
        "120 are balls so overs will be 120/6 = 20 overs."
      ]
    },
    {
      "cell_type": "code",
      "metadata": {
        "id": "Qs3AJTqfewA0",
        "outputId": "b6a57471-1579-410d-b7de-06b80dfc17b0",
        "colab": {
          "base_uri": "https://localhost:8080/"
        }
      },
      "source": [
        "np.round(180/20,2) # Bumrah's economy rate in deaths v DC"
      ],
      "execution_count": 65,
      "outputs": [
        {
          "output_type": "execute_result",
          "data": {
            "text/plain": [
              "9.0"
            ]
          },
          "metadata": {
            "tags": []
          },
          "execution_count": 65
        }
      ]
    },
    {
      "cell_type": "markdown",
      "metadata": {
        "id": "3SjjhxVKSUyb"
      },
      "source": [
        "Let's mark 8 and above"
      ]
    },
    {
      "cell_type": "markdown",
      "metadata": {
        "id": "1PdxKt7wRx3W"
      },
      "source": [
        "\n",
        "\n",
        "Thank You again for this amazing internship.\n",
        "\n",
        "Looking forward to it tomorrow.\n",
        "\n",
        "Regards,\n",
        "\n",
        "Ashaab Rizvi"
      ]
    }
  ]
}